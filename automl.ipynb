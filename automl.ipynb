{
  "cells": [
    {
      "cell_type": "markdown",
      "metadata": {},
      "source": [
        "# Automated ML\n",
        "\n",
        "In the next cells: we will update the environment SDK to fit with the latest AutoML version and avoid incompatibility issues and import all the important libraries we will need to execute this notebook.\n",
        "IMPORTANT: Restart the kernel after executing the update, so the new updated libraries can be loaded in the environment."
      ]
    },
    {
      "cell_type": "code",
      "execution_count": 1,
      "metadata": {
        "gather": {
          "logged": 1639238546780
        },
        "jupyter": {
          "outputs_hidden": false,
          "source_hidden": false
        },
        "nteract": {
          "transient": {
            "deleting": false
          }
        }
      },
      "outputs": [
        {
          "name": "stdout",
          "output_type": "stream",
          "text": [
            "Requirement already up-to-date: azureml-sdk[automl] in /anaconda/envs/azureml_py36/lib/python3.6/site-packages (1.36.0)\n",
            "Requirement already satisfied, skipping upgrade: azureml-dataset-runtime[fuse]~=1.36.0 in /anaconda/envs/azureml_py36/lib/python3.6/site-packages (from azureml-sdk[automl]) (1.36.0)\n",
            "Requirement already satisfied, skipping upgrade: azureml-core~=1.36.0 in /anaconda/envs/azureml_py36/lib/python3.6/site-packages (from azureml-sdk[automl]) (1.36.0.post2)\n",
            "Requirement already satisfied, skipping upgrade: azureml-pipeline~=1.36.0 in /anaconda/envs/azureml_py36/lib/python3.6/site-packages (from azureml-sdk[automl]) (1.36.0)\n",
            "Requirement already satisfied, skipping upgrade: azureml-train-core~=1.36.0 in /anaconda/envs/azureml_py36/lib/python3.6/site-packages (from azureml-sdk[automl]) (1.36.0)\n",
            "Requirement already satisfied, skipping upgrade: azureml-train-automl-client~=1.36.0 in /anaconda/envs/azureml_py36/lib/python3.6/site-packages (from azureml-sdk[automl]) (1.36.0)\n",
            "Requirement already satisfied, skipping upgrade: azureml-train-automl~=1.36.0; extra == \"automl\" in /anaconda/envs/azureml_py36/lib/python3.6/site-packages (from azureml-sdk[automl]) (1.36.0)\n",
            "Requirement already satisfied, skipping upgrade: azureml-dataprep<2.25.0a,>=2.24.0a in /anaconda/envs/azureml_py36/lib/python3.6/site-packages (from azureml-dataset-runtime[fuse]~=1.36.0->azureml-sdk[automl]) (2.24.4)\n",
            "Requirement already satisfied, skipping upgrade: pyarrow<4.0.0,>=0.17.0 in /anaconda/envs/azureml_py36/lib/python3.6/site-packages (from azureml-dataset-runtime[fuse]~=1.36.0->azureml-sdk[automl]) (3.0.0)\n",
            "Requirement already satisfied, skipping upgrade: numpy!=1.19.3; sys_platform == \"linux\" in /anaconda/envs/azureml_py36/lib/python3.6/site-packages (from azureml-dataset-runtime[fuse]~=1.36.0->azureml-sdk[automl]) (1.18.5)\n",
            "Requirement already satisfied, skipping upgrade: fusepy<4.0.0,>=3.0.1; extra == \"fuse\" in /anaconda/envs/azureml_py36/lib/python3.6/site-packages (from azureml-dataset-runtime[fuse]~=1.36.0->azureml-sdk[automl]) (3.0.1)\n",
            "Requirement already satisfied, skipping upgrade: ndg-httpsclient<=0.5.1 in /anaconda/envs/azureml_py36/lib/python3.6/site-packages (from azureml-core~=1.36.0->azureml-sdk[automl]) (0.5.1)\n",
            "Requirement already satisfied, skipping upgrade: python-dateutil<3.0.0,>=2.7.3 in /anaconda/envs/azureml_py36/lib/python3.6/site-packages (from azureml-core~=1.36.0->azureml-sdk[automl]) (2.8.2)\n",
            "Requirement already satisfied, skipping upgrade: azure-common<2.0.0,>=1.1.12 in /anaconda/envs/azureml_py36/lib/python3.6/site-packages (from azureml-core~=1.36.0->azureml-sdk[automl]) (1.1.27)\n",
            "Requirement already satisfied, skipping upgrade: pyopenssl<21.0.0 in /anaconda/envs/azureml_py36/lib/python3.6/site-packages (from azureml-core~=1.36.0->azureml-sdk[automl]) (20.0.1)\n",
            "Requirement already satisfied, skipping upgrade: azure-mgmt-containerregistry>=2.0.0 in /anaconda/envs/azureml_py36/lib/python3.6/site-packages (from azureml-core~=1.36.0->azureml-sdk[automl]) (8.1.0)\n",
            "Requirement already satisfied, skipping upgrade: azure-mgmt-storage<16.0.0,>=1.5.0 in /anaconda/envs/azureml_py36/lib/python3.6/site-packages (from azureml-core~=1.36.0->azureml-sdk[automl]) (11.2.0)\n",
            "Requirement already satisfied, skipping upgrade: requests<3.0.0,>=2.19.1 in /anaconda/envs/azureml_py36/lib/python3.6/site-packages (from azureml-core~=1.36.0->azureml-sdk[automl]) (2.26.0)\n",
            "Requirement already satisfied, skipping upgrade: docker<6.0.0 in /anaconda/envs/azureml_py36/lib/python3.6/site-packages (from azureml-core~=1.36.0->azureml-sdk[automl]) (5.0.2)\n",
            "Requirement already satisfied, skipping upgrade: azure-graphrbac<1.0.0,>=0.40.0 in /anaconda/envs/azureml_py36/lib/python3.6/site-packages (from azureml-core~=1.36.0->azureml-sdk[automl]) (0.61.1)\n",
            "Requirement already satisfied, skipping upgrade: urllib3<=1.26.7,>=1.23 in /anaconda/envs/azureml_py36/lib/python3.6/site-packages (from azureml-core~=1.36.0->azureml-sdk[automl]) (1.25.11)\n",
            "Requirement already satisfied, skipping upgrade: msrest<1.0.0,>=0.5.1 in /anaconda/envs/azureml_py36/lib/python3.6/site-packages (from azureml-core~=1.36.0->azureml-sdk[automl]) (0.6.21)\n",
            "Requirement already satisfied, skipping upgrade: pytz in /anaconda/envs/azureml_py36/lib/python3.6/site-packages (from azureml-core~=1.36.0->azureml-sdk[automl]) (2021.1)\n",
            "Requirement already satisfied, skipping upgrade: cryptography!=1.9,!=2.0.*,!=2.1.*,!=2.2.*,<4.0.0 in /anaconda/envs/azureml_py36/lib/python3.6/site-packages (from azureml-core~=1.36.0->azureml-sdk[automl]) (3.4.8)\n",
            "Requirement already satisfied, skipping upgrade: pathspec<1.0.0 in /anaconda/envs/azureml_py36/lib/python3.6/site-packages (from azureml-core~=1.36.0->azureml-sdk[automl]) (0.9.0)\n",
            "Requirement already satisfied, skipping upgrade: azure-mgmt-authorization<1.0.0,>=0.40.0 in /anaconda/envs/azureml_py36/lib/python3.6/site-packages (from azureml-core~=1.36.0->azureml-sdk[automl]) (0.61.0)\n",
            "Requirement already satisfied, skipping upgrade: SecretStorage<4.0.0 in /anaconda/envs/azureml_py36/lib/python3.6/site-packages (from azureml-core~=1.36.0->azureml-sdk[automl]) (3.3.1)\n",
            "Requirement already satisfied, skipping upgrade: jsonpickle<3.0.0 in /anaconda/envs/azureml_py36/lib/python3.6/site-packages (from azureml-core~=1.36.0->azureml-sdk[automl]) (2.0.0)\n",
            "Requirement already satisfied, skipping upgrade: backports.tempfile in /anaconda/envs/azureml_py36/lib/python3.6/site-packages (from azureml-core~=1.36.0->azureml-sdk[automl]) (1.0)\n",
            "Requirement already satisfied, skipping upgrade: azure-mgmt-keyvault<10.0.0,>=0.40.0 in /anaconda/envs/azureml_py36/lib/python3.6/site-packages (from azureml-core~=1.36.0->azureml-sdk[automl]) (9.1.0)\n",
            "Requirement already satisfied, skipping upgrade: PyJWT<3.0.0 in /anaconda/envs/azureml_py36/lib/python3.6/site-packages (from azureml-core~=1.36.0->azureml-sdk[automl]) (2.1.0)\n",
            "Requirement already satisfied, skipping upgrade: azure-mgmt-resource<15.0.0,>=1.2.1 in /anaconda/envs/azureml_py36/lib/python3.6/site-packages (from azureml-core~=1.36.0->azureml-sdk[automl]) (13.0.0)\n",
            "Requirement already satisfied, skipping upgrade: msrestazure<=0.6.4,>=0.4.33 in /anaconda/envs/azureml_py36/lib/python3.6/site-packages (from azureml-core~=1.36.0->azureml-sdk[automl]) (0.6.4)\n",
            "Requirement already satisfied, skipping upgrade: adal<=1.2.7,>=1.2.0 in /anaconda/envs/azureml_py36/lib/python3.6/site-packages (from azureml-core~=1.36.0->azureml-sdk[automl]) (1.2.7)\n",
            "Requirement already satisfied, skipping upgrade: contextlib2<22.0.0 in /anaconda/envs/azureml_py36/lib/python3.6/site-packages (from azureml-core~=1.36.0->azureml-sdk[automl]) (21.6.0)\n",
            "Requirement already satisfied, skipping upgrade: jmespath<1.0.0 in /anaconda/envs/azureml_py36/lib/python3.6/site-packages (from azureml-core~=1.36.0->azureml-sdk[automl]) (0.10.0)\n",
            "Requirement already satisfied, skipping upgrade: azureml-pipeline-core~=1.36.0 in /anaconda/envs/azureml_py36/lib/python3.6/site-packages (from azureml-pipeline~=1.36.0->azureml-sdk[automl]) (1.36.0)\n",
            "Requirement already satisfied, skipping upgrade: azureml-pipeline-steps~=1.36.0 in /anaconda/envs/azureml_py36/lib/python3.6/site-packages (from azureml-pipeline~=1.36.0->azureml-sdk[automl]) (1.36.0)\n",
            "Requirement already satisfied, skipping upgrade: azureml-train-restclients-hyperdrive~=1.36.0 in /anaconda/envs/azureml_py36/lib/python3.6/site-packages (from azureml-train-core~=1.36.0->azureml-sdk[automl]) (1.36.0)\n",
            "Requirement already satisfied, skipping upgrade: azureml-telemetry~=1.36.0 in /anaconda/envs/azureml_py36/lib/python3.6/site-packages (from azureml-train-core~=1.36.0->azureml-sdk[automl]) (1.36.0)\n",
            "Requirement already satisfied, skipping upgrade: azureml-automl-core~=1.36.0 in /anaconda/envs/azureml_py36/lib/python3.6/site-packages (from azureml-train-automl-client~=1.36.0->azureml-sdk[automl]) (1.36.1)\n",
            "Requirement already satisfied, skipping upgrade: azureml-train-automl-runtime~=1.36.0 in /anaconda/envs/azureml_py36/lib/python3.6/site-packages (from azureml-train-automl~=1.36.0; extra == \"automl\"->azureml-sdk[automl]) (1.36.1)\n",
            "Requirement already satisfied, skipping upgrade: azureml-automl-runtime~=1.36.0 in /anaconda/envs/azureml_py36/lib/python3.6/site-packages (from azureml-train-automl~=1.36.0; extra == \"automl\"->azureml-sdk[automl]) (1.36.1)\n",
            "Requirement already satisfied, skipping upgrade: dotnetcore2<3.0.0,>=2.1.14 in /anaconda/envs/azureml_py36/lib/python3.6/site-packages (from azureml-dataprep<2.25.0a,>=2.24.0a->azureml-dataset-runtime[fuse]~=1.36.0->azureml-sdk[automl]) (2.1.21)\n",
            "Requirement already satisfied, skipping upgrade: azureml-dataprep-rslex~=2.0.0dev0 in /anaconda/envs/azureml_py36/lib/python3.6/site-packages (from azureml-dataprep<2.25.0a,>=2.24.0a->azureml-dataset-runtime[fuse]~=1.36.0->azureml-sdk[automl]) (2.0.3)\n",
            "Requirement already satisfied, skipping upgrade: azureml-dataprep-native<39.0.0,>=38.0.0 in /anaconda/envs/azureml_py36/lib/python3.6/site-packages (from azureml-dataprep<2.25.0a,>=2.24.0a->azureml-dataset-runtime[fuse]~=1.36.0->azureml-sdk[automl]) (38.0.0)\n",
            "Requirement already satisfied, skipping upgrade: azure-identity==1.7.0 in /anaconda/envs/azureml_py36/lib/python3.6/site-packages (from azureml-dataprep<2.25.0a,>=2.24.0a->azureml-dataset-runtime[fuse]~=1.36.0->azureml-sdk[automl]) (1.7.0)\n",
            "Requirement already satisfied, skipping upgrade: cloudpickle<2.0.0,>=1.1.0 in /anaconda/envs/azureml_py36/lib/python3.6/site-packages (from azureml-dataprep<2.25.0a,>=2.24.0a->azureml-dataset-runtime[fuse]~=1.36.0->azureml-sdk[automl]) (1.6.0)\n",
            "Requirement already satisfied, skipping upgrade: pyasn1>=0.1.1 in /anaconda/envs/azureml_py36/lib/python3.6/site-packages (from ndg-httpsclient<=0.5.1->azureml-core~=1.36.0->azureml-sdk[automl]) (0.4.8)\n",
            "Requirement already satisfied, skipping upgrade: six>=1.5 in /anaconda/envs/azureml_py36/lib/python3.6/site-packages (from python-dateutil<3.0.0,>=2.7.3->azureml-core~=1.36.0->azureml-sdk[automl]) (1.16.0)\n",
            "Requirement already satisfied, skipping upgrade: azure-mgmt-core<2.0.0,>=1.2.0 in /anaconda/envs/azureml_py36/lib/python3.6/site-packages (from azure-mgmt-containerregistry>=2.0.0->azureml-core~=1.36.0->azureml-sdk[automl]) (1.3.0)\n",
            "Requirement already satisfied, skipping upgrade: idna<4,>=2.5; python_version >= \"3\" in /anaconda/envs/azureml_py36/lib/python3.6/site-packages (from requests<3.0.0,>=2.19.1->azureml-core~=1.36.0->azureml-sdk[automl]) (3.2)\n",
            "Requirement already satisfied, skipping upgrade: charset-normalizer~=2.0.0; python_version >= \"3\" in /anaconda/envs/azureml_py36/lib/python3.6/site-packages (from requests<3.0.0,>=2.19.1->azureml-core~=1.36.0->azureml-sdk[automl]) (2.0.4)\n",
            "Requirement already satisfied, skipping upgrade: certifi>=2017.4.17 in /anaconda/envs/azureml_py36/lib/python3.6/site-packages (from requests<3.0.0,>=2.19.1->azureml-core~=1.36.0->azureml-sdk[automl]) (2021.5.30)\n",
            "Requirement already satisfied, skipping upgrade: websocket-client>=0.32.0 in /anaconda/envs/azureml_py36/lib/python3.6/site-packages (from docker<6.0.0->azureml-core~=1.36.0->azureml-sdk[automl]) (1.2.1)\n",
            "Requirement already satisfied, skipping upgrade: requests-oauthlib>=0.5.0 in /anaconda/envs/azureml_py36/lib/python3.6/site-packages (from msrest<1.0.0,>=0.5.1->azureml-core~=1.36.0->azureml-sdk[automl]) (1.3.0)\n",
            "Requirement already satisfied, skipping upgrade: isodate>=0.6.0 in /anaconda/envs/azureml_py36/lib/python3.6/site-packages (from msrest<1.0.0,>=0.5.1->azureml-core~=1.36.0->azureml-sdk[automl]) (0.6.0)\n",
            "Requirement already satisfied, skipping upgrade: cffi>=1.12 in /anaconda/envs/azureml_py36/lib/python3.6/site-packages (from cryptography!=1.9,!=2.0.*,!=2.1.*,!=2.2.*,<4.0.0->azureml-core~=1.36.0->azureml-sdk[automl]) (1.14.6)\n",
            "Requirement already satisfied, skipping upgrade: jeepney>=0.6 in /anaconda/envs/azureml_py36/lib/python3.6/site-packages (from SecretStorage<4.0.0->azureml-core~=1.36.0->azureml-sdk[automl]) (0.7.1)\n",
            "Requirement already satisfied, skipping upgrade: importlib-metadata; python_version < \"3.8\" in /anaconda/envs/azureml_py36/lib/python3.6/site-packages (from jsonpickle<3.0.0->azureml-core~=1.36.0->azureml-sdk[automl]) (4.8.1)\n",
            "Requirement already satisfied, skipping upgrade: backports.weakref in /anaconda/envs/azureml_py36/lib/python3.6/site-packages (from backports.tempfile->azureml-core~=1.36.0->azureml-sdk[automl]) (1.0.post1)\n",
            "Requirement already satisfied, skipping upgrade: applicationinsights in /anaconda/envs/azureml_py36/lib/python3.6/site-packages (from azureml-telemetry~=1.36.0->azureml-train-core~=1.36.0->azureml-sdk[automl]) (0.11.10)\n",
            "Requirement already satisfied, skipping upgrade: dask[complete]<=2.30.0 in /anaconda/envs/azureml_py36/lib/python3.6/site-packages (from azureml-train-automl-runtime~=1.36.0->azureml-train-automl~=1.36.0; extra == \"automl\"->azureml-sdk[automl]) (2.30.0)\n",
            "Requirement already satisfied, skipping upgrade: onnxruntime<=1.8.0,>=1.3.0 in /anaconda/envs/azureml_py36/lib/python3.6/site-packages (from azureml-train-automl-runtime~=1.36.0->azureml-train-automl~=1.36.0; extra == \"automl\"->azureml-sdk[automl]) (1.8.0)\n",
            "Requirement already satisfied, skipping upgrade: distributed<=2.30.1 in /anaconda/envs/azureml_py36/lib/python3.6/site-packages (from azureml-train-automl-runtime~=1.36.0->azureml-train-automl~=1.36.0; extra == \"automl\"->azureml-sdk[automl]) (2.30.1)\n",
            "Requirement already satisfied, skipping upgrade: onnx<=1.7.0,>=1.6.0 in /anaconda/envs/azureml_py36/lib/python3.6/site-packages (from azureml-train-automl-runtime~=1.36.0->azureml-train-automl~=1.36.0; extra == \"automl\"->azureml-sdk[automl]) (1.7.0)\n",
            "Requirement already satisfied, skipping upgrade: keras2onnx<=1.6.0,>=1.4.0 in /anaconda/envs/azureml_py36/lib/python3.6/site-packages (from azureml-train-automl-runtime~=1.36.0->azureml-train-automl~=1.36.0; extra == \"automl\"->azureml-sdk[automl]) (1.6.0)\n",
            "Requirement already satisfied, skipping upgrade: jinja2<=2.11.2 in /anaconda/envs/azureml_py36/lib/python3.6/site-packages (from azureml-train-automl-runtime~=1.36.0->azureml-train-automl~=1.36.0; extra == \"automl\"->azureml-sdk[automl]) (2.11.2)\n",
            "Requirement already satisfied, skipping upgrade: sklearn-pandas<=1.7.0,>=1.4.0 in /anaconda/envs/azureml_py36/lib/python3.6/site-packages (from azureml-train-automl-runtime~=1.36.0->azureml-train-automl~=1.36.0; extra == \"automl\"->azureml-sdk[automl]) (1.7.0)\n",
            "Requirement already satisfied, skipping upgrade: skl2onnx==1.4.9 in /anaconda/envs/azureml_py36/lib/python3.6/site-packages (from azureml-train-automl-runtime~=1.36.0->azureml-train-automl~=1.36.0; extra == \"automl\"->azureml-sdk[automl]) (1.4.9)\n",
            "Requirement already satisfied, skipping upgrade: pandas<1.0.0,>=0.21.0 in /anaconda/envs/azureml_py36/lib/python3.6/site-packages (from azureml-train-automl-runtime~=1.36.0->azureml-train-automl~=1.36.0; extra == \"automl\"->azureml-sdk[automl]) (0.25.3)\n",
            "Requirement already satisfied, skipping upgrade: botocore<=1.18.18 in /anaconda/envs/azureml_py36/lib/python3.6/site-packages (from azureml-train-automl-runtime~=1.36.0->azureml-train-automl~=1.36.0; extra == \"automl\"->azureml-sdk[automl]) (1.18.18)\n",
            "Requirement already satisfied, skipping upgrade: azureml-defaults~=1.36.0 in /anaconda/envs/azureml_py36/lib/python3.6/site-packages (from azureml-train-automl-runtime~=1.36.0->azureml-train-automl~=1.36.0; extra == \"automl\"->azureml-sdk[automl]) (1.36.0)\n",
            "Requirement already satisfied, skipping upgrade: azureml-mlflow~=1.36.0 in /anaconda/envs/azureml_py36/lib/python3.6/site-packages (from azureml-train-automl-runtime~=1.36.0->azureml-train-automl~=1.36.0; extra == \"automl\"->azureml-sdk[automl]) (1.36.0)\n",
            "Requirement already satisfied, skipping upgrade: lightgbm<=2.3.0,>=2.0.11 in /anaconda/envs/azureml_py36/lib/python3.6/site-packages (from azureml-train-automl-runtime~=1.36.0->azureml-train-automl~=1.36.0; extra == \"automl\"->azureml-sdk[automl]) (2.3.0)\n",
            "Requirement already satisfied, skipping upgrade: smart-open<=1.9.0 in /anaconda/envs/azureml_py36/lib/python3.6/site-packages (from azureml-train-automl-runtime~=1.36.0->azureml-train-automl~=1.36.0; extra == \"automl\"->azureml-sdk[automl]) (1.9.0)\n",
            "Requirement already satisfied, skipping upgrade: scikit-learn<0.23.0,>=0.19.0 in /anaconda/envs/azureml_py36/lib/python3.6/site-packages (from azureml-train-automl-runtime~=1.36.0->azureml-train-automl~=1.36.0; extra == \"automl\"->azureml-sdk[automl]) (0.22.2.post1)\n",
            "Requirement already satisfied, skipping upgrade: azure-storage-queue~=12.1 in /anaconda/envs/azureml_py36/lib/python3.6/site-packages (from azureml-train-automl-runtime~=1.36.0->azureml-train-automl~=1.36.0; extra == \"automl\"->azureml-sdk[automl]) (12.1.6)\n",
            "Requirement already satisfied, skipping upgrade: azureml-interpret~=1.36.0 in /anaconda/envs/azureml_py36/lib/python3.6/site-packages (from azureml-train-automl-runtime~=1.36.0->azureml-train-automl~=1.36.0; extra == \"automl\"->azureml-sdk[automl]) (1.36.0)\n",
            "Requirement already satisfied, skipping upgrade: statsmodels<=0.10.2,>=0.9.0 in /anaconda/envs/azureml_py36/lib/python3.6/site-packages (from azureml-train-automl-runtime~=1.36.0->azureml-train-automl~=1.36.0; extra == \"automl\"->azureml-sdk[automl]) (0.10.2)\n",
            "Requirement already satisfied, skipping upgrade: boto3<=1.15.18 in /anaconda/envs/azureml_py36/lib/python3.6/site-packages (from azureml-train-automl-runtime~=1.36.0->azureml-train-automl~=1.36.0; extra == \"automl\"->azureml-sdk[automl]) (1.15.18)\n",
            "Requirement already satisfied, skipping upgrade: gensim<3.9.0 in /anaconda/envs/azureml_py36/lib/python3.6/site-packages (from azureml-train-automl-runtime~=1.36.0->azureml-train-automl~=1.36.0; extra == \"automl\"->azureml-sdk[automl]) (3.8.3)\n",
            "Requirement already satisfied, skipping upgrade: scipy<=1.5.2,>=1.0.0 in /anaconda/envs/azureml_py36/lib/python3.6/site-packages (from azureml-train-automl-runtime~=1.36.0->azureml-train-automl~=1.36.0; extra == \"automl\"->azureml-sdk[automl]) (1.5.2)\n",
            "Requirement already satisfied, skipping upgrade: onnxmltools==1.4.1 in /anaconda/envs/azureml_py36/lib/python3.6/site-packages (from azureml-train-automl-runtime~=1.36.0->azureml-train-automl~=1.36.0; extra == \"automl\"->azureml-sdk[automl]) (1.4.1)\n",
            "Requirement already satisfied, skipping upgrade: onnxconverter-common<=1.6.0,>=1.4.2 in /anaconda/envs/azureml_py36/lib/python3.6/site-packages (from azureml-train-automl-runtime~=1.36.0->azureml-train-automl~=1.36.0; extra == \"automl\"->azureml-sdk[automl]) (1.6.0)\n",
            "Requirement already satisfied, skipping upgrade: pmdarima==1.1.1 in /anaconda/envs/azureml_py36/lib/python3.6/site-packages (from azureml-automl-runtime~=1.36.0->azureml-train-automl~=1.36.0; extra == \"automl\"->azureml-sdk[automl]) (1.1.1)\n",
            "Requirement already satisfied, skipping upgrade: dataclasses<=0.8,>=0.6 in /anaconda/envs/azureml_py36/lib/python3.6/site-packages (from azureml-automl-runtime~=1.36.0->azureml-train-automl~=1.36.0; extra == \"automl\"->azureml-sdk[automl]) (0.8)\n",
            "Requirement already satisfied, skipping upgrade: psutil<6.0.0,>=5.2.2 in /anaconda/envs/azureml_py36/lib/python3.6/site-packages (from azureml-automl-runtime~=1.36.0->azureml-train-automl~=1.36.0; extra == \"automl\"->azureml-sdk[automl]) (5.8.0)\n",
            "Requirement already satisfied, skipping upgrade: nimbusml<=1.8.0,>=1.7.1 in /anaconda/envs/azureml_py36/lib/python3.6/site-packages (from azureml-automl-runtime~=1.36.0->azureml-train-automl~=1.36.0; extra == \"automl\"->azureml-sdk[automl]) (1.8.0)\n",
            "Requirement already satisfied, skipping upgrade: joblib==0.14.1 in /anaconda/envs/azureml_py36/lib/python3.6/site-packages (from azureml-automl-runtime~=1.36.0->azureml-train-automl~=1.36.0; extra == \"automl\"->azureml-sdk[automl]) (0.14.1)\n",
            "Requirement already satisfied, skipping upgrade: dill<0.4.0,>=0.2.8 in /anaconda/envs/azureml_py36/lib/python3.6/site-packages (from azureml-automl-runtime~=1.36.0->azureml-train-automl~=1.36.0; extra == \"automl\"->azureml-sdk[automl]) (0.3.4)\n",
            "Requirement already satisfied, skipping upgrade: distro>=1.2.0 in /anaconda/envs/azureml_py36/lib/python3.6/site-packages (from dotnetcore2<3.0.0,>=2.1.14->azureml-dataprep<2.25.0a,>=2.24.0a->azureml-dataset-runtime[fuse]~=1.36.0->azureml-sdk[automl]) (1.6.0)\n",
            "Requirement already satisfied, skipping upgrade: msal-extensions~=0.3.0 in /anaconda/envs/azureml_py36/lib/python3.6/site-packages (from azure-identity==1.7.0->azureml-dataprep<2.25.0a,>=2.24.0a->azureml-dataset-runtime[fuse]~=1.36.0->azureml-sdk[automl]) (0.3.0)\n",
            "Requirement already satisfied, skipping upgrade: msal<2.0.0,>=1.12.0 in /anaconda/envs/azureml_py36/lib/python3.6/site-packages (from azure-identity==1.7.0->azureml-dataprep<2.25.0a,>=2.24.0a->azureml-dataset-runtime[fuse]~=1.36.0->azureml-sdk[automl]) (1.14.0)\n",
            "Requirement already satisfied, skipping upgrade: azure-core<2.0.0,>=1.11.0 in /anaconda/envs/azureml_py36/lib/python3.6/site-packages (from azure-identity==1.7.0->azureml-dataprep<2.25.0a,>=2.24.0a->azureml-dataset-runtime[fuse]~=1.36.0->azureml-sdk[automl]) (1.18.0)\n",
            "Requirement already satisfied, skipping upgrade: oauthlib>=3.0.0 in /anaconda/envs/azureml_py36/lib/python3.6/site-packages (from requests-oauthlib>=0.5.0->msrest<1.0.0,>=0.5.1->azureml-core~=1.36.0->azureml-sdk[automl]) (3.1.1)\n",
            "Requirement already satisfied, skipping upgrade: pycparser in /anaconda/envs/azureml_py36/lib/python3.6/site-packages (from cffi>=1.12->cryptography!=1.9,!=2.0.*,!=2.1.*,!=2.2.*,<4.0.0->azureml-core~=1.36.0->azureml-sdk[automl]) (2.20)\n",
            "Requirement already satisfied, skipping upgrade: typing-extensions>=3.6.4; python_version < \"3.8\" in /anaconda/envs/azureml_py36/lib/python3.6/site-packages (from importlib-metadata; python_version < \"3.8\"->jsonpickle<3.0.0->azureml-core~=1.36.0->azureml-sdk[automl]) (3.10.0.2)\n",
            "Requirement already satisfied, skipping upgrade: zipp>=0.5 in /anaconda/envs/azureml_py36/lib/python3.6/site-packages (from importlib-metadata; python_version < \"3.8\"->jsonpickle<3.0.0->azureml-core~=1.36.0->azureml-sdk[automl]) (3.5.0)\n",
            "Requirement already satisfied, skipping upgrade: pyyaml in /anaconda/envs/azureml_py36/lib/python3.6/site-packages (from dask[complete]<=2.30.0->azureml-train-automl-runtime~=1.36.0->azureml-train-automl~=1.36.0; extra == \"automl\"->azureml-sdk[automl]) (5.4.1)\n",
            "Requirement already satisfied, skipping upgrade: bokeh!=2.0.0,>=1.0.0; extra == \"complete\" in /anaconda/envs/azureml_py36/lib/python3.6/site-packages (from dask[complete]<=2.30.0->azureml-train-automl-runtime~=1.36.0->azureml-train-automl~=1.36.0; extra == \"automl\"->azureml-sdk[automl]) (2.3.3)\n",
            "Requirement already satisfied, skipping upgrade: toolz>=0.8.2; extra == \"complete\" in /anaconda/envs/azureml_py36/lib/python3.6/site-packages (from dask[complete]<=2.30.0->azureml-train-automl-runtime~=1.36.0->azureml-train-automl~=1.36.0; extra == \"automl\"->azureml-sdk[automl]) (0.11.1)\n",
            "Requirement already satisfied, skipping upgrade: fsspec>=0.6.0; extra == \"complete\" in /anaconda/envs/azureml_py36/lib/python3.6/site-packages (from dask[complete]<=2.30.0->azureml-train-automl-runtime~=1.36.0->azureml-train-automl~=1.36.0; extra == \"automl\"->azureml-sdk[automl]) (2021.8.1)\n",
            "Requirement already satisfied, skipping upgrade: partd>=0.3.10; extra == \"complete\" in /anaconda/envs/azureml_py36/lib/python3.6/site-packages (from dask[complete]<=2.30.0->azureml-train-automl-runtime~=1.36.0->azureml-train-automl~=1.36.0; extra == \"automl\"->azureml-sdk[automl]) (1.2.0)\n",
            "Requirement already satisfied, skipping upgrade: protobuf in /anaconda/envs/azureml_py36/lib/python3.6/site-packages (from onnxruntime<=1.8.0,>=1.3.0->azureml-train-automl-runtime~=1.36.0->azureml-train-automl~=1.36.0; extra == \"automl\"->azureml-sdk[automl]) (3.17.3)\n",
            "Requirement already satisfied, skipping upgrade: flatbuffers in /anaconda/envs/azureml_py36/lib/python3.6/site-packages (from onnxruntime<=1.8.0,>=1.3.0->azureml-train-automl-runtime~=1.36.0->azureml-train-automl~=1.36.0; extra == \"automl\"->azureml-sdk[automl]) (2.0)\n",
            "Requirement already satisfied, skipping upgrade: setuptools in /anaconda/envs/azureml_py36/lib/python3.6/site-packages (from distributed<=2.30.1->azureml-train-automl-runtime~=1.36.0->azureml-train-automl~=1.36.0; extra == \"automl\"->azureml-sdk[automl]) (50.3.0)\n",
            "Requirement already satisfied, skipping upgrade: tblib>=1.6.0 in /anaconda/envs/azureml_py36/lib/python3.6/site-packages (from distributed<=2.30.1->azureml-train-automl-runtime~=1.36.0->azureml-train-automl~=1.36.0; extra == \"automl\"->azureml-sdk[automl]) (1.7.0)\n",
            "Requirement already satisfied, skipping upgrade: msgpack>=0.6.0 in /anaconda/envs/azureml_py36/lib/python3.6/site-packages (from distributed<=2.30.1->azureml-train-automl-runtime~=1.36.0->azureml-train-automl~=1.36.0; extra == \"automl\"->azureml-sdk[automl]) (1.0.2)\n",
            "Requirement already satisfied, skipping upgrade: zict>=0.1.3 in /anaconda/envs/azureml_py36/lib/python3.6/site-packages (from distributed<=2.30.1->azureml-train-automl-runtime~=1.36.0->azureml-train-automl~=1.36.0; extra == \"automl\"->azureml-sdk[automl]) (2.0.0)\n",
            "Requirement already satisfied, skipping upgrade: contextvars; python_version < \"3.7\" in /anaconda/envs/azureml_py36/lib/python3.6/site-packages (from distributed<=2.30.1->azureml-train-automl-runtime~=1.36.0->azureml-train-automl~=1.36.0; extra == \"automl\"->azureml-sdk[automl]) (2.4)\n",
            "Requirement already satisfied, skipping upgrade: tornado>=5; python_version < \"3.8\" in /anaconda/envs/azureml_py36/lib/python3.6/site-packages (from distributed<=2.30.1->azureml-train-automl-runtime~=1.36.0->azureml-train-automl~=1.36.0; extra == \"automl\"->azureml-sdk[automl]) (6.1)\n",
            "Requirement already satisfied, skipping upgrade: sortedcontainers!=2.0.0,!=2.0.1 in /anaconda/envs/azureml_py36/lib/python3.6/site-packages (from distributed<=2.30.1->azureml-train-automl-runtime~=1.36.0->azureml-train-automl~=1.36.0; extra == \"automl\"->azureml-sdk[automl]) (2.4.0)\n",
            "Requirement already satisfied, skipping upgrade: click>=6.6 in /anaconda/envs/azureml_py36/lib/python3.6/site-packages (from distributed<=2.30.1->azureml-train-automl-runtime~=1.36.0->azureml-train-automl~=1.36.0; extra == \"automl\"->azureml-sdk[automl]) (8.0.1)\n",
            "Requirement already satisfied, skipping upgrade: fire in /anaconda/envs/azureml_py36/lib/python3.6/site-packages (from keras2onnx<=1.6.0,>=1.4.0->azureml-train-automl-runtime~=1.36.0->azureml-train-automl~=1.36.0; extra == \"automl\"->azureml-sdk[automl]) (0.4.0)\n",
            "Requirement already satisfied, skipping upgrade: MarkupSafe>=0.23 in /anaconda/envs/azureml_py36/lib/python3.6/site-packages (from jinja2<=2.11.2->azureml-train-automl-runtime~=1.36.0->azureml-train-automl~=1.36.0; extra == \"automl\"->azureml-sdk[automl]) (2.0.1)\n",
            "Requirement already satisfied, skipping upgrade: json-logging-py==0.2 in /anaconda/envs/azureml_py36/lib/python3.6/site-packages (from azureml-defaults~=1.36.0->azureml-train-automl-runtime~=1.36.0->azureml-train-automl~=1.36.0; extra == \"automl\"->azureml-sdk[automl]) (0.2)\n",
            "Requirement already satisfied, skipping upgrade: configparser==3.7.4 in /anaconda/envs/azureml_py36/lib/python3.6/site-packages (from azureml-defaults~=1.36.0->azureml-train-automl-runtime~=1.36.0->azureml-train-automl~=1.36.0; extra == \"automl\"->azureml-sdk[automl]) (3.7.4)\n",
            "Requirement already satisfied, skipping upgrade: azureml-inference-server-http~=0.4.1 in /anaconda/envs/azureml_py36/lib/python3.6/site-packages (from azureml-defaults~=1.36.0->azureml-train-automl-runtime~=1.36.0->azureml-train-automl~=1.36.0; extra == \"automl\"->azureml-sdk[automl]) (0.4.2)\n",
            "Requirement already satisfied, skipping upgrade: mlflow-skinny in /anaconda/envs/azureml_py36/lib/python3.6/site-packages (from azureml-mlflow~=1.36.0->azureml-train-automl-runtime~=1.36.0->azureml-train-automl~=1.36.0; extra == \"automl\"->azureml-sdk[automl]) (1.20.2)\n",
            "Requirement already satisfied, skipping upgrade: boto>=2.32 in /anaconda/envs/azureml_py36/lib/python3.6/site-packages (from smart-open<=1.9.0->azureml-train-automl-runtime~=1.36.0->azureml-train-automl~=1.36.0; extra == \"automl\"->azureml-sdk[automl]) (2.49.0)\n",
            "Requirement already satisfied, skipping upgrade: interpret-community==0.21.* in /anaconda/envs/azureml_py36/lib/python3.6/site-packages (from azureml-interpret~=1.36.0->azureml-train-automl-runtime~=1.36.0->azureml-train-automl~=1.36.0; extra == \"automl\"->azureml-sdk[automl]) (0.21.0)\n",
            "Requirement already satisfied, skipping upgrade: patsy>=0.4.0 in /anaconda/envs/azureml_py36/lib/python3.6/site-packages (from statsmodels<=0.10.2,>=0.9.0->azureml-train-automl-runtime~=1.36.0->azureml-train-automl~=1.36.0; extra == \"automl\"->azureml-sdk[automl]) (0.5.1)\n",
            "Requirement already satisfied, skipping upgrade: s3transfer<0.4.0,>=0.3.0 in /anaconda/envs/azureml_py36/lib/python3.6/site-packages (from boto3<=1.15.18->azureml-train-automl-runtime~=1.36.0->azureml-train-automl~=1.36.0; extra == \"automl\"->azureml-sdk[automl]) (0.3.7)\n",
            "Requirement already satisfied, skipping upgrade: Cython>=0.29 in /anaconda/envs/azureml_py36/lib/python3.6/site-packages (from pmdarima==1.1.1->azureml-automl-runtime~=1.36.0->azureml-train-automl~=1.36.0; extra == \"automl\"->azureml-sdk[automl]) (0.29.24)\n",
            "Requirement already satisfied, skipping upgrade: portalocker~=1.0; platform_system != \"Windows\" in /anaconda/envs/azureml_py36/lib/python3.6/site-packages (from msal-extensions~=0.3.0->azure-identity==1.7.0->azureml-dataprep<2.25.0a,>=2.24.0a->azureml-dataset-runtime[fuse]~=1.36.0->azureml-sdk[automl]) (1.7.1)\n",
            "Requirement already satisfied, skipping upgrade: packaging>=16.8 in /anaconda/envs/azureml_py36/lib/python3.6/site-packages (from bokeh!=2.0.0,>=1.0.0; extra == \"complete\"->dask[complete]<=2.30.0->azureml-train-automl-runtime~=1.36.0->azureml-train-automl~=1.36.0; extra == \"automl\"->azureml-sdk[automl]) (21.0)\n",
            "Requirement already satisfied, skipping upgrade: pillow>=7.1.0 in /anaconda/envs/azureml_py36/lib/python3.6/site-packages (from bokeh!=2.0.0,>=1.0.0; extra == \"complete\"->dask[complete]<=2.30.0->azureml-train-automl-runtime~=1.36.0->azureml-train-automl~=1.36.0; extra == \"automl\"->azureml-sdk[automl]) (8.0.0)\n",
            "Requirement already satisfied, skipping upgrade: locket in /anaconda/envs/azureml_py36/lib/python3.6/site-packages (from partd>=0.3.10; extra == \"complete\"->dask[complete]<=2.30.0->azureml-train-automl-runtime~=1.36.0->azureml-train-automl~=1.36.0; extra == \"automl\"->azureml-sdk[automl]) (0.2.1)\n",
            "Requirement already satisfied, skipping upgrade: heapdict in /anaconda/envs/azureml_py36/lib/python3.6/site-packages (from zict>=0.1.3->distributed<=2.30.1->azureml-train-automl-runtime~=1.36.0->azureml-train-automl~=1.36.0; extra == \"automl\"->azureml-sdk[automl]) (1.0.1)\n",
            "Requirement already satisfied, skipping upgrade: immutables>=0.9 in /anaconda/envs/azureml_py36/lib/python3.6/site-packages (from contextvars; python_version < \"3.7\"->distributed<=2.30.1->azureml-train-automl-runtime~=1.36.0->azureml-train-automl~=1.36.0; extra == \"automl\"->azureml-sdk[automl]) (0.16)\n",
            "Requirement already satisfied, skipping upgrade: termcolor in /anaconda/envs/azureml_py36/lib/python3.6/site-packages (from fire->keras2onnx<=1.6.0,>=1.4.0->azureml-train-automl-runtime~=1.36.0->azureml-train-automl~=1.36.0; extra == \"automl\"->azureml-sdk[automl]) (1.1.0)\n",
            "Requirement already satisfied, skipping upgrade: flask==1.0.3 in /anaconda/envs/azureml_py36/lib/python3.6/site-packages (from azureml-inference-server-http~=0.4.1->azureml-defaults~=1.36.0->azureml-train-automl-runtime~=1.36.0->azureml-train-automl~=1.36.0; extra == \"automl\"->azureml-sdk[automl]) (1.0.3)\n",
            "Requirement already satisfied, skipping upgrade: gunicorn==20.1.0; platform_system != \"Windows\" in /anaconda/envs/azureml_py36/lib/python3.6/site-packages (from azureml-inference-server-http~=0.4.1->azureml-defaults~=1.36.0->azureml-train-automl-runtime~=1.36.0->azureml-train-automl~=1.36.0; extra == \"automl\"->azureml-sdk[automl]) (20.1.0)\n",
            "Requirement already satisfied, skipping upgrade: inference-schema==1.3.0 in /anaconda/envs/azureml_py36/lib/python3.6/site-packages (from azureml-inference-server-http~=0.4.1->azureml-defaults~=1.36.0->azureml-train-automl-runtime~=1.36.0->azureml-train-automl~=1.36.0; extra == \"automl\"->azureml-sdk[automl]) (1.3.0)\n",
            "Requirement already satisfied, skipping upgrade: gitpython>=2.1.0 in /anaconda/envs/azureml_py36/lib/python3.6/site-packages (from mlflow-skinny->azureml-mlflow~=1.36.0->azureml-train-automl-runtime~=1.36.0->azureml-train-automl~=1.36.0; extra == \"automl\"->azureml-sdk[automl]) (3.1.18)\n",
            "Requirement already satisfied, skipping upgrade: entrypoints in /anaconda/envs/azureml_py36/lib/python3.6/site-packages (from mlflow-skinny->azureml-mlflow~=1.36.0->azureml-train-automl-runtime~=1.36.0->azureml-train-automl~=1.36.0; extra == \"automl\"->azureml-sdk[automl]) (0.3)\n",
            "Requirement already satisfied, skipping upgrade: databricks-cli>=0.8.7 in /anaconda/envs/azureml_py36/lib/python3.6/site-packages (from mlflow-skinny->azureml-mlflow~=1.36.0->azureml-train-automl-runtime~=1.36.0->azureml-train-automl~=1.36.0; extra == \"automl\"->azureml-sdk[automl]) (0.15.0)\n",
            "Requirement already satisfied, skipping upgrade: interpret-core[required]<=0.2.6,>=0.1.20 in /anaconda/envs/azureml_py36/lib/python3.6/site-packages (from interpret-community==0.21.*->azureml-interpret~=1.36.0->azureml-train-automl-runtime~=1.36.0->azureml-train-automl~=1.36.0; extra == \"automl\"->azureml-sdk[automl]) (0.2.5)\n",
            "Requirement already satisfied, skipping upgrade: shap<=0.39.0,>=0.20.0 in /anaconda/envs/azureml_py36/lib/python3.6/site-packages (from interpret-community==0.21.*->azureml-interpret~=1.36.0->azureml-train-automl-runtime~=1.36.0->azureml-train-automl~=1.36.0; extra == \"automl\"->azureml-sdk[automl]) (0.39.0)\n",
            "Requirement already satisfied, skipping upgrade: numba<0.54.0 in /anaconda/envs/azureml_py36/lib/python3.6/site-packages (from interpret-community==0.21.*->azureml-interpret~=1.36.0->azureml-train-automl-runtime~=1.36.0->azureml-train-automl~=1.36.0; extra == \"automl\"->azureml-sdk[automl]) (0.53.1)\n",
            "Requirement already satisfied, skipping upgrade: pyparsing>=2.0.2 in /anaconda/envs/azureml_py36/lib/python3.6/site-packages (from packaging>=16.8->bokeh!=2.0.0,>=1.0.0; extra == \"complete\"->dask[complete]<=2.30.0->azureml-train-automl-runtime~=1.36.0->azureml-train-automl~=1.36.0; extra == \"automl\"->azureml-sdk[automl]) (2.4.7)\n",
            "Requirement already satisfied, skipping upgrade: Werkzeug>=0.14 in /anaconda/envs/azureml_py36/lib/python3.6/site-packages (from flask==1.0.3->azureml-inference-server-http~=0.4.1->azureml-defaults~=1.36.0->azureml-train-automl-runtime~=1.36.0->azureml-train-automl~=1.36.0; extra == \"automl\"->azureml-sdk[automl]) (1.0.1)\n",
            "Requirement already satisfied, skipping upgrade: itsdangerous>=0.24 in /anaconda/envs/azureml_py36/lib/python3.6/site-packages (from flask==1.0.3->azureml-inference-server-http~=0.4.1->azureml-defaults~=1.36.0->azureml-train-automl-runtime~=1.36.0->azureml-train-automl~=1.36.0; extra == \"automl\"->azureml-sdk[automl]) (2.0.1)\n",
            "Requirement already satisfied, skipping upgrade: wrapt<=1.12.1,>=1.11.1 in /anaconda/envs/azureml_py36/lib/python3.6/site-packages (from inference-schema==1.3.0->azureml-inference-server-http~=0.4.1->azureml-defaults~=1.36.0->azureml-train-automl-runtime~=1.36.0->azureml-train-automl~=1.36.0; extra == \"automl\"->azureml-sdk[automl]) (1.11.1)\n",
            "Requirement already satisfied, skipping upgrade: gitdb<5,>=4.0.1 in /anaconda/envs/azureml_py36/lib/python3.6/site-packages (from gitpython>=2.1.0->mlflow-skinny->azureml-mlflow~=1.36.0->azureml-train-automl-runtime~=1.36.0->azureml-train-automl~=1.36.0; extra == \"automl\"->azureml-sdk[automl]) (4.0.7)\n",
            "Requirement already satisfied, skipping upgrade: tabulate>=0.7.7 in /anaconda/envs/azureml_py36/lib/python3.6/site-packages (from databricks-cli>=0.8.7->mlflow-skinny->azureml-mlflow~=1.36.0->azureml-train-automl-runtime~=1.36.0->azureml-train-automl~=1.36.0; extra == \"automl\"->azureml-sdk[automl]) (0.8.9)\n",
            "Requirement already satisfied, skipping upgrade: slicer==0.0.7 in /anaconda/envs/azureml_py36/lib/python3.6/site-packages (from shap<=0.39.0,>=0.20.0->interpret-community==0.21.*->azureml-interpret~=1.36.0->azureml-train-automl-runtime~=1.36.0->azureml-train-automl~=1.36.0; extra == \"automl\"->azureml-sdk[automl]) (0.0.7)\n",
            "Requirement already satisfied, skipping upgrade: tqdm>4.25.0 in /anaconda/envs/azureml_py36/lib/python3.6/site-packages (from shap<=0.39.0,>=0.20.0->interpret-community==0.21.*->azureml-interpret~=1.36.0->azureml-train-automl-runtime~=1.36.0->azureml-train-automl~=1.36.0; extra == \"automl\"->azureml-sdk[automl]) (4.62.2)\n",
            "Requirement already satisfied, skipping upgrade: llvmlite<0.37,>=0.36.0rc1 in /anaconda/envs/azureml_py36/lib/python3.6/site-packages (from numba<0.54.0->interpret-community==0.21.*->azureml-interpret~=1.36.0->azureml-train-automl-runtime~=1.36.0->azureml-train-automl~=1.36.0; extra == \"automl\"->azureml-sdk[automl]) (0.36.0)\n",
            "Requirement already satisfied, skipping upgrade: smmap<5,>=3.0.1 in /anaconda/envs/azureml_py36/lib/python3.6/site-packages (from gitdb<5,>=4.0.1->gitpython>=2.1.0->mlflow-skinny->azureml-mlflow~=1.36.0->azureml-train-automl-runtime~=1.36.0->azureml-train-automl~=1.36.0; extra == \"automl\"->azureml-sdk[automl]) (4.0.0)\n"
          ]
        }
      ],
      "source": [
        "# In order to avoid problems with different SDK versions during AutoML training and later serving of the model in the compute cluster I update the SDK version of AutoML.\n",
        "# It is important to use Python 3.6 as it is, at this moment the compatible version with the latest version of AutoML SDK.\n",
        "\n",
        "import sys\n",
        "\n",
        "! {sys.executable} -m pip install --upgrade azureml-sdk[automl]"
      ]
    },
    {
      "cell_type": "code",
      "execution_count": 2,
      "metadata": {
        "gather": {
          "logged": 1639238559548
        }
      },
      "outputs": [],
      "source": [
        "from azureml.core import Workspace, Experiment\n",
        "from azureml.core.compute import ComputeTarget, AmlCompute\n",
        "from azureml.core.compute_target import ComputeTargetException\n",
        "from azureml.widgets import RunDetails\n",
        "from azureml.data.dataset_factory import TabularDatasetFactory\n",
        "from azureml.train.automl import AutoMLConfig\n",
        "from azureml.core.dataset import Dataset\n",
        "from azureml.core import Datastore\n",
        "import joblib\n",
        "from pprint import pprint\n",
        "import requests\n",
        "import json\n",
        "import pandas as pd\n",
        "from azureml.core import Model\n",
        "from azureml.core.resource_configuration import ResourceConfiguration\n",
        "from azureml.core import Environment\n",
        "from azureml.core.conda_dependencies import CondaDependencies\n",
        "from azureml.core.model import InferenceConfig\n",
        "from azureml.core.webservice import AciWebservice\n",
        "\n"
      ]
    },
    {
      "cell_type": "markdown",
      "metadata": {},
      "source": [
        "## Dataset\n",
        "\n",
        "### Overview\n",
        "\n",
        "We are going to configure our workspace so we can register our dataset and create a compute cluster for the AutoML training and deployment of our model.\n",
        "\n",
        "The dataset we will be using is the \"Heart failure prediction dataset\" from Kaggle (https://www.kaggle.com/fedesoriano/heart-failure-prediction). This dataset tries to help in the early detection of severe heart diseases by studying the way several health indicators affect the occurrence of such diseases. This dataset is a combination of 5 different datasets about this kind of diseases (more information in the Kaggle url provided earlier). \n",
        "\n",
        "A copy of the dataset is provided in the Github repository but it is also possible to access it by an url."
      ]
    },
    {
      "cell_type": "code",
      "execution_count": 3,
      "metadata": {
        "gather": {
          "logged": 1639238570126
        },
        "jupyter": {
          "outputs_hidden": false,
          "source_hidden": false
        },
        "nteract": {
          "transient": {
            "deleting": false
          }
        }
      },
      "outputs": [
        {
          "name": "stdout",
          "output_type": "stream",
          "text": [
            "Workspace name: quick-starts-ws-165560\n",
            "Azure region: southcentralus\n",
            "Subscription id: 976ee174-3882-4721-b90a-b5fef6b72f24\n",
            "Resource group: aml-quickstarts-165560\n"
          ]
        }
      ],
      "source": [
        "ws = Workspace.from_config()\n",
        "\n",
        "# choose a name for experiment\n",
        "experiment_name = 'Udacitycapsproject'\n",
        "\n",
        "experiment=Experiment(ws, experiment_name)\n",
        "\n",
        "print('Workspace name: ' + ws.name, \n",
        "      'Azure region: ' + ws.location, \n",
        "      'Subscription id: ' + ws.subscription_id, \n",
        "      'Resource group: ' + ws.resource_group, sep = '\\n')\n",
        "\n",
        "run = experiment.start_logging()"
      ]
    },
    {
      "cell_type": "code",
      "execution_count": 4,
      "metadata": {
        "gather": {
          "logged": 1639238585862
        }
      },
      "outputs": [
        {
          "name": "stdout",
          "output_type": "stream",
          "text": [
            "InProgress..\n",
            "SucceededProvisioning operation finished, operation \"Succeeded\"\n",
            "Succeeded\n",
            "AmlCompute wait for completion finished\n",
            "\n",
            "Minimum number of nodes requested have been provisioned\n"
          ]
        }
      ],
      "source": [
        "cluster_name=\"udacityprojclust\"\n",
        "\n",
        "try:\n",
        "    cpu_cluster = ComputeTarget(workspace=ws, name=cluster_name)\n",
        "    print('cpu cluster already exist. Using it.')\n",
        "except ComputeTargetException:\n",
        "\n",
        "    compute_config = AmlCompute.provisioning_configuration(vm_size='Standard_D2_V2', max_nodes=6)\n",
        "    cpu_cluster = ComputeTarget.create(ws, cluster_name, compute_config)\n",
        "\n",
        "cpu_cluster.wait_for_completion(show_output=True)"
      ]
    },
    {
      "cell_type": "code",
      "execution_count": 5,
      "metadata": {
        "gather": {
          "logged": 1639238613878
        }
      },
      "outputs": [
        {
          "name": "stdout",
          "output_type": "stream",
          "text": [
            "Validating arguments.\n",
            "Arguments validated.\n",
            "Successfully obtained datastore reference and path.\n",
            "Uploading file to managed-dataset/c2123146-496e-4182-bf01-4a7d30472e76/\n",
            "Successfully uploaded file to datastore.\n",
            "Creating and registering a new dataset.\n",
            "Successfully created and registered a new dataset.\n"
          ]
        }
      ],
      "source": [
        "data = pd.read_csv('./heart.csv')\n",
        "datastore = Datastore.get(ws, 'workspaceblobstore')\n",
        "\n",
        "dataset = TabularDatasetFactory.register_pandas_dataframe(data, target=datastore, name='udacitycapsprojdata')"
      ]
    },
    {
      "cell_type": "markdown",
      "metadata": {},
      "source": [
        "## AutoML Configuration\n",
        "\n",
        "The task we need to develop with AutoML is a classification, we will be using a yes or no label in the dataset that is 'HeartDisease'. With the settings we try to define the AutoML work to give the best results but optimizing the resource consumption. So we have selected AUC metric to handle in the best possible way if there are some imbalance in the dataset and we also generate a number of 5 folds to assure a proper evaluation of the model, we have also enabled an early stopping policy and fixed the experiment timeout to optimize the use of the compute cluster. "
      ]
    },
    {
      "cell_type": "code",
      "execution_count": 9,
      "metadata": {
        "gather": {
          "logged": 1639238825250
        },
        "jupyter": {
          "outputs_hidden": false,
          "source_hidden": false
        },
        "nteract": {
          "transient": {
            "deleting": false
          }
        }
      },
      "outputs": [],
      "source": [
        "# automl settings\n",
        "automl_settings = {\n",
        "       \"n_cross_validations\": 5,\n",
        "       \"primary_metric\": 'AUC_weighted',\n",
        "       \"enable_early_stopping\": True,\n",
        "       \"experiment_timeout_hours\": 1.0,\n",
        "       \"iterations\" : 10,\n",
        "       \"max_concurrent_iterations\": 5,\n",
        "       \"max_cores_per_iteration\": -1,\n",
        "       \"enable_onnx_compatible_models\": True,\n",
        "       \"blocked_models\": 'XGBoostClassifier',\n",
        "       \"verbosity\": logging.INFO}\n",
        "\n",
        "# automl config\n",
        "automl_config = AutoMLConfig(task = 'classification',\n",
        "                               compute_target = cluster_name,\n",
        "                               training_data = dataset,\n",
        "                               label_column_name = 'HeartDisease',\n",
        "                               **automl_settings)"
      ]
    },
    {
      "cell_type": "code",
      "execution_count": 10,
      "metadata": {
        "gather": {
          "logged": 1639238832321
        },
        "jupyter": {
          "outputs_hidden": false,
          "source_hidden": false
        },
        "nteract": {
          "transient": {
            "deleting": false
          }
        }
      },
      "outputs": [
        {
          "name": "stdout",
          "output_type": "stream",
          "text": [
            "Submitting remote run.\n"
          ]
        },
        {
          "data": {
            "text/html": [
              "<table style=\"width:100%\"><tr><th>Experiment</th><th>Id</th><th>Type</th><th>Status</th><th>Details Page</th><th>Docs Page</th></tr><tr><td>Udacitycapsproject</td><td>AutoML_37005cf3-5d47-4c7b-a7ba-07161846456d</td><td>automl</td><td>NotStarted</td><td><a href=\"https://ml.azure.com/runs/AutoML_37005cf3-5d47-4c7b-a7ba-07161846456d?wsid=/subscriptions/976ee174-3882-4721-b90a-b5fef6b72f24/resourcegroups/aml-quickstarts-165560/workspaces/quick-starts-ws-165560&amp;tid=660b3398-b80e-49d2-bc5b-ac1dc93b5254\" target=\"_blank\" rel=\"noopener\">Link to Azure Machine Learning studio</a></td><td><a href=\"https://docs.microsoft.com/en-us/python/api/overview/azure/ml/intro?view=azure-ml-py\" target=\"_blank\" rel=\"noopener\">Link to Documentation</a></td></tr></table>"
            ],
            "text/plain": [
              "<IPython.core.display.HTML object>"
            ]
          },
          "metadata": {},
          "output_type": "display_data"
        }
      ],
      "source": [
        "# Submit the AutoML experiment\n",
        "remote_run = experiment.submit(automl_config)"
      ]
    },
    {
      "cell_type": "markdown",
      "metadata": {},
      "source": [
        "## Run Details\n",
        "\n",
        "TODO: In the cell below, use the `RunDetails` widget to show the different experiments."
      ]
    },
    {
      "cell_type": "code",
      "execution_count": 11,
      "metadata": {
        "gather": {
          "logged": 1639238837287
        },
        "jupyter": {
          "outputs_hidden": false,
          "source_hidden": false
        },
        "nteract": {
          "transient": {
            "deleting": false
          }
        }
      },
      "outputs": [
        {
          "data": {
            "application/vnd.jupyter.widget-view+json": {
              "model_id": "bbcac2967cb74cea9c8adb6ea8c85010",
              "version_major": 2,
              "version_minor": 0
            },
            "text/plain": [
              "_AutoMLWidget(widget_settings={'childWidgetDisplay': 'popup', 'send_telemetry': False, 'log_level': 'INFO', 's…"
            ]
          },
          "metadata": {},
          "output_type": "display_data"
        },
        {
          "data": {
            "application/aml.mini.widget.v1": "{\"status\": \"Completed\", \"workbench_run_details_uri\": \"https://ml.azure.com/runs/AutoML_37005cf3-5d47-4c7b-a7ba-07161846456d?wsid=/subscriptions/976ee174-3882-4721-b90a-b5fef6b72f24/resourcegroups/aml-quickstarts-165560/workspaces/quick-starts-ws-165560&tid=660b3398-b80e-49d2-bc5b-ac1dc93b5254\", \"run_id\": \"AutoML_37005cf3-5d47-4c7b-a7ba-07161846456d\", \"run_properties\": {\"run_id\": \"AutoML_37005cf3-5d47-4c7b-a7ba-07161846456d\", \"created_utc\": \"2021-12-11T16:07:11.511313Z\", \"properties\": {\"num_iterations\": \"10\", \"training_type\": \"TrainFull\", \"acquisition_function\": \"EI\", \"primary_metric\": \"AUC_weighted\", \"train_split\": \"0\", \"acquisition_parameter\": \"0\", \"num_cross_validation\": \"5\", \"target\": \"udacityprojclust\", \"AMLSettingsJsonString\": \"{\\\"path\\\":null,\\\"name\\\":\\\"Udacitycapsproject\\\",\\\"subscription_id\\\":\\\"976ee174-3882-4721-b90a-b5fef6b72f24\\\",\\\"resource_group\\\":\\\"aml-quickstarts-165560\\\",\\\"workspace_name\\\":\\\"quick-starts-ws-165560\\\",\\\"region\\\":\\\"southcentralus\\\",\\\"compute_target\\\":\\\"udacityprojclust\\\",\\\"spark_service\\\":null,\\\"azure_service\\\":\\\"remote\\\",\\\"many_models\\\":false,\\\"pipeline_fetch_max_batch_size\\\":1,\\\"enable_batch_run\\\":false,\\\"enable_run_restructure\\\":false,\\\"start_auxiliary_runs_before_parent_complete\\\":false,\\\"enable_code_generation\\\":false,\\\"iterations\\\":10,\\\"primary_metric\\\":\\\"AUC_weighted\\\",\\\"task_type\\\":\\\"classification\\\",\\\"positive_label\\\":null,\\\"data_script\\\":null,\\\"test_size\\\":0.0,\\\"test_include_predictions_only\\\":false,\\\"validation_size\\\":0.0,\\\"n_cross_validations\\\":5,\\\"y_min\\\":null,\\\"y_max\\\":null,\\\"num_classes\\\":null,\\\"featurization\\\":\\\"auto\\\",\\\"_ignore_package_version_incompatibilities\\\":false,\\\"is_timeseries\\\":false,\\\"max_cores_per_iteration\\\":-1,\\\"max_concurrent_iterations\\\":5,\\\"iteration_timeout_minutes\\\":null,\\\"mem_in_mb\\\":null,\\\"enforce_time_on_windows\\\":false,\\\"experiment_timeout_minutes\\\":60,\\\"experiment_exit_score\\\":null,\\\"whitelist_models\\\":null,\\\"blacklist_algos\\\":[\\\"TensorFlowLinearClassifier\\\",\\\"TensorFlowDNN\\\"],\\\"supported_models\\\":[\\\"MultinomialNaiveBayes\\\",\\\"RandomForest\\\",\\\"LogisticRegression\\\",\\\"ExtremeRandomTrees\\\",\\\"LinearSVM\\\",\\\"DecisionTree\\\",\\\"XGBoostClassifier\\\",\\\"KNN\\\",\\\"TensorFlowDNN\\\",\\\"TensorFlowLinearClassifier\\\",\\\"SVM\\\",\\\"GradientBoosting\\\",\\\"LightGBM\\\",\\\"AveragedPerceptronClassifier\\\",\\\"BernoulliNaiveBayes\\\",\\\"SGD\\\"],\\\"private_models\\\":[\\\"TabnetClassifier\\\"],\\\"auto_blacklist\\\":true,\\\"blacklist_samples_reached\\\":false,\\\"exclude_nan_labels\\\":true,\\\"verbosity\\\":20,\\\"_debug_log\\\":\\\"azureml_automl.log\\\",\\\"show_warnings\\\":false,\\\"model_explainability\\\":true,\\\"service_url\\\":null,\\\"sdk_url\\\":null,\\\"sdk_packages\\\":null,\\\"enable_onnx_compatible_models\\\":true,\\\"enable_split_onnx_featurizer_estimator_models\\\":false,\\\"vm_type\\\":\\\"STANDARD_D2_V2\\\",\\\"telemetry_verbosity\\\":20,\\\"send_telemetry\\\":true,\\\"enable_dnn\\\":false,\\\"scenario\\\":\\\"SDK-1.13.0\\\",\\\"environment_label\\\":null,\\\"save_mlflow\\\":false,\\\"enable_categorical_indicators\\\":false,\\\"force_text_dnn\\\":false,\\\"enable_feature_sweeping\\\":false,\\\"enable_early_stopping\\\":true,\\\"early_stopping_n_iters\\\":10,\\\"arguments\\\":null,\\\"dataset_id\\\":null,\\\"hyperdrive_config\\\":null,\\\"validation_dataset_id\\\":null,\\\"run_source\\\":null,\\\"metrics\\\":null,\\\"enable_metric_confidence\\\":false,\\\"enable_ensembling\\\":true,\\\"enable_stack_ensembling\\\":false,\\\"ensemble_iterations\\\":10,\\\"enable_tf\\\":false,\\\"enable_subsampling\\\":false,\\\"subsample_seed\\\":null,\\\"enable_nimbusml\\\":false,\\\"enable_streaming\\\":false,\\\"force_streaming\\\":false,\\\"track_child_runs\\\":true,\\\"allowed_private_models\\\":[],\\\"label_column_name\\\":\\\"HeartDisease\\\",\\\"weight_column_name\\\":null,\\\"cv_split_column_names\\\":null,\\\"enable_local_managed\\\":false,\\\"_local_managed_run_id\\\":null,\\\"cost_mode\\\":1,\\\"lag_length\\\":0,\\\"metric_operation\\\":\\\"maximize\\\",\\\"preprocess\\\":true}\", \"DataPrepJsonString\": \"{\\\\\\\"training_data\\\\\\\": {\\\\\\\"datasetId\\\\\\\": \\\\\\\"68cbd4fb-0b90-472b-8a82-662b902313ac\\\\\\\"}, \\\\\\\"datasets\\\\\\\": 0}\", \"EnableSubsampling\": \"False\", \"runTemplate\": \"AutoML\", \"azureml.runsource\": \"automl\", \"display_task_type\": \"classification\", \"dependencies_versions\": \"{\\\"azureml-widgets\\\": \\\"1.34.0\\\", \\\"azureml-train\\\": \\\"1.34.0\\\", \\\"azureml-train-restclients-hyperdrive\\\": \\\"1.36.0\\\", \\\"azureml-train-core\\\": \\\"1.36.0\\\", \\\"azureml-train-automl\\\": \\\"1.36.0\\\", \\\"azureml-train-automl-runtime\\\": \\\"1.36.1\\\", \\\"azureml-train-automl-client\\\": \\\"1.36.0\\\", \\\"azureml-tensorboard\\\": \\\"1.34.0\\\", \\\"azureml-telemetry\\\": \\\"1.36.0\\\", \\\"azureml-sdk\\\": \\\"1.36.0\\\", \\\"azureml-samples\\\": \\\"0+unknown\\\", \\\"azureml-responsibleai\\\": \\\"1.34.0\\\", \\\"azureml-pipeline\\\": \\\"1.36.0\\\", \\\"azureml-pipeline-steps\\\": \\\"1.36.0\\\", \\\"azureml-pipeline-core\\\": \\\"1.36.0\\\", \\\"azureml-opendatasets\\\": \\\"1.34.0\\\", \\\"azureml-mlflow\\\": \\\"1.36.0\\\", \\\"azureml-interpret\\\": \\\"1.36.0\\\", \\\"azureml-inference-server-http\\\": \\\"0.4.2\\\", \\\"azureml-explain-model\\\": \\\"1.34.0\\\", \\\"azureml-defaults\\\": \\\"1.36.0\\\", \\\"azureml-dataset-runtime\\\": \\\"1.36.0\\\", \\\"azureml-dataprep\\\": \\\"2.24.4\\\", \\\"azureml-dataprep-rslex\\\": \\\"2.0.3\\\", \\\"azureml-dataprep-native\\\": \\\"38.0.0\\\", \\\"azureml-datadrift\\\": \\\"1.34.0\\\", \\\"azureml-core\\\": \\\"1.36.0.post2\\\", \\\"azureml-contrib-services\\\": \\\"1.34.0\\\", \\\"azureml-contrib-server\\\": \\\"1.34.0\\\", \\\"azureml-contrib-reinforcementlearning\\\": \\\"1.34.0\\\", \\\"azureml-contrib-pipeline-steps\\\": \\\"1.34.0\\\", \\\"azureml-contrib-notebook\\\": \\\"1.34.0\\\", \\\"azureml-contrib-fairness\\\": \\\"1.34.0\\\", \\\"azureml-contrib-dataset\\\": \\\"1.34.0\\\", \\\"azureml-contrib-automl-pipeline-steps\\\": \\\"1.34.0\\\", \\\"azureml-cli-common\\\": \\\"1.34.0\\\", \\\"azureml-automl-runtime\\\": \\\"1.36.1\\\", \\\"azureml-automl-dnn-nlp\\\": \\\"1.34.0\\\", \\\"azureml-automl-core\\\": \\\"1.36.1\\\", \\\"azureml-accel-models\\\": \\\"1.34.0\\\"}\", \"_aml_system_scenario_identification\": \"Remote.Parent\", \"ClientType\": \"SDK\", \"environment_cpu_name\": \"AzureML-AutoML\", \"environment_cpu_label\": \"prod\", \"environment_gpu_name\": \"AzureML-AutoML-GPU\", \"environment_gpu_label\": \"prod\", \"root_attribution\": \"automl\", \"attribution\": \"AutoML\", \"Orchestrator\": \"AutoML\", \"CancelUri\": \"https://southcentralus.api.azureml.ms/jasmine/v1.0/subscriptions/976ee174-3882-4721-b90a-b5fef6b72f24/resourceGroups/aml-quickstarts-165560/providers/Microsoft.MachineLearningServices/workspaces/quick-starts-ws-165560/experimentids/6a5f7ed3-6530-4660-939a-c9af817209b6/cancel/AutoML_37005cf3-5d47-4c7b-a7ba-07161846456d\", \"ClientSdkVersion\": \"1.36.1\", \"snapshotId\": \"00000000-0000-0000-0000-000000000000\", \"SetupRunId\": \"AutoML_37005cf3-5d47-4c7b-a7ba-07161846456d_setup\", \"SetupRunContainerId\": \"dcid.AutoML_37005cf3-5d47-4c7b-a7ba-07161846456d_setup\", \"FeaturizationRunJsonPath\": \"featurizer_container.json\", \"FeaturizationRunId\": \"AutoML_37005cf3-5d47-4c7b-a7ba-07161846456d_featurize\", \"ProblemInfoJsonString\": \"{\\\"dataset_num_categorical\\\": 0, \\\"is_sparse\\\": true, \\\"subsampling\\\": false, \\\"has_extra_col\\\": true, \\\"dataset_classes\\\": 2, \\\"dataset_features\\\": 18, \\\"dataset_samples\\\": 918, \\\"single_frequency_class_detected\\\": false}\", \"ModelExplainRunId\": \"AutoML_37005cf3-5d47-4c7b-a7ba-07161846456d_ModelExplain\"}, \"tags\": {\"model_explain_run\": \"best_run\", \"_aml_system_azureml.automlComponent\": \"AutoML\", \"pipeline_id\": \"\", \"score\": \"\", \"predicted_cost\": \"\", \"fit_time\": \"\", \"training_percent\": \"\", \"iteration\": \"\", \"run_preprocessor\": \"\", \"run_algorithm\": \"\", \"automl_best_child_run_id\": \"AutoML_37005cf3-5d47-4c7b-a7ba-07161846456d_9\", \"model_explain_best_run_child_id\": \"AutoML_37005cf3-5d47-4c7b-a7ba-07161846456d_9\"}, \"end_time_utc\": \"2021-12-11T16:24:20.197004Z\", \"status\": \"Completed\", \"log_files\": {}, \"log_groups\": [], \"run_duration\": \"0:17:08\", \"run_number\": \"4\", \"run_queued_details\": {\"status\": \"Completed\", \"details\": null}}, \"child_runs\": [{\"run_id\": \"AutoML_37005cf3-5d47-4c7b-a7ba-07161846456d_setup\", \"run_number\": 5, \"metric\": null, \"status\": \"Completed\", \"run_type\": \"azureml.scriptrun\", \"training_percent\": null, \"start_time\": \"2021-12-11T16:07:23.72266Z\", \"end_time\": \"2021-12-11T16:13:07.316095Z\", \"created_time\": \"2021-12-11T16:07:23.72266Z\", \"created_time_dt\": \"2021-12-11T16:07:23.72266Z\", \"duration\": \"0:05:43\", \"iteration\": null, \"goal\": null, \"run_name\": \"Completed\", \"run_properties\": null}, {\"run_id\": \"AutoML_37005cf3-5d47-4c7b-a7ba-07161846456d_featurize\", \"run_number\": 6, \"metric\": null, \"status\": \"Completed\", \"run_type\": \"automl.featurization\", \"training_percent\": null, \"start_time\": \"2021-12-11T16:13:10.167709Z\", \"end_time\": \"2021-12-11T16:15:20.397156Z\", \"created_time\": \"2021-12-11T16:13:07.672635Z\", \"created_time_dt\": \"2021-12-11T16:13:07.672635Z\", \"duration\": \"0:02:12\", \"iteration\": null, \"goal\": null, \"run_name\": \"Completed\", \"run_properties\": null}, {\"run_id\": \"AutoML_37005cf3-5d47-4c7b-a7ba-07161846456d_0\", \"run_number\": 8, \"metric\": null, \"status\": \"Completed\", \"run_type\": \"azureml.scriptrun\", \"training_percent\": \"100\", \"start_time\": \"2021-12-11T16:17:26.995188Z\", \"end_time\": \"2021-12-11T16:17:41.550497Z\", \"created_time\": \"2021-12-11T16:15:21.42952Z\", \"created_time_dt\": \"2021-12-11T16:15:21.42952Z\", \"duration\": \"0:02:20\", \"iteration\": \"0\", \"goal\": \"AUC_weighted_max\", \"run_name\": \"MaxAbsScaler, LightGBM\", \"run_properties\": \"copy=True\", \"primary_metric\": 0.92411259, \"best_metric\": 0.92411259}, {\"run_id\": \"AutoML_37005cf3-5d47-4c7b-a7ba-07161846456d_2\", \"run_number\": 9, \"metric\": null, \"status\": \"Completed\", \"run_type\": \"azureml.scriptrun\", \"training_percent\": \"100\", \"start_time\": \"2021-12-11T16:15:21.451611Z\", \"end_time\": \"2021-12-11T16:15:52.681361Z\", \"created_time\": \"2021-12-11T16:15:21.451611Z\", \"created_time_dt\": \"2021-12-11T16:15:21.451611Z\", \"duration\": \"0:00:31\", \"iteration\": \"2\", \"goal\": \"AUC_weighted_max\", \"run_name\": \"MaxAbsScaler, ExtremeRandomTrees\", \"run_properties\": \"copy=True\", \"primary_metric\": 0.92259282, \"best_metric\": 0.93276266}, {\"run_id\": \"AutoML_37005cf3-5d47-4c7b-a7ba-07161846456d_1\", \"run_number\": 10, \"metric\": null, \"status\": \"Completed\", \"run_type\": \"azureml.scriptrun\", \"training_percent\": \"100\", \"start_time\": \"2021-12-11T16:15:21.461657Z\", \"end_time\": \"2021-12-11T16:16:46.302874Z\", \"created_time\": \"2021-12-11T16:15:21.461657Z\", \"created_time_dt\": \"2021-12-11T16:15:21.461657Z\", \"duration\": \"0:01:24\", \"iteration\": \"1\", \"goal\": \"AUC_weighted_max\", \"run_name\": \"MaxAbsScaler, XGBoostClassifier\", \"run_properties\": \"copy=True\", \"primary_metric\": 0.93276266, \"best_metric\": 0.93276266}, {\"run_id\": \"AutoML_37005cf3-5d47-4c7b-a7ba-07161846456d_4\", \"run_number\": 11, \"metric\": null, \"status\": \"Completed\", \"run_type\": \"azureml.scriptrun\", \"training_percent\": \"100\", \"start_time\": \"2021-12-11T16:15:21.454061Z\", \"end_time\": \"2021-12-11T16:17:14.008591Z\", \"created_time\": \"2021-12-11T16:15:21.454061Z\", \"created_time_dt\": \"2021-12-11T16:15:21.454061Z\", \"duration\": \"0:01:52\", \"iteration\": \"4\", \"goal\": \"AUC_weighted_max\", \"run_name\": \"StandardScalerWrapper, LightGBM\", \"run_properties\": \"\\n    copy=True,\\n    with_mean=False,\\n    with_std=True\\n\", \"primary_metric\": 0.93119302, \"best_metric\": 0.93276266}, {\"run_id\": \"AutoML_37005cf3-5d47-4c7b-a7ba-07161846456d_3\", \"run_number\": 12, \"metric\": null, \"status\": \"Completed\", \"run_type\": \"azureml.scriptrun\", \"training_percent\": \"100\", \"start_time\": \"2021-12-11T16:15:21.457167Z\", \"end_time\": \"2021-12-11T16:16:19.815387Z\", \"created_time\": \"2021-12-11T16:15:21.457167Z\", \"created_time_dt\": \"2021-12-11T16:15:21.457167Z\", \"duration\": \"0:00:58\", \"iteration\": \"3\", \"goal\": \"AUC_weighted_max\", \"run_name\": \"MaxAbsScaler, RandomForest\", \"run_properties\": \"copy=True\", \"primary_metric\": 0.92310224, \"best_metric\": 0.93276266}, {\"run_id\": \"AutoML_37005cf3-5d47-4c7b-a7ba-07161846456d_5\", \"run_number\": 13, \"metric\": null, \"status\": \"Completed\", \"run_type\": \"azureml.scriptrun\", \"training_percent\": \"100\", \"start_time\": \"2021-12-11T16:15:55.421466Z\", \"end_time\": \"2021-12-11T16:18:11.072426Z\", \"created_time\": \"2021-12-11T16:15:55.421466Z\", \"created_time_dt\": \"2021-12-11T16:15:55.421466Z\", \"duration\": \"0:02:15\", \"iteration\": \"5\", \"goal\": \"AUC_weighted_max\", \"run_name\": \"SparseNormalizer, XGBoostClassifier\", \"run_properties\": \"copy=True, norm='max'\", \"primary_metric\": 0.92249565, \"best_metric\": 0.93276266}, {\"run_id\": \"AutoML_37005cf3-5d47-4c7b-a7ba-07161846456d_6\", \"run_number\": 14, \"metric\": null, \"status\": \"Completed\", \"run_type\": \"azureml.scriptrun\", \"training_percent\": \"100\", \"start_time\": \"2021-12-11T16:16:22.600501Z\", \"end_time\": \"2021-12-11T16:18:40.460675Z\", \"created_time\": \"2021-12-11T16:16:22.600501Z\", \"created_time_dt\": \"2021-12-11T16:16:22.600501Z\", \"duration\": \"0:02:17\", \"iteration\": \"6\", \"goal\": \"AUC_weighted_max\", \"run_name\": \"SparseNormalizer, RandomForest\", \"run_properties\": \"copy=True, norm='l2'\", \"primary_metric\": 0.92938822, \"best_metric\": 0.93276266}, {\"run_id\": \"AutoML_37005cf3-5d47-4c7b-a7ba-07161846456d_7\", \"run_number\": 15, \"metric\": null, \"status\": \"Completed\", \"run_type\": \"azureml.scriptrun\", \"training_percent\": \"100\", \"start_time\": \"2021-12-11T16:19:26.333034Z\", \"end_time\": \"2021-12-11T16:23:38.842546Z\", \"created_time\": \"2021-12-11T16:16:48.956747Z\", \"created_time_dt\": \"2021-12-11T16:16:48.956747Z\", \"duration\": \"0:06:49\", \"iteration\": \"7\", \"goal\": \"AUC_weighted_max\", \"run_name\": \"StandardScalerWrapper, XGBoostClassifier\", \"run_properties\": \"\\n    copy=True,\\n    with_mean=False,\\n    with_std=False\\n\", \"primary_metric\": 0.92500743, \"best_metric\": 0.93276266}, {\"run_id\": \"AutoML_37005cf3-5d47-4c7b-a7ba-07161846456d_8\", \"run_number\": 16, \"metric\": null, \"status\": \"Completed\", \"run_type\": \"azureml.scriptrun\", \"training_percent\": \"100\", \"start_time\": \"2021-12-11T16:17:16.871154Z\", \"end_time\": \"2021-12-11T16:19:08.001761Z\", \"created_time\": \"2021-12-11T16:17:16.871154Z\", \"created_time_dt\": \"2021-12-11T16:17:16.871154Z\", \"duration\": \"0:01:51\", \"iteration\": \"8\", \"goal\": \"AUC_weighted_max\", \"run_name\": \"SparseNormalizer, XGBoostClassifier\", \"run_properties\": \"copy=True, norm='max'\", \"primary_metric\": 0.92304444, \"best_metric\": 0.93276266}, {\"run_id\": \"AutoML_37005cf3-5d47-4c7b-a7ba-07161846456d_9\", \"run_number\": 17, \"metric\": null, \"status\": \"Completed\", \"run_type\": \"azureml.scriptrun\", \"training_percent\": \"100\", \"start_time\": \"2021-12-11T16:23:39.931777Z\", \"end_time\": \"2021-12-11T16:24:18.64911Z\", \"created_time\": \"2021-12-11T16:23:39.931777Z\", \"created_time_dt\": \"2021-12-11T16:23:39.931777Z\", \"duration\": \"0:00:38\", \"iteration\": \"9\", \"goal\": \"AUC_weighted_max\", \"run_name\": \"VotingEnsemble\", \"run_properties\": \"\\n    estimators=[('1', Pipeline(\\n        memory=None,\\n        steps=[('maxabsscaler', MaxAbsScaler(\\n            copy=True\\n        \", \"primary_metric\": 0.93645481, \"best_metric\": 0.93645481}], \"children_metrics\": {\"categories\": [0], \"series\": {\"AUC_weighted\": [{\"categories\": [\"0\", \"1\", \"2\", \"3\", \"4\", \"5\", \"6\", \"7\", \"8\", \"9\"], \"mode\": \"markers\", \"name\": \"AUC_weighted\", \"stepped\": false, \"type\": \"scatter\", \"data\": [0.9241125879246658, 0.9327626585242035, 0.9225928245464614, 0.9231022413101148, 0.9311930153642212, 0.9224956529890337, 0.9293882242060227, 0.9250074341253842, 0.923044437623864, 0.9364548088171482]}, {\"categories\": [\"0\", \"1\", \"2\", \"3\", \"4\", \"5\", \"6\", \"7\", \"8\", \"9\"], \"mode\": \"lines\", \"name\": \"AUC_weighted_max\", \"stepped\": true, \"type\": \"scatter\", \"data\": [0.9241125879246658, 0.9327626585242035, 0.9327626585242035, 0.9327626585242035, 0.9327626585242035, 0.9327626585242035, 0.9327626585242035, 0.9327626585242035, 0.9327626585242035, 0.9364548088171482]}], \"AUC_macro\": [{\"categories\": [\"0\", \"1\", \"2\", \"3\", \"4\", \"5\", \"6\", \"7\", \"8\", \"9\"], \"mode\": \"markers\", \"name\": \"AUC_macro\", \"stepped\": false, \"type\": \"scatter\", \"data\": [0.9241125879246658, 0.9327626585242033, 0.9225928245464614, 0.9231022413101148, 0.9311930153642212, 0.9224956529890335, 0.9293882242060227, 0.9250074341253842, 0.923044437623864, 0.9364548088171482]}, {\"categories\": [\"0\", \"1\", \"2\", \"3\", \"4\", \"5\", \"6\", \"7\", \"8\", \"9\"], \"mode\": \"lines\", \"name\": \"AUC_macro_max\", \"stepped\": true, \"type\": \"scatter\", \"data\": [0.9241125879246658, 0.9327626585242033, 0.9327626585242033, 0.9327626585242033, 0.9327626585242033, 0.9327626585242033, 0.9327626585242033, 0.9327626585242033, 0.9327626585242033, 0.9364548088171482]}], \"recall_score_micro\": [{\"categories\": [\"0\", \"1\", \"2\", \"3\", \"4\", \"5\", \"6\", \"7\", \"8\", \"9\"], \"mode\": \"markers\", \"name\": \"recall_score_micro\", \"stepped\": false, \"type\": \"scatter\", \"data\": [0.8551140413399857, 0.8736576383939179, 0.8453254929912093, 0.8616595390829176, 0.8703848895224517, 0.8475053456878119, 0.8725588025659301, 0.8671002613447374, 0.8594915656925636, 0.8769244476122594]}, {\"categories\": [\"0\", \"1\", \"2\", \"3\", \"4\", \"5\", \"6\", \"7\", \"8\", \"9\"], \"mode\": \"lines\", \"name\": \"recall_score_micro_max\", \"stepped\": true, \"type\": \"scatter\", \"data\": [0.8551140413399857, 0.8736576383939179, 0.8736576383939179, 0.8736576383939179, 0.8736576383939179, 0.8736576383939179, 0.8736576383939179, 0.8736576383939179, 0.8736576383939179, 0.8769244476122594]}], \"recall_score_weighted\": [{\"categories\": [\"0\", \"1\", \"2\", \"3\", \"4\", \"5\", \"6\", \"7\", \"8\", \"9\"], \"mode\": \"markers\", \"name\": \"recall_score_weighted\", \"stepped\": false, \"type\": \"scatter\", \"data\": [0.8551140413399857, 0.8736576383939179, 0.8453254929912093, 0.8616595390829176, 0.8703848895224517, 0.8475053456878119, 0.8725588025659301, 0.8671002613447374, 0.8594915656925636, 0.8769244476122594]}, {\"categories\": [\"0\", \"1\", \"2\", \"3\", \"4\", \"5\", \"6\", \"7\", \"8\", \"9\"], \"mode\": \"lines\", \"name\": \"recall_score_weighted_max\", \"stepped\": true, \"type\": \"scatter\", \"data\": [0.8551140413399857, 0.8736576383939179, 0.8736576383939179, 0.8736576383939179, 0.8736576383939179, 0.8736576383939179, 0.8736576383939179, 0.8736576383939179, 0.8736576383939179, 0.8769244476122594]}], \"weighted_accuracy\": [{\"categories\": [\"0\", \"1\", \"2\", \"3\", \"4\", \"5\", \"6\", \"7\", \"8\", \"9\"], \"mode\": \"markers\", \"name\": \"weighted_accuracy\", \"stepped\": false, \"type\": \"scatter\", \"data\": [0.8591531973255669, 0.8778943530924405, 0.8490822737057611, 0.8669171074943309, 0.8742181730678862, 0.8505130153239069, 0.8766436938530349, 0.8721583230793947, 0.8636852972731635, 0.8816899754714308]}, {\"categories\": [\"0\", \"1\", \"2\", \"3\", \"4\", \"5\", \"6\", \"7\", \"8\", \"9\"], \"mode\": \"lines\", \"name\": \"weighted_accuracy_max\", \"stepped\": true, \"type\": \"scatter\", \"data\": [0.8591531973255669, 0.8778943530924405, 0.8778943530924405, 0.8778943530924405, 0.8778943530924405, 0.8778943530924405, 0.8778943530924405, 0.8778943530924405, 0.8778943530924405, 0.8816899754714308]}], \"average_precision_score_macro\": [{\"categories\": [\"0\", \"1\", \"2\", \"3\", \"4\", \"5\", \"6\", \"7\", \"8\", \"9\"], \"mode\": \"markers\", \"name\": \"average_precision_score_macro\", \"stepped\": false, \"type\": \"scatter\", \"data\": [0.9194731261819105, 0.9296629633960418, 0.9229032599448622, 0.9190707011163995, 0.9308716625506115, 0.91505561617621, 0.9274470904957909, 0.9216015394848334, 0.9158975571864529, 0.9350675420248201]}, {\"categories\": [\"0\", \"1\", \"2\", \"3\", \"4\", \"5\", \"6\", \"7\", \"8\", \"9\"], \"mode\": \"lines\", \"name\": \"average_precision_score_macro_max\", \"stepped\": true, \"type\": \"scatter\", \"data\": [0.9194731261819105, 0.9296629633960418, 0.9296629633960418, 0.9296629633960418, 0.9308716625506115, 0.9308716625506115, 0.9308716625506115, 0.9308716625506115, 0.9308716625506115, 0.9350675420248201]}], \"average_precision_score_weighted\": [{\"categories\": [\"0\", \"1\", \"2\", \"3\", \"4\", \"5\", \"6\", \"7\", \"8\", \"9\"], \"mode\": \"markers\", \"name\": \"average_precision_score_weighted\", \"stepped\": false, \"type\": \"scatter\", \"data\": [0.9200986609233028, 0.9301981088245046, 0.9243111728790894, 0.9200790100796377, 0.9317601048120577, 0.9159021568854259, 0.9282544773332517, 0.9225733684691185, 0.9172153389103004, 0.9359674555088663]}, {\"categories\": [\"0\", \"1\", \"2\", \"3\", \"4\", \"5\", \"6\", \"7\", \"8\", \"9\"], \"mode\": \"lines\", \"name\": \"average_precision_score_weighted_max\", \"stepped\": true, \"type\": \"scatter\", \"data\": [0.9200986609233028, 0.9301981088245046, 0.9301981088245046, 0.9301981088245046, 0.9317601048120577, 0.9317601048120577, 0.9317601048120577, 0.9317601048120577, 0.9317601048120577, 0.9359674555088663]}], \"AUC_micro\": [{\"categories\": [\"0\", \"1\", \"2\", \"3\", \"4\", \"5\", \"6\", \"7\", \"8\", \"9\"], \"mode\": \"markers\", \"name\": \"AUC_micro\", \"stepped\": false, \"type\": \"scatter\", \"data\": [0.9261620391914371, 0.9347438649479521, 0.9220777788615633, 0.9262503421403897, 0.9327292565693636, 0.9245894641659556, 0.931633625176475, 0.9283920316131228, 0.9251083741502797, 0.9379981471288064]}, {\"categories\": [\"0\", \"1\", \"2\", \"3\", \"4\", \"5\", \"6\", \"7\", \"8\", \"9\"], \"mode\": \"lines\", \"name\": \"AUC_micro_max\", \"stepped\": true, \"type\": \"scatter\", \"data\": [0.9261620391914371, 0.9347438649479521, 0.9347438649479521, 0.9347438649479521, 0.9347438649479521, 0.9347438649479521, 0.9347438649479521, 0.9347438649479521, 0.9347438649479521, 0.9379981471288064]}], \"average_precision_score_micro\": [{\"categories\": [\"0\", \"1\", \"2\", \"3\", \"4\", \"5\", \"6\", \"7\", \"8\", \"9\"], \"mode\": \"markers\", \"name\": \"average_precision_score_micro\", \"stepped\": false, \"type\": \"scatter\", \"data\": [0.920682487370882, 0.9300266485868223, 0.9222696576572439, 0.9216347137803929, 0.9309264138886182, 0.9190043437542125, 0.9292600648040997, 0.9242577611177512, 0.9182612663091814, 0.9360748680089686]}, {\"categories\": [\"0\", \"1\", \"2\", \"3\", \"4\", \"5\", \"6\", \"7\", \"8\", \"9\"], \"mode\": \"lines\", \"name\": \"average_precision_score_micro_max\", \"stepped\": true, \"type\": \"scatter\", \"data\": [0.920682487370882, 0.9300266485868223, 0.9300266485868223, 0.9300266485868223, 0.9309264138886182, 0.9309264138886182, 0.9309264138886182, 0.9309264138886182, 0.9309264138886182, 0.9360748680089686]}], \"log_loss\": [{\"categories\": [\"0\", \"1\", \"2\", \"3\", \"4\", \"5\", \"6\", \"7\", \"8\", \"9\"], \"mode\": \"markers\", \"name\": \"log_loss\", \"stepped\": false, \"type\": \"scatter\", \"data\": [0.4026289566104495, 0.32427804772626817, 0.355896132821952, 0.3853102219867938, 0.35783341617382136, 0.420262817961966, 0.33787843549195407, 0.4307300877570309, 0.42231855729943835, 0.32830501153305675]}, {\"categories\": [\"0\", \"1\", \"2\", \"3\", \"4\", \"5\", \"6\", \"7\", \"8\", \"9\"], \"mode\": \"lines\", \"name\": \"log_loss_min\", \"stepped\": true, \"type\": \"scatter\", \"data\": [0.4026289566104495, 0.32427804772626817, 0.32427804772626817, 0.32427804772626817, 0.32427804772626817, 0.32427804772626817, 0.32427804772626817, 0.32427804772626817, 0.32427804772626817, 0.32427804772626817]}], \"precision_score_macro\": [{\"categories\": [\"0\", \"1\", \"2\", \"3\", \"4\", \"5\", \"6\", \"7\", \"8\", \"9\"], \"mode\": \"markers\", \"name\": \"precision_score_macro\", \"stepped\": false, \"type\": \"scatter\", \"data\": [0.8551594017972792, 0.8749250260168713, 0.8462233871818576, 0.86477506463732, 0.8713858820303955, 0.8459395850709457, 0.8749085440735243, 0.8686600884209674, 0.8603827922082117, 0.8790867329677402]}, {\"categories\": [\"0\", \"1\", \"2\", \"3\", \"4\", \"5\", \"6\", \"7\", \"8\", \"9\"], \"mode\": \"lines\", \"name\": \"precision_score_macro_max\", \"stepped\": true, \"type\": \"scatter\", \"data\": [0.8551594017972792, 0.8749250260168713, 0.8749250260168713, 0.8749250260168713, 0.8749250260168713, 0.8749250260168713, 0.8749250260168713, 0.8749250260168713, 0.8749250260168713, 0.8790867329677402]}], \"balanced_accuracy\": [{\"categories\": [\"0\", \"1\", \"2\", \"3\", \"4\", \"5\", \"6\", \"7\", \"8\", \"9\"], \"mode\": \"markers\", \"name\": \"balanced_accuracy\", \"stepped\": false, \"type\": \"scatter\", \"data\": [0.8508428062218506, 0.8691792266760701, 0.8413401853073583, 0.8560716030536779, 0.866324521247518, 0.8443209356052739, 0.8681853201267753, 0.8617222574667032, 0.8550742159904404, 0.8718757605383226]}, {\"categories\": [\"0\", \"1\", \"2\", \"3\", \"4\", \"5\", \"6\", \"7\", \"8\", \"9\"], \"mode\": \"lines\", \"name\": \"balanced_accuracy_max\", \"stepped\": true, \"type\": \"scatter\", \"data\": [0.8508428062218506, 0.8691792266760701, 0.8691792266760701, 0.8691792266760701, 0.8691792266760701, 0.8691792266760701, 0.8691792266760701, 0.8691792266760701, 0.8691792266760701, 0.8718757605383226]}], \"f1_score_micro\": [{\"categories\": [\"0\", \"1\", \"2\", \"3\", \"4\", \"5\", \"6\", \"7\", \"8\", \"9\"], \"mode\": \"markers\", \"name\": \"f1_score_micro\", \"stepped\": false, \"type\": \"scatter\", \"data\": [0.8551140413399857, 0.8736576383939179, 0.8453254929912093, 0.8616595390829176, 0.8703848895224517, 0.8475053456878119, 0.8725588025659301, 0.8671002613447376, 0.8594915656925636, 0.8769244476122594]}, {\"categories\": [\"0\", \"1\", \"2\", \"3\", \"4\", \"5\", \"6\", \"7\", \"8\", \"9\"], \"mode\": \"lines\", \"name\": \"f1_score_micro_max\", \"stepped\": true, \"type\": \"scatter\", \"data\": [0.8551140413399857, 0.8736576383939179, 0.8736576383939179, 0.8736576383939179, 0.8736576383939179, 0.8736576383939179, 0.8736576383939179, 0.8736576383939179, 0.8736576383939179, 0.8769244476122594]}], \"recall_score_macro\": [{\"categories\": [\"0\", \"1\", \"2\", \"3\", \"4\", \"5\", \"6\", \"7\", \"8\", \"9\"], \"mode\": \"markers\", \"name\": \"recall_score_macro\", \"stepped\": false, \"type\": \"scatter\", \"data\": [0.8508428062218506, 0.8691792266760701, 0.8413401853073583, 0.8560716030536779, 0.866324521247518, 0.8443209356052739, 0.8681853201267753, 0.8617222574667032, 0.8550742159904404, 0.8718757605383226]}, {\"categories\": [\"0\", \"1\", \"2\", \"3\", \"4\", \"5\", \"6\", \"7\", \"8\", \"9\"], \"mode\": \"lines\", \"name\": \"recall_score_macro_max\", \"stepped\": true, \"type\": \"scatter\", \"data\": [0.8508428062218506, 0.8691792266760701, 0.8691792266760701, 0.8691792266760701, 0.8691792266760701, 0.8691792266760701, 0.8691792266760701, 0.8691792266760701, 0.8691792266760701, 0.8718757605383226]}], \"f1_score_macro\": [{\"categories\": [\"0\", \"1\", \"2\", \"3\", \"4\", \"5\", \"6\", \"7\", \"8\", \"9\"], \"mode\": \"markers\", \"name\": \"f1_score_macro\", \"stepped\": false, \"type\": \"scatter\", \"data\": [0.8522429866950508, 0.8710837116193366, 0.8423368141255143, 0.8583179523599507, 0.8677524599325747, 0.8447007620749888, 0.86995810459029, 0.8639289289495207, 0.8563933194447044, 0.8742785808543753]}, {\"categories\": [\"0\", \"1\", \"2\", \"3\", \"4\", \"5\", \"6\", \"7\", \"8\", \"9\"], \"mode\": \"lines\", \"name\": \"f1_score_macro_max\", \"stepped\": true, \"type\": \"scatter\", \"data\": [0.8522429866950508, 0.8710837116193366, 0.8710837116193366, 0.8710837116193366, 0.8710837116193366, 0.8710837116193366, 0.8710837116193366, 0.8710837116193366, 0.8710837116193366, 0.8742785808543753]}], \"f1_score_weighted\": [{\"categories\": [\"0\", \"1\", \"2\", \"3\", \"4\", \"5\", \"6\", \"7\", \"8\", \"9\"], \"mode\": \"markers\", \"name\": \"f1_score_weighted\", \"stepped\": false, \"type\": \"scatter\", \"data\": [0.8547765970717224, 0.8732661984129118, 0.8448581418107732, 0.8609570444722049, 0.8700105092937802, 0.8473345945344988, 0.872140949514782, 0.8665426974909337, 0.8589783926543989, 0.8764605829418504]}, {\"categories\": [\"0\", \"1\", \"2\", \"3\", \"4\", \"5\", \"6\", \"7\", \"8\", \"9\"], \"mode\": \"lines\", \"name\": \"f1_score_weighted_max\", \"stepped\": true, \"type\": \"scatter\", \"data\": [0.8547765970717224, 0.8732661984129118, 0.8732661984129118, 0.8732661984129118, 0.8732661984129118, 0.8732661984129118, 0.8732661984129118, 0.8732661984129118, 0.8732661984129118, 0.8764605829418504]}], \"accuracy\": [{\"categories\": [\"0\", \"1\", \"2\", \"3\", \"4\", \"5\", \"6\", \"7\", \"8\", \"9\"], \"mode\": \"markers\", \"name\": \"accuracy\", \"stepped\": false, \"type\": \"scatter\", \"data\": [0.8551140413399857, 0.8736576383939179, 0.8453254929912093, 0.8616595390829176, 0.8703848895224517, 0.8475053456878119, 0.8725588025659301, 0.8671002613447374, 0.8594915656925636, 0.8769244476122594]}, {\"categories\": [\"0\", \"1\", \"2\", \"3\", \"4\", \"5\", \"6\", \"7\", \"8\", \"9\"], \"mode\": \"lines\", \"name\": \"accuracy_max\", \"stepped\": true, \"type\": \"scatter\", \"data\": [0.8551140413399857, 0.8736576383939179, 0.8736576383939179, 0.8736576383939179, 0.8736576383939179, 0.8736576383939179, 0.8736576383939179, 0.8736576383939179, 0.8736576383939179, 0.8769244476122594]}], \"precision_score_weighted\": [{\"categories\": [\"0\", \"1\", \"2\", \"3\", \"4\", \"5\", \"6\", \"7\", \"8\", \"9\"], \"mode\": \"markers\", \"name\": \"precision_score_weighted\", \"stepped\": false, \"type\": \"scatter\", \"data\": [0.8559144663925494, 0.8747257756806818, 0.8472402411739022, 0.8643295872214901, 0.8717771539320053, 0.8480181865312932, 0.8747647421606427, 0.868405869247607, 0.8610966348434055, 0.8782991907814026]}, {\"categories\": [\"0\", \"1\", \"2\", \"3\", \"4\", \"5\", \"6\", \"7\", \"8\", \"9\"], \"mode\": \"lines\", \"name\": \"precision_score_weighted_max\", \"stepped\": true, \"type\": \"scatter\", \"data\": [0.8559144663925494, 0.8747257756806818, 0.8747257756806818, 0.8747257756806818, 0.8747257756806818, 0.8747257756806818, 0.8747647421606427, 0.8747647421606427, 0.8747647421606427, 0.8782991907814026]}], \"matthews_correlation\": [{\"categories\": [\"0\", \"1\", \"2\", \"3\", \"4\", \"5\", \"6\", \"7\", \"8\", \"9\"], \"mode\": \"markers\", \"name\": \"matthews_correlation\", \"stepped\": false, \"type\": \"scatter\", \"data\": [0.7059772760507491, 0.7440496501522865, 0.6875327524015842, 0.7207556682838017, 0.7376727223892566, 0.69025714947226, 0.7430142682019747, 0.7303193701516684, 0.7154272859194364, 0.7508995054954362]}, {\"categories\": [\"0\", \"1\", \"2\", \"3\", \"4\", \"5\", \"6\", \"7\", \"8\", \"9\"], \"mode\": \"lines\", \"name\": \"matthews_correlation_max\", \"stepped\": true, \"type\": \"scatter\", \"data\": [0.7059772760507491, 0.7440496501522865, 0.7440496501522865, 0.7440496501522865, 0.7440496501522865, 0.7440496501522865, 0.7440496501522865, 0.7440496501522865, 0.7440496501522865, 0.7508995054954362]}], \"precision_score_micro\": [{\"categories\": [\"0\", \"1\", \"2\", \"3\", \"4\", \"5\", \"6\", \"7\", \"8\", \"9\"], \"mode\": \"markers\", \"name\": \"precision_score_micro\", \"stepped\": false, \"type\": \"scatter\", \"data\": [0.8551140413399857, 0.8736576383939179, 0.8453254929912093, 0.8616595390829176, 0.8703848895224517, 0.8475053456878119, 0.8725588025659301, 0.8671002613447374, 0.8594915656925636, 0.8769244476122594]}, {\"categories\": [\"0\", \"1\", \"2\", \"3\", \"4\", \"5\", \"6\", \"7\", \"8\", \"9\"], \"mode\": \"lines\", \"name\": \"precision_score_micro_max\", \"stepped\": true, \"type\": \"scatter\", \"data\": [0.8551140413399857, 0.8736576383939179, 0.8736576383939179, 0.8736576383939179, 0.8736576383939179, 0.8736576383939179, 0.8736576383939179, 0.8736576383939179, 0.8736576383939179, 0.8769244476122594]}], \"norm_macro_recall\": [{\"categories\": [\"0\", \"1\", \"2\", \"3\", \"4\", \"5\", \"6\", \"7\", \"8\", \"9\"], \"mode\": \"markers\", \"name\": \"norm_macro_recall\", \"stepped\": false, \"type\": \"scatter\", \"data\": [0.7016856124437015, 0.7383584533521401, 0.6826803706147169, 0.712143206107356, 0.732649042495036, 0.6886418712105478, 0.7363706402535505, 0.7234445149334066, 0.7101484319808808, 0.7437515210766452]}, {\"categories\": [\"0\", \"1\", \"2\", \"3\", \"4\", \"5\", \"6\", \"7\", \"8\", \"9\"], \"mode\": \"lines\", \"name\": \"norm_macro_recall_max\", \"stepped\": true, \"type\": \"scatter\", \"data\": [0.7016856124437015, 0.7383584533521401, 0.7383584533521401, 0.7383584533521401, 0.7383584533521401, 0.7383584533521401, 0.7383584533521401, 0.7383584533521401, 0.7383584533521401, 0.7437515210766452]}]}, \"metricName\": null, \"primaryMetricName\": \"AUC_weighted\", \"showLegend\": false}, \"run_metrics\": [{\"name\": \"experiment_status\", \"run_id\": \"AutoML_37005cf3-5d47-4c7b-a7ba-07161846456d\", \"categories\": [0, 1, 2, 3, 4, 5, 6, 7, 8, 9, 10, 11], \"series\": [{\"data\": [\"DatasetEvaluation\", \"FeaturesGeneration\", \"DatasetFeaturization\", \"DatasetFeaturizationCompleted\", \"DatasetCrossValidationSplit\", \"ModelSelection\", \"BestRunExplainModel\", \"ModelExplanationDataSetSetup\", \"PickSurrogateModel\", \"EngineeredFeatureExplanations\", \"EngineeredFeatureExplanations\", \"RawFeaturesExplanations\"]}]}, {\"name\": \"experiment_status_description\", \"run_id\": \"AutoML_37005cf3-5d47-4c7b-a7ba-07161846456d\", \"categories\": [0, 1, 2, 3, 4, 5, 6, 7, 8, 9, 10, 11], \"series\": [{\"data\": [\"Gathering dataset statistics.\", \"Generating features for the dataset.\", \"Beginning to fit featurizers and featurize the dataset.\", \"Completed fit featurizers and featurizing the dataset.\", \"Generating individually featurized CV splits.\", \"Beginning model selection.\", \"Best run model explanations started\", \"Model explanations data setup completed\", \"Choosing LightGBM as the surrogate model for explanations\", \"Computation of engineered features started\", \"Computation of engineered features completed\", \"Computation of raw features started\"]}]}, {\"name\": \"norm_macro_recall\", \"run_id\": \"AutoML_37005cf3-5d47-4c7b-a7ba-07161846456d\", \"categories\": [0], \"series\": [{\"data\": [0.7437515210766452]}]}, {\"name\": \"accuracy\", \"run_id\": \"AutoML_37005cf3-5d47-4c7b-a7ba-07161846456d\", \"categories\": [0], \"series\": [{\"data\": [0.8769244476122594]}]}, {\"name\": \"precision_score_macro\", \"run_id\": \"AutoML_37005cf3-5d47-4c7b-a7ba-07161846456d\", \"categories\": [0], \"series\": [{\"data\": [0.8790867329677402]}]}, {\"name\": \"AUC_macro\", \"run_id\": \"AutoML_37005cf3-5d47-4c7b-a7ba-07161846456d\", \"categories\": [0], \"series\": [{\"data\": [0.9364548088171482]}]}, {\"name\": \"balanced_accuracy\", \"run_id\": \"AutoML_37005cf3-5d47-4c7b-a7ba-07161846456d\", \"categories\": [0], \"series\": [{\"data\": [0.8718757605383226]}]}, {\"name\": \"recall_score_weighted\", \"run_id\": \"AutoML_37005cf3-5d47-4c7b-a7ba-07161846456d\", \"categories\": [0], \"series\": [{\"data\": [0.8769244476122594]}]}, {\"name\": \"f1_score_macro\", \"run_id\": \"AutoML_37005cf3-5d47-4c7b-a7ba-07161846456d\", \"categories\": [0], \"series\": [{\"data\": [0.8742785808543753]}]}, {\"name\": \"weighted_accuracy\", \"run_id\": \"AutoML_37005cf3-5d47-4c7b-a7ba-07161846456d\", \"categories\": [0], \"series\": [{\"data\": [0.8816899754714308]}]}, {\"name\": \"f1_score_weighted\", \"run_id\": \"AutoML_37005cf3-5d47-4c7b-a7ba-07161846456d\", \"categories\": [0], \"series\": [{\"data\": [0.8764605829418504]}]}, {\"name\": \"AUC_micro\", \"run_id\": \"AutoML_37005cf3-5d47-4c7b-a7ba-07161846456d\", \"categories\": [0], \"series\": [{\"data\": [0.9379981471288064]}]}, {\"name\": \"log_loss\", \"run_id\": \"AutoML_37005cf3-5d47-4c7b-a7ba-07161846456d\", \"categories\": [0], \"series\": [{\"data\": [0.32830501153305675]}]}, {\"name\": \"matthews_correlation\", \"run_id\": \"AutoML_37005cf3-5d47-4c7b-a7ba-07161846456d\", \"categories\": [0], \"series\": [{\"data\": [0.7508995054954362]}]}, {\"name\": \"precision_score_weighted\", \"run_id\": \"AutoML_37005cf3-5d47-4c7b-a7ba-07161846456d\", \"categories\": [0], \"series\": [{\"data\": [0.8782991907814026]}]}, {\"name\": \"precision_score_micro\", \"run_id\": \"AutoML_37005cf3-5d47-4c7b-a7ba-07161846456d\", \"categories\": [0], \"series\": [{\"data\": [0.8769244476122594]}]}, {\"name\": \"recall_score_macro\", \"run_id\": \"AutoML_37005cf3-5d47-4c7b-a7ba-07161846456d\", \"categories\": [0], \"series\": [{\"data\": [0.8718757605383226]}]}, {\"name\": \"average_precision_score_micro\", \"run_id\": \"AutoML_37005cf3-5d47-4c7b-a7ba-07161846456d\", \"categories\": [0], \"series\": [{\"data\": [0.9360748680089686]}]}, {\"name\": \"f1_score_micro\", \"run_id\": \"AutoML_37005cf3-5d47-4c7b-a7ba-07161846456d\", \"categories\": [0], \"series\": [{\"data\": [0.8769244476122594]}]}, {\"name\": \"average_precision_score_weighted\", \"run_id\": \"AutoML_37005cf3-5d47-4c7b-a7ba-07161846456d\", \"categories\": [0], \"series\": [{\"data\": [0.9359674555088663]}]}, {\"name\": \"average_precision_score_macro\", \"run_id\": \"AutoML_37005cf3-5d47-4c7b-a7ba-07161846456d\", \"categories\": [0], \"series\": [{\"data\": [0.9350675420248201]}]}, {\"name\": \"AUC_weighted\", \"run_id\": \"AutoML_37005cf3-5d47-4c7b-a7ba-07161846456d\", \"categories\": [0], \"series\": [{\"data\": [0.9364548088171482]}]}, {\"name\": \"recall_score_micro\", \"run_id\": \"AutoML_37005cf3-5d47-4c7b-a7ba-07161846456d\", \"categories\": [0], \"series\": [{\"data\": [0.8769244476122594]}]}], \"run_logs\": \"\\nRun is completed.\", \"graph\": {}, \"widget_settings\": {\"childWidgetDisplay\": \"popup\", \"send_telemetry\": false, \"log_level\": \"INFO\", \"sdk_version\": \"1.36.0\"}, \"loading\": false}"
          },
          "metadata": {},
          "output_type": "display_data"
        }
      ],
      "source": [
        "RunDetails(remote_run).show()"
      ]
    },
    {
      "cell_type": "markdown",
      "metadata": {},
      "source": [
        "OPTIONAL: Write about the different models trained and their performance. Why do you think some models did better than others?"
      ]
    },
    {
      "cell_type": "markdown",
      "metadata": {},
      "source": [
        "## Best Model\n",
        "\n",
        "TODO: In the cell below, get the best model from the automl experiments and display all the properties of the model.\n",
        "\n"
      ]
    },
    {
      "cell_type": "code",
      "execution_count": 12,
      "metadata": {
        "gather": {
          "logged": 1639240120311
        }
      },
      "outputs": [
        {
          "name": "stdout",
          "output_type": "stream",
          "text": [
            "True\n"
          ]
        }
      ],
      "source": [
        "# Retrieve and get insights from your best automl model.\n",
        "\n",
        "best_run_AutoML, fitted_model_AutoML = remote_run.get_output()\n",
        "\n",
        "print(hasattr(fitted_model_AutoML, 'steps'))"
      ]
    },
    {
      "cell_type": "code",
      "execution_count": 13,
      "metadata": {
        "gather": {
          "logged": 1639240142389
        },
        "jupyter": {
          "outputs_hidden": false,
          "source_hidden": false
        },
        "nteract": {
          "transient": {
            "deleting": false
          }
        }
      },
      "outputs": [
        {
          "name": "stdout",
          "output_type": "stream",
          "text": [
            "datatransformer\n",
            "{'enable_dnn': False,\n",
            " 'enable_feature_sweeping': False,\n",
            " 'feature_sweeping_config': {},\n",
            " 'feature_sweeping_timeout': 86400,\n",
            " 'featurization_config': None,\n",
            " 'force_text_dnn': False,\n",
            " 'is_cross_validation': True,\n",
            " 'is_onnx_compatible': True,\n",
            " 'observer': None,\n",
            " 'task': 'classification',\n",
            " 'working_dir': '/mnt/batch/tasks/shared/LS_root/mounts/clusters/notebook165560/code/Users/odl_user_165560'}\n",
            "\n",
            "prefittedsoftvotingclassifier\n",
            "{'estimators': ['1', '4', '6', '7', '0', '2'],\n",
            " 'weights': [0.3, 0.2, 0.2, 0.1, 0.1, 0.1]}\n",
            "\n",
            "1 - maxabsscaler\n",
            "{'copy': True}\n",
            "\n",
            "1 - xgboostclassifier\n",
            "{'base_score': 0.5,\n",
            " 'booster': 'gbtree',\n",
            " 'colsample_bylevel': 1,\n",
            " 'colsample_bynode': 1,\n",
            " 'colsample_bytree': 1,\n",
            " 'gamma': 0,\n",
            " 'learning_rate': 0.1,\n",
            " 'max_delta_step': 0,\n",
            " 'max_depth': 3,\n",
            " 'min_child_weight': 1,\n",
            " 'missing': nan,\n",
            " 'n_estimators': 100,\n",
            " 'n_jobs': -1,\n",
            " 'nthread': None,\n",
            " 'objective': 'binary:logistic',\n",
            " 'random_state': 0,\n",
            " 'reg_alpha': 0,\n",
            " 'reg_lambda': 1,\n",
            " 'scale_pos_weight': 1,\n",
            " 'seed': None,\n",
            " 'silent': None,\n",
            " 'subsample': 1,\n",
            " 'tree_method': 'auto',\n",
            " 'verbose': -10,\n",
            " 'verbosity': 0}\n",
            "\n",
            "4 - standardscalerwrapper\n",
            "{'class_name': 'StandardScaler',\n",
            " 'copy': True,\n",
            " 'module_name': 'sklearn.preprocessing._data',\n",
            " 'with_mean': False,\n",
            " 'with_std': True}\n",
            "\n",
            "4 - lightgbmclassifier\n",
            "{'boosting_type': 'gbdt',\n",
            " 'colsample_bytree': 0.4955555555555555,\n",
            " 'learning_rate': 0.09473736842105263,\n",
            " 'max_bin': 140,\n",
            " 'max_depth': 6,\n",
            " 'min_child_weight': 0,\n",
            " 'min_data_in_leaf': 0.08276034482758622,\n",
            " 'min_split_gain': 0.10526315789473684,\n",
            " 'n_estimators': 25,\n",
            " 'n_jobs': -1,\n",
            " 'num_leaves': 164,\n",
            " 'problem_info': ProblemInfo(\n",
            "    gpu_training_param_dict={'processing_unit_type': 'cpu'}\n",
            "),\n",
            " 'random_state': None,\n",
            " 'reg_alpha': 0.3157894736842105,\n",
            " 'reg_lambda': 0.3157894736842105,\n",
            " 'subsample': 0.5942105263157895}\n",
            "\n",
            "6 - sparsenormalizer\n",
            "{'copy': True, 'norm': 'l2'}\n",
            "\n",
            "6 - randomforestclassifier\n",
            "{'bootstrap': True,\n",
            " 'ccp_alpha': 0.0,\n",
            " 'class_weight': 'balanced',\n",
            " 'criterion': 'gini',\n",
            " 'max_depth': None,\n",
            " 'max_features': 'sqrt',\n",
            " 'max_leaf_nodes': None,\n",
            " 'max_samples': None,\n",
            " 'min_impurity_decrease': 0.0,\n",
            " 'min_impurity_split': None,\n",
            " 'min_samples_leaf': 0.01,\n",
            " 'min_samples_split': 0.01,\n",
            " 'min_weight_fraction_leaf': 0.0,\n",
            " 'n_estimators': 100,\n",
            " 'n_jobs': -1,\n",
            " 'oob_score': True,\n",
            " 'random_state': None,\n",
            " 'verbose': 0,\n",
            " 'warm_start': False}\n",
            "\n",
            "7 - standardscalerwrapper\n",
            "{'class_name': 'StandardScaler',\n",
            " 'copy': True,\n",
            " 'module_name': 'sklearn.preprocessing._data',\n",
            " 'with_mean': False,\n",
            " 'with_std': False}\n",
            "\n",
            "7 - xgboostclassifier\n",
            "{'base_score': 0.5,\n",
            " 'booster': 'gbtree',\n",
            " 'colsample_bylevel': 1,\n",
            " 'colsample_bynode': 1,\n",
            " 'colsample_bytree': 0.5,\n",
            " 'eta': 0.3,\n",
            " 'gamma': 0,\n",
            " 'learning_rate': 0.1,\n",
            " 'max_delta_step': 0,\n",
            " 'max_depth': 10,\n",
            " 'max_leaves': 255,\n",
            " 'min_child_weight': 1,\n",
            " 'missing': nan,\n",
            " 'n_estimators': 10,\n",
            " 'n_jobs': -1,\n",
            " 'nthread': None,\n",
            " 'objective': 'reg:logistic',\n",
            " 'random_state': 0,\n",
            " 'reg_alpha': 0,\n",
            " 'reg_lambda': 0.10416666666666667,\n",
            " 'scale_pos_weight': 1,\n",
            " 'seed': None,\n",
            " 'silent': None,\n",
            " 'subsample': 0.7,\n",
            " 'tree_method': 'auto',\n",
            " 'verbose': -10,\n",
            " 'verbosity': 0}\n",
            "\n",
            "0 - maxabsscaler\n",
            "{'copy': True}\n",
            "\n",
            "0 - lightgbmclassifier\n",
            "{'min_data_in_leaf': 20,\n",
            " 'n_jobs': -1,\n",
            " 'problem_info': ProblemInfo(\n",
            "    gpu_training_param_dict={'processing_unit_type': 'cpu'}\n",
            "),\n",
            " 'random_state': None}\n",
            "\n",
            "2 - maxabsscaler\n",
            "{'copy': True}\n",
            "\n",
            "2 - extratreesclassifier\n",
            "{'bootstrap': False,\n",
            " 'ccp_alpha': 0.0,\n",
            " 'class_weight': None,\n",
            " 'criterion': 'gini',\n",
            " 'max_depth': None,\n",
            " 'max_features': 0.7,\n",
            " 'max_leaf_nodes': None,\n",
            " 'max_samples': None,\n",
            " 'min_impurity_decrease': 0.0,\n",
            " 'min_impurity_split': None,\n",
            " 'min_samples_leaf': 0.035789473684210524,\n",
            " 'min_samples_split': 0.01,\n",
            " 'min_weight_fraction_leaf': 0.0,\n",
            " 'n_estimators': 10,\n",
            " 'n_jobs': -1,\n",
            " 'oob_score': False,\n",
            " 'random_state': None,\n",
            " 'verbose': 0,\n",
            " 'warm_start': False}\n",
            "\n"
          ]
        }
      ],
      "source": [
        "# Function to list the hyperparameters \n",
        "\n",
        "def print_model(model, prefix=\"\"):\n",
        "    for step in model.steps:\n",
        "        print(prefix + step[0])\n",
        "        \n",
        "        if hasattr(step[1], 'estimators') and hasattr(step[1], 'weights'):\n",
        "            pprint({'estimators' : list(e[0] for e in step[1].estimators), 'weights' : step[1].weights})\n",
        "            print()\n",
        "\n",
        "            for estimator in step[1].estimators:\n",
        "                print_model(estimator[1], estimator[0] + ' - ')\n",
        "        \n",
        "        else:\n",
        "            pprint(step[1].get_params())\n",
        "            print()\n",
        "        \n",
        "print_model(fitted_model_AutoML)"
      ]
    },
    {
      "cell_type": "code",
      "execution_count": 14,
      "metadata": {
        "gather": {
          "logged": 1639240150126
        }
      },
      "outputs": [
        {
          "name": "stdout",
          "output_type": "stream",
          "text": [
            "\n",
            "********************************************************************************************************************\n",
            "DATA GUARDRAILS: \n",
            "\n",
            "TYPE:         Class balancing detection\n",
            "STATUS:       PASSED\n",
            "DESCRIPTION:  Your inputs were analyzed, and all classes are balanced in your training data.\n",
            "              Learn more about imbalanced data: https://aka.ms/AutomatedMLImbalancedData\n",
            "\n",
            "********************************************************************************************************************\n",
            "\n",
            "TYPE:         Missing feature values imputation\n",
            "STATUS:       PASSED\n",
            "DESCRIPTION:  No feature missing values were detected in the training data.\n",
            "              Learn more about missing value imputation: https://aka.ms/AutomatedMLFeaturization\n",
            "\n",
            "********************************************************************************************************************\n",
            "\n",
            "TYPE:         High cardinality feature detection\n",
            "STATUS:       PASSED\n",
            "DESCRIPTION:  Your inputs were analyzed, and no high cardinality features were detected.\n",
            "              Learn more about high cardinality feature handling: https://aka.ms/AutomatedMLFeaturization\n",
            "\n",
            "********************************************************************************************************************\n",
            "{'schema_type': 'fault_verifier', 'schema_version': '1.0.0', 'faults': [{'type': '_class_balancing', 'result': 'passed', 'parameters': [], 'friendly_type': 'Class balancing detection', 'friendly_result': 'Your inputs were analyzed, and all classes are balanced in your training data.', 'friendly_parameters': [], 'friendly_learn_more': 'Learn more about imbalanced data: https://aka.ms/AutomatedMLImbalancedData', 'friendly_parameter_preface': \"Imbalanced data can lead to a falsely perceived positive effect of a model's accuracy because the input data has bias towards one class.\"}, {'type': '_missing_value', 'result': 'passed', 'parameters': [], 'friendly_type': 'Missing feature values imputation', 'friendly_result': 'No feature missing values were detected in the training data.', 'friendly_parameters': [], 'friendly_learn_more': 'Learn more about missing value imputation: https://aka.ms/AutomatedMLFeaturization', 'friendly_parameter_preface': ''}, {'type': '_detect_high_cardinal_feature', 'result': 'passed', 'parameters': [], 'friendly_type': 'High cardinality feature detection', 'friendly_result': 'Your inputs were analyzed, and no high cardinality features were detected.', 'friendly_parameters': [], 'friendly_learn_more': 'Learn more about high cardinality feature handling: https://aka.ms/AutomatedMLFeaturization', 'friendly_parameter_preface': 'High cardinality features refer to columns that contain a large percentage of unique values.'}]}\n"
          ]
        }
      ],
      "source": [
        "# Get information from guardrails.\n",
        "\n",
        "print(remote_run.get_guardrails())"
      ]
    },
    {
      "cell_type": "code",
      "execution_count": 15,
      "metadata": {
        "gather": {
          "logged": 1639240157838
        },
        "jupyter": {
          "outputs_hidden": false,
          "source_hidden": false
        },
        "nteract": {
          "transient": {
            "deleting": false
          }
        }
      },
      "outputs": [
        {
          "data": {
            "text/plain": [
              "['AutoML.model']"
            ]
          },
          "execution_count": 15,
          "metadata": {},
          "output_type": "execute_result"
        }
      ],
      "source": [
        "# Save the best model by AutoML\n",
        "\n",
        "joblib.dump(fitted_model_AutoML, 'AutoML.model')"
      ]
    },
    {
      "cell_type": "markdown",
      "metadata": {},
      "source": [
        "## Model Deployment\n",
        "\n",
        "Remember you have to deploy only one of the two models you trained but you still need to register both the models. Perform the steps in the rest of this notebook only if you wish to deploy this model.\n",
        "\n",
        "TODO: In the cell below, register the model, create an inference config and deploy the model as a web service."
      ]
    },
    {
      "cell_type": "code",
      "execution_count": 16,
      "metadata": {
        "gather": {
          "logged": 1639240181396
        },
        "jupyter": {
          "outputs_hidden": false,
          "source_hidden": false
        },
        "nteract": {
          "transient": {
            "deleting": false
          }
        }
      },
      "outputs": [
        {
          "name": "stdout",
          "output_type": "stream",
          "text": [
            "Registering model my-udacityproj3-automlmodel\n",
            "Name: my-udacityproj3-automlmodel\n",
            "Version: 1\n"
          ]
        }
      ],
      "source": [
        "\n",
        "df_y = data['HeartDisease']\n",
        "df_x = data.drop('HeartDisease', axis=1)\n",
        "\n",
        "model = Model.register(workspace=ws,\n",
        "                       model_name='my-udacityproj3-automlmodel',                # Name of the registered model in your workspace.\n",
        "                       model_path='./AutoML.model',  # Local file to upload and register as a model.\n",
        "                       model_framework=Model.Framework.CUSTOM,  # Framework used to create the model.\n",
        "                       #sample_input_dataset=df_x,\n",
        "                       #sample_output_dataset=df_y,\n",
        "                       resource_configuration=ResourceConfiguration(cpu=1, memory_in_gb=1.0),\n",
        "                       description='AutoML model for heart disease prediction.',\n",
        "                       tags={'area': 'heartdisease', 'type': 'classification'})\n",
        "\n",
        "print('Name:', model.name)\n",
        "print('Version:', model.version)"
      ]
    },
    {
      "cell_type": "markdown",
      "metadata": {
        "collapsed": true,
        "gather": {
          "logged": 1598431657736
        },
        "jupyter": {
          "outputs_hidden": false,
          "source_hidden": false
        },
        "nteract": {
          "transient": {
            "deleting": false
          }
        }
      },
      "source": [
        "TODO: In the cell below, send a request to the web service you deployed to test it."
      ]
    },
    {
      "cell_type": "code",
      "execution_count": 17,
      "metadata": {
        "gather": {
          "logged": 1639240188720
        }
      },
      "outputs": [],
      "source": [
        "# Create environment with its dependencies.\n",
        "\n",
        "environment = Environment('my-AutoML-environment')\n",
        "environment.python.conda_dependencies = CondaDependencies.create(pip_packages=[\n",
        "    'azureml-defaults',\n",
        "    'azureml-automl-core',\n",
        "    'azureml-automl-runtime',\n",
        "    'inference-schema[numpy-support]',\n",
        "    'joblib',\n",
        "    'numpy',\n",
        "    'pandas',\n",
        "    'scikit-learn',\n",
        "    'xgboost',\n",
        "    'packaging'\n",
        "])"
      ]
    },
    {
      "cell_type": "code",
      "execution_count": 18,
      "metadata": {
        "gather": {
          "logged": 1639241352728
        },
        "jupyter": {
          "outputs_hidden": false,
          "source_hidden": false
        },
        "nteract": {
          "transient": {
            "deleting": false
          }
        }
      },
      "outputs": [
        {
          "name": "stdout",
          "output_type": "stream",
          "text": [
            "Tips: You can try get_logs(): https://aka.ms/debugimage#dockerlog or local deployment: https://aka.ms/debugimage#debug-locally to debug if deployment takes longer than 10 minutes.\n",
            "Running\n",
            "2021-12-11 16:30:02+00:00 Creating Container Registry if not exists..\n",
            "2021-12-11 16:40:02+00:00 Registering the environment..\n",
            "2021-12-11 16:40:04+00:00 Building image..\n",
            "2021-12-11 16:45:18+00:00 Generating deployment configuration.\n",
            "2021-12-11 16:45:19+00:00 Submitting deployment to compute..\n",
            "2021-12-11 16:45:23+00:00 Checking the status of deployment my-udacityproj3-service..\n",
            "2021-12-11 16:48:36+00:00 Checking the status of inference endpoint my-udacityproj3-service.\n",
            "Succeeded\n",
            "ACI service creation operation finished, operation \"Succeeded\"\n"
          ]
        }
      ],
      "source": [
        "# Create the webservice\n",
        "\n",
        "inference_config = InferenceConfig(entry_script='./score_3.py', environment=environment)\n",
        "aci_config = AciWebservice.deploy_configuration(cpu_cores=1, memory_gb=1, enable_app_insights=True)\n",
        "\n",
        "\n",
        "service_name = 'my-udacityproj3-service'\n",
        "\n",
        "service = Model.deploy(workspace=ws,\n",
        "                       name=service_name,\n",
        "                       models=[model],\n",
        "                       inference_config=inference_config,\n",
        "                       deployment_config=aci_config,\n",
        "                       overwrite=True)\n",
        "service.wait_for_deployment(show_output=True)"
      ]
    },
    {
      "cell_type": "code",
      "execution_count": 19,
      "metadata": {
        "gather": {
          "logged": 1639241577679
        },
        "jupyter": {
          "outputs_hidden": false,
          "source_hidden": false
        },
        "nteract": {
          "transient": {
            "deleting": false
          }
        }
      },
      "outputs": [
        {
          "name": "stdout",
          "output_type": "stream",
          "text": [
            "2021-12-11T16:48:32,299118100+00:00 - rsyslog/run \n",
            "2021-12-11T16:48:32,298033400+00:00 - gunicorn/run \n",
            "Dynamic Python package installation is disabled.\n",
            "Starting HTTP server\n",
            "2021-12-11T16:48:32,369545700+00:00 - iot-server/run \n",
            "2021-12-11T16:48:32,785723400+00:00 - nginx/run \n",
            "EdgeHubConnectionString and IOTEDGE_IOTHUBHOSTNAME are not set. Exiting...\n",
            "2021-12-11T16:48:35,580810800+00:00 - iot-server/finish 1 0\n",
            "2021-12-11T16:48:35,582564400+00:00 - Exit code 1 is normal. Not restarting iot-server.\n",
            "Starting gunicorn 20.1.0\n",
            "Listening at: http://127.0.0.1:31311 (70)\n",
            "Using worker: sync\n",
            "worker timeout is set to 300\n",
            "Booting worker with pid: 98\n",
            "SPARK_HOME not set. Skipping PySpark Initialization.\n",
            "Initializing logger\n",
            "2021-12-11 16:48:41,329 | root | INFO | Starting up app insights client\n",
            "logging socket was found. logging is available.\n",
            "logging socket was found. logging is available.\n",
            "2021-12-11 16:48:41,330 | root | INFO | Starting up request id generator\n",
            "2021-12-11 16:48:41,330 | root | INFO | Starting up app insight hooks\n",
            "2021-12-11 16:48:41,330 | root | INFO | Invoking user's init function\n",
            "init method error: [16:48:45] ../src/learner.cc:959: Check failed: header == serialisation_header_: \n",
            "\n",
            "  If you are loading a serialized model (like pickle in Python) generated by older\n",
            "  XGBoost, please export the model by calling `Booster.save_model` from that version\n",
            "  first, then load it back in current version.  There's a simple script for helping\n",
            "  the process. See:\n",
            "\n",
            "    https://xgboost.readthedocs.io/en/latest/tutorials/saving_model.html\n",
            "\n",
            "  for reference to the script, and more details about differences between saving model and\n",
            "  serializing.\n",
            "\n",
            "\n",
            "Stack trace:\n",
            "  [bt] (0) /azureml-envs/azureml_b4885ae28b323ee22e09ea4bafedf948/lib/python3.6/site-packages/xgboost/lib/libxgboost.so(+0x19c8d9) [0x7ff4fdec38d9]\n",
            "  [bt] (1) /azureml-envs/azureml_b4885ae28b323ee22e09ea4bafedf948/lib/python3.6/site-packages/xgboost/lib/libxgboost.so(+0x1bfa9d) [0x7ff4fdee6a9d]\n",
            "  [bt] (2) /azureml-envs/azureml_b4885ae28b323ee22e09ea4bafedf948/lib/python3.6/site-packages/xgboost/lib/libxgboost.so(XGBoosterUnserializeFromBuffer+0x5c) [0x7ff4fddbfbbc]\n",
            "  [bt] (3) /azureml-envs/azureml_b4885ae28b323ee22e09ea4bafedf948/lib/python3.6/lib-dynload/../../libffi.so.6(ffi_call_unix64+0x4c) [0x7ff54db49630]\n",
            "  [bt] (4) /azureml-envs/azureml_b4885ae28b323ee22e09ea4bafedf948/lib/python3.6/lib-dynload/../../libffi.so.6(ffi_call+0x22d) [0x7ff54db48fed]\n",
            "  [bt] (5) /azureml-envs/azureml_b4885ae28b323ee22e09ea4bafedf948/lib/python3.6/lib-dynload/_ctypes.cpython-36m-x86_64-linux-gnu.so(_ctypes_callproc+0x2ce) [0x7ff54c54d80e]\n",
            "  [bt] (6) /azureml-envs/azureml_b4885ae28b323ee22e09ea4bafedf948/lib/python3.6/lib-dynload/_ctypes.cpython-36m-x86_64-linux-gnu.so(+0x12245) [0x7ff54c54e245]\n",
            "  [bt] (7) /azureml-envs/azureml_b4885ae28b323ee22e09ea4bafedf948/bin/python(_PyObject_FastCallDict+0x8b) [0x55c50ac063cb]\n",
            "  [bt] (8) /azureml-envs/azureml_b4885ae28b323ee22e09ea4bafedf948/bin/python(+0x19efce) [0x55c50ac99fce]\n",
            "no request id,init method error: [16:48:45] ../src/learner.cc:959: Check failed: header == serialisation_header_: \n",
            "\n",
            "  If you are loading a serialized model (like pickle in Python) generated by older\n",
            "  XGBoost, please export the model by calling `Booster.save_model` from that version\n",
            "  first, then load it back in current version.  There's a simple script for helping\n",
            "  the process. See:\n",
            "\n",
            "    https://xgboost.readthedocs.io/en/latest/tutorials/saving_model.html\n",
            "\n",
            "  for reference to the script, and more details about differences between saving model and\n",
            "  serializing.\n",
            "\n",
            "\n",
            "Stack trace:\n",
            "  [bt] (0) /azureml-envs/azureml_b4885ae28b323ee22e09ea4bafedf948/lib/python3.6/site-packages/xgboost/lib/libxgboost.so(+0x19c8d9) [0x7ff4fdec38d9]\n",
            "  [bt] (1) /azureml-envs/azureml_b4885ae28b323ee22e09ea4bafedf948/lib/python3.6/site-packages/xgboost/lib/libxgboost.so(+0x1bfa9d) [0x7ff4fdee6a9d]\n",
            "  [bt] (2) /azureml-envs/azureml_b4885ae28b323ee22e09ea4bafedf948/lib/python3.6/site-packages/xgboost/lib/libxgboost.so(XGBoosterUnserializeFromBuffer+0x5c) [0x7ff4fddbfbbc]\n",
            "  [bt] (3) /azureml-envs/azureml_b4885ae28b323ee22e09ea4bafedf948/lib/python3.6/lib-dynload/../../libffi.so.6(ffi_call_unix64+0x4c) [0x7ff54db49630]\n",
            "  [bt] (4) /azureml-envs/azureml_b4885ae28b323ee22e09ea4bafedf948/lib/python3.6/lib-dynload/../../libffi.so.6(ffi_call+0x22d) [0x7ff54db48fed]\n",
            "  [bt] (5) /azureml-envs/azureml_b4885ae28b323ee22e09ea4bafedf948/lib/python3.6/lib-dynload/_ctypes.cpython-36m-x86_64-linux-gnu.so(_ctypes_callproc+0x2ce) [0x7ff54c54d80e]\n",
            "  [bt] (6) /azureml-envs/azureml_b4885ae28b323ee22e09ea4bafedf948/lib/python3.6/lib-dynload/_ctypes.cpython-36m-x86_64-linux-gnu.so(+0x12245) [0x7ff54c54e245]\n",
            "  [bt] (7) /azureml-envs/azureml_b4885ae28b323ee22e09ea4bafedf948/bin/python(_PyObject_FastCallDict+0x8b) [0x55c50ac063cb]\n",
            "  [bt] (8) /azureml-envs/azureml_b4885ae28b323ee22e09ea4bafedf948/bin/python(+0x19efce) [0x55c50ac99fce]\n",
            "\n",
            "2021-12-11 16:48:45,339 | root | INFO | Users's init has completed successfully\n",
            "2021-12-11 16:48:45,347 | root | INFO | Skipping middleware: dbg_model_info as it's not enabled.\n",
            "2021-12-11 16:48:45,347 | root | INFO | Skipping middleware: dbg_resource_usage as it's not enabled.\n",
            "2021-12-11 16:48:45,351 | root | INFO | Scoring timeout is found from os.environ: 60000 ms\n",
            "2021-12-11 16:49:10,887 | root | INFO | Swagger file not present\n",
            "2021-12-11 16:49:10,887 | root | INFO | 404\n",
            "127.0.0.1 - - [11/Dec/2021:16:49:10 +0000] \"GET /swagger.json HTTP/1.0\" 404 19 \"-\" \"Go-http-client/1.1\"\n",
            "2021-12-11 16:49:12,584 | root | INFO | Swagger file not present\n",
            "2021-12-11 16:49:12,584 | root | INFO | 404\n",
            "127.0.0.1 - - [11/Dec/2021:16:49:12 +0000] \"GET /swagger.json HTTP/1.0\" 404 19 \"-\" \"Go-http-client/1.1\"\n",
            "\n"
          ]
        }
      ],
      "source": [
        "print(service.get_logs())"
      ]
    },
    {
      "cell_type": "markdown",
      "metadata": {
        "collapsed": true,
        "gather": {
          "logged": 1598432765711
        },
        "jupyter": {
          "outputs_hidden": false,
          "source_hidden": false
        },
        "nteract": {
          "transient": {
            "deleting": false
          }
        }
      },
      "source": [
        "TODO: In the cell below, print the logs of the web service and delete the service"
      ]
    },
    {
      "cell_type": "code",
      "execution_count": 20,
      "metadata": {
        "gather": {
          "logged": 1639241617374
        },
        "jupyter": {
          "outputs_hidden": false,
          "source_hidden": false
        },
        "nteract": {
          "transient": {
            "deleting": false
          }
        }
      },
      "outputs": [
        {
          "name": "stdout",
          "output_type": "stream",
          "text": [
            "[[40, 'M', 'ATA', 140, 289, 0, 'Normal', 172, 'N', 0.0, 'Up'], [49, 'F', 'NAP', 160, 180, 0, 'Normal', 156, 'N', 1.0, 'Flat']]\n",
            "[[40, 'M', 'ATA', 140, 289, 0, 'Normal', 172, 'N', 0.0, 'Up'], [49, 'F', 'NAP', 160, 180, 0, 'Normal', 156, 'N', 1.0, 'Flat']]\n"
          ]
        }
      ],
      "source": [
        "# Get the data to test the endpoint in the right way.\n",
        "\n",
        "data_tosend = df_x[0:2].values.tolist()\n",
        "\n",
        "print(data_tosend)\n",
        "\n",
        "data_tosend = [data_tosend[0][:], data_tosend[1][:]]\n",
        "\n",
        "print(data_tosend)\n"
      ]
    },
    {
      "cell_type": "code",
      "execution_count": 21,
      "metadata": {
        "gather": {
          "logged": 1639241631200
        },
        "jupyter": {
          "outputs_hidden": false,
          "source_hidden": false
        },
        "nteract": {
          "transient": {
            "deleting": false
          }
        }
      },
      "outputs": [
        {
          "name": "stdout",
          "output_type": "stream",
          "text": [
            "name 'model' is not defined\n"
          ]
        }
      ],
      "source": [
        "input_payload = json.dumps({\n",
        "    'data': data_tosend,\n",
        "    'method': 'predict'  # If you have a classification model, you can get probabilities by changing this to 'predict_proba'.\n",
        "})\n",
        "\n",
        "output = service.run(input_payload)\n",
        "\n",
        "print(output)"
      ]
    },
    {
      "cell_type": "code",
      "execution_count": 22,
      "metadata": {
        "gather": {
          "logged": 1639241753586
        },
        "jupyter": {
          "outputs_hidden": false,
          "source_hidden": false
        },
        "nteract": {
          "transient": {
            "deleting": false
          }
        }
      },
      "outputs": [
        {
          "name": "stdout",
          "output_type": "stream",
          "text": [
            "2021-12-11T16:48:32,299118100+00:00 - rsyslog/run \n",
            "2021-12-11T16:48:32,298033400+00:00 - gunicorn/run \n",
            "Dynamic Python package installation is disabled.\n",
            "Starting HTTP server\n",
            "2021-12-11T16:48:32,369545700+00:00 - iot-server/run \n",
            "2021-12-11T16:48:32,785723400+00:00 - nginx/run \n",
            "EdgeHubConnectionString and IOTEDGE_IOTHUBHOSTNAME are not set. Exiting...\n",
            "2021-12-11T16:48:35,580810800+00:00 - iot-server/finish 1 0\n",
            "2021-12-11T16:48:35,582564400+00:00 - Exit code 1 is normal. Not restarting iot-server.\n",
            "Starting gunicorn 20.1.0\n",
            "Listening at: http://127.0.0.1:31311 (70)\n",
            "Using worker: sync\n",
            "worker timeout is set to 300\n",
            "Booting worker with pid: 98\n",
            "SPARK_HOME not set. Skipping PySpark Initialization.\n",
            "Initializing logger\n",
            "2021-12-11 16:48:41,329 | root | INFO | Starting up app insights client\n",
            "logging socket was found. logging is available.\n",
            "logging socket was found. logging is available.\n",
            "2021-12-11 16:48:41,330 | root | INFO | Starting up request id generator\n",
            "2021-12-11 16:48:41,330 | root | INFO | Starting up app insight hooks\n",
            "2021-12-11 16:48:41,330 | root | INFO | Invoking user's init function\n",
            "init method error: [16:48:45] ../src/learner.cc:959: Check failed: header == serialisation_header_: \n",
            "\n",
            "  If you are loading a serialized model (like pickle in Python) generated by older\n",
            "  XGBoost, please export the model by calling `Booster.save_model` from that version\n",
            "  first, then load it back in current version.  There's a simple script for helping\n",
            "  the process. See:\n",
            "\n",
            "    https://xgboost.readthedocs.io/en/latest/tutorials/saving_model.html\n",
            "\n",
            "  for reference to the script, and more details about differences between saving model and\n",
            "  serializing.\n",
            "\n",
            "\n",
            "Stack trace:\n",
            "  [bt] (0) /azureml-envs/azureml_b4885ae28b323ee22e09ea4bafedf948/lib/python3.6/site-packages/xgboost/lib/libxgboost.so(+0x19c8d9) [0x7ff4fdec38d9]\n",
            "  [bt] (1) /azureml-envs/azureml_b4885ae28b323ee22e09ea4bafedf948/lib/python3.6/site-packages/xgboost/lib/libxgboost.so(+0x1bfa9d) [0x7ff4fdee6a9d]\n",
            "  [bt] (2) /azureml-envs/azureml_b4885ae28b323ee22e09ea4bafedf948/lib/python3.6/site-packages/xgboost/lib/libxgboost.so(XGBoosterUnserializeFromBuffer+0x5c) [0x7ff4fddbfbbc]\n",
            "  [bt] (3) /azureml-envs/azureml_b4885ae28b323ee22e09ea4bafedf948/lib/python3.6/lib-dynload/../../libffi.so.6(ffi_call_unix64+0x4c) [0x7ff54db49630]\n",
            "  [bt] (4) /azureml-envs/azureml_b4885ae28b323ee22e09ea4bafedf948/lib/python3.6/lib-dynload/../../libffi.so.6(ffi_call+0x22d) [0x7ff54db48fed]\n",
            "  [bt] (5) /azureml-envs/azureml_b4885ae28b323ee22e09ea4bafedf948/lib/python3.6/lib-dynload/_ctypes.cpython-36m-x86_64-linux-gnu.so(_ctypes_callproc+0x2ce) [0x7ff54c54d80e]\n",
            "  [bt] (6) /azureml-envs/azureml_b4885ae28b323ee22e09ea4bafedf948/lib/python3.6/lib-dynload/_ctypes.cpython-36m-x86_64-linux-gnu.so(+0x12245) [0x7ff54c54e245]\n",
            "  [bt] (7) /azureml-envs/azureml_b4885ae28b323ee22e09ea4bafedf948/bin/python(_PyObject_FastCallDict+0x8b) [0x55c50ac063cb]\n",
            "  [bt] (8) /azureml-envs/azureml_b4885ae28b323ee22e09ea4bafedf948/bin/python(+0x19efce) [0x55c50ac99fce]\n",
            "no request id,init method error: [16:48:45] ../src/learner.cc:959: Check failed: header == serialisation_header_: \n",
            "\n",
            "  If you are loading a serialized model (like pickle in Python) generated by older\n",
            "  XGBoost, please export the model by calling `Booster.save_model` from that version\n",
            "  first, then load it back in current version.  There's a simple script for helping\n",
            "  the process. See:\n",
            "\n",
            "    https://xgboost.readthedocs.io/en/latest/tutorials/saving_model.html\n",
            "\n",
            "  for reference to the script, and more details about differences between saving model and\n",
            "  serializing.\n",
            "\n",
            "\n",
            "Stack trace:\n",
            "  [bt] (0) /azureml-envs/azureml_b4885ae28b323ee22e09ea4bafedf948/lib/python3.6/site-packages/xgboost/lib/libxgboost.so(+0x19c8d9) [0x7ff4fdec38d9]\n",
            "  [bt] (1) /azureml-envs/azureml_b4885ae28b323ee22e09ea4bafedf948/lib/python3.6/site-packages/xgboost/lib/libxgboost.so(+0x1bfa9d) [0x7ff4fdee6a9d]\n",
            "  [bt] (2) /azureml-envs/azureml_b4885ae28b323ee22e09ea4bafedf948/lib/python3.6/site-packages/xgboost/lib/libxgboost.so(XGBoosterUnserializeFromBuffer+0x5c) [0x7ff4fddbfbbc]\n",
            "  [bt] (3) /azureml-envs/azureml_b4885ae28b323ee22e09ea4bafedf948/lib/python3.6/lib-dynload/../../libffi.so.6(ffi_call_unix64+0x4c) [0x7ff54db49630]\n",
            "  [bt] (4) /azureml-envs/azureml_b4885ae28b323ee22e09ea4bafedf948/lib/python3.6/lib-dynload/../../libffi.so.6(ffi_call+0x22d) [0x7ff54db48fed]\n",
            "  [bt] (5) /azureml-envs/azureml_b4885ae28b323ee22e09ea4bafedf948/lib/python3.6/lib-dynload/_ctypes.cpython-36m-x86_64-linux-gnu.so(_ctypes_callproc+0x2ce) [0x7ff54c54d80e]\n",
            "  [bt] (6) /azureml-envs/azureml_b4885ae28b323ee22e09ea4bafedf948/lib/python3.6/lib-dynload/_ctypes.cpython-36m-x86_64-linux-gnu.so(+0x12245) [0x7ff54c54e245]\n",
            "  [bt] (7) /azureml-envs/azureml_b4885ae28b323ee22e09ea4bafedf948/bin/python(_PyObject_FastCallDict+0x8b) [0x55c50ac063cb]\n",
            "  [bt] (8) /azureml-envs/azureml_b4885ae28b323ee22e09ea4bafedf948/bin/python(+0x19efce) [0x55c50ac99fce]\n",
            "\n",
            "2021-12-11 16:48:45,339 | root | INFO | Users's init has completed successfully\n",
            "2021-12-11 16:48:45,347 | root | INFO | Skipping middleware: dbg_model_info as it's not enabled.\n",
            "2021-12-11 16:48:45,347 | root | INFO | Skipping middleware: dbg_resource_usage as it's not enabled.\n",
            "2021-12-11 16:48:45,351 | root | INFO | Scoring timeout is found from os.environ: 60000 ms\n",
            "2021-12-11 16:49:10,887 | root | INFO | Swagger file not present\n",
            "2021-12-11 16:49:10,887 | root | INFO | 404\n",
            "127.0.0.1 - - [11/Dec/2021:16:49:10 +0000] \"GET /swagger.json HTTP/1.0\" 404 19 \"-\" \"Go-http-client/1.1\"\n",
            "2021-12-11 16:49:12,584 | root | INFO | Swagger file not present\n",
            "2021-12-11 16:49:12,584 | root | INFO | 404\n",
            "127.0.0.1 - - [11/Dec/2021:16:49:12 +0000] \"GET /swagger.json HTTP/1.0\" 404 19 \"-\" \"Go-http-client/1.1\"\n",
            "2021-12-11 16:53:50,927 | root | INFO | Scoring Timer is set to 60.0 seconds\n",
            "2021-12-11 16:53:50,937 | root | INFO | 200\n",
            "127.0.0.1 - - [11/Dec/2021:16:53:50 +0000] \"POST /score HTTP/1.0\" 200 29 \"-\" \"python-requests/2.26.0\"\n",
            "\n"
          ]
        }
      ],
      "source": [
        "print(service.get_logs())"
      ]
    },
    {
      "cell_type": "code",
      "execution_count": null,
      "metadata": {},
      "outputs": [],
      "source": [
        "# Remove WebService endpoint\n",
        "\n",
        "service.delete()\n",
        "\n",
        "# Remove compute cluster\n",
        "\n",
        "cpu_cluster.delete()"
      ]
    },
    {
      "cell_type": "markdown",
      "metadata": {},
      "source": [
        "**Submission Checklist**\n",
        "- I have registered the model.\n",
        "- I have deployed the model with the best accuracy as a webservice.\n",
        "- I have tested the webservice by sending a request to the model endpoint.\n",
        "- I have deleted the webservice and shutdown all the computes that I have used.\n",
        "- I have taken a screenshot showing the model endpoint as active.\n",
        "- The project includes a file containing the environment details.\n"
      ]
    },
    {
      "cell_type": "markdown",
      "metadata": {},
      "source": []
    }
  ],
  "metadata": {
    "interpreter": {
      "hash": "76d3e2318c863bbf4a38434369238e2bd9b0fd34f09cea8e41db157ff8ea37cf"
    },
    "kernel_info": {
      "name": "python3-azureml"
    },
    "kernelspec": {
      "display_name": "Python 3.6 - AzureML",
      "language": "python",
      "name": "python3"
    },
    "language_info": {
      "codemirror_mode": {
        "name": "ipython",
        "version": 3
      },
      "file_extension": ".py",
      "mimetype": "text/x-python",
      "name": "python",
      "nbconvert_exporter": "python",
      "pygments_lexer": "ipython3",
      "version": "3.8.8"
    },
    "microsoft": {
      "host": {
        "AzureML": {
          "notebookHasBeenCompleted": true
        }
      }
    },
    "nteract": {
      "version": "nteract-front-end@1.0.0"
    }
  },
  "nbformat": 4,
  "nbformat_minor": 2
}

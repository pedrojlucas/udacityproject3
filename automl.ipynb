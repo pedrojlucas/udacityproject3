{
  "cells": [
    {
      "cell_type": "markdown",
      "metadata": {},
      "source": [
        "# Automated ML\n",
        "\n",
        "In the next cells: we will update the environment SDK to fit with the latest AutoML version and avoid incompatibility issues and import all the important libraries we will need to execute this notebook.\n",
        "IMPORTANT: Restart the kernel after executing the update, so the new updated libraries can be loaded in the environment."
      ]
    },
    {
      "cell_type": "code",
      "execution_count": 1,
      "metadata": {
        "gather": {
          "logged": 1639594714092
        },
        "jupyter": {
          "outputs_hidden": false,
          "source_hidden": false
        },
        "nteract": {
          "transient": {
            "deleting": false
          }
        }
      },
      "outputs": [
        {
          "name": "stdout",
          "output_type": "stream",
          "text": [
            "Requirement already up-to-date: azureml-sdk[automl] in /anaconda/envs/azureml_py36/lib/python3.6/site-packages (1.37.0)\n",
            "Requirement already satisfied, skipping upgrade: azureml-core~=1.37.0 in /anaconda/envs/azureml_py36/lib/python3.6/site-packages (from azureml-sdk[automl]) (1.37.0)\n",
            "Requirement already satisfied, skipping upgrade: azureml-pipeline~=1.37.0 in /anaconda/envs/azureml_py36/lib/python3.6/site-packages (from azureml-sdk[automl]) (1.37.0)\n",
            "Requirement already satisfied, skipping upgrade: azureml-dataset-runtime[fuse]~=1.37.0 in /anaconda/envs/azureml_py36/lib/python3.6/site-packages (from azureml-sdk[automl]) (1.37.0)\n",
            "Requirement already satisfied, skipping upgrade: azureml-train-automl-client~=1.37.0 in /anaconda/envs/azureml_py36/lib/python3.6/site-packages (from azureml-sdk[automl]) (1.37.0)\n",
            "Requirement already satisfied, skipping upgrade: azureml-train-core~=1.37.0 in /anaconda/envs/azureml_py36/lib/python3.6/site-packages (from azureml-sdk[automl]) (1.37.0)\n",
            "Requirement already satisfied, skipping upgrade: azureml-train-automl~=1.37.0; extra == \"automl\" in /anaconda/envs/azureml_py36/lib/python3.6/site-packages (from azureml-sdk[automl]) (1.37.0)\n",
            "Requirement already satisfied, skipping upgrade: knack~=0.8.2 in /anaconda/envs/azureml_py36/lib/python3.6/site-packages (from azureml-core~=1.37.0->azureml-sdk[automl]) (0.8.2)\n",
            "Requirement already satisfied, skipping upgrade: msal<2.0.0,>=1.15.0 in /anaconda/envs/azureml_py36/lib/python3.6/site-packages (from azureml-core~=1.37.0->azureml-sdk[automl]) (1.16.0)\n",
            "Requirement already satisfied, skipping upgrade: backports.tempfile in /anaconda/envs/azureml_py36/lib/python3.6/site-packages (from azureml-core~=1.37.0->azureml-sdk[automl]) (1.0)\n",
            "Requirement already satisfied, skipping upgrade: azure-mgmt-resource<20.0.0,>=15.0.0 in /anaconda/envs/azureml_py36/lib/python3.6/site-packages (from azureml-core~=1.37.0->azureml-sdk[automl]) (19.0.0)\n",
            "Requirement already satisfied, skipping upgrade: azure-common<2.0.0,>=1.1.12 in /anaconda/envs/azureml_py36/lib/python3.6/site-packages (from azureml-core~=1.37.0->azureml-sdk[automl]) (1.1.27)\n",
            "Requirement already satisfied, skipping upgrade: contextlib2<22.0.0 in /anaconda/envs/azureml_py36/lib/python3.6/site-packages (from azureml-core~=1.37.0->azureml-sdk[automl]) (21.6.0)\n",
            "Requirement already satisfied, skipping upgrade: msal-extensions<0.4,>=0.3.0 in /anaconda/envs/azureml_py36/lib/python3.6/site-packages (from azureml-core~=1.37.0->azureml-sdk[automl]) (0.3.0)\n",
            "Requirement already satisfied, skipping upgrade: python-dateutil<3.0.0,>=2.7.3 in /anaconda/envs/azureml_py36/lib/python3.6/site-packages (from azureml-core~=1.37.0->azureml-sdk[automl]) (2.8.2)\n",
            "Requirement already satisfied, skipping upgrade: adal<=1.2.7,>=1.2.0 in /anaconda/envs/azureml_py36/lib/python3.6/site-packages (from azureml-core~=1.37.0->azureml-sdk[automl]) (1.2.7)\n",
            "Requirement already satisfied, skipping upgrade: pathspec<1.0.0 in /anaconda/envs/azureml_py36/lib/python3.6/site-packages (from azureml-core~=1.37.0->azureml-sdk[automl]) (0.9.0)\n",
            "Requirement already satisfied, skipping upgrade: pytz in /anaconda/envs/azureml_py36/lib/python3.6/site-packages (from azureml-core~=1.37.0->azureml-sdk[automl]) (2021.3)\n",
            "Requirement already satisfied, skipping upgrade: requests[socks]<3.0.0,>=2.19.1 in /anaconda/envs/azureml_py36/lib/python3.6/site-packages (from azureml-core~=1.37.0->azureml-sdk[automl]) (2.26.0)\n",
            "Requirement already satisfied, skipping upgrade: azure-core<1.21 in /anaconda/envs/azureml_py36/lib/python3.6/site-packages (from azureml-core~=1.37.0->azureml-sdk[automl]) (1.19.1)\n",
            "Requirement already satisfied, skipping upgrade: argcomplete~=1.8 in /anaconda/envs/azureml_py36/lib/python3.6/site-packages (from azureml-core~=1.37.0->azureml-sdk[automl]) (1.12.3)\n",
            "Requirement already satisfied, skipping upgrade: jmespath<1.0.0 in /anaconda/envs/azureml_py36/lib/python3.6/site-packages (from azureml-core~=1.37.0->azureml-sdk[automl]) (0.10.0)\n",
            "Requirement already satisfied, skipping upgrade: msrestazure<=0.6.4,>=0.4.33 in /anaconda/envs/azureml_py36/lib/python3.6/site-packages (from azureml-core~=1.37.0->azureml-sdk[automl]) (0.6.4)\n",
            "Requirement already satisfied, skipping upgrade: azure-graphrbac<1.0.0,>=0.40.0 in /anaconda/envs/azureml_py36/lib/python3.6/site-packages (from azureml-core~=1.37.0->azureml-sdk[automl]) (0.61.1)\n",
            "Requirement already satisfied, skipping upgrade: packaging<22.0 in /anaconda/envs/azureml_py36/lib/python3.6/site-packages (from azureml-core~=1.37.0->azureml-sdk[automl]) (21.2)\n",
            "Requirement already satisfied, skipping upgrade: paramiko<3.0.0,>=2.0.8 in /anaconda/envs/azureml_py36/lib/python3.6/site-packages (from azureml-core~=1.37.0->azureml-sdk[automl]) (2.8.0)\n",
            "Requirement already satisfied, skipping upgrade: jsonpickle<3.0.0 in /anaconda/envs/azureml_py36/lib/python3.6/site-packages (from azureml-core~=1.37.0->azureml-sdk[automl]) (2.0.0)\n",
            "Requirement already satisfied, skipping upgrade: humanfriendly<10.0,>=4.7 in /anaconda/envs/azureml_py36/lib/python3.6/site-packages (from azureml-core~=1.37.0->azureml-sdk[automl]) (9.2)\n",
            "Requirement already satisfied, skipping upgrade: PyJWT<3.0.0 in /anaconda/envs/azureml_py36/lib/python3.6/site-packages (from azureml-core~=1.37.0->azureml-sdk[automl]) (2.3.0)\n",
            "Requirement already satisfied, skipping upgrade: pkginfo in /anaconda/envs/azureml_py36/lib/python3.6/site-packages (from azureml-core~=1.37.0->azureml-sdk[automl]) (1.8.1)\n",
            "Requirement already satisfied, skipping upgrade: msrest<1.0.0,>=0.5.1 in /anaconda/envs/azureml_py36/lib/python3.6/site-packages (from azureml-core~=1.37.0->azureml-sdk[automl]) (0.6.21)\n",
            "Requirement already satisfied, skipping upgrade: urllib3<=1.26.7,>=1.23 in /anaconda/envs/azureml_py36/lib/python3.6/site-packages (from azureml-core~=1.37.0->azureml-sdk[automl]) (1.25.11)\n",
            "Requirement already satisfied, skipping upgrade: azure-mgmt-containerregistry>=2.0.0 in /anaconda/envs/azureml_py36/lib/python3.6/site-packages (from azureml-core~=1.37.0->azureml-sdk[automl]) (8.2.0)\n",
            "Requirement already satisfied, skipping upgrade: docker<6.0.0 in /anaconda/envs/azureml_py36/lib/python3.6/site-packages (from azureml-core~=1.37.0->azureml-sdk[automl]) (5.0.3)\n",
            "Requirement already satisfied, skipping upgrade: pyopenssl<22.0.0 in /anaconda/envs/azureml_py36/lib/python3.6/site-packages (from azureml-core~=1.37.0->azureml-sdk[automl]) (20.0.1)\n",
            "Requirement already satisfied, skipping upgrade: azure-mgmt-storage<20.0.0,>=16.0.0 in /anaconda/envs/azureml_py36/lib/python3.6/site-packages (from azureml-core~=1.37.0->azureml-sdk[automl]) (19.0.0)\n",
            "Requirement already satisfied, skipping upgrade: azure-mgmt-authorization<1.0.0,>=0.40.0 in /anaconda/envs/azureml_py36/lib/python3.6/site-packages (from azureml-core~=1.37.0->azureml-sdk[automl]) (0.61.0)\n",
            "Requirement already satisfied, skipping upgrade: azure-mgmt-keyvault<10.0.0,>=0.40.0 in /anaconda/envs/azureml_py36/lib/python3.6/site-packages (from azureml-core~=1.37.0->azureml-sdk[automl]) (9.2.0)\n",
            "Requirement already satisfied, skipping upgrade: cryptography!=1.9,!=2.0.*,!=2.1.*,!=2.2.*,<4.0.0 in /anaconda/envs/azureml_py36/lib/python3.6/site-packages (from azureml-core~=1.37.0->azureml-sdk[automl]) (3.4.8)\n",
            "Requirement already satisfied, skipping upgrade: SecretStorage<4.0.0 in /anaconda/envs/azureml_py36/lib/python3.6/site-packages (from azureml-core~=1.37.0->azureml-sdk[automl]) (3.3.1)\n",
            "Requirement already satisfied, skipping upgrade: ndg-httpsclient<=0.5.1 in /anaconda/envs/azureml_py36/lib/python3.6/site-packages (from azureml-core~=1.37.0->azureml-sdk[automl]) (0.5.1)\n",
            "Requirement already satisfied, skipping upgrade: azureml-pipeline-core~=1.37.0 in /anaconda/envs/azureml_py36/lib/python3.6/site-packages (from azureml-pipeline~=1.37.0->azureml-sdk[automl]) (1.37.0)\n",
            "Requirement already satisfied, skipping upgrade: azureml-pipeline-steps~=1.37.0 in /anaconda/envs/azureml_py36/lib/python3.6/site-packages (from azureml-pipeline~=1.37.0->azureml-sdk[automl]) (1.37.0)\n",
            "Requirement already satisfied, skipping upgrade: azureml-dataprep<2.26.0a,>=2.25.0a in /anaconda/envs/azureml_py36/lib/python3.6/site-packages (from azureml-dataset-runtime[fuse]~=1.37.0->azureml-sdk[automl]) (2.25.2)\n",
            "Requirement already satisfied, skipping upgrade: pyarrow<4.0.0,>=0.17.0 in /anaconda/envs/azureml_py36/lib/python3.6/site-packages (from azureml-dataset-runtime[fuse]~=1.37.0->azureml-sdk[automl]) (3.0.0)\n",
            "Requirement already satisfied, skipping upgrade: numpy!=1.19.3; sys_platform == \"linux\" in /anaconda/envs/azureml_py36/lib/python3.6/site-packages (from azureml-dataset-runtime[fuse]~=1.37.0->azureml-sdk[automl]) (1.18.5)\n",
            "Requirement already satisfied, skipping upgrade: fusepy<4.0.0,>=3.0.1; extra == \"fuse\" in /anaconda/envs/azureml_py36/lib/python3.6/site-packages (from azureml-dataset-runtime[fuse]~=1.37.0->azureml-sdk[automl]) (3.0.1)\n",
            "Requirement already satisfied, skipping upgrade: azureml-telemetry~=1.37.0 in /anaconda/envs/azureml_py36/lib/python3.6/site-packages (from azureml-train-automl-client~=1.37.0->azureml-sdk[automl]) (1.37.0)\n",
            "Requirement already satisfied, skipping upgrade: azureml-automl-core~=1.37.0 in /anaconda/envs/azureml_py36/lib/python3.6/site-packages (from azureml-train-automl-client~=1.37.0->azureml-sdk[automl]) (1.37.0)\n",
            "Requirement already satisfied, skipping upgrade: azureml-train-restclients-hyperdrive~=1.37.0 in /anaconda/envs/azureml_py36/lib/python3.6/site-packages (from azureml-train-core~=1.37.0->azureml-sdk[automl]) (1.37.0)\n",
            "Requirement already satisfied, skipping upgrade: azureml-automl-runtime~=1.37.0 in /anaconda/envs/azureml_py36/lib/python3.6/site-packages (from azureml-train-automl~=1.37.0; extra == \"automl\"->azureml-sdk[automl]) (1.37.0)\n",
            "Requirement already satisfied, skipping upgrade: azureml-train-automl-runtime~=1.37.0 in /anaconda/envs/azureml_py36/lib/python3.6/site-packages (from azureml-train-automl~=1.37.0; extra == \"automl\"->azureml-sdk[automl]) (1.37.0)\n",
            "Requirement already satisfied, skipping upgrade: tabulate in /anaconda/envs/azureml_py36/lib/python3.6/site-packages (from knack~=0.8.2->azureml-core~=1.37.0->azureml-sdk[automl]) (0.8.9)\n",
            "Requirement already satisfied, skipping upgrade: pygments in /anaconda/envs/azureml_py36/lib/python3.6/site-packages (from knack~=0.8.2->azureml-core~=1.37.0->azureml-sdk[automl]) (2.10.0)\n",
            "Requirement already satisfied, skipping upgrade: colorama in /anaconda/envs/azureml_py36/lib/python3.6/site-packages (from knack~=0.8.2->azureml-core~=1.37.0->azureml-sdk[automl]) (0.4.4)\n",
            "Requirement already satisfied, skipping upgrade: pyyaml in /anaconda/envs/azureml_py36/lib/python3.6/site-packages (from knack~=0.8.2->azureml-core~=1.37.0->azureml-sdk[automl]) (6.0)\n",
            "Requirement already satisfied, skipping upgrade: backports.weakref in /anaconda/envs/azureml_py36/lib/python3.6/site-packages (from backports.tempfile->azureml-core~=1.37.0->azureml-sdk[automl]) (1.0.post1)\n",
            "Requirement already satisfied, skipping upgrade: azure-mgmt-core<2.0.0,>=1.2.0 in /anaconda/envs/azureml_py36/lib/python3.6/site-packages (from azure-mgmt-resource<20.0.0,>=15.0.0->azureml-core~=1.37.0->azureml-sdk[automl]) (1.3.0)\n",
            "Requirement already satisfied, skipping upgrade: portalocker~=1.0; platform_system != \"Windows\" in /anaconda/envs/azureml_py36/lib/python3.6/site-packages (from msal-extensions<0.4,>=0.3.0->azureml-core~=1.37.0->azureml-sdk[automl]) (1.7.1)\n",
            "Requirement already satisfied, skipping upgrade: six>=1.5 in /anaconda/envs/azureml_py36/lib/python3.6/site-packages (from python-dateutil<3.0.0,>=2.7.3->azureml-core~=1.37.0->azureml-sdk[automl]) (1.16.0)\n",
            "Requirement already satisfied, skipping upgrade: certifi>=2017.4.17 in /anaconda/envs/azureml_py36/lib/python3.6/site-packages (from requests[socks]<3.0.0,>=2.19.1->azureml-core~=1.37.0->azureml-sdk[automl]) (2021.10.8)\n",
            "Requirement already satisfied, skipping upgrade: charset-normalizer~=2.0.0; python_version >= \"3\" in /anaconda/envs/azureml_py36/lib/python3.6/site-packages (from requests[socks]<3.0.0,>=2.19.1->azureml-core~=1.37.0->azureml-sdk[automl]) (2.0.7)\n",
            "Requirement already satisfied, skipping upgrade: idna<4,>=2.5; python_version >= \"3\" in /anaconda/envs/azureml_py36/lib/python3.6/site-packages (from requests[socks]<3.0.0,>=2.19.1->azureml-core~=1.37.0->azureml-sdk[automl]) (3.3)\n",
            "Requirement already satisfied, skipping upgrade: PySocks!=1.5.7,>=1.5.6; extra == \"socks\" in /anaconda/envs/azureml_py36/lib/python3.6/site-packages (from requests[socks]<3.0.0,>=2.19.1->azureml-core~=1.37.0->azureml-sdk[automl]) (1.7.1)\n",
            "Requirement already satisfied, skipping upgrade: importlib-metadata<5,>=0.23; python_version == \"3.6\" in /anaconda/envs/azureml_py36/lib/python3.6/site-packages (from argcomplete~=1.8->azureml-core~=1.37.0->azureml-sdk[automl]) (4.8.1)\n",
            "Requirement already satisfied, skipping upgrade: pyparsing<3,>=2.0.2 in /anaconda/envs/azureml_py36/lib/python3.6/site-packages (from packaging<22.0->azureml-core~=1.37.0->azureml-sdk[automl]) (2.4.7)\n",
            "Requirement already satisfied, skipping upgrade: bcrypt>=3.1.3 in /anaconda/envs/azureml_py36/lib/python3.6/site-packages (from paramiko<3.0.0,>=2.0.8->azureml-core~=1.37.0->azureml-sdk[automl]) (3.2.0)\n",
            "Requirement already satisfied, skipping upgrade: pynacl>=1.0.1 in /anaconda/envs/azureml_py36/lib/python3.6/site-packages (from paramiko<3.0.0,>=2.0.8->azureml-core~=1.37.0->azureml-sdk[automl]) (1.4.0)\n",
            "Requirement already satisfied, skipping upgrade: requests-oauthlib>=0.5.0 in /anaconda/envs/azureml_py36/lib/python3.6/site-packages (from msrest<1.0.0,>=0.5.1->azureml-core~=1.37.0->azureml-sdk[automl]) (1.3.0)\n",
            "Requirement already satisfied, skipping upgrade: isodate>=0.6.0 in /anaconda/envs/azureml_py36/lib/python3.6/site-packages (from msrest<1.0.0,>=0.5.1->azureml-core~=1.37.0->azureml-sdk[automl]) (0.6.0)\n",
            "Requirement already satisfied, skipping upgrade: websocket-client>=0.32.0 in /anaconda/envs/azureml_py36/lib/python3.6/site-packages (from docker<6.0.0->azureml-core~=1.37.0->azureml-sdk[automl]) (1.2.1)\n",
            "Requirement already satisfied, skipping upgrade: cffi>=1.12 in /anaconda/envs/azureml_py36/lib/python3.6/site-packages (from cryptography!=1.9,!=2.0.*,!=2.1.*,!=2.2.*,<4.0.0->azureml-core~=1.37.0->azureml-sdk[automl]) (1.15.0)\n",
            "Requirement already satisfied, skipping upgrade: jeepney>=0.6 in /anaconda/envs/azureml_py36/lib/python3.6/site-packages (from SecretStorage<4.0.0->azureml-core~=1.37.0->azureml-sdk[automl]) (0.7.1)\n",
            "Requirement already satisfied, skipping upgrade: pyasn1>=0.1.1 in /anaconda/envs/azureml_py36/lib/python3.6/site-packages (from ndg-httpsclient<=0.5.1->azureml-core~=1.37.0->azureml-sdk[automl]) (0.4.8)\n",
            "Requirement already satisfied, skipping upgrade: cloudpickle<2.0.0,>=1.1.0 in /anaconda/envs/azureml_py36/lib/python3.6/site-packages (from azureml-dataprep<2.26.0a,>=2.25.0a->azureml-dataset-runtime[fuse]~=1.37.0->azureml-sdk[automl]) (1.6.0)\n",
            "Requirement already satisfied, skipping upgrade: azureml-dataprep-rslex~=2.1.0dev0 in /anaconda/envs/azureml_py36/lib/python3.6/site-packages (from azureml-dataprep<2.26.0a,>=2.25.0a->azureml-dataset-runtime[fuse]~=1.37.0->azureml-sdk[automl]) (2.1.1)\n",
            "Requirement already satisfied, skipping upgrade: dotnetcore2<3.0.0,>=2.1.14 in /anaconda/envs/azureml_py36/lib/python3.6/site-packages (from azureml-dataprep<2.26.0a,>=2.25.0a->azureml-dataset-runtime[fuse]~=1.37.0->azureml-sdk[automl]) (2.1.21)\n",
            "Requirement already satisfied, skipping upgrade: azureml-dataprep-native<39.0.0,>=38.0.0 in /anaconda/envs/azureml_py36/lib/python3.6/site-packages (from azureml-dataprep<2.26.0a,>=2.25.0a->azureml-dataset-runtime[fuse]~=1.37.0->azureml-sdk[automl]) (38.0.0)\n",
            "Requirement already satisfied, skipping upgrade: azure-identity==1.7.0 in /anaconda/envs/azureml_py36/lib/python3.6/site-packages (from azureml-dataprep<2.26.0a,>=2.25.0a->azureml-dataset-runtime[fuse]~=1.37.0->azureml-sdk[automl]) (1.7.0)\n",
            "Requirement already satisfied, skipping upgrade: applicationinsights in /anaconda/envs/azureml_py36/lib/python3.6/site-packages (from azureml-telemetry~=1.37.0->azureml-train-automl-client~=1.37.0->azureml-sdk[automl]) (0.11.10)\n",
            "Requirement already satisfied, skipping upgrade: dataclasses<=0.8,>=0.6 in /anaconda/envs/azureml_py36/lib/python3.6/site-packages (from azureml-automl-runtime~=1.37.0->azureml-train-automl~=1.37.0; extra == \"automl\"->azureml-sdk[automl]) (0.6)\n",
            "Requirement already satisfied, skipping upgrade: sklearn-pandas<=1.7.0,>=1.4.0 in /anaconda/envs/azureml_py36/lib/python3.6/site-packages (from azureml-automl-runtime~=1.37.0->azureml-train-automl~=1.37.0; extra == \"automl\"->azureml-sdk[automl]) (1.7.0)\n",
            "Requirement already satisfied, skipping upgrade: pandas<1.0.0,>=0.21.0 in /anaconda/envs/azureml_py36/lib/python3.6/site-packages (from azureml-automl-runtime~=1.37.0->azureml-train-automl~=1.37.0; extra == \"automl\"->azureml-sdk[automl]) (0.25.3)\n",
            "Requirement already satisfied, skipping upgrade: scipy<=1.5.2,>=1.0.0 in /anaconda/envs/azureml_py36/lib/python3.6/site-packages (from azureml-automl-runtime~=1.37.0->azureml-train-automl~=1.37.0; extra == \"automl\"->azureml-sdk[automl]) (1.5.2)\n",
            "Requirement already satisfied, skipping upgrade: psutil<6.0.0,>=5.2.2 in /anaconda/envs/azureml_py36/lib/python3.6/site-packages (from azureml-automl-runtime~=1.37.0->azureml-train-automl~=1.37.0; extra == \"automl\"->azureml-sdk[automl]) (5.8.0)\n",
            "Requirement already satisfied, skipping upgrade: joblib==0.14.1 in /anaconda/envs/azureml_py36/lib/python3.6/site-packages (from azureml-automl-runtime~=1.37.0->azureml-train-automl~=1.37.0; extra == \"automl\"->azureml-sdk[automl]) (0.14.1)\n",
            "Requirement already satisfied, skipping upgrade: onnxconverter-common<=1.6.0,>=1.4.2 in /anaconda/envs/azureml_py36/lib/python3.6/site-packages (from azureml-automl-runtime~=1.37.0->azureml-train-automl~=1.37.0; extra == \"automl\"->azureml-sdk[automl]) (1.6.0)\n",
            "Requirement already satisfied, skipping upgrade: scikit-learn<0.23.0,>=0.19.0 in /anaconda/envs/azureml_py36/lib/python3.6/site-packages (from azureml-automl-runtime~=1.37.0->azureml-train-automl~=1.37.0; extra == \"automl\"->azureml-sdk[automl]) (0.22.2.post1)\n",
            "Requirement already satisfied, skipping upgrade: keras2onnx<=1.6.0,>=1.4.0 in /anaconda/envs/azureml_py36/lib/python3.6/site-packages (from azureml-automl-runtime~=1.37.0->azureml-train-automl~=1.37.0; extra == \"automl\"->azureml-sdk[automl]) (1.6.0)\n",
            "Requirement already satisfied, skipping upgrade: onnxruntime<=1.8.0,>=1.3.0 in /anaconda/envs/azureml_py36/lib/python3.6/site-packages (from azureml-automl-runtime~=1.37.0->azureml-train-automl~=1.37.0; extra == \"automl\"->azureml-sdk[automl]) (1.8.0)\n",
            "Requirement already satisfied, skipping upgrade: skl2onnx==1.4.9 in /anaconda/envs/azureml_py36/lib/python3.6/site-packages (from azureml-automl-runtime~=1.37.0->azureml-train-automl~=1.37.0; extra == \"automl\"->azureml-sdk[automl]) (1.4.9)\n",
            "Requirement already satisfied, skipping upgrade: gensim<3.9.0 in /anaconda/envs/azureml_py36/lib/python3.6/site-packages (from azureml-automl-runtime~=1.37.0->azureml-train-automl~=1.37.0; extra == \"automl\"->azureml-sdk[automl]) (3.8.3)\n",
            "Requirement already satisfied, skipping upgrade: nimbusml<=1.8.0,>=1.7.1 in /anaconda/envs/azureml_py36/lib/python3.6/site-packages (from azureml-automl-runtime~=1.37.0->azureml-train-automl~=1.37.0; extra == \"automl\"->azureml-sdk[automl]) (1.8.0)\n",
            "Requirement already satisfied, skipping upgrade: lightgbm<=2.3.0,>=2.0.11 in /anaconda/envs/azureml_py36/lib/python3.6/site-packages (from azureml-automl-runtime~=1.37.0->azureml-train-automl~=1.37.0; extra == \"automl\"->azureml-sdk[automl]) (2.3.0)\n",
            "Requirement already satisfied, skipping upgrade: boto3<=1.20.19 in /anaconda/envs/azureml_py36/lib/python3.6/site-packages (from azureml-automl-runtime~=1.37.0->azureml-train-automl~=1.37.0; extra == \"automl\"->azureml-sdk[automl]) (1.15.18)\n",
            "Requirement already satisfied, skipping upgrade: dill<0.4.0,>=0.2.8 in /anaconda/envs/azureml_py36/lib/python3.6/site-packages (from azureml-automl-runtime~=1.37.0->azureml-train-automl~=1.37.0; extra == \"automl\"->azureml-sdk[automl]) (0.3.4)\n",
            "Requirement already satisfied, skipping upgrade: pmdarima==1.1.1 in /anaconda/envs/azureml_py36/lib/python3.6/site-packages (from azureml-automl-runtime~=1.37.0->azureml-train-automl~=1.37.0; extra == \"automl\"->azureml-sdk[automl]) (1.1.1)\n",
            "Requirement already satisfied, skipping upgrade: smart-open<=1.9.0 in /anaconda/envs/azureml_py36/lib/python3.6/site-packages (from azureml-automl-runtime~=1.37.0->azureml-train-automl~=1.37.0; extra == \"automl\"->azureml-sdk[automl]) (1.9.0)\n",
            "Requirement already satisfied, skipping upgrade: botocore<=1.23.19 in /anaconda/envs/azureml_py36/lib/python3.6/site-packages (from azureml-automl-runtime~=1.37.0->azureml-train-automl~=1.37.0; extra == \"automl\"->azureml-sdk[automl]) (1.18.18)\n",
            "Requirement already satisfied, skipping upgrade: onnx<=1.7.0,>=1.6.0 in /anaconda/envs/azureml_py36/lib/python3.6/site-packages (from azureml-automl-runtime~=1.37.0->azureml-train-automl~=1.37.0; extra == \"automl\"->azureml-sdk[automl]) (1.7.0)\n",
            "Requirement already satisfied, skipping upgrade: statsmodels<=0.10.2,>=0.9.0 in /anaconda/envs/azureml_py36/lib/python3.6/site-packages (from azureml-automl-runtime~=1.37.0->azureml-train-automl~=1.37.0; extra == \"automl\"->azureml-sdk[automl]) (0.10.2)\n",
            "Requirement already satisfied, skipping upgrade: onnxmltools==1.4.1 in /anaconda/envs/azureml_py36/lib/python3.6/site-packages (from azureml-automl-runtime~=1.37.0->azureml-train-automl~=1.37.0; extra == \"automl\"->azureml-sdk[automl]) (1.4.1)\n",
            "Requirement already satisfied, skipping upgrade: distributed<=2.30.1 in /anaconda/envs/azureml_py36/lib/python3.6/site-packages (from azureml-train-automl-runtime~=1.37.0->azureml-train-automl~=1.37.0; extra == \"automl\"->azureml-sdk[automl]) (2.30.1)\n",
            "Requirement already satisfied, skipping upgrade: azureml-mlflow~=1.37.0 in /anaconda/envs/azureml_py36/lib/python3.6/site-packages (from azureml-train-automl-runtime~=1.37.0->azureml-train-automl~=1.37.0; extra == \"automl\"->azureml-sdk[automl]) (1.37.0)\n",
            "Requirement already satisfied, skipping upgrade: dask[complete]<=2.30.0 in /anaconda/envs/azureml_py36/lib/python3.6/site-packages (from azureml-train-automl-runtime~=1.37.0->azureml-train-automl~=1.37.0; extra == \"automl\"->azureml-sdk[automl]) (2.30.0)\n",
            "Requirement already satisfied, skipping upgrade: azureml-interpret~=1.37.0 in /anaconda/envs/azureml_py36/lib/python3.6/site-packages (from azureml-train-automl-runtime~=1.37.0->azureml-train-automl~=1.37.0; extra == \"automl\"->azureml-sdk[automl]) (1.37.0)\n",
            "Requirement already satisfied, skipping upgrade: azureml-defaults~=1.37.0 in /anaconda/envs/azureml_py36/lib/python3.6/site-packages (from azureml-train-automl-runtime~=1.37.0->azureml-train-automl~=1.37.0; extra == \"automl\"->azureml-sdk[automl]) (1.37.0)\n",
            "Requirement already satisfied, skipping upgrade: jinja2<=2.11.2 in /anaconda/envs/azureml_py36/lib/python3.6/site-packages (from azureml-train-automl-runtime~=1.37.0->azureml-train-automl~=1.37.0; extra == \"automl\"->azureml-sdk[automl]) (2.11.2)\n",
            "Requirement already satisfied, skipping upgrade: azure-storage-queue~=12.1 in /anaconda/envs/azureml_py36/lib/python3.6/site-packages (from azureml-train-automl-runtime~=1.37.0->azureml-train-automl~=1.37.0; extra == \"automl\"->azureml-sdk[automl]) (12.1.6)\n",
            "Requirement already satisfied, skipping upgrade: zipp>=0.5 in /anaconda/envs/azureml_py36/lib/python3.6/site-packages (from importlib-metadata<5,>=0.23; python_version == \"3.6\"->argcomplete~=1.8->azureml-core~=1.37.0->azureml-sdk[automl]) (3.6.0)\n",
            "Requirement already satisfied, skipping upgrade: typing-extensions>=3.6.4; python_version < \"3.8\" in /anaconda/envs/azureml_py36/lib/python3.6/site-packages (from importlib-metadata<5,>=0.23; python_version == \"3.6\"->argcomplete~=1.8->azureml-core~=1.37.0->azureml-sdk[automl]) (3.10.0.2)\n",
            "Requirement already satisfied, skipping upgrade: oauthlib>=3.0.0 in /anaconda/envs/azureml_py36/lib/python3.6/site-packages (from requests-oauthlib>=0.5.0->msrest<1.0.0,>=0.5.1->azureml-core~=1.37.0->azureml-sdk[automl]) (3.1.1)\n",
            "Requirement already satisfied, skipping upgrade: pycparser in /anaconda/envs/azureml_py36/lib/python3.6/site-packages (from cffi>=1.12->cryptography!=1.9,!=2.0.*,!=2.1.*,!=2.2.*,<4.0.0->azureml-core~=1.37.0->azureml-sdk[automl]) (2.20)\n",
            "Requirement already satisfied, skipping upgrade: distro>=1.2.0 in /anaconda/envs/azureml_py36/lib/python3.6/site-packages (from dotnetcore2<3.0.0,>=2.1.14->azureml-dataprep<2.26.0a,>=2.25.0a->azureml-dataset-runtime[fuse]~=1.37.0->azureml-sdk[automl]) (1.6.0)\n",
            "Requirement already satisfied, skipping upgrade: protobuf in /anaconda/envs/azureml_py36/lib/python3.6/site-packages (from onnxconverter-common<=1.6.0,>=1.4.2->azureml-automl-runtime~=1.37.0->azureml-train-automl~=1.37.0; extra == \"automl\"->azureml-sdk[automl]) (3.19.1)\n",
            "Requirement already satisfied, skipping upgrade: fire in /anaconda/envs/azureml_py36/lib/python3.6/site-packages (from keras2onnx<=1.6.0,>=1.4.0->azureml-automl-runtime~=1.37.0->azureml-train-automl~=1.37.0; extra == \"automl\"->azureml-sdk[automl]) (0.4.0)\n",
            "Requirement already satisfied, skipping upgrade: flatbuffers in /anaconda/envs/azureml_py36/lib/python3.6/site-packages (from onnxruntime<=1.8.0,>=1.3.0->azureml-automl-runtime~=1.37.0->azureml-train-automl~=1.37.0; extra == \"automl\"->azureml-sdk[automl]) (2.0)\n",
            "Requirement already satisfied, skipping upgrade: s3transfer<0.4.0,>=0.3.0 in /anaconda/envs/azureml_py36/lib/python3.6/site-packages (from boto3<=1.20.19->azureml-automl-runtime~=1.37.0->azureml-train-automl~=1.37.0; extra == \"automl\"->azureml-sdk[automl]) (0.3.7)\n",
            "Requirement already satisfied, skipping upgrade: Cython>=0.29 in /anaconda/envs/azureml_py36/lib/python3.6/site-packages (from pmdarima==1.1.1->azureml-automl-runtime~=1.37.0->azureml-train-automl~=1.37.0; extra == \"automl\"->azureml-sdk[automl]) (0.29.24)\n",
            "Requirement already satisfied, skipping upgrade: boto>=2.32 in /anaconda/envs/azureml_py36/lib/python3.6/site-packages (from smart-open<=1.9.0->azureml-automl-runtime~=1.37.0->azureml-train-automl~=1.37.0; extra == \"automl\"->azureml-sdk[automl]) (2.49.0)\n",
            "Requirement already satisfied, skipping upgrade: patsy>=0.4.0 in /anaconda/envs/azureml_py36/lib/python3.6/site-packages (from statsmodels<=0.10.2,>=0.9.0->azureml-automl-runtime~=1.37.0->azureml-train-automl~=1.37.0; extra == \"automl\"->azureml-sdk[automl]) (0.5.2)\n",
            "Requirement already satisfied, skipping upgrade: tornado>=5; python_version < \"3.8\" in /anaconda/envs/azureml_py36/lib/python3.6/site-packages (from distributed<=2.30.1->azureml-train-automl-runtime~=1.37.0->azureml-train-automl~=1.37.0; extra == \"automl\"->azureml-sdk[automl]) (6.1)\n",
            "Requirement already satisfied, skipping upgrade: tblib>=1.6.0 in /anaconda/envs/azureml_py36/lib/python3.6/site-packages (from distributed<=2.30.1->azureml-train-automl-runtime~=1.37.0->azureml-train-automl~=1.37.0; extra == \"automl\"->azureml-sdk[automl]) (1.7.0)\n",
            "Requirement already satisfied, skipping upgrade: contextvars; python_version < \"3.7\" in /anaconda/envs/azureml_py36/lib/python3.6/site-packages (from distributed<=2.30.1->azureml-train-automl-runtime~=1.37.0->azureml-train-automl~=1.37.0; extra == \"automl\"->azureml-sdk[automl]) (2.4)\n",
            "Requirement already satisfied, skipping upgrade: setuptools in /anaconda/envs/azureml_py36/lib/python3.6/site-packages (from distributed<=2.30.1->azureml-train-automl-runtime~=1.37.0->azureml-train-automl~=1.37.0; extra == \"automl\"->azureml-sdk[automl]) (50.3.0)\n",
            "Requirement already satisfied, skipping upgrade: toolz>=0.8.2 in /anaconda/envs/azureml_py36/lib/python3.6/site-packages (from distributed<=2.30.1->azureml-train-automl-runtime~=1.37.0->azureml-train-automl~=1.37.0; extra == \"automl\"->azureml-sdk[automl]) (0.11.1)\n",
            "Requirement already satisfied, skipping upgrade: click>=6.6 in /anaconda/envs/azureml_py36/lib/python3.6/site-packages (from distributed<=2.30.1->azureml-train-automl-runtime~=1.37.0->azureml-train-automl~=1.37.0; extra == \"automl\"->azureml-sdk[automl]) (8.0.3)\n",
            "Requirement already satisfied, skipping upgrade: zict>=0.1.3 in /anaconda/envs/azureml_py36/lib/python3.6/site-packages (from distributed<=2.30.1->azureml-train-automl-runtime~=1.37.0->azureml-train-automl~=1.37.0; extra == \"automl\"->azureml-sdk[automl]) (2.0.0)\n",
            "Requirement already satisfied, skipping upgrade: msgpack>=0.6.0 in /anaconda/envs/azureml_py36/lib/python3.6/site-packages (from distributed<=2.30.1->azureml-train-automl-runtime~=1.37.0->azureml-train-automl~=1.37.0; extra == \"automl\"->azureml-sdk[automl]) (1.0.2)\n",
            "Requirement already satisfied, skipping upgrade: sortedcontainers!=2.0.0,!=2.0.1 in /anaconda/envs/azureml_py36/lib/python3.6/site-packages (from distributed<=2.30.1->azureml-train-automl-runtime~=1.37.0->azureml-train-automl~=1.37.0; extra == \"automl\"->azureml-sdk[automl]) (2.4.0)\n",
            "Requirement already satisfied, skipping upgrade: mlflow-skinny in /anaconda/envs/azureml_py36/lib/python3.6/site-packages (from azureml-mlflow~=1.37.0->azureml-train-automl-runtime~=1.37.0->azureml-train-automl~=1.37.0; extra == \"automl\"->azureml-sdk[automl]) (1.21.0)\n",
            "Requirement already satisfied, skipping upgrade: partd>=0.3.10; extra == \"complete\" in /anaconda/envs/azureml_py36/lib/python3.6/site-packages (from dask[complete]<=2.30.0->azureml-train-automl-runtime~=1.37.0->azureml-train-automl~=1.37.0; extra == \"automl\"->azureml-sdk[automl]) (1.2.0)\n",
            "Requirement already satisfied, skipping upgrade: bokeh!=2.0.0,>=1.0.0; extra == \"complete\" in /anaconda/envs/azureml_py36/lib/python3.6/site-packages (from dask[complete]<=2.30.0->azureml-train-automl-runtime~=1.37.0->azureml-train-automl~=1.37.0; extra == \"automl\"->azureml-sdk[automl]) (2.3.3)\n",
            "Requirement already satisfied, skipping upgrade: fsspec>=0.6.0; extra == \"complete\" in /anaconda/envs/azureml_py36/lib/python3.6/site-packages (from dask[complete]<=2.30.0->azureml-train-automl-runtime~=1.37.0->azureml-train-automl~=1.37.0; extra == \"automl\"->azureml-sdk[automl]) (2021.10.1)\n",
            "Requirement already satisfied, skipping upgrade: interpret-community==0.22.* in /anaconda/envs/azureml_py36/lib/python3.6/site-packages (from azureml-interpret~=1.37.0->azureml-train-automl-runtime~=1.37.0->azureml-train-automl~=1.37.0; extra == \"automl\"->azureml-sdk[automl]) (0.22.0)\n",
            "Requirement already satisfied, skipping upgrade: numba<0.54.0 in /anaconda/envs/azureml_py36/lib/python3.6/site-packages (from azureml-interpret~=1.37.0->azureml-train-automl-runtime~=1.37.0->azureml-train-automl~=1.37.0; extra == \"automl\"->azureml-sdk[automl]) (0.53.1)\n",
            "Requirement already satisfied, skipping upgrade: shap<0.40.0 in /anaconda/envs/azureml_py36/lib/python3.6/site-packages (from azureml-interpret~=1.37.0->azureml-train-automl-runtime~=1.37.0->azureml-train-automl~=1.37.0; extra == \"automl\"->azureml-sdk[automl]) (0.39.0)\n",
            "Requirement already satisfied, skipping upgrade: azureml-inference-server-http~=0.4.1 in /anaconda/envs/azureml_py36/lib/python3.6/site-packages (from azureml-defaults~=1.37.0->azureml-train-automl-runtime~=1.37.0->azureml-train-automl~=1.37.0; extra == \"automl\"->azureml-sdk[automl]) (0.4.1)\n",
            "Requirement already satisfied, skipping upgrade: configparser==3.7.4 in /anaconda/envs/azureml_py36/lib/python3.6/site-packages (from azureml-defaults~=1.37.0->azureml-train-automl-runtime~=1.37.0->azureml-train-automl~=1.37.0; extra == \"automl\"->azureml-sdk[automl]) (3.7.4)\n",
            "Requirement already satisfied, skipping upgrade: json-logging-py==0.2 in /anaconda/envs/azureml_py36/lib/python3.6/site-packages (from azureml-defaults~=1.37.0->azureml-train-automl-runtime~=1.37.0->azureml-train-automl~=1.37.0; extra == \"automl\"->azureml-sdk[automl]) (0.2)\n",
            "Requirement already satisfied, skipping upgrade: MarkupSafe>=0.23 in /anaconda/envs/azureml_py36/lib/python3.6/site-packages (from jinja2<=2.11.2->azureml-train-automl-runtime~=1.37.0->azureml-train-automl~=1.37.0; extra == \"automl\"->azureml-sdk[automl]) (2.0.1)\n",
            "Requirement already satisfied, skipping upgrade: termcolor in /anaconda/envs/azureml_py36/lib/python3.6/site-packages (from fire->keras2onnx<=1.6.0,>=1.4.0->azureml-automl-runtime~=1.37.0->azureml-train-automl~=1.37.0; extra == \"automl\"->azureml-sdk[automl]) (1.1.0)\n",
            "Requirement already satisfied, skipping upgrade: immutables>=0.9 in /anaconda/envs/azureml_py36/lib/python3.6/site-packages (from contextvars; python_version < \"3.7\"->distributed<=2.30.1->azureml-train-automl-runtime~=1.37.0->azureml-train-automl~=1.37.0; extra == \"automl\"->azureml-sdk[automl]) (0.16)\n",
            "Requirement already satisfied, skipping upgrade: heapdict in /anaconda/envs/azureml_py36/lib/python3.6/site-packages (from zict>=0.1.3->distributed<=2.30.1->azureml-train-automl-runtime~=1.37.0->azureml-train-automl~=1.37.0; extra == \"automl\"->azureml-sdk[automl]) (1.0.1)\n",
            "Requirement already satisfied, skipping upgrade: databricks-cli>=0.8.7 in /anaconda/envs/azureml_py36/lib/python3.6/site-packages (from mlflow-skinny->azureml-mlflow~=1.37.0->azureml-train-automl-runtime~=1.37.0->azureml-train-automl~=1.37.0; extra == \"automl\"->azureml-sdk[automl]) (0.16.2)\n",
            "Requirement already satisfied, skipping upgrade: entrypoints in /anaconda/envs/azureml_py36/lib/python3.6/site-packages (from mlflow-skinny->azureml-mlflow~=1.37.0->azureml-train-automl-runtime~=1.37.0->azureml-train-automl~=1.37.0; extra == \"automl\"->azureml-sdk[automl]) (0.3)\n",
            "Requirement already satisfied, skipping upgrade: gitpython>=2.1.0 in /anaconda/envs/azureml_py36/lib/python3.6/site-packages (from mlflow-skinny->azureml-mlflow~=1.37.0->azureml-train-automl-runtime~=1.37.0->azureml-train-automl~=1.37.0; extra == \"automl\"->azureml-sdk[automl]) (3.1.18)\n",
            "Requirement already satisfied, skipping upgrade: locket in /anaconda/envs/azureml_py36/lib/python3.6/site-packages (from partd>=0.3.10; extra == \"complete\"->dask[complete]<=2.30.0->azureml-train-automl-runtime~=1.37.0->azureml-train-automl~=1.37.0; extra == \"automl\"->azureml-sdk[automl]) (0.2.1)\n",
            "Requirement already satisfied, skipping upgrade: pillow>=7.1.0 in /anaconda/envs/azureml_py36/lib/python3.6/site-packages (from bokeh!=2.0.0,>=1.0.0; extra == \"complete\"->dask[complete]<=2.30.0->azureml-train-automl-runtime~=1.37.0->azureml-train-automl~=1.37.0; extra == \"automl\"->azureml-sdk[automl]) (8.0.0)\n",
            "Requirement already satisfied, skipping upgrade: interpret-core[required]<=0.2.7,>=0.1.20 in /anaconda/envs/azureml_py36/lib/python3.6/site-packages (from interpret-community==0.22.*->azureml-interpret~=1.37.0->azureml-train-automl-runtime~=1.37.0->azureml-train-automl~=1.37.0; extra == \"automl\"->azureml-sdk[automl]) (0.2.6)\n",
            "Requirement already satisfied, skipping upgrade: llvmlite<0.37,>=0.36.0rc1 in /anaconda/envs/azureml_py36/lib/python3.6/site-packages (from numba<0.54.0->azureml-interpret~=1.37.0->azureml-train-automl-runtime~=1.37.0->azureml-train-automl~=1.37.0; extra == \"automl\"->azureml-sdk[automl]) (0.36.0)\n",
            "Requirement already satisfied, skipping upgrade: tqdm>4.25.0 in /anaconda/envs/azureml_py36/lib/python3.6/site-packages (from shap<0.40.0->azureml-interpret~=1.37.0->azureml-train-automl-runtime~=1.37.0->azureml-train-automl~=1.37.0; extra == \"automl\"->azureml-sdk[automl]) (4.62.3)\n",
            "Requirement already satisfied, skipping upgrade: slicer==0.0.7 in /anaconda/envs/azureml_py36/lib/python3.6/site-packages (from shap<0.40.0->azureml-interpret~=1.37.0->azureml-train-automl-runtime~=1.37.0->azureml-train-automl~=1.37.0; extra == \"automl\"->azureml-sdk[automl]) (0.0.7)\n",
            "Requirement already satisfied, skipping upgrade: flask==1.0.3 in /anaconda/envs/azureml_py36/lib/python3.6/site-packages (from azureml-inference-server-http~=0.4.1->azureml-defaults~=1.37.0->azureml-train-automl-runtime~=1.37.0->azureml-train-automl~=1.37.0; extra == \"automl\"->azureml-sdk[automl]) (1.0.3)\n",
            "Requirement already satisfied, skipping upgrade: inference-schema==1.3.0 in /anaconda/envs/azureml_py36/lib/python3.6/site-packages (from azureml-inference-server-http~=0.4.1->azureml-defaults~=1.37.0->azureml-train-automl-runtime~=1.37.0->azureml-train-automl~=1.37.0; extra == \"automl\"->azureml-sdk[automl]) (1.3.0)\n",
            "Requirement already satisfied, skipping upgrade: gunicorn==20.1.0; platform_system != \"Windows\" in /anaconda/envs/azureml_py36/lib/python3.6/site-packages (from azureml-inference-server-http~=0.4.1->azureml-defaults~=1.37.0->azureml-train-automl-runtime~=1.37.0->azureml-train-automl~=1.37.0; extra == \"automl\"->azureml-sdk[automl]) (20.1.0)\n",
            "Requirement already satisfied, skipping upgrade: gitdb<5,>=4.0.1 in /anaconda/envs/azureml_py36/lib/python3.6/site-packages (from gitpython>=2.1.0->mlflow-skinny->azureml-mlflow~=1.37.0->azureml-train-automl-runtime~=1.37.0->azureml-train-automl~=1.37.0; extra == \"automl\"->azureml-sdk[automl]) (4.0.9)\n",
            "Requirement already satisfied, skipping upgrade: Werkzeug>=0.14 in /anaconda/envs/azureml_py36/lib/python3.6/site-packages (from flask==1.0.3->azureml-inference-server-http~=0.4.1->azureml-defaults~=1.37.0->azureml-train-automl-runtime~=1.37.0->azureml-train-automl~=1.37.0; extra == \"automl\"->azureml-sdk[automl]) (2.0.2)\n",
            "Requirement already satisfied, skipping upgrade: itsdangerous>=0.24 in /anaconda/envs/azureml_py36/lib/python3.6/site-packages (from flask==1.0.3->azureml-inference-server-http~=0.4.1->azureml-defaults~=1.37.0->azureml-train-automl-runtime~=1.37.0->azureml-train-automl~=1.37.0; extra == \"automl\"->azureml-sdk[automl]) (2.0.1)\n",
            "Requirement already satisfied, skipping upgrade: wrapt<=1.12.1,>=1.11.1 in /anaconda/envs/azureml_py36/lib/python3.6/site-packages (from inference-schema==1.3.0->azureml-inference-server-http~=0.4.1->azureml-defaults~=1.37.0->azureml-train-automl-runtime~=1.37.0->azureml-train-automl~=1.37.0; extra == \"automl\"->azureml-sdk[automl]) (1.12.1)\n",
            "Requirement already satisfied, skipping upgrade: smmap<6,>=3.0.1 in /anaconda/envs/azureml_py36/lib/python3.6/site-packages (from gitdb<5,>=4.0.1->gitpython>=2.1.0->mlflow-skinny->azureml-mlflow~=1.37.0->azureml-train-automl-runtime~=1.37.0->azureml-train-automl~=1.37.0; extra == \"automl\"->azureml-sdk[automl]) (5.0.0)\n"
          ]
        }
      ],
      "source": [
        "# In order to avoid problems with different SDK versions during AutoML training and later serving of the model in the compute cluster I update the SDK version of AutoML.\n",
        "# It is important to use Python 3.6 as it is, at this moment the compatible version with the latest version of AutoML SDK.\n",
        "\n",
        "import sys\n",
        "\n",
        "! {sys.executable} -m pip install --upgrade azureml-sdk[automl]"
      ]
    },
    {
      "cell_type": "code",
      "execution_count": 2,
      "metadata": {
        "gather": {
          "logged": 1639594734702
        }
      },
      "outputs": [],
      "source": [
        "from azureml.core import Workspace, Experiment\n",
        "from azureml.core.compute import ComputeTarget, AmlCompute\n",
        "from azureml.core.compute_target import ComputeTargetException\n",
        "from azureml.widgets import RunDetails\n",
        "from azureml.data.dataset_factory import TabularDatasetFactory\n",
        "from azureml.train.automl import AutoMLConfig\n",
        "from azureml.core.dataset import Dataset\n",
        "from azureml.core import Datastore\n",
        "import joblib\n",
        "from pprint import pprint\n",
        "import requests\n",
        "import json\n",
        "import pandas as pd\n",
        "from azureml.core import Model\n",
        "from azureml.core.resource_configuration import ResourceConfiguration\n",
        "from azureml.core import Environment\n",
        "from azureml.core.conda_dependencies import CondaDependencies\n",
        "from azureml.core.model import InferenceConfig\n",
        "from azureml.core.webservice import AciWebservice\n",
        "\n"
      ]
    },
    {
      "cell_type": "markdown",
      "metadata": {},
      "source": [
        "## Dataset\n",
        "\n",
        "### Overview\n",
        "\n",
        "We are going to configure our workspace so we can register our dataset and create a compute cluster for the AutoML training and deployment of our model.\n",
        "\n",
        "The dataset we will be using is the \"Heart failure prediction dataset\" from Kaggle (https://www.kaggle.com/fedesoriano/heart-failure-prediction). This dataset tries to help in the early detection of severe heart diseases by studying the way several health indicators affect the occurrence of such diseases. This dataset is a combination of 5 different datasets about this kind of diseases (more information in the Kaggle url provided earlier). \n",
        "\n",
        "A copy of the dataset is provided in the Github repository but it is also possible to access it by an url."
      ]
    },
    {
      "cell_type": "code",
      "execution_count": 3,
      "metadata": {
        "gather": {
          "logged": 1639594745969
        },
        "jupyter": {
          "outputs_hidden": false,
          "source_hidden": false
        },
        "nteract": {
          "transient": {
            "deleting": false
          }
        }
      },
      "outputs": [
        {
          "name": "stdout",
          "output_type": "stream",
          "text": [
            "Workspace name: quick-starts-ws-165840\n",
            "Azure region: southcentralus\n",
            "Subscription id: 1b944a9b-fdae-4f97-aeb1-b7eea0beac53\n",
            "Resource group: aml-quickstarts-165840\n"
          ]
        }
      ],
      "source": [
        "ws = Workspace.from_config()\n",
        "\n",
        "# choose a name for experiment\n",
        "experiment_name = 'Udacitycapsproject'\n",
        "\n",
        "experiment=Experiment(ws, experiment_name)\n",
        "\n",
        "print('Workspace name: ' + ws.name, \n",
        "      'Azure region: ' + ws.location, \n",
        "      'Subscription id: ' + ws.subscription_id, \n",
        "      'Resource group: ' + ws.resource_group, sep = '\\n')\n",
        "\n",
        "run = experiment.start_logging()"
      ]
    },
    {
      "cell_type": "code",
      "execution_count": 4,
      "metadata": {
        "gather": {
          "logged": 1639594764966
        }
      },
      "outputs": [
        {
          "name": "stdout",
          "output_type": "stream",
          "text": [
            "InProgress..\n",
            "SucceededProvisioning operation finished, operation \"Succeeded\"\n",
            "Succeeded\n",
            "AmlCompute wait for completion finished\n",
            "\n",
            "Minimum number of nodes requested have been provisioned\n"
          ]
        }
      ],
      "source": [
        "cluster_name=\"udacityprojclust\"\n",
        "\n",
        "try:\n",
        "    cpu_cluster = ComputeTarget(workspace=ws, name=cluster_name)\n",
        "    print('cpu cluster already exist. Using it.')\n",
        "except ComputeTargetException:\n",
        "\n",
        "    compute_config = AmlCompute.provisioning_configuration(vm_size='Standard_D2_V2', max_nodes=6)\n",
        "    cpu_cluster = ComputeTarget.create(ws, cluster_name, compute_config)\n",
        "\n",
        "cpu_cluster.wait_for_completion(show_output=True)"
      ]
    },
    {
      "cell_type": "code",
      "execution_count": 5,
      "metadata": {
        "gather": {
          "logged": 1639594782099
        }
      },
      "outputs": [
        {
          "name": "stdout",
          "output_type": "stream",
          "text": [
            "Validating arguments.\n",
            "Arguments validated.\n",
            "Successfully obtained datastore reference and path.\n",
            "Uploading file to managed-dataset/0d756e86-4060-4920-931e-34050bc2f170/\n",
            "Successfully uploaded file to datastore.\n",
            "Creating and registering a new dataset.\n",
            "Successfully created and registered a new dataset.\n"
          ]
        }
      ],
      "source": [
        "data = pd.read_csv('./heart.csv')\n",
        "datastore = Datastore.get(ws, 'workspaceblobstore')\n",
        "\n",
        "dataset = TabularDatasetFactory.register_pandas_dataframe(data, target=datastore, name='udacitycapsprojdata')"
      ]
    },
    {
      "cell_type": "markdown",
      "metadata": {},
      "source": [
        "## AutoML Configuration\n",
        "\n",
        "The task we need to develop with AutoML is a classification, we will be using a yes or no label in the dataset that is 'HeartDisease'. With the settings we try to define the AutoML work to give the best results but optimizing the resource consumption. So we have selected AUC metric to handle in the best possible way if there are some imbalance in the dataset and we also generate a number of 5 folds to assure a proper evaluation of the model, we have also enabled an early stopping policy and fixed the experiment timeout to optimize the use of the compute cluster. "
      ]
    },
    {
      "cell_type": "code",
      "execution_count": 6,
      "metadata": {
        "gather": {
          "logged": 1639594788264
        },
        "jupyter": {
          "outputs_hidden": false,
          "source_hidden": false
        },
        "nteract": {
          "transient": {
            "deleting": false
          }
        }
      },
      "outputs": [],
      "source": [
        "# automl settings\n",
        "automl_settings = {\n",
        "       \"n_cross_validations\": 5,\n",
        "       \"primary_metric\": 'AUC_weighted',\n",
        "       \"enable_early_stopping\": True,\n",
        "       \"experiment_timeout_hours\": 1.0,\n",
        "       \"iterations\" : 10,\n",
        "       \"max_concurrent_iterations\": 5,\n",
        "       \"max_cores_per_iteration\": -1,\n",
        "       \"enable_onnx_compatible_models\": True,\n",
        "       \"blocked_models\": ['XGBoostClassifier'],\n",
        "       \"verbosity\": logging.INFO}\n",
        "\n",
        "# automl config\n",
        "automl_config = AutoMLConfig(task = 'classification',\n",
        "                               compute_target = cluster_name,\n",
        "                               training_data = dataset,\n",
        "                               label_column_name = 'HeartDisease',\n",
        "                               **automl_settings)"
      ]
    },
    {
      "cell_type": "code",
      "execution_count": 7,
      "metadata": {
        "gather": {
          "logged": 1639594802743
        },
        "jupyter": {
          "outputs_hidden": false,
          "source_hidden": false
        },
        "nteract": {
          "transient": {
            "deleting": false
          }
        }
      },
      "outputs": [
        {
          "name": "stdout",
          "output_type": "stream",
          "text": [
            "Submitting remote run.\n"
          ]
        },
        {
          "data": {
            "text/html": [
              "<table style=\"width:100%\"><tr><th>Experiment</th><th>Id</th><th>Type</th><th>Status</th><th>Details Page</th><th>Docs Page</th></tr><tr><td>Udacitycapsproject</td><td>AutoML_ccfb51fe-ab0e-431f-be76-f7fbfa577173</td><td>automl</td><td>NotStarted</td><td><a href=\"https://ml.azure.com/runs/AutoML_ccfb51fe-ab0e-431f-be76-f7fbfa577173?wsid=/subscriptions/1b944a9b-fdae-4f97-aeb1-b7eea0beac53/resourcegroups/aml-quickstarts-165840/workspaces/quick-starts-ws-165840&amp;tid=660b3398-b80e-49d2-bc5b-ac1dc93b5254\" target=\"_blank\" rel=\"noopener\">Link to Azure Machine Learning studio</a></td><td><a href=\"https://docs.microsoft.com/en-us/python/api/overview/azure/ml/intro?view=azure-ml-py\" target=\"_blank\" rel=\"noopener\">Link to Documentation</a></td></tr></table>"
            ],
            "text/plain": [
              "<IPython.core.display.HTML object>"
            ]
          },
          "metadata": {},
          "output_type": "display_data"
        }
      ],
      "source": [
        "# Submit the AutoML experiment\n",
        "remote_run = experiment.submit(automl_config)"
      ]
    },
    {
      "cell_type": "markdown",
      "metadata": {},
      "source": [
        "## Run Details\n",
        "\n",
        "In the cell below, we are getting the details from the experiment run using `RunDetails` widget."
      ]
    },
    {
      "cell_type": "code",
      "execution_count": 8,
      "metadata": {
        "gather": {
          "logged": 1639594805823
        },
        "jupyter": {
          "outputs_hidden": false,
          "source_hidden": false
        },
        "nteract": {
          "transient": {
            "deleting": false
          }
        }
      },
      "outputs": [
        {
          "data": {
            "application/vnd.jupyter.widget-view+json": {
              "model_id": "63fefa232a0c42c4801774fec9dec6f2",
              "version_major": 2,
              "version_minor": 0
            },
            "text/plain": [
              "_AutoMLWidget(widget_settings={'childWidgetDisplay': 'popup', 'send_telemetry': False, 'log_level': 'INFO', 's…"
            ]
          },
          "metadata": {},
          "output_type": "display_data"
        },
        {
          "data": {
            "application/aml.mini.widget.v1": "{\"status\": \"Completed\", \"workbench_run_details_uri\": \"https://ml.azure.com/runs/AutoML_ccfb51fe-ab0e-431f-be76-f7fbfa577173?wsid=/subscriptions/1b944a9b-fdae-4f97-aeb1-b7eea0beac53/resourcegroups/aml-quickstarts-165840/workspaces/quick-starts-ws-165840&tid=660b3398-b80e-49d2-bc5b-ac1dc93b5254\", \"run_id\": \"AutoML_ccfb51fe-ab0e-431f-be76-f7fbfa577173\", \"run_properties\": {\"run_id\": \"AutoML_ccfb51fe-ab0e-431f-be76-f7fbfa577173\", \"created_utc\": \"2021-12-15T19:00:01.637789Z\", \"properties\": {\"num_iterations\": \"10\", \"training_type\": \"TrainFull\", \"acquisition_function\": \"EI\", \"primary_metric\": \"AUC_weighted\", \"train_split\": \"0\", \"acquisition_parameter\": \"0\", \"num_cross_validation\": \"5\", \"target\": \"udacityprojclust\", \"AMLSettingsJsonString\": \"{\\\"path\\\":null,\\\"name\\\":\\\"Udacitycapsproject\\\",\\\"subscription_id\\\":\\\"1b944a9b-fdae-4f97-aeb1-b7eea0beac53\\\",\\\"resource_group\\\":\\\"aml-quickstarts-165840\\\",\\\"workspace_name\\\":\\\"quick-starts-ws-165840\\\",\\\"region\\\":\\\"southcentralus\\\",\\\"compute_target\\\":\\\"udacityprojclust\\\",\\\"spark_service\\\":null,\\\"azure_service\\\":\\\"remote\\\",\\\"many_models\\\":false,\\\"pipeline_fetch_max_batch_size\\\":1,\\\"enable_batch_run\\\":false,\\\"enable_run_restructure\\\":false,\\\"start_auxiliary_runs_before_parent_complete\\\":false,\\\"enable_code_generation\\\":false,\\\"iterations\\\":10,\\\"primary_metric\\\":\\\"AUC_weighted\\\",\\\"task_type\\\":\\\"classification\\\",\\\"positive_label\\\":null,\\\"data_script\\\":null,\\\"test_size\\\":0.0,\\\"test_include_predictions_only\\\":false,\\\"validation_size\\\":0.0,\\\"n_cross_validations\\\":5,\\\"y_min\\\":null,\\\"y_max\\\":null,\\\"num_classes\\\":null,\\\"featurization\\\":\\\"auto\\\",\\\"_ignore_package_version_incompatibilities\\\":false,\\\"is_timeseries\\\":false,\\\"max_cores_per_iteration\\\":-1,\\\"max_concurrent_iterations\\\":5,\\\"iteration_timeout_minutes\\\":null,\\\"mem_in_mb\\\":null,\\\"enforce_time_on_windows\\\":false,\\\"experiment_timeout_minutes\\\":60,\\\"experiment_exit_score\\\":null,\\\"whitelist_models\\\":null,\\\"blacklist_algos\\\":[\\\"XGBoostClassifier\\\",\\\"TensorFlowLinearClassifier\\\",\\\"TensorFlowDNN\\\"],\\\"supported_models\\\":[\\\"AveragedPerceptronClassifier\\\",\\\"MultinomialNaiveBayes\\\",\\\"KNN\\\",\\\"RandomForest\\\",\\\"XGBoostClassifier\\\",\\\"TensorFlowLinearClassifier\\\",\\\"ExtremeRandomTrees\\\",\\\"LightGBM\\\",\\\"TensorFlowDNN\\\",\\\"SVM\\\",\\\"BernoulliNaiveBayes\\\",\\\"GradientBoosting\\\",\\\"LinearSVM\\\",\\\"DecisionTree\\\",\\\"SGD\\\",\\\"LogisticRegression\\\"],\\\"private_models\\\":[\\\"TabnetClassifier\\\"],\\\"auto_blacklist\\\":true,\\\"blacklist_samples_reached\\\":false,\\\"exclude_nan_labels\\\":true,\\\"verbosity\\\":20,\\\"_debug_log\\\":\\\"azureml_automl.log\\\",\\\"show_warnings\\\":false,\\\"model_explainability\\\":true,\\\"service_url\\\":null,\\\"sdk_url\\\":null,\\\"sdk_packages\\\":null,\\\"enable_onnx_compatible_models\\\":true,\\\"enable_split_onnx_featurizer_estimator_models\\\":false,\\\"vm_type\\\":\\\"STANDARD_D2_V2\\\",\\\"telemetry_verbosity\\\":20,\\\"send_telemetry\\\":true,\\\"enable_dnn\\\":false,\\\"scenario\\\":\\\"SDK-1.13.0\\\",\\\"environment_label\\\":null,\\\"save_mlflow\\\":false,\\\"enable_categorical_indicators\\\":false,\\\"force_text_dnn\\\":false,\\\"enable_feature_sweeping\\\":false,\\\"enable_early_stopping\\\":true,\\\"early_stopping_n_iters\\\":10,\\\"arguments\\\":null,\\\"dataset_id\\\":null,\\\"hyperdrive_config\\\":null,\\\"validation_dataset_id\\\":null,\\\"run_source\\\":null,\\\"metrics\\\":null,\\\"enable_metric_confidence\\\":false,\\\"enable_ensembling\\\":true,\\\"enable_stack_ensembling\\\":false,\\\"ensemble_iterations\\\":10,\\\"enable_tf\\\":false,\\\"enable_subsampling\\\":false,\\\"subsample_seed\\\":null,\\\"enable_nimbusml\\\":false,\\\"enable_streaming\\\":false,\\\"force_streaming\\\":false,\\\"track_child_runs\\\":true,\\\"allowed_private_models\\\":[],\\\"label_column_name\\\":\\\"HeartDisease\\\",\\\"weight_column_name\\\":null,\\\"cv_split_column_names\\\":null,\\\"enable_local_managed\\\":false,\\\"_local_managed_run_id\\\":null,\\\"cost_mode\\\":1,\\\"lag_length\\\":0,\\\"metric_operation\\\":\\\"maximize\\\",\\\"preprocess\\\":true}\", \"DataPrepJsonString\": \"{\\\\\\\"training_data\\\\\\\": {\\\\\\\"datasetId\\\\\\\": \\\\\\\"cc8aeb6f-c199-4c49-9422-2711685e08fd\\\\\\\"}, \\\\\\\"datasets\\\\\\\": 0}\", \"EnableSubsampling\": \"False\", \"runTemplate\": \"AutoML\", \"azureml.runsource\": \"automl\", \"display_task_type\": \"classification\", \"dependencies_versions\": \"{\\\"azureml-widgets\\\": \\\"1.36.0\\\", \\\"azureml-train\\\": \\\"1.36.0\\\", \\\"azureml-train-restclients-hyperdrive\\\": \\\"1.37.0\\\", \\\"azureml-train-core\\\": \\\"1.37.0\\\", \\\"azureml-train-automl\\\": \\\"1.37.0\\\", \\\"azureml-train-automl-runtime\\\": \\\"1.37.0\\\", \\\"azureml-train-automl-client\\\": \\\"1.37.0\\\", \\\"azureml-tensorboard\\\": \\\"1.36.0\\\", \\\"azureml-telemetry\\\": \\\"1.37.0\\\", \\\"azureml-sdk\\\": \\\"1.37.0\\\", \\\"azureml-samples\\\": \\\"0+unknown\\\", \\\"azureml-responsibleai\\\": \\\"1.36.0\\\", \\\"azureml-pipeline\\\": \\\"1.37.0\\\", \\\"azureml-pipeline-steps\\\": \\\"1.37.0\\\", \\\"azureml-pipeline-core\\\": \\\"1.37.0\\\", \\\"azureml-opendatasets\\\": \\\"1.36.0\\\", \\\"azureml-mlflow\\\": \\\"1.37.0\\\", \\\"azureml-interpret\\\": \\\"1.37.0\\\", \\\"azureml-inference-server-http\\\": \\\"0.4.1\\\", \\\"azureml-explain-model\\\": \\\"1.36.0\\\", \\\"azureml-defaults\\\": \\\"1.37.0\\\", \\\"azureml-dataset-runtime\\\": \\\"1.37.0\\\", \\\"azureml-dataprep\\\": \\\"2.25.2\\\", \\\"azureml-dataprep-rslex\\\": \\\"2.1.1\\\", \\\"azureml-dataprep-native\\\": \\\"38.0.0\\\", \\\"azureml-datadrift\\\": \\\"1.36.0\\\", \\\"azureml-core\\\": \\\"1.37.0\\\", \\\"azureml-contrib-services\\\": \\\"1.36.0\\\", \\\"azureml-contrib-server\\\": \\\"1.36.0\\\", \\\"azureml-contrib-reinforcementlearning\\\": \\\"1.36.0\\\", \\\"azureml-contrib-pipeline-steps\\\": \\\"1.36.0\\\", \\\"azureml-contrib-notebook\\\": \\\"1.36.0\\\", \\\"azureml-contrib-fairness\\\": \\\"1.36.0\\\", \\\"azureml-contrib-dataset\\\": \\\"1.36.0\\\", \\\"azureml-contrib-automl-pipeline-steps\\\": \\\"1.36.0\\\", \\\"azureml-cli-common\\\": \\\"1.36.0\\\", \\\"azureml-automl-runtime\\\": \\\"1.37.0\\\", \\\"azureml-automl-dnn-nlp\\\": \\\"1.36.0\\\", \\\"azureml-automl-core\\\": \\\"1.37.0\\\", \\\"azureml-accel-models\\\": \\\"1.36.0\\\"}\", \"_aml_system_scenario_identification\": \"Remote.Parent\", \"ClientType\": \"SDK\", \"environment_cpu_name\": \"AzureML-AutoML\", \"environment_cpu_label\": \"prod\", \"environment_gpu_name\": \"AzureML-AutoML-GPU\", \"environment_gpu_label\": \"prod\", \"root_attribution\": \"automl\", \"attribution\": \"AutoML\", \"Orchestrator\": \"AutoML\", \"CancelUri\": \"https://southcentralus.api.azureml.ms/jasmine/v1.0/subscriptions/1b944a9b-fdae-4f97-aeb1-b7eea0beac53/resourceGroups/aml-quickstarts-165840/providers/Microsoft.MachineLearningServices/workspaces/quick-starts-ws-165840/experimentids/3b9b5e14-8b7b-409a-a5c3-d4d8c59e4651/cancel/AutoML_ccfb51fe-ab0e-431f-be76-f7fbfa577173\", \"ClientSdkVersion\": \"1.36.1\", \"snapshotId\": \"00000000-0000-0000-0000-000000000000\", \"SetupRunId\": \"AutoML_ccfb51fe-ab0e-431f-be76-f7fbfa577173_setup\", \"SetupRunContainerId\": \"dcid.AutoML_ccfb51fe-ab0e-431f-be76-f7fbfa577173_setup\", \"FeaturizationRunJsonPath\": \"featurizer_container.json\", \"FeaturizationRunId\": \"AutoML_ccfb51fe-ab0e-431f-be76-f7fbfa577173_featurize\", \"ProblemInfoJsonString\": \"{\\\"dataset_num_categorical\\\": 0, \\\"is_sparse\\\": true, \\\"subsampling\\\": false, \\\"has_extra_col\\\": true, \\\"dataset_classes\\\": 2, \\\"dataset_features\\\": 18, \\\"dataset_samples\\\": 918, \\\"single_frequency_class_detected\\\": false}\", \"ModelExplainRunId\": \"AutoML_ccfb51fe-ab0e-431f-be76-f7fbfa577173_ModelExplain\"}, \"tags\": {\"model_explain_run\": \"best_run\", \"_aml_system_azureml.automlComponent\": \"AutoML\", \"pipeline_id\": \"\", \"score\": \"\", \"predicted_cost\": \"\", \"fit_time\": \"\", \"training_percent\": \"\", \"iteration\": \"\", \"run_preprocessor\": \"\", \"run_algorithm\": \"\", \"automl_best_child_run_id\": \"AutoML_ccfb51fe-ab0e-431f-be76-f7fbfa577173_9\", \"model_explain_best_run_child_id\": \"AutoML_ccfb51fe-ab0e-431f-be76-f7fbfa577173_9\"}, \"end_time_utc\": \"2021-12-15T19:11:07.972584Z\", \"status\": \"Completed\", \"log_files\": {}, \"log_groups\": [], \"run_duration\": \"0:11:06\", \"run_number\": \"2\", \"run_queued_details\": {\"status\": \"Completed\", \"details\": null}}, \"child_runs\": [{\"run_id\": \"AutoML_ccfb51fe-ab0e-431f-be76-f7fbfa577173_setup\", \"run_number\": 3, \"metric\": null, \"status\": \"Completed\", \"run_type\": \"azureml.scriptrun\", \"training_percent\": null, \"start_time\": \"2021-12-15T19:04:19.286852Z\", \"end_time\": \"2021-12-15T19:04:19.68969Z\", \"created_time\": \"2021-12-15T19:00:14.12822Z\", \"created_time_dt\": \"2021-12-15T19:00:14.12822Z\", \"duration\": \"0:04:05\", \"iteration\": null, \"goal\": null, \"run_name\": \"Completed\", \"run_properties\": null}, {\"run_id\": \"AutoML_ccfb51fe-ab0e-431f-be76-f7fbfa577173_featurize\", \"run_number\": 4, \"metric\": null, \"status\": \"Completed\", \"run_type\": \"automl.featurization\", \"training_percent\": null, \"start_time\": \"2021-12-15T19:04:20.549582Z\", \"end_time\": \"2021-12-15T19:05:33.37915Z\", \"created_time\": \"2021-12-15T19:04:20.100699Z\", \"created_time_dt\": \"2021-12-15T19:04:20.100699Z\", \"duration\": \"0:01:13\", \"iteration\": null, \"goal\": null, \"run_name\": \"Completed\", \"run_properties\": null}, {\"run_id\": \"AutoML_ccfb51fe-ab0e-431f-be76-f7fbfa577173_0\", \"run_number\": 6, \"metric\": null, \"status\": \"Completed\", \"run_type\": \"azureml.scriptrun\", \"training_percent\": \"100\", \"start_time\": \"2021-12-15T19:05:34.676184Z\", \"end_time\": \"2021-12-15T19:07:33.824155Z\", \"created_time\": \"2021-12-15T19:05:34.676184Z\", \"created_time_dt\": \"2021-12-15T19:05:34.676184Z\", \"duration\": \"0:01:59\", \"iteration\": \"0\", \"goal\": \"AUC_weighted_max\", \"run_name\": \"MaxAbsScaler, LightGBM\", \"run_properties\": \"copy=True\", \"primary_metric\": 0.92411259, \"best_metric\": 0.92411259}, {\"run_id\": \"AutoML_ccfb51fe-ab0e-431f-be76-f7fbfa577173_2\", \"run_number\": 7, \"metric\": null, \"status\": \"Completed\", \"run_type\": \"azureml.scriptrun\", \"training_percent\": \"100\", \"start_time\": \"2021-12-15T19:05:34.687524Z\", \"end_time\": \"2021-12-15T19:07:03.716261Z\", \"created_time\": \"2021-12-15T19:05:34.687524Z\", \"created_time_dt\": \"2021-12-15T19:05:34.687524Z\", \"duration\": \"0:01:29\", \"iteration\": \"2\", \"goal\": \"AUC_weighted_max\", \"run_name\": \"MaxAbsScaler, RandomForest\", \"run_properties\": \"copy=True\", \"primary_metric\": 0.9261354, \"best_metric\": 0.9261354}, {\"run_id\": \"AutoML_ccfb51fe-ab0e-431f-be76-f7fbfa577173_3\", \"run_number\": 8, \"metric\": null, \"status\": \"Completed\", \"run_type\": \"azureml.scriptrun\", \"training_percent\": \"100\", \"start_time\": \"2021-12-15T19:05:34.697917Z\", \"end_time\": \"2021-12-15T19:06:05.844209Z\", \"created_time\": \"2021-12-15T19:05:34.697917Z\", \"created_time_dt\": \"2021-12-15T19:05:34.697917Z\", \"duration\": \"0:00:31\", \"iteration\": \"3\", \"goal\": \"AUC_weighted_max\", \"run_name\": \"StandardScalerWrapper, LightGBM\", \"run_properties\": \"\\n    copy=True,\\n    with_mean=False,\\n    with_std=True\\n\", \"primary_metric\": 0.93119302, \"best_metric\": 0.93119302}, {\"run_id\": \"AutoML_ccfb51fe-ab0e-431f-be76-f7fbfa577173_1\", \"run_number\": 9, \"metric\": null, \"status\": \"Completed\", \"run_type\": \"azureml.scriptrun\", \"training_percent\": \"100\", \"start_time\": \"2021-12-15T19:05:34.696061Z\", \"end_time\": \"2021-12-15T19:06:36.172087Z\", \"created_time\": \"2021-12-15T19:05:34.696061Z\", \"created_time_dt\": \"2021-12-15T19:05:34.696061Z\", \"duration\": \"0:01:01\", \"iteration\": \"1\", \"goal\": \"AUC_weighted_max\", \"run_name\": \"MaxAbsScaler, ExtremeRandomTrees\", \"run_properties\": \"copy=True\", \"primary_metric\": 0.92192875, \"best_metric\": 0.92411259}, {\"run_id\": \"AutoML_ccfb51fe-ab0e-431f-be76-f7fbfa577173_4\", \"run_number\": 10, \"metric\": null, \"status\": \"Completed\", \"run_type\": \"azureml.scriptrun\", \"training_percent\": \"100\", \"start_time\": \"2021-12-15T19:05:34.69136Z\", \"end_time\": \"2021-12-15T19:08:03.592023Z\", \"created_time\": \"2021-12-15T19:05:34.69136Z\", \"created_time_dt\": \"2021-12-15T19:05:34.69136Z\", \"duration\": \"0:02:28\", \"iteration\": \"4\", \"goal\": \"AUC_weighted_max\", \"run_name\": \"SparseNormalizer, RandomForest\", \"run_properties\": \"copy=True, norm='l2'\", \"primary_metric\": 0.92892795, \"best_metric\": 0.93119302}, {\"run_id\": \"AutoML_ccfb51fe-ab0e-431f-be76-f7fbfa577173_5\", \"run_number\": 11, \"metric\": null, \"status\": \"Completed\", \"run_type\": \"azureml.scriptrun\", \"training_percent\": \"100\", \"start_time\": \"2021-12-15T19:08:26.00993Z\", \"end_time\": \"2021-12-15T19:08:35.531711Z\", \"created_time\": \"2021-12-15T19:06:08.611274Z\", \"created_time_dt\": \"2021-12-15T19:06:08.611274Z\", \"duration\": \"0:02:26\", \"iteration\": \"5\", \"goal\": \"AUC_weighted_max\", \"run_name\": \"MaxAbsScaler, RandomForest\", \"run_properties\": \"copy=True\", \"primary_metric\": 0.91134243, \"best_metric\": 0.93119302}, {\"run_id\": \"AutoML_ccfb51fe-ab0e-431f-be76-f7fbfa577173_6\", \"run_number\": 12, \"metric\": null, \"status\": \"Completed\", \"run_type\": \"azureml.scriptrun\", \"training_percent\": \"100\", \"start_time\": \"2021-12-15T19:09:39.217384Z\", \"end_time\": \"2021-12-15T19:10:21.88774Z\", \"created_time\": \"2021-12-15T19:06:40.774953Z\", \"created_time_dt\": \"2021-12-15T19:06:40.774953Z\", \"duration\": \"0:03:41\", \"iteration\": \"6\", \"goal\": \"AUC_weighted_max\", \"run_name\": \"SparseNormalizer, LightGBM\", \"run_properties\": \"copy=True, norm='l1'\", \"primary_metric\": 0.92706798, \"best_metric\": 0.93119302}, {\"run_id\": \"AutoML_ccfb51fe-ab0e-431f-be76-f7fbfa577173_7\", \"run_number\": 13, \"metric\": null, \"status\": \"Completed\", \"run_type\": \"azureml.scriptrun\", \"training_percent\": \"100\", \"start_time\": \"2021-12-15T19:09:39.812722Z\", \"end_time\": \"2021-12-15T19:10:19.245531Z\", \"created_time\": \"2021-12-15T19:07:06.721436Z\", \"created_time_dt\": \"2021-12-15T19:07:06.721436Z\", \"duration\": \"0:03:12\", \"iteration\": \"7\", \"goal\": \"AUC_weighted_max\", \"run_name\": \"MaxAbsScaler, ExtremeRandomTrees\", \"run_properties\": \"copy=True\", \"primary_metric\": 0.92880676, \"best_metric\": 0.93119302}, {\"run_id\": \"AutoML_ccfb51fe-ab0e-431f-be76-f7fbfa577173_8\", \"run_number\": 14, \"metric\": null, \"status\": \"Completed\", \"run_type\": \"azureml.scriptrun\", \"training_percent\": \"100\", \"start_time\": \"2021-12-15T19:07:36.583656Z\", \"end_time\": \"2021-12-15T19:09:06.985883Z\", \"created_time\": \"2021-12-15T19:07:36.583656Z\", \"created_time_dt\": \"2021-12-15T19:07:36.583656Z\", \"duration\": \"0:01:30\", \"iteration\": \"8\", \"goal\": \"AUC_weighted_max\", \"run_name\": \"StandardScalerWrapper, ExtremeRandomTrees\", \"run_properties\": \"\\n    copy=True,\\n    with_mean=False,\\n    with_std=False\\n\", \"primary_metric\": 0.92248484, \"best_metric\": 0.93119302}, {\"run_id\": \"AutoML_ccfb51fe-ab0e-431f-be76-f7fbfa577173_9\", \"run_number\": 15, \"metric\": null, \"status\": \"Completed\", \"run_type\": \"azureml.scriptrun\", \"training_percent\": \"100\", \"start_time\": \"2021-12-15T19:10:22.853414Z\", \"end_time\": \"2021-12-15T19:11:06.285181Z\", \"created_time\": \"2021-12-15T19:10:22.853414Z\", \"created_time_dt\": \"2021-12-15T19:10:22.853414Z\", \"duration\": \"0:00:43\", \"iteration\": \"9\", \"goal\": \"AUC_weighted_max\", \"run_name\": \"VotingEnsemble\", \"run_properties\": \"\\n    estimators=[('3', Pipeline(\\n        memory=None,\\n        steps=[('standardscalerwrapper', StandardScalerWrapper(\\n            copy=True,\\n            with_mean=False,\\n            with_std=True\\n        \", \"primary_metric\": 0.93433037, \"best_metric\": 0.93433037}], \"children_metrics\": {\"categories\": [0], \"series\": {\"precision_score_macro\": [{\"categories\": [\"0\", \"1\", \"2\", \"3\", \"4\", \"5\", \"6\", \"7\", \"8\", \"9\"], \"mode\": \"markers\", \"name\": \"precision_score_macro\", \"stepped\": false, \"type\": \"scatter\", \"data\": [0.8551594017972792, 0.843722395643806, 0.8639651297423218, 0.8713858820303955, 0.8694900738667142, 0.8444328967735325, 0.8583894152390077, 0.8763812265285769, 0.8504728706399993, 0.8730705313885874]}, {\"categories\": [\"0\", \"1\", \"2\", \"3\", \"4\", \"5\", \"6\", \"7\", \"8\", \"9\"], \"mode\": \"lines\", \"name\": \"precision_score_macro_max\", \"stepped\": true, \"type\": \"scatter\", \"data\": [0.8551594017972792, 0.8551594017972792, 0.8639651297423218, 0.8713858820303955, 0.8713858820303955, 0.8713858820303955, 0.8713858820303955, 0.8763812265285769, 0.8763812265285769, 0.8763812265285769]}], \"average_precision_score_weighted\": [{\"categories\": [\"0\", \"1\", \"2\", \"3\", \"4\", \"5\", \"6\", \"7\", \"8\", \"9\"], \"mode\": \"markers\", \"name\": \"average_precision_score_weighted\", \"stepped\": false, \"type\": \"scatter\", \"data\": [0.9200986609233028, 0.9206405429107711, 0.9235368832211013, 0.9317601048120577, 0.9285276209095581, 0.9113818029452185, 0.9266557708185468, 0.9299915770632653, 0.9181819979119398, 0.9336248329757606]}, {\"categories\": [\"0\", \"1\", \"2\", \"3\", \"4\", \"5\", \"6\", \"7\", \"8\", \"9\"], \"mode\": \"lines\", \"name\": \"average_precision_score_weighted_max\", \"stepped\": true, \"type\": \"scatter\", \"data\": [0.9200986609233028, 0.9206405429107711, 0.9235368832211013, 0.9317601048120577, 0.9317601048120577, 0.9317601048120577, 0.9317601048120577, 0.9317601048120577, 0.9317601048120577, 0.9336248329757606]}], \"average_precision_score_macro\": [{\"categories\": [\"0\", \"1\", \"2\", \"3\", \"4\", \"5\", \"6\", \"7\", \"8\", \"9\"], \"mode\": \"markers\", \"name\": \"average_precision_score_macro\", \"stepped\": false, \"type\": \"scatter\", \"data\": [0.9194731261819105, 0.9194349748192503, 0.9224514767015088, 0.9308716625506115, 0.9277097920793473, 0.9104969416363332, 0.9253342421540453, 0.9288375008080297, 0.9167527591439765, 0.9326855334886586]}, {\"categories\": [\"0\", \"1\", \"2\", \"3\", \"4\", \"5\", \"6\", \"7\", \"8\", \"9\"], \"mode\": \"lines\", \"name\": \"average_precision_score_macro_max\", \"stepped\": true, \"type\": \"scatter\", \"data\": [0.9194731261819105, 0.9194731261819105, 0.9224514767015088, 0.9308716625506115, 0.9308716625506115, 0.9308716625506115, 0.9308716625506115, 0.9308716625506115, 0.9308716625506115, 0.9326855334886586]}], \"recall_score_weighted\": [{\"categories\": [\"0\", \"1\", \"2\", \"3\", \"4\", \"5\", \"6\", \"7\", \"8\", \"9\"], \"mode\": \"markers\", \"name\": \"recall_score_weighted\", \"stepped\": false, \"type\": \"scatter\", \"data\": [0.8551140413399857, 0.8431397006414825, 0.8627346162984081, 0.8703848895224517, 0.8682109764789736, 0.8431575196008554, 0.8572938940365882, 0.8757840342124019, 0.8474578284628178, 0.8714540270848182]}, {\"categories\": [\"0\", \"1\", \"2\", \"3\", \"4\", \"5\", \"6\", \"7\", \"8\", \"9\"], \"mode\": \"lines\", \"name\": \"recall_score_weighted_max\", \"stepped\": true, \"type\": \"scatter\", \"data\": [0.8551140413399857, 0.8551140413399857, 0.8627346162984081, 0.8703848895224517, 0.8703848895224517, 0.8703848895224517, 0.8703848895224517, 0.8757840342124019, 0.8757840342124019, 0.8757840342124019]}], \"recall_score_micro\": [{\"categories\": [\"0\", \"1\", \"2\", \"3\", \"4\", \"5\", \"6\", \"7\", \"8\", \"9\"], \"mode\": \"markers\", \"name\": \"recall_score_micro\", \"stepped\": false, \"type\": \"scatter\", \"data\": [0.8551140413399857, 0.8431397006414825, 0.8627346162984081, 0.8703848895224517, 0.8682109764789736, 0.8431575196008554, 0.8572938940365882, 0.8757840342124019, 0.8474578284628178, 0.8714540270848182]}, {\"categories\": [\"0\", \"1\", \"2\", \"3\", \"4\", \"5\", \"6\", \"7\", \"8\", \"9\"], \"mode\": \"lines\", \"name\": \"recall_score_micro_max\", \"stepped\": true, \"type\": \"scatter\", \"data\": [0.8551140413399857, 0.8551140413399857, 0.8627346162984081, 0.8703848895224517, 0.8703848895224517, 0.8703848895224517, 0.8703848895224517, 0.8757840342124019, 0.8757840342124019, 0.8757840342124019]}], \"log_loss\": [{\"categories\": [\"0\", \"1\", \"2\", \"3\", \"4\", \"5\", \"6\", \"7\", \"8\", \"9\"], \"mode\": \"markers\", \"name\": \"log_loss\", \"stepped\": false, \"type\": \"scatter\", \"data\": [0.4026289566104495, 0.36047439036300466, 0.3791177371938433, 0.35783341617382136, 0.33796197709969034, 0.3996664051148963, 0.36003761244185084, 0.3434276544742901, 0.4471309887115179, 0.3387184298066092]}, {\"categories\": [\"0\", \"1\", \"2\", \"3\", \"4\", \"5\", \"6\", \"7\", \"8\", \"9\"], \"mode\": \"lines\", \"name\": \"log_loss_min\", \"stepped\": true, \"type\": \"scatter\", \"data\": [0.4026289566104495, 0.36047439036300466, 0.36047439036300466, 0.35783341617382136, 0.33796197709969034, 0.33796197709969034, 0.33796197709969034, 0.33796197709969034, 0.33796197709969034, 0.33796197709969034]}], \"f1_score_micro\": [{\"categories\": [\"0\", \"1\", \"2\", \"3\", \"4\", \"5\", \"6\", \"7\", \"8\", \"9\"], \"mode\": \"markers\", \"name\": \"f1_score_micro\", \"stepped\": false, \"type\": \"scatter\", \"data\": [0.8551140413399857, 0.8431397006414827, 0.8627346162984081, 0.8703848895224517, 0.8682109764789736, 0.8431575196008552, 0.8572938940365882, 0.8757840342124019, 0.8474578284628178, 0.8714540270848182]}, {\"categories\": [\"0\", \"1\", \"2\", \"3\", \"4\", \"5\", \"6\", \"7\", \"8\", \"9\"], \"mode\": \"lines\", \"name\": \"f1_score_micro_max\", \"stepped\": true, \"type\": \"scatter\", \"data\": [0.8551140413399857, 0.8551140413399857, 0.8627346162984081, 0.8703848895224517, 0.8703848895224517, 0.8703848895224517, 0.8703848895224517, 0.8757840342124019, 0.8757840342124019, 0.8757840342124019]}], \"f1_score_macro\": [{\"categories\": [\"0\", \"1\", \"2\", \"3\", \"4\", \"5\", \"6\", \"7\", \"8\", \"9\"], \"mode\": \"markers\", \"name\": \"f1_score_macro\", \"stepped\": false, \"type\": \"scatter\", \"data\": [0.8522429866950508, 0.839827804084799, 0.860029037683146, 0.8677524599325747, 0.8655423007566784, 0.839803098204774, 0.8543002391068258, 0.8731946518402252, 0.8430973666710896, 0.8686810094557608]}, {\"categories\": [\"0\", \"1\", \"2\", \"3\", \"4\", \"5\", \"6\", \"7\", \"8\", \"9\"], \"mode\": \"lines\", \"name\": \"f1_score_macro_max\", \"stepped\": true, \"type\": \"scatter\", \"data\": [0.8522429866950508, 0.8522429866950508, 0.860029037683146, 0.8677524599325747, 0.8677524599325747, 0.8677524599325747, 0.8677524599325747, 0.8731946518402252, 0.8731946518402252, 0.8731946518402252]}], \"f1_score_weighted\": [{\"categories\": [\"0\", \"1\", \"2\", \"3\", \"4\", \"5\", \"6\", \"7\", \"8\", \"9\"], \"mode\": \"markers\", \"name\": \"f1_score_weighted\", \"stepped\": false, \"type\": \"scatter\", \"data\": [0.8547765970717224, 0.8426353992398825, 0.8623975623283974, 0.8700105092937802, 0.8678095388613919, 0.842555879440758, 0.8568553087740416, 0.8755226891669616, 0.8464712425813383, 0.8710084674390449]}, {\"categories\": [\"0\", \"1\", \"2\", \"3\", \"4\", \"5\", \"6\", \"7\", \"8\", \"9\"], \"mode\": \"lines\", \"name\": \"f1_score_weighted_max\", \"stepped\": true, \"type\": \"scatter\", \"data\": [0.8547765970717224, 0.8547765970717224, 0.8623975623283974, 0.8700105092937802, 0.8700105092937802, 0.8700105092937802, 0.8700105092937802, 0.8755226891669616, 0.8755226891669616, 0.8755226891669616]}], \"recall_score_macro\": [{\"categories\": [\"0\", \"1\", \"2\", \"3\", \"4\", \"5\", \"6\", \"7\", \"8\", \"9\"], \"mode\": \"markers\", \"name\": \"recall_score_macro\", \"stepped\": false, \"type\": \"scatter\", \"data\": [0.8508428062218506, 0.8386921154702497, 0.8583909357489651, 0.866324521247518, 0.8637466700976771, 0.8379812220528106, 0.8530264894331345, 0.8720189906739488, 0.8408208977910885, 0.8669723733492443]}, {\"categories\": [\"0\", \"1\", \"2\", \"3\", \"4\", \"5\", \"6\", \"7\", \"8\", \"9\"], \"mode\": \"lines\", \"name\": \"recall_score_macro_max\", \"stepped\": true, \"type\": \"scatter\", \"data\": [0.8508428062218506, 0.8508428062218506, 0.8583909357489651, 0.866324521247518, 0.866324521247518, 0.866324521247518, 0.866324521247518, 0.8720189906739488, 0.8720189906739488, 0.8720189906739488]}], \"precision_score_micro\": [{\"categories\": [\"0\", \"1\", \"2\", \"3\", \"4\", \"5\", \"6\", \"7\", \"8\", \"9\"], \"mode\": \"markers\", \"name\": \"precision_score_micro\", \"stepped\": false, \"type\": \"scatter\", \"data\": [0.8551140413399857, 0.8431397006414825, 0.8627346162984081, 0.8703848895224517, 0.8682109764789736, 0.8431575196008554, 0.8572938940365882, 0.8757840342124019, 0.8474578284628178, 0.8714540270848182]}, {\"categories\": [\"0\", \"1\", \"2\", \"3\", \"4\", \"5\", \"6\", \"7\", \"8\", \"9\"], \"mode\": \"lines\", \"name\": \"precision_score_micro_max\", \"stepped\": true, \"type\": \"scatter\", \"data\": [0.8551140413399857, 0.8551140413399857, 0.8627346162984081, 0.8703848895224517, 0.8703848895224517, 0.8703848895224517, 0.8703848895224517, 0.8757840342124019, 0.8757840342124019, 0.8757840342124019]}], \"weighted_accuracy\": [{\"categories\": [\"0\", \"1\", \"2\", \"3\", \"4\", \"5\", \"6\", \"7\", \"8\", \"9\"], \"mode\": \"markers\", \"name\": \"weighted_accuracy\", \"stepped\": false, \"type\": \"scatter\", \"data\": [0.8591531973255669, 0.8473396231127838, 0.8668131097398166, 0.8742181730678862, 0.8724007700376009, 0.8480410711343589, 0.8613066949175838, 0.8793271334736774, 0.8537081377027231, 0.8757170391542536]}, {\"categories\": [\"0\", \"1\", \"2\", \"3\", \"4\", \"5\", \"6\", \"7\", \"8\", \"9\"], \"mode\": \"lines\", \"name\": \"weighted_accuracy_max\", \"stepped\": true, \"type\": \"scatter\", \"data\": [0.8591531973255669, 0.8591531973255669, 0.8668131097398166, 0.8742181730678862, 0.8742181730678862, 0.8742181730678862, 0.8742181730678862, 0.8793271334736774, 0.8793271334736774, 0.8793271334736774]}], \"AUC_macro\": [{\"categories\": [\"0\", \"1\", \"2\", \"3\", \"4\", \"5\", \"6\", \"7\", \"8\", \"9\"], \"mode\": \"markers\", \"name\": \"AUC_macro\", \"stepped\": false, \"type\": \"scatter\", \"data\": [0.9241125879246658, 0.9219287529024879, 0.9261354037650389, 0.9311930153642212, 0.9289279486246593, 0.9113424328822661, 0.9270679770913857, 0.9288067550114356, 0.9224848418161029, 0.9343303700259827]}, {\"categories\": [\"0\", \"1\", \"2\", \"3\", \"4\", \"5\", \"6\", \"7\", \"8\", \"9\"], \"mode\": \"lines\", \"name\": \"AUC_macro_max\", \"stepped\": true, \"type\": \"scatter\", \"data\": [0.9241125879246658, 0.9241125879246658, 0.9261354037650389, 0.9311930153642212, 0.9311930153642212, 0.9311930153642212, 0.9311930153642212, 0.9311930153642212, 0.9311930153642212, 0.9343303700259827]}], \"AUC_micro\": [{\"categories\": [\"0\", \"1\", \"2\", \"3\", \"4\", \"5\", \"6\", \"7\", \"8\", \"9\"], \"mode\": \"markers\", \"name\": \"AUC_micro\", \"stepped\": false, \"type\": \"scatter\", \"data\": [0.9261620391914371, 0.9218931451181582, 0.9279754890949435, 0.9327292565693636, 0.9314295376226294, 0.916178369568463, 0.9283678517636437, 0.9316199817198673, 0.9210485205169364, 0.9358101697445331]}, {\"categories\": [\"0\", \"1\", \"2\", \"3\", \"4\", \"5\", \"6\", \"7\", \"8\", \"9\"], \"mode\": \"lines\", \"name\": \"AUC_micro_max\", \"stepped\": true, \"type\": \"scatter\", \"data\": [0.9261620391914371, 0.9261620391914371, 0.9279754890949435, 0.9327292565693636, 0.9327292565693636, 0.9327292565693636, 0.9327292565693636, 0.9327292565693636, 0.9327292565693636, 0.9358101697445331]}], \"AUC_weighted\": [{\"categories\": [\"0\", \"1\", \"2\", \"3\", \"4\", \"5\", \"6\", \"7\", \"8\", \"9\"], \"mode\": \"markers\", \"name\": \"AUC_weighted\", \"stepped\": false, \"type\": \"scatter\", \"data\": [0.9241125879246658, 0.9219287529024879, 0.926135403765039, 0.9311930153642212, 0.9289279486246595, 0.9113424328822661, 0.9270679770913854, 0.9288067550114356, 0.9224848418161029, 0.934330370025983]}, {\"categories\": [\"0\", \"1\", \"2\", \"3\", \"4\", \"5\", \"6\", \"7\", \"8\", \"9\"], \"mode\": \"lines\", \"name\": \"AUC_weighted_max\", \"stepped\": true, \"type\": \"scatter\", \"data\": [0.9241125879246658, 0.9241125879246658, 0.926135403765039, 0.9311930153642212, 0.9311930153642212, 0.9311930153642212, 0.9311930153642212, 0.9311930153642212, 0.9311930153642212, 0.934330370025983]}], \"accuracy\": [{\"categories\": [\"0\", \"1\", \"2\", \"3\", \"4\", \"5\", \"6\", \"7\", \"8\", \"9\"], \"mode\": \"markers\", \"name\": \"accuracy\", \"stepped\": false, \"type\": \"scatter\", \"data\": [0.8551140413399857, 0.8431397006414825, 0.8627346162984081, 0.8703848895224517, 0.8682109764789736, 0.8431575196008554, 0.8572938940365882, 0.8757840342124019, 0.8474578284628178, 0.8714540270848182]}, {\"categories\": [\"0\", \"1\", \"2\", \"3\", \"4\", \"5\", \"6\", \"7\", \"8\", \"9\"], \"mode\": \"lines\", \"name\": \"accuracy_max\", \"stepped\": true, \"type\": \"scatter\", \"data\": [0.8551140413399857, 0.8551140413399857, 0.8627346162984081, 0.8703848895224517, 0.8703848895224517, 0.8703848895224517, 0.8703848895224517, 0.8757840342124019, 0.8757840342124019, 0.8757840342124019]}], \"norm_macro_recall\": [{\"categories\": [\"0\", \"1\", \"2\", \"3\", \"4\", \"5\", \"6\", \"7\", \"8\", \"9\"], \"mode\": \"markers\", \"name\": \"norm_macro_recall\", \"stepped\": false, \"type\": \"scatter\", \"data\": [0.7016856124437015, 0.6773842309404993, 0.7167818714979302, 0.732649042495036, 0.7274933401953543, 0.6759624441056211, 0.7060529788662693, 0.7440379813478976, 0.6816417955821771, 0.7339447466984884]}, {\"categories\": [\"0\", \"1\", \"2\", \"3\", \"4\", \"5\", \"6\", \"7\", \"8\", \"9\"], \"mode\": \"lines\", \"name\": \"norm_macro_recall_max\", \"stepped\": true, \"type\": \"scatter\", \"data\": [0.7016856124437015, 0.7016856124437015, 0.7167818714979302, 0.732649042495036, 0.732649042495036, 0.732649042495036, 0.732649042495036, 0.7440379813478976, 0.7440379813478976, 0.7440379813478976]}], \"balanced_accuracy\": [{\"categories\": [\"0\", \"1\", \"2\", \"3\", \"4\", \"5\", \"6\", \"7\", \"8\", \"9\"], \"mode\": \"markers\", \"name\": \"balanced_accuracy\", \"stepped\": false, \"type\": \"scatter\", \"data\": [0.8508428062218506, 0.8386921154702497, 0.8583909357489651, 0.866324521247518, 0.8637466700976771, 0.8379812220528106, 0.8530264894331345, 0.8720189906739488, 0.8408208977910885, 0.8669723733492443]}, {\"categories\": [\"0\", \"1\", \"2\", \"3\", \"4\", \"5\", \"6\", \"7\", \"8\", \"9\"], \"mode\": \"lines\", \"name\": \"balanced_accuracy_max\", \"stepped\": true, \"type\": \"scatter\", \"data\": [0.8508428062218506, 0.8508428062218506, 0.8583909357489651, 0.866324521247518, 0.866324521247518, 0.866324521247518, 0.866324521247518, 0.8720189906739488, 0.8720189906739488, 0.8720189906739488]}], \"precision_score_weighted\": [{\"categories\": [\"0\", \"1\", \"2\", \"3\", \"4\", \"5\", \"6\", \"7\", \"8\", \"9\"], \"mode\": \"markers\", \"name\": \"precision_score_weighted\", \"stepped\": false, \"type\": \"scatter\", \"data\": [0.8559144663925494, 0.8448374638563628, 0.8642681798919402, 0.8717771539320053, 0.8694825786951753, 0.844680275748597, 0.8591567404440663, 0.8772090931668671, 0.8504530977821985, 0.8731745359172608]}, {\"categories\": [\"0\", \"1\", \"2\", \"3\", \"4\", \"5\", \"6\", \"7\", \"8\", \"9\"], \"mode\": \"lines\", \"name\": \"precision_score_weighted_max\", \"stepped\": true, \"type\": \"scatter\", \"data\": [0.8559144663925494, 0.8559144663925494, 0.8642681798919402, 0.8717771539320053, 0.8717771539320053, 0.8717771539320053, 0.8717771539320053, 0.8772090931668671, 0.8772090931668671, 0.8772090931668671]}], \"average_precision_score_micro\": [{\"categories\": [\"0\", \"1\", \"2\", \"3\", \"4\", \"5\", \"6\", \"7\", \"8\", \"9\"], \"mode\": \"markers\", \"name\": \"average_precision_score_micro\", \"stepped\": false, \"type\": \"scatter\", \"data\": [0.920682487370882, 0.91938378431016, 0.9232304829601204, 0.9309264138886182, 0.9290633251019134, 0.9145155513460864, 0.9257437973752756, 0.9309661833158905, 0.9141670079581512, 0.93326655536626]}, {\"categories\": [\"0\", \"1\", \"2\", \"3\", \"4\", \"5\", \"6\", \"7\", \"8\", \"9\"], \"mode\": \"lines\", \"name\": \"average_precision_score_micro_max\", \"stepped\": true, \"type\": \"scatter\", \"data\": [0.920682487370882, 0.920682487370882, 0.9232304829601204, 0.9309264138886182, 0.9309264138886182, 0.9309264138886182, 0.9309264138886182, 0.9309661833158905, 0.9309661833158905, 0.93326655536626]}], \"matthews_correlation\": [{\"categories\": [\"0\", \"1\", \"2\", \"3\", \"4\", \"5\", \"6\", \"7\", \"8\", \"9\"], \"mode\": \"markers\", \"name\": \"matthews_correlation\", \"stepped\": false, \"type\": \"scatter\", \"data\": [0.7059772760507491, 0.6823790715902313, 0.7223050315788114, 0.7376727223892566, 0.7331912033934281, 0.6823634996790828, 0.7113673598576338, 0.7483658402070457, 0.6912003003027902, 0.7399947818056215]}, {\"categories\": [\"0\", \"1\", \"2\", \"3\", \"4\", \"5\", \"6\", \"7\", \"8\", \"9\"], \"mode\": \"lines\", \"name\": \"matthews_correlation_max\", \"stepped\": true, \"type\": \"scatter\", \"data\": [0.7059772760507491, 0.7059772760507491, 0.7223050315788114, 0.7376727223892566, 0.7376727223892566, 0.7376727223892566, 0.7376727223892566, 0.7483658402070457, 0.7483658402070457, 0.7483658402070457]}]}, \"metricName\": null, \"primaryMetricName\": \"AUC_weighted\", \"showLegend\": false}, \"run_metrics\": [{\"name\": \"experiment_status\", \"run_id\": \"AutoML_ccfb51fe-ab0e-431f-be76-f7fbfa577173\", \"categories\": [0, 1, 2, 3, 4, 5, 6, 7, 8, 9, 10, 11], \"series\": [{\"data\": [\"DatasetEvaluation\", \"FeaturesGeneration\", \"DatasetFeaturization\", \"DatasetFeaturizationCompleted\", \"DatasetCrossValidationSplit\", \"ModelSelection\", \"BestRunExplainModel\", \"ModelExplanationDataSetSetup\", \"PickSurrogateModel\", \"EngineeredFeatureExplanations\", \"EngineeredFeatureExplanations\", \"RawFeaturesExplanations\"]}]}, {\"name\": \"experiment_status_description\", \"run_id\": \"AutoML_ccfb51fe-ab0e-431f-be76-f7fbfa577173\", \"categories\": [0, 1, 2, 3, 4, 5, 6, 7, 8, 9, 10, 11], \"series\": [{\"data\": [\"Gathering dataset statistics.\", \"Generating features for the dataset.\", \"Beginning to fit featurizers and featurize the dataset.\", \"Completed fit featurizers and featurizing the dataset.\", \"Generating individually featurized CV splits.\", \"Beginning model selection.\", \"Best run model explanations started\", \"Model explanations data setup completed\", \"Choosing LightGBM as the surrogate model for explanations\", \"Computation of engineered features started\", \"Computation of engineered features completed\", \"Computation of raw features started\"]}]}, {\"name\": \"accuracy\", \"run_id\": \"AutoML_ccfb51fe-ab0e-431f-be76-f7fbfa577173\", \"categories\": [0], \"series\": [{\"data\": [0.8714540270848182]}]}, {\"name\": \"AUC_micro\", \"run_id\": \"AutoML_ccfb51fe-ab0e-431f-be76-f7fbfa577173\", \"categories\": [0], \"series\": [{\"data\": [0.9358101697445331]}]}, {\"name\": \"matthews_correlation\", \"run_id\": \"AutoML_ccfb51fe-ab0e-431f-be76-f7fbfa577173\", \"categories\": [0], \"series\": [{\"data\": [0.7399947818056215]}]}, {\"name\": \"f1_score_micro\", \"run_id\": \"AutoML_ccfb51fe-ab0e-431f-be76-f7fbfa577173\", \"categories\": [0], \"series\": [{\"data\": [0.8714540270848182]}]}, {\"name\": \"precision_score_macro\", \"run_id\": \"AutoML_ccfb51fe-ab0e-431f-be76-f7fbfa577173\", \"categories\": [0], \"series\": [{\"data\": [0.8730705313885874]}]}, {\"name\": \"precision_score_weighted\", \"run_id\": \"AutoML_ccfb51fe-ab0e-431f-be76-f7fbfa577173\", \"categories\": [0], \"series\": [{\"data\": [0.8731745359172608]}]}, {\"name\": \"precision_score_micro\", \"run_id\": \"AutoML_ccfb51fe-ab0e-431f-be76-f7fbfa577173\", \"categories\": [0], \"series\": [{\"data\": [0.8714540270848182]}]}, {\"name\": \"balanced_accuracy\", \"run_id\": \"AutoML_ccfb51fe-ab0e-431f-be76-f7fbfa577173\", \"categories\": [0], \"series\": [{\"data\": [0.8669723733492443]}]}, {\"name\": \"recall_score_micro\", \"run_id\": \"AutoML_ccfb51fe-ab0e-431f-be76-f7fbfa577173\", \"categories\": [0], \"series\": [{\"data\": [0.8714540270848182]}]}, {\"name\": \"average_precision_score_micro\", \"run_id\": \"AutoML_ccfb51fe-ab0e-431f-be76-f7fbfa577173\", \"categories\": [0], \"series\": [{\"data\": [0.93326655536626]}]}, {\"name\": \"f1_score_macro\", \"run_id\": \"AutoML_ccfb51fe-ab0e-431f-be76-f7fbfa577173\", \"categories\": [0], \"series\": [{\"data\": [0.8686810094557608]}]}, {\"name\": \"log_loss\", \"run_id\": \"AutoML_ccfb51fe-ab0e-431f-be76-f7fbfa577173\", \"categories\": [0], \"series\": [{\"data\": [0.3387184298066092]}]}, {\"name\": \"AUC_weighted\", \"run_id\": \"AutoML_ccfb51fe-ab0e-431f-be76-f7fbfa577173\", \"categories\": [0], \"series\": [{\"data\": [0.934330370025983]}]}, {\"name\": \"f1_score_weighted\", \"run_id\": \"AutoML_ccfb51fe-ab0e-431f-be76-f7fbfa577173\", \"categories\": [0], \"series\": [{\"data\": [0.8710084674390449]}]}, {\"name\": \"AUC_macro\", \"run_id\": \"AutoML_ccfb51fe-ab0e-431f-be76-f7fbfa577173\", \"categories\": [0], \"series\": [{\"data\": [0.9343303700259827]}]}, {\"name\": \"recall_score_weighted\", \"run_id\": \"AutoML_ccfb51fe-ab0e-431f-be76-f7fbfa577173\", \"categories\": [0], \"series\": [{\"data\": [0.8714540270848182]}]}, {\"name\": \"average_precision_score_macro\", \"run_id\": \"AutoML_ccfb51fe-ab0e-431f-be76-f7fbfa577173\", \"categories\": [0], \"series\": [{\"data\": [0.9326855334886586]}]}, {\"name\": \"average_precision_score_weighted\", \"run_id\": \"AutoML_ccfb51fe-ab0e-431f-be76-f7fbfa577173\", \"categories\": [0], \"series\": [{\"data\": [0.9336248329757606]}]}, {\"name\": \"norm_macro_recall\", \"run_id\": \"AutoML_ccfb51fe-ab0e-431f-be76-f7fbfa577173\", \"categories\": [0], \"series\": [{\"data\": [0.7339447466984884]}]}, {\"name\": \"weighted_accuracy\", \"run_id\": \"AutoML_ccfb51fe-ab0e-431f-be76-f7fbfa577173\", \"categories\": [0], \"series\": [{\"data\": [0.8757170391542536]}]}, {\"name\": \"recall_score_macro\", \"run_id\": \"AutoML_ccfb51fe-ab0e-431f-be76-f7fbfa577173\", \"categories\": [0], \"series\": [{\"data\": [0.8669723733492443]}]}], \"run_logs\": \"\\nRun is completed.\", \"graph\": {}, \"widget_settings\": {\"childWidgetDisplay\": \"popup\", \"send_telemetry\": false, \"log_level\": \"INFO\", \"sdk_version\": \"1.37.0\"}, \"loading\": false}"
          },
          "metadata": {},
          "output_type": "display_data"
        }
      ],
      "source": [
        "RunDetails(remote_run).show()"
      ]
    },
    {
      "cell_type": "markdown",
      "metadata": {},
      "source": [
        "The trained models by AutoML have been models based on tree algorithms and ensemble techiques, the best are the ones that try to combine the predictions of several algorithms, that is the case of the 'Voting Ensemble'. "
      ]
    },
    {
      "cell_type": "markdown",
      "metadata": {},
      "source": [
        "## Best Model\n",
        "\n",
        "In the next cells we are getting the best model and showing all the properties. We also show the AutoML guardrails checks over the dataset. \n",
        "\n"
      ]
    },
    {
      "cell_type": "code",
      "execution_count": 9,
      "metadata": {
        "gather": {
          "logged": 1639595516104
        }
      },
      "outputs": [
        {
          "name": "stdout",
          "output_type": "stream",
          "text": [
            "True\n"
          ]
        }
      ],
      "source": [
        "# Retrieve and get insights from your best automl model.\n",
        "\n",
        "best_run_AutoML, fitted_model_AutoML = remote_run.get_output()\n",
        "\n",
        "print(hasattr(fitted_model_AutoML, 'steps'))"
      ]
    },
    {
      "cell_type": "code",
      "execution_count": 10,
      "metadata": {
        "gather": {
          "logged": 1639595522558
        },
        "jupyter": {
          "outputs_hidden": false,
          "source_hidden": false
        },
        "nteract": {
          "transient": {
            "deleting": false
          }
        }
      },
      "outputs": [
        {
          "name": "stdout",
          "output_type": "stream",
          "text": [
            "datatransformer\n",
            "{'enable_dnn': False,\n",
            " 'enable_feature_sweeping': False,\n",
            " 'feature_sweeping_config': {},\n",
            " 'feature_sweeping_timeout': 86400,\n",
            " 'featurization_config': None,\n",
            " 'force_text_dnn': False,\n",
            " 'is_cross_validation': True,\n",
            " 'is_onnx_compatible': True,\n",
            " 'observer': None,\n",
            " 'task': 'classification',\n",
            " 'working_dir': '/mnt/batch/tasks/shared/LS_root/mounts/clusters/notebook165840/code/Users/odl_user_165840'}\n",
            "\n",
            "prefittedsoftvotingclassifier\n",
            "{'estimators': ['3', '4', '7', '6', '2', '0', '8'],\n",
            " 'weights': [0.2, 0.1, 0.2, 0.1, 0.1, 0.2, 0.1]}\n",
            "\n",
            "3 - standardscalerwrapper\n",
            "{'class_name': 'StandardScaler',\n",
            " 'copy': True,\n",
            " 'module_name': 'sklearn.preprocessing._data',\n",
            " 'with_mean': False,\n",
            " 'with_std': True}\n",
            "\n",
            "3 - lightgbmclassifier\n",
            "{'boosting_type': 'gbdt',\n",
            " 'colsample_bytree': 0.4955555555555555,\n",
            " 'learning_rate': 0.09473736842105263,\n",
            " 'max_bin': 140,\n",
            " 'max_depth': 6,\n",
            " 'min_child_weight': 0,\n",
            " 'min_data_in_leaf': 0.08276034482758622,\n",
            " 'min_split_gain': 0.10526315789473684,\n",
            " 'n_estimators': 25,\n",
            " 'n_jobs': -1,\n",
            " 'num_leaves': 164,\n",
            " 'problem_info': ProblemInfo(\n",
            "    gpu_training_param_dict={'processing_unit_type': 'cpu'}\n",
            "),\n",
            " 'random_state': None,\n",
            " 'reg_alpha': 0.3157894736842105,\n",
            " 'reg_lambda': 0.3157894736842105,\n",
            " 'subsample': 0.5942105263157895}\n",
            "\n",
            "4 - sparsenormalizer\n",
            "{'copy': True, 'norm': 'l2'}\n",
            "\n",
            "4 - randomforestclassifier\n",
            "{'bootstrap': True,\n",
            " 'ccp_alpha': 0.0,\n",
            " 'class_weight': 'balanced',\n",
            " 'criterion': 'gini',\n",
            " 'max_depth': None,\n",
            " 'max_features': 'sqrt',\n",
            " 'max_leaf_nodes': None,\n",
            " 'max_samples': None,\n",
            " 'min_impurity_decrease': 0.0,\n",
            " 'min_impurity_split': None,\n",
            " 'min_samples_leaf': 0.01,\n",
            " 'min_samples_split': 0.01,\n",
            " 'min_weight_fraction_leaf': 0.0,\n",
            " 'n_estimators': 100,\n",
            " 'n_jobs': -1,\n",
            " 'oob_score': True,\n",
            " 'random_state': None,\n",
            " 'verbose': 0,\n",
            " 'warm_start': False}\n",
            "\n",
            "7 - maxabsscaler\n",
            "{'copy': True}\n",
            "\n",
            "7 - extratreesclassifier\n",
            "{'bootstrap': False,\n",
            " 'ccp_alpha': 0.0,\n",
            " 'class_weight': 'balanced',\n",
            " 'criterion': 'entropy',\n",
            " 'max_depth': None,\n",
            " 'max_features': 'log2',\n",
            " 'max_leaf_nodes': None,\n",
            " 'max_samples': None,\n",
            " 'min_impurity_decrease': 0.0,\n",
            " 'min_impurity_split': None,\n",
            " 'min_samples_leaf': 0.01,\n",
            " 'min_samples_split': 0.01,\n",
            " 'min_weight_fraction_leaf': 0.0,\n",
            " 'n_estimators': 400,\n",
            " 'n_jobs': -1,\n",
            " 'oob_score': False,\n",
            " 'random_state': None,\n",
            " 'verbose': 0,\n",
            " 'warm_start': False}\n",
            "\n",
            "6 - sparsenormalizer\n",
            "{'copy': True, 'norm': 'l1'}\n",
            "\n",
            "6 - lightgbmclassifier\n",
            "{'boosting_type': 'goss',\n",
            " 'colsample_bytree': 0.7922222222222222,\n",
            " 'learning_rate': 0.09473736842105263,\n",
            " 'max_bin': 80,\n",
            " 'max_depth': 6,\n",
            " 'min_child_weight': 0,\n",
            " 'min_data_in_leaf': 0.05172896551724139,\n",
            " 'min_split_gain': 0.894736842105263,\n",
            " 'n_estimators': 25,\n",
            " 'n_jobs': -1,\n",
            " 'num_leaves': 140,\n",
            " 'problem_info': ProblemInfo(\n",
            "    gpu_training_param_dict={'processing_unit_type': 'cpu'}\n",
            "),\n",
            " 'random_state': None,\n",
            " 'reg_alpha': 0.2631578947368421,\n",
            " 'reg_lambda': 0,\n",
            " 'subsample': 1}\n",
            "\n",
            "2 - maxabsscaler\n",
            "{'copy': True}\n",
            "\n",
            "2 - randomforestclassifier\n",
            "{'bootstrap': True,\n",
            " 'ccp_alpha': 0.0,\n",
            " 'class_weight': None,\n",
            " 'criterion': 'gini',\n",
            " 'max_depth': None,\n",
            " 'max_features': 'log2',\n",
            " 'max_leaf_nodes': None,\n",
            " 'max_samples': None,\n",
            " 'min_impurity_decrease': 0.0,\n",
            " 'min_impurity_split': None,\n",
            " 'min_samples_leaf': 0.01,\n",
            " 'min_samples_split': 0.01,\n",
            " 'min_weight_fraction_leaf': 0.0,\n",
            " 'n_estimators': 10,\n",
            " 'n_jobs': -1,\n",
            " 'oob_score': False,\n",
            " 'random_state': None,\n",
            " 'verbose': 0,\n",
            " 'warm_start': False}\n",
            "\n",
            "0 - maxabsscaler\n",
            "{'copy': True}\n",
            "\n",
            "0 - lightgbmclassifier\n",
            "{'min_data_in_leaf': 20,\n",
            " 'n_jobs': -1,\n",
            " 'problem_info': ProblemInfo(\n",
            "    gpu_training_param_dict={'processing_unit_type': 'cpu'}\n",
            "),\n",
            " 'random_state': None}\n",
            "\n",
            "8 - standardscalerwrapper\n",
            "{'class_name': 'StandardScaler',\n",
            " 'copy': True,\n",
            " 'module_name': 'sklearn.preprocessing._data',\n",
            " 'with_mean': False,\n",
            " 'with_std': False}\n",
            "\n",
            "8 - extratreesclassifier\n",
            "{'bootstrap': False,\n",
            " 'ccp_alpha': 0.0,\n",
            " 'class_weight': None,\n",
            " 'criterion': 'entropy',\n",
            " 'max_depth': None,\n",
            " 'max_features': 0.05,\n",
            " 'max_leaf_nodes': None,\n",
            " 'max_samples': None,\n",
            " 'min_impurity_decrease': 0.0,\n",
            " 'min_impurity_split': None,\n",
            " 'min_samples_leaf': 0.01,\n",
            " 'min_samples_split': 0.01,\n",
            " 'min_weight_fraction_leaf': 0.0,\n",
            " 'n_estimators': 25,\n",
            " 'n_jobs': -1,\n",
            " 'oob_score': False,\n",
            " 'random_state': None,\n",
            " 'verbose': 0,\n",
            " 'warm_start': False}\n",
            "\n"
          ]
        }
      ],
      "source": [
        "# Function to list the hyperparameters \n",
        "\n",
        "def print_model(model, prefix=\"\"):\n",
        "    for step in model.steps:\n",
        "        print(prefix + step[0])\n",
        "        \n",
        "        if hasattr(step[1], 'estimators') and hasattr(step[1], 'weights'):\n",
        "            pprint({'estimators' : list(e[0] for e in step[1].estimators), 'weights' : step[1].weights})\n",
        "            print()\n",
        "\n",
        "            for estimator in step[1].estimators:\n",
        "                print_model(estimator[1], estimator[0] + ' - ')\n",
        "        \n",
        "        else:\n",
        "            pprint(step[1].get_params())\n",
        "            print()\n",
        "        \n",
        "print_model(fitted_model_AutoML)"
      ]
    },
    {
      "cell_type": "code",
      "execution_count": 11,
      "metadata": {
        "gather": {
          "logged": 1639595529586
        }
      },
      "outputs": [
        {
          "name": "stdout",
          "output_type": "stream",
          "text": [
            "\n",
            "*********************************************************************************************************\n",
            "DATA GUARDRAILS: \n",
            "\n",
            "TYPE:         Class balancing detection\n",
            "STATUS:       PASSED\n",
            "DESCRIPTION:  Your inputs were analyzed, and all classes are balanced in your training data.\n",
            "              Learn more about imbalanced data: https://aka.ms/AutomatedMLImbalancedData\n",
            "\n",
            "*********************************************************************************************************\n",
            "\n",
            "TYPE:         Missing feature values imputation\n",
            "STATUS:       PASSED\n",
            "DESCRIPTION:  No feature missing values were detected in the training data.\n",
            "              Learn more about missing value imputation: https://aka.ms/AutomatedMLFeaturization\n",
            "\n",
            "*********************************************************************************************************\n",
            "\n",
            "TYPE:         High cardinality feature detection\n",
            "STATUS:       PASSED\n",
            "DESCRIPTION:  Your inputs were analyzed, and no high cardinality features were detected.\n",
            "              Learn more about high cardinality feature handling: https://aka.ms/AutomatedMLFeaturization\n",
            "\n",
            "*********************************************************************************************************\n",
            "{'schema_type': 'fault_verifier', 'schema_version': '1.0.0', 'faults': [{'type': '_class_balancing', 'result': 'passed', 'parameters': [], 'friendly_type': 'Class balancing detection', 'friendly_result': 'Your inputs were analyzed, and all classes are balanced in your training data.', 'friendly_parameters': [], 'friendly_learn_more': 'Learn more about imbalanced data: https://aka.ms/AutomatedMLImbalancedData', 'friendly_parameter_preface': \"Imbalanced data can lead to a falsely perceived positive effect of a model's accuracy because the input data has bias towards one class.\"}, {'type': '_missing_value', 'result': 'passed', 'parameters': [], 'friendly_type': 'Missing feature values imputation', 'friendly_result': 'No feature missing values were detected in the training data.', 'friendly_parameters': [], 'friendly_learn_more': 'Learn more about missing value imputation: https://aka.ms/AutomatedMLFeaturization', 'friendly_parameter_preface': ''}, {'type': '_detect_high_cardinal_feature', 'result': 'passed', 'parameters': [], 'friendly_type': 'High cardinality feature detection', 'friendly_result': 'Your inputs were analyzed, and no high cardinality features were detected.', 'friendly_parameters': [], 'friendly_learn_more': 'Learn more about high cardinality feature handling: https://aka.ms/AutomatedMLFeaturization', 'friendly_parameter_preface': 'High cardinality features refer to columns that contain a large percentage of unique values.'}]}\n"
          ]
        }
      ],
      "source": [
        "# Get information from guardrails.\n",
        "\n",
        "print(remote_run.get_guardrails())"
      ]
    },
    {
      "cell_type": "code",
      "execution_count": 12,
      "metadata": {
        "gather": {
          "logged": 1639595536850
        },
        "jupyter": {
          "outputs_hidden": false,
          "source_hidden": false
        },
        "nteract": {
          "transient": {
            "deleting": false
          }
        }
      },
      "outputs": [
        {
          "data": {
            "text/plain": [
              "['AutoML.model']"
            ]
          },
          "execution_count": 12,
          "metadata": {},
          "output_type": "execute_result"
        }
      ],
      "source": [
        "# Save the best model by AutoML\n",
        "\n",
        "joblib.dump(fitted_model_AutoML, 'AutoML.model')"
      ]
    },
    {
      "cell_type": "markdown",
      "metadata": {},
      "source": [
        "## Model Deployment\n",
        "\n",
        "In the next cells we are registering the best model got by AutoML in Azure and deploy it as a webservice."
      ]
    },
    {
      "cell_type": "code",
      "execution_count": 13,
      "metadata": {
        "gather": {
          "logged": 1639595545406
        },
        "jupyter": {
          "outputs_hidden": false,
          "source_hidden": false
        },
        "nteract": {
          "transient": {
            "deleting": false
          }
        }
      },
      "outputs": [
        {
          "name": "stdout",
          "output_type": "stream",
          "text": [
            "Registering model my-udacityproj3-automlmodel\n",
            "Name: my-udacityproj3-automlmodel\n",
            "Version: 1\n"
          ]
        }
      ],
      "source": [
        "\n",
        "df_y = data['HeartDisease']\n",
        "df_x = data.drop('HeartDisease', axis=1)\n",
        "\n",
        "model = Model.register(workspace=ws,\n",
        "                       model_name='my-udacityproj3-automlmodel',                # Name of the registered model in your workspace.\n",
        "                       model_path='./AutoML.model',  # Local file to upload and register as a model.\n",
        "                       model_framework=Model.Framework.CUSTOM,  # Framework used to create the model.\n",
        "                       #sample_input_dataset=df_x,\n",
        "                       #sample_output_dataset=df_y,\n",
        "                       resource_configuration=ResourceConfiguration(cpu=1, memory_in_gb=1.0),\n",
        "                       description='AutoML model for heart disease prediction.',\n",
        "                       tags={'area': 'heartdisease', 'type': 'classification'})\n",
        "\n",
        "print('Name:', model.name)\n",
        "print('Version:', model.version)"
      ]
    },
    {
      "cell_type": "code",
      "execution_count": 14,
      "metadata": {
        "gather": {
          "logged": 1639595557962
        },
        "jupyter": {
          "outputs_hidden": false,
          "source_hidden": false
        },
        "nteract": {
          "transient": {
            "deleting": false
          }
        }
      },
      "outputs": [],
      "source": [
        "# Create YAML file with the environment dependencies\n",
        "\n",
        "pip_packages = ['azureml-defaults', 'azureml-automl-core', 'azureml-automl-runtime', 'joblib', 'numpy', 'pandas', 'scikit-learn', 'xgboost', 'packaging']\n",
        "\n",
        "mycondaenv = CondaDependencies.create(pip_packages=pip_packages)\n",
        "\n",
        "conda_file = './env_conda_dep.yml'\n",
        "\n",
        "with open(conda_file, 'w') as f:\n",
        "    f.write(mycondaenv.serialize_to_string())"
      ]
    },
    {
      "cell_type": "code",
      "execution_count": 15,
      "metadata": {
        "gather": {
          "logged": 1639595566908
        },
        "jupyter": {
          "outputs_hidden": false,
          "source_hidden": false
        },
        "nteract": {
          "transient": {
            "deleting": false
          }
        }
      },
      "outputs": [],
      "source": [
        "# Create environment from YAML file\n",
        "\n",
        "environment = Environment.from_conda_specification(name='my-AutoML-environment', file_path=conda_file)"
      ]
    },
    {
      "cell_type": "code",
      "execution_count": 16,
      "metadata": {
        "gather": {
          "logged": 1639596722950
        },
        "jupyter": {
          "outputs_hidden": false,
          "source_hidden": false
        },
        "nteract": {
          "transient": {
            "deleting": false
          }
        }
      },
      "outputs": [
        {
          "name": "stdout",
          "output_type": "stream",
          "text": [
            "Tips: You can try get_logs(): https://aka.ms/debugimage#dockerlog or local deployment: https://aka.ms/debugimage#debug-locally to debug if deployment takes longer than 10 minutes.\n",
            "Running\n",
            "2021-12-15 19:12:59+00:00 Creating Container Registry if not exists..\n",
            "2021-12-15 19:23:00+00:00 Registering the environment..\n",
            "2021-12-15 19:23:08+00:00 Building image..\n",
            "2021-12-15 19:28:52+00:00 Generating deployment configuration..\n",
            "2021-12-15 19:28:53+00:00 Submitting deployment to compute..\n",
            "2021-12-15 19:29:01+00:00 Checking the status of deployment my-udacityproj3-service..\n",
            "2021-12-15 19:31:58+00:00 Checking the status of inference endpoint my-udacityproj3-service.\n",
            "Succeeded\n",
            "ACI service creation operation finished, operation \"Succeeded\"\n"
          ]
        }
      ],
      "source": [
        "# Create the webservice\n",
        "\n",
        "inference_config = InferenceConfig(entry_script='./score_3.py', environment=environment)\n",
        "aci_config = AciWebservice.deploy_configuration(cpu_cores=1, memory_gb=1, enable_app_insights=True)\n",
        "\n",
        "\n",
        "service_name = 'my-udacityproj3-service'\n",
        "\n",
        "service = Model.deploy(workspace=ws,\n",
        "                       name=service_name,\n",
        "                       models=[model],\n",
        "                       inference_config=inference_config,\n",
        "                       deployment_config=aci_config,\n",
        "                       overwrite=True)\n",
        "service.wait_for_deployment(show_output=True)"
      ]
    },
    {
      "cell_type": "code",
      "execution_count": 17,
      "metadata": {
        "gather": {
          "logged": 1639597017230
        },
        "jupyter": {
          "outputs_hidden": false,
          "source_hidden": false
        },
        "nteract": {
          "transient": {
            "deleting": false
          }
        }
      },
      "outputs": [
        {
          "name": "stdout",
          "output_type": "stream",
          "text": [
            "2021-12-15T19:31:38,322239300+00:00 - gunicorn/run \n",
            "Dynamic Python package installation is disabled.\n",
            "Starting HTTP server\n",
            "2021-12-15T19:31:38,325075800+00:00 - iot-server/run \n",
            "2021-12-15T19:31:38,341769900+00:00 - nginx/run \n",
            "2021-12-15T19:31:38,354949500+00:00 - rsyslog/run \n",
            "EdgeHubConnectionString and IOTEDGE_IOTHUBHOSTNAME are not set. Exiting...\n",
            "2021-12-15T19:31:38,662314800+00:00 - iot-server/finish 1 0\n",
            "2021-12-15T19:31:38,666299100+00:00 - Exit code 1 is normal. Not restarting iot-server.\n",
            "Starting gunicorn 20.1.0\n",
            "Listening at: http://127.0.0.1:31311 (72)\n",
            "Using worker: sync\n",
            "worker timeout is set to 300\n",
            "Booting worker with pid: 99\n",
            "SPARK_HOME not set. Skipping PySpark Initialization.\n",
            "Initializing logger\n",
            "2021-12-15 19:31:43,078 | root | INFO | Starting up app insights client\n",
            "logging socket was found. logging is available.\n",
            "logging socket was found. logging is available.\n",
            "2021-12-15 19:31:43,080 | root | INFO | Starting up request id generator\n",
            "2021-12-15 19:31:43,080 | root | INFO | Starting up app insight hooks\n",
            "2021-12-15 19:31:43,080 | root | INFO | Invoking user's init function\n",
            "Initializing model instance as webservice...\n",
            "no request id,Initializing model instance as webservice...\n",
            "\n",
            "Init done... enjoy inferencing!!\n",
            "no request id,Init done... enjoy inferencing!!\n",
            "\n",
            "2021-12-15 19:31:47,242 | root | INFO | Users's init has completed successfully\n",
            "2021-12-15 19:31:47,249 | root | INFO | Skipping middleware: dbg_model_info as it's not enabled.\n",
            "2021-12-15 19:31:47,250 | root | INFO | Skipping middleware: dbg_resource_usage as it's not enabled.\n",
            "2021-12-15 19:31:47,251 | root | INFO | Scoring timeout is found from os.environ: 60000 ms\n",
            "2021-12-15 19:31:58,153 | root | INFO | Swagger file not present\n",
            "2021-12-15 19:31:58,153 | root | INFO | 404\n",
            "127.0.0.1 - - [15/Dec/2021:19:31:58 +0000] \"GET /swagger.json HTTP/1.0\" 404 19 \"-\" \"Go-http-client/1.1\"\n",
            "2021-12-15 19:32:02,813 | root | INFO | Swagger file not present\n",
            "2021-12-15 19:32:02,813 | root | INFO | 404\n",
            "127.0.0.1 - - [15/Dec/2021:19:32:02 +0000] \"GET /swagger.json HTTP/1.0\" 404 19 \"-\" \"Go-http-client/1.1\"\n",
            "\n"
          ]
        }
      ],
      "source": [
        "print(service.get_logs())"
      ]
    },
    {
      "cell_type": "markdown",
      "metadata": {
        "collapsed": true,
        "gather": {
          "logged": 1598432765711
        },
        "jupyter": {
          "outputs_hidden": false,
          "source_hidden": false
        },
        "nteract": {
          "transient": {
            "deleting": false
          }
        }
      },
      "source": [
        "We are sending some requests to the webservice in order to get some predictions."
      ]
    },
    {
      "cell_type": "code",
      "execution_count": 18,
      "metadata": {
        "gather": {
          "logged": 1639597033983
        },
        "jupyter": {
          "outputs_hidden": false,
          "source_hidden": false
        },
        "nteract": {
          "transient": {
            "deleting": false
          }
        }
      },
      "outputs": [
        {
          "name": "stdout",
          "output_type": "stream",
          "text": [
            "[[40, 'M', 'ATA', 140, 289, 0, 'Normal', 172, 'N', 0.0, 'Up'], [49, 'F', 'NAP', 160, 180, 0, 'Normal', 156, 'N', 1.0, 'Flat']]\n",
            "[[40, 'M', 'ATA', 140, 289, 0, 'Normal', 172, 'N', 0.0, 'Up'], [49, 'F', 'NAP', 160, 180, 0, 'Normal', 156, 'N', 1.0, 'Flat']]\n"
          ]
        }
      ],
      "source": [
        "# Get the data to test the endpoint in the right way.\n",
        "\n",
        "data_tosend = df_x[0:2].values.tolist()\n",
        "\n",
        "print(data_tosend)\n",
        "\n",
        "data_tosend = [data_tosend[0][:], data_tosend[1][:]]\n",
        "\n",
        "print(data_tosend)\n"
      ]
    },
    {
      "cell_type": "code",
      "execution_count": 19,
      "metadata": {
        "gather": {
          "logged": 1639597041985
        },
        "jupyter": {
          "outputs_hidden": false,
          "source_hidden": false
        },
        "nteract": {
          "transient": {
            "deleting": false
          }
        }
      },
      "outputs": [
        {
          "name": "stdout",
          "output_type": "stream",
          "text": [
            "[0, 0]\n"
          ]
        }
      ],
      "source": [
        "input_payload = json.dumps({\n",
        "    'data': data_tosend,\n",
        "    'method': 'predict'  # If you have a classification model, you can get probabilities by changing this to 'predict_proba'.\n",
        "})\n",
        "\n",
        "output = service.run(input_payload)\n",
        "\n",
        "print(output)"
      ]
    },
    {
      "cell_type": "markdown",
      "metadata": {
        "nteract": {
          "transient": {
            "deleting": false
          }
        }
      },
      "source": [
        "Now we will do the ask the endpoint to provide a prediction through an http request."
      ]
    },
    {
      "cell_type": "code",
      "execution_count": 27,
      "metadata": {
        "gather": {
          "logged": 1639597472733
        },
        "jupyter": {
          "outputs_hidden": false,
          "source_hidden": false
        },
        "nteract": {
          "transient": {
            "deleting": false
          }
        }
      },
      "outputs": [
        {
          "name": "stdout",
          "output_type": "stream",
          "text": [
            "http://1493824d-565c-4530-b5a8-ed3b1f946787.southcentralus.azurecontainer.io/score\n",
            "{\"data\": [[40, \"M\", \"ATA\", 140, 289, 0, \"Normal\", 172, \"N\", 0.0, \"Up\"], [49, \"F\", \"NAP\", 160, 180, 0, \"Normal\", 156, \"N\", 1.0, \"Flat\"]]}\n",
            "[0, 0]\n"
          ]
        }
      ],
      "source": [
        "scoring_uri = service.scoring_uri\n",
        "print(scoring_uri)\n",
        "data_byhttp = json.dumps({'data':data_tosend})\n",
        "\n",
        "print(data_byhttp)\n",
        "\n",
        "headers = {'Content-Type':'application/json'}\n",
        " \n",
        "response = requests.post(scoring_uri, data_byhttp, headers=headers)\n",
        "\n",
        "print(response.json())"
      ]
    },
    {
      "cell_type": "code",
      "execution_count": 26,
      "metadata": {
        "gather": {
          "logged": 1639597382308
        },
        "jupyter": {
          "outputs_hidden": false,
          "source_hidden": false
        },
        "nteract": {
          "transient": {
            "deleting": false
          }
        }
      },
      "outputs": [
        {
          "name": "stdout",
          "output_type": "stream",
          "text": [
            "2021-12-15T19:31:38,322239300+00:00 - gunicorn/run \n",
            "Dynamic Python package installation is disabled.\n",
            "Starting HTTP server\n",
            "2021-12-15T19:31:38,325075800+00:00 - iot-server/run \n",
            "2021-12-15T19:31:38,341769900+00:00 - nginx/run \n",
            "2021-12-15T19:31:38,354949500+00:00 - rsyslog/run \n",
            "EdgeHubConnectionString and IOTEDGE_IOTHUBHOSTNAME are not set. Exiting...\n",
            "2021-12-15T19:31:38,662314800+00:00 - iot-server/finish 1 0\n",
            "2021-12-15T19:31:38,666299100+00:00 - Exit code 1 is normal. Not restarting iot-server.\n",
            "Starting gunicorn 20.1.0\n",
            "Listening at: http://127.0.0.1:31311 (72)\n",
            "Using worker: sync\n",
            "worker timeout is set to 300\n",
            "Booting worker with pid: 99\n",
            "SPARK_HOME not set. Skipping PySpark Initialization.\n",
            "Initializing logger\n",
            "2021-12-15 19:31:43,078 | root | INFO | Starting up app insights client\n",
            "logging socket was found. logging is available.\n",
            "logging socket was found. logging is available.\n",
            "2021-12-15 19:31:43,080 | root | INFO | Starting up request id generator\n",
            "2021-12-15 19:31:43,080 | root | INFO | Starting up app insight hooks\n",
            "2021-12-15 19:31:43,080 | root | INFO | Invoking user's init function\n",
            "Initializing model instance as webservice...\n",
            "no request id,Initializing model instance as webservice...\n",
            "\n",
            "Init done... enjoy inferencing!!\n",
            "no request id,Init done... enjoy inferencing!!\n",
            "\n",
            "2021-12-15 19:31:47,242 | root | INFO | Users's init has completed successfully\n",
            "2021-12-15 19:31:47,249 | root | INFO | Skipping middleware: dbg_model_info as it's not enabled.\n",
            "2021-12-15 19:31:47,250 | root | INFO | Skipping middleware: dbg_resource_usage as it's not enabled.\n",
            "2021-12-15 19:31:47,251 | root | INFO | Scoring timeout is found from os.environ: 60000 ms\n",
            "2021-12-15 19:31:58,153 | root | INFO | Swagger file not present\n",
            "2021-12-15 19:31:58,153 | root | INFO | 404\n",
            "127.0.0.1 - - [15/Dec/2021:19:31:58 +0000] \"GET /swagger.json HTTP/1.0\" 404 19 \"-\" \"Go-http-client/1.1\"\n",
            "2021-12-15 19:32:02,813 | root | INFO | Swagger file not present\n",
            "2021-12-15 19:32:02,813 | root | INFO | 404\n",
            "127.0.0.1 - - [15/Dec/2021:19:32:02 +0000] \"GET /swagger.json HTTP/1.0\" 404 19 \"-\" \"Go-http-client/1.1\"\n",
            "2021-12-15 19:37:20,423 | root | INFO | Scoring Timer is set to 60.0 seconds\n",
            "Launching inference...\n",
            "73b43665-fc31-4936-b09c-227c752301ed,Launching inference...\n",
            "\n",
            "Inference done...\n",
            "73b43665-fc31-4936-b09c-227c752301ed,Inference done...\n",
            "\n",
            "Results from inference:\n",
            "73b43665-fc31-4936-b09c-227c752301ed,Results from inference:\n",
            "\n",
            "[0, 0]\n",
            "73b43665-fc31-4936-b09c-227c752301ed,[0, 0]\n",
            "\n",
            "2021-12-15 19:37:21,860 | root | INFO | 200\n",
            "127.0.0.1 - - [15/Dec/2021:19:37:21 +0000] \"POST /score HTTP/1.0\" 200 6 \"-\" \"python-requests/2.26.0\"\n",
            "2021-12-15 19:38:30,981 | root | INFO | Scoring Timer is set to 60.0 seconds\n",
            "Launching inference...\n",
            "6fd494da-e4cd-4f84-8e37-aa32f5c8f35c,Launching inference...\n",
            "\n",
            "Inference done...\n",
            "6fd494da-e4cd-4f84-8e37-aa32f5c8f35c,Inference done...\n",
            "\n",
            "Results from inference:\n",
            "6fd494da-e4cd-4f84-8e37-aa32f5c8f35c,Results from inference:\n",
            "\n",
            "[0, 0]\n",
            "6fd494da-e4cd-4f84-8e37-aa32f5c8f35c,[0, 0]\n",
            "\n",
            "2021-12-15 19:38:32,402 | root | INFO | 200\n",
            "127.0.0.1 - - [15/Dec/2021:19:38:32 +0000] \"POST /score HTTP/1.0\" 200 6 \"-\" \"python-requests/2.26.0\"\n",
            "2021-12-15 19:39:24,639 | root | INFO | Scoring Timer is set to 60.0 seconds\n",
            "Launching inference...\n",
            "cc0a922b-308b-4ffe-9fc4-dccb37ad688d,Launching inference...\n",
            "\n",
            "Inference done...\n",
            "cc0a922b-308b-4ffe-9fc4-dccb37ad688d,Inference done...\n",
            "\n",
            "Results from inference:\n",
            "cc0a922b-308b-4ffe-9fc4-dccb37ad688d,Results from inference:\n",
            "\n",
            "[0, 0]\n",
            "cc0a922b-308b-4ffe-9fc4-dccb37ad688d,[0, 0]\n",
            "\n",
            "2021-12-15 19:39:26,207 | root | INFO | 200\n",
            "127.0.0.1 - - [15/Dec/2021:19:39:26 +0000] \"POST /score HTTP/1.0\" 200 6 \"-\" \"python-requests/2.26.0\"\n",
            "2021-12-15 19:41:48,369 | root | INFO | Scoring Timer is set to 60.0 seconds\n",
            "Launching inference...\n",
            "89e713ed-412b-4555-99a7-99adae4be130,Launching inference...\n",
            "\n",
            "Inference done...\n",
            "89e713ed-412b-4555-99a7-99adae4be130,Inference done...\n",
            "\n",
            "Results from inference:\n",
            "89e713ed-412b-4555-99a7-99adae4be130,Results from inference:\n",
            "\n",
            "[0, 0]\n",
            "89e713ed-412b-4555-99a7-99adae4be130,[0, 0]\n",
            "\n",
            "2021-12-15 19:41:49,734 | root | INFO | 200\n",
            "127.0.0.1 - - [15/Dec/2021:19:41:49 +0000] \"POST /score HTTP/1.0\" 200 6 \"-\" \"python-requests/2.26.0\"\n",
            "2021-12-15 19:42:30,622 | root | INFO | Scoring Timer is set to 60.0 seconds\n",
            "Launching inference...\n",
            "af9836b7-f14a-435e-99e3-c7be73a54d1c,Launching inference...\n",
            "\n",
            "Inference done...\n",
            "af9836b7-f14a-435e-99e3-c7be73a54d1c,Inference done...\n",
            "\n",
            "Results from inference:\n",
            "af9836b7-f14a-435e-99e3-c7be73a54d1c,Results from inference:\n",
            "\n",
            "[0, 0]\n",
            "af9836b7-f14a-435e-99e3-c7be73a54d1c,[0, 0]\n",
            "\n",
            "2021-12-15 19:42:32,005 | root | INFO | 200\n",
            "127.0.0.1 - - [15/Dec/2021:19:42:31 +0000] \"POST /score HTTP/1.0\" 200 6 \"-\" \"python-requests/2.26.0\"\n",
            "\n"
          ]
        }
      ],
      "source": [
        "print(service.get_logs())"
      ]
    },
    {
      "cell_type": "markdown",
      "metadata": {},
      "source": [
        "And finally once we have got our predictions, we remove all the allocated compute resources."
      ]
    },
    {
      "cell_type": "code",
      "execution_count": 25,
      "metadata": {
        "gather": {
          "logged": 1639426131386
        }
      },
      "outputs": [
        {
          "name": "stdout",
          "output_type": "stream",
          "text": [
            "Current provisioning state of AmlCompute is \"Deleting\"\n",
            "\n"
          ]
        }
      ],
      "source": [
        "# Remove WebService endpoint\n",
        "\n",
        "service.delete()\n",
        "\n",
        "# Remove compute cluster\n",
        "\n",
        "cpu_cluster.delete()"
      ]
    },
    {
      "cell_type": "markdown",
      "metadata": {},
      "source": [
        "**Submission Checklist**\n",
        "- I have registered the model.\n",
        "- I have deployed the model with the best accuracy as a webservice.\n",
        "- I have tested the webservice by sending a request to the model endpoint.\n",
        "- I have deleted the webservice and shutdown all the computes that I have used.\n",
        "- I have taken a screenshot showing the model endpoint as active.\n",
        "- The project includes a file containing the environment details.\n"
      ]
    },
    {
      "cell_type": "markdown",
      "metadata": {},
      "source": []
    }
  ],
  "metadata": {
    "interpreter": {
      "hash": "76d3e2318c863bbf4a38434369238e2bd9b0fd34f09cea8e41db157ff8ea37cf"
    },
    "kernel_info": {
      "name": "python3-azureml"
    },
    "kernelspec": {
      "display_name": "Python 3.6 - AzureML",
      "language": "python",
      "name": "python3"
    },
    "language_info": {
      "codemirror_mode": {
        "name": "ipython",
        "version": 3
      },
      "file_extension": ".py",
      "mimetype": "text/x-python",
      "name": "python",
      "nbconvert_exporter": "python",
      "pygments_lexer": "ipython3",
      "version": "3.8.8"
    },
    "microsoft": {
      "host": {
        "AzureML": {
          "notebookHasBeenCompleted": true
        }
      }
    },
    "nteract": {
      "version": "nteract-front-end@1.0.0"
    }
  },
  "nbformat": 4,
  "nbformat_minor": 2
}

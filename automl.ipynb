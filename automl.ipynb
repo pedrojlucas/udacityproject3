{
  "cells": [
    {
      "cell_type": "markdown",
      "metadata": {},
      "source": [
        "# Automated ML\n",
        "\n",
        "In the next cells: we will update the environment SDK to fit with the latest AutoML version and avoid incompatibility issues and import all the important libraries we will need to execute this notebook."
      ]
    },
    {
      "cell_type": "code",
      "execution_count": 1,
      "metadata": {
        "gather": {
          "logged": 1638128473874
        },
        "jupyter": {
          "outputs_hidden": false,
          "source_hidden": false
        },
        "nteract": {
          "transient": {
            "deleting": false
          }
        }
      },
      "outputs": [
        {
          "name": "stdout",
          "output_type": "stream",
          "text": [
            "Collecting azureml-sdk[automl]\n",
            "  Using cached azureml_sdk-1.36.0-py3-none-any.whl (4.5 kB)\n",
            "Collecting azureml-train-automl-client~=1.36.0\n",
            "  Using cached azureml_train_automl_client-1.36.0-py3-none-any.whl (135 kB)\n",
            "Collecting azureml-core~=1.36.0\n",
            "  Using cached azureml_core-1.36.0.post2-py3-none-any.whl (2.4 MB)\n",
            "Collecting azureml-pipeline~=1.36.0\n",
            "  Using cached azureml_pipeline-1.36.0-py3-none-any.whl (3.7 kB)\n",
            "Requirement already satisfied, skipping upgrade: azureml-dataset-runtime[fuse]~=1.36.0 in /anaconda/envs/azureml_py36/lib/python3.6/site-packages (from azureml-sdk[automl]) (1.36.0)\n",
            "Collecting azureml-train-core~=1.36.0\n",
            "  Using cached azureml_train_core-1.36.0-py3-none-any.whl (8.6 MB)\n",
            "Collecting azureml-train-automl~=1.36.0; extra == \"automl\"\n",
            "  Using cached azureml_train_automl-1.36.0-py3-none-any.whl (3.5 kB)\n",
            "Collecting azureml-telemetry~=1.36.0\n",
            "  Using cached azureml_telemetry-1.36.0-py3-none-any.whl (30 kB)\n",
            "Collecting azureml-automl-core~=1.36.0\n",
            "  Using cached azureml_automl_core-1.36.1-py3-none-any.whl (221 kB)\n",
            "Requirement already satisfied, skipping upgrade: jsonpickle<3.0.0 in /anaconda/envs/azureml_py36/lib/python3.6/site-packages (from azureml-core~=1.36.0->azureml-sdk[automl]) (2.0.0)\n",
            "Requirement already satisfied, skipping upgrade: backports.tempfile in /anaconda/envs/azureml_py36/lib/python3.6/site-packages (from azureml-core~=1.36.0->azureml-sdk[automl]) (1.0)\n",
            "Requirement already satisfied, skipping upgrade: msrestazure<=0.6.4,>=0.4.33 in /anaconda/envs/azureml_py36/lib/python3.6/site-packages (from azureml-core~=1.36.0->azureml-sdk[automl]) (0.6.4)\n",
            "Requirement already satisfied, skipping upgrade: pathspec<1.0.0 in /anaconda/envs/azureml_py36/lib/python3.6/site-packages (from azureml-core~=1.36.0->azureml-sdk[automl]) (0.9.0)\n",
            "Requirement already satisfied, skipping upgrade: contextlib2<22.0.0 in /anaconda/envs/azureml_py36/lib/python3.6/site-packages (from azureml-core~=1.36.0->azureml-sdk[automl]) (21.6.0)\n",
            "Requirement already satisfied, skipping upgrade: azure-common<2.0.0,>=1.1.12 in /anaconda/envs/azureml_py36/lib/python3.6/site-packages (from azureml-core~=1.36.0->azureml-sdk[automl]) (1.1.27)\n",
            "Requirement already satisfied, skipping upgrade: pyopenssl<21.0.0 in /anaconda/envs/azureml_py36/lib/python3.6/site-packages (from azureml-core~=1.36.0->azureml-sdk[automl]) (20.0.1)\n",
            "Requirement already satisfied, skipping upgrade: azure-mgmt-authorization<1.0.0,>=0.40.0 in /anaconda/envs/azureml_py36/lib/python3.6/site-packages (from azureml-core~=1.36.0->azureml-sdk[automl]) (0.61.0)\n",
            "Requirement already satisfied, skipping upgrade: urllib3<=1.26.7,>=1.23 in /anaconda/envs/azureml_py36/lib/python3.6/site-packages (from azureml-core~=1.36.0->azureml-sdk[automl]) (1.25.11)\n",
            "Requirement already satisfied, skipping upgrade: azure-mgmt-keyvault<10.0.0,>=0.40.0 in /anaconda/envs/azureml_py36/lib/python3.6/site-packages (from azureml-core~=1.36.0->azureml-sdk[automl]) (9.1.0)\n",
            "Requirement already satisfied, skipping upgrade: docker<6.0.0 in /anaconda/envs/azureml_py36/lib/python3.6/site-packages (from azureml-core~=1.36.0->azureml-sdk[automl]) (5.0.2)\n",
            "Requirement already satisfied, skipping upgrade: azure-mgmt-storage<16.0.0,>=1.5.0 in /anaconda/envs/azureml_py36/lib/python3.6/site-packages (from azureml-core~=1.36.0->azureml-sdk[automl]) (11.2.0)\n",
            "Requirement already satisfied, skipping upgrade: azure-mgmt-containerregistry>=2.0.0 in /anaconda/envs/azureml_py36/lib/python3.6/site-packages (from azureml-core~=1.36.0->azureml-sdk[automl]) (8.1.0)\n",
            "Requirement already satisfied, skipping upgrade: azure-mgmt-resource<15.0.0,>=1.2.1 in /anaconda/envs/azureml_py36/lib/python3.6/site-packages (from azureml-core~=1.36.0->azureml-sdk[automl]) (13.0.0)\n",
            "Requirement already satisfied, skipping upgrade: cryptography!=1.9,!=2.0.*,!=2.1.*,!=2.2.*,<4.0.0 in /anaconda/envs/azureml_py36/lib/python3.6/site-packages (from azureml-core~=1.36.0->azureml-sdk[automl]) (3.4.8)\n",
            "Requirement already satisfied, skipping upgrade: python-dateutil<3.0.0,>=2.7.3 in /anaconda/envs/azureml_py36/lib/python3.6/site-packages (from azureml-core~=1.36.0->azureml-sdk[automl]) (2.8.2)\n",
            "Requirement already satisfied, skipping upgrade: azure-graphrbac<1.0.0,>=0.40.0 in /anaconda/envs/azureml_py36/lib/python3.6/site-packages (from azureml-core~=1.36.0->azureml-sdk[automl]) (0.61.1)\n",
            "Requirement already satisfied, skipping upgrade: ndg-httpsclient<=0.5.1 in /anaconda/envs/azureml_py36/lib/python3.6/site-packages (from azureml-core~=1.36.0->azureml-sdk[automl]) (0.5.1)\n",
            "Requirement already satisfied, skipping upgrade: msrest<1.0.0,>=0.5.1 in /anaconda/envs/azureml_py36/lib/python3.6/site-packages (from azureml-core~=1.36.0->azureml-sdk[automl]) (0.6.21)\n",
            "Requirement already satisfied, skipping upgrade: adal<=1.2.7,>=1.2.0 in /anaconda/envs/azureml_py36/lib/python3.6/site-packages (from azureml-core~=1.36.0->azureml-sdk[automl]) (1.2.7)\n",
            "Requirement already satisfied, skipping upgrade: requests<3.0.0,>=2.19.1 in /anaconda/envs/azureml_py36/lib/python3.6/site-packages (from azureml-core~=1.36.0->azureml-sdk[automl]) (2.26.0)\n",
            "Requirement already satisfied, skipping upgrade: PyJWT<3.0.0 in /anaconda/envs/azureml_py36/lib/python3.6/site-packages (from azureml-core~=1.36.0->azureml-sdk[automl]) (2.1.0)\n",
            "Requirement already satisfied, skipping upgrade: pytz in /anaconda/envs/azureml_py36/lib/python3.6/site-packages (from azureml-core~=1.36.0->azureml-sdk[automl]) (2021.1)\n",
            "Requirement already satisfied, skipping upgrade: jmespath<1.0.0 in /anaconda/envs/azureml_py36/lib/python3.6/site-packages (from azureml-core~=1.36.0->azureml-sdk[automl]) (0.10.0)\n",
            "Requirement already satisfied, skipping upgrade: SecretStorage<4.0.0 in /anaconda/envs/azureml_py36/lib/python3.6/site-packages (from azureml-core~=1.36.0->azureml-sdk[automl]) (3.3.1)\n",
            "Collecting azureml-pipeline-steps~=1.36.0\n",
            "  Using cached azureml_pipeline_steps-1.36.0-py3-none-any.whl (70 kB)\n",
            "Collecting azureml-pipeline-core~=1.36.0\n",
            "  Using cached azureml_pipeline_core-1.36.0-py3-none-any.whl (313 kB)\n",
            "Requirement already satisfied, skipping upgrade: azureml-dataprep<2.25.0a,>=2.24.0a in /anaconda/envs/azureml_py36/lib/python3.6/site-packages (from azureml-dataset-runtime[fuse]~=1.36.0->azureml-sdk[automl]) (2.24.4)\n",
            "Requirement already satisfied, skipping upgrade: numpy!=1.19.3; sys_platform == \"linux\" in /anaconda/envs/azureml_py36/lib/python3.6/site-packages (from azureml-dataset-runtime[fuse]~=1.36.0->azureml-sdk[automl]) (1.18.5)\n",
            "Requirement already satisfied, skipping upgrade: pyarrow<4.0.0,>=0.17.0 in /anaconda/envs/azureml_py36/lib/python3.6/site-packages (from azureml-dataset-runtime[fuse]~=1.36.0->azureml-sdk[automl]) (3.0.0)\n",
            "Requirement already satisfied, skipping upgrade: fusepy<4.0.0,>=3.0.1; extra == \"fuse\" in /anaconda/envs/azureml_py36/lib/python3.6/site-packages (from azureml-dataset-runtime[fuse]~=1.36.0->azureml-sdk[automl]) (3.0.1)\n",
            "Collecting azureml-train-restclients-hyperdrive~=1.36.0\n",
            "  Using cached azureml_train_restclients_hyperdrive-1.36.0-py3-none-any.whl (19 kB)\n",
            "Collecting azureml-train-automl-runtime~=1.36.0\n",
            "  Using cached azureml_train_automl_runtime-1.36.1-py3-none-any.whl (274 kB)\n",
            "Collecting azureml-automl-runtime~=1.36.0\n",
            "  Using cached azureml_automl_runtime-1.36.1-py3-none-any.whl (2.1 MB)\n",
            "Requirement already satisfied, skipping upgrade: applicationinsights in /anaconda/envs/azureml_py36/lib/python3.6/site-packages (from azureml-telemetry~=1.36.0->azureml-train-automl-client~=1.36.0->azureml-sdk[automl]) (0.11.10)\n",
            "Requirement already satisfied, skipping upgrade: importlib-metadata; python_version < \"3.8\" in /anaconda/envs/azureml_py36/lib/python3.6/site-packages (from jsonpickle<3.0.0->azureml-core~=1.36.0->azureml-sdk[automl]) (4.8.1)\n",
            "Requirement already satisfied, skipping upgrade: backports.weakref in /anaconda/envs/azureml_py36/lib/python3.6/site-packages (from backports.tempfile->azureml-core~=1.36.0->azureml-sdk[automl]) (1.0.post1)\n",
            "Requirement already satisfied, skipping upgrade: six in /anaconda/envs/azureml_py36/lib/python3.6/site-packages (from msrestazure<=0.6.4,>=0.4.33->azureml-core~=1.36.0->azureml-sdk[automl]) (1.16.0)\n",
            "Requirement already satisfied, skipping upgrade: azure-mgmt-core<2.0.0,>=1.2.0 in /anaconda/envs/azureml_py36/lib/python3.6/site-packages (from azure-mgmt-keyvault<10.0.0,>=0.40.0->azureml-core~=1.36.0->azureml-sdk[automl]) (1.3.0)\n",
            "Requirement already satisfied, skipping upgrade: websocket-client>=0.32.0 in /anaconda/envs/azureml_py36/lib/python3.6/site-packages (from docker<6.0.0->azureml-core~=1.36.0->azureml-sdk[automl]) (1.2.1)\n",
            "Requirement already satisfied, skipping upgrade: cffi>=1.12 in /anaconda/envs/azureml_py36/lib/python3.6/site-packages (from cryptography!=1.9,!=2.0.*,!=2.1.*,!=2.2.*,<4.0.0->azureml-core~=1.36.0->azureml-sdk[automl]) (1.14.6)\n",
            "Requirement already satisfied, skipping upgrade: pyasn1>=0.1.1 in /anaconda/envs/azureml_py36/lib/python3.6/site-packages (from ndg-httpsclient<=0.5.1->azureml-core~=1.36.0->azureml-sdk[automl]) (0.4.8)\n",
            "Requirement already satisfied, skipping upgrade: isodate>=0.6.0 in /anaconda/envs/azureml_py36/lib/python3.6/site-packages (from msrest<1.0.0,>=0.5.1->azureml-core~=1.36.0->azureml-sdk[automl]) (0.6.0)\n",
            "Requirement already satisfied, skipping upgrade: certifi>=2017.4.17 in /anaconda/envs/azureml_py36/lib/python3.6/site-packages (from msrest<1.0.0,>=0.5.1->azureml-core~=1.36.0->azureml-sdk[automl]) (2021.5.30)\n",
            "Requirement already satisfied, skipping upgrade: requests-oauthlib>=0.5.0 in /anaconda/envs/azureml_py36/lib/python3.6/site-packages (from msrest<1.0.0,>=0.5.1->azureml-core~=1.36.0->azureml-sdk[automl]) (1.3.0)\n",
            "Requirement already satisfied, skipping upgrade: idna<4,>=2.5; python_version >= \"3\" in /anaconda/envs/azureml_py36/lib/python3.6/site-packages (from requests<3.0.0,>=2.19.1->azureml-core~=1.36.0->azureml-sdk[automl]) (3.2)\n",
            "Requirement already satisfied, skipping upgrade: charset-normalizer~=2.0.0; python_version >= \"3\" in /anaconda/envs/azureml_py36/lib/python3.6/site-packages (from requests<3.0.0,>=2.19.1->azureml-core~=1.36.0->azureml-sdk[automl]) (2.0.4)\n",
            "Requirement already satisfied, skipping upgrade: jeepney>=0.6 in /anaconda/envs/azureml_py36/lib/python3.6/site-packages (from SecretStorage<4.0.0->azureml-core~=1.36.0->azureml-sdk[automl]) (0.7.1)\n",
            "Requirement already satisfied, skipping upgrade: azureml-dataprep-rslex~=2.0.0dev0 in /anaconda/envs/azureml_py36/lib/python3.6/site-packages (from azureml-dataprep<2.25.0a,>=2.24.0a->azureml-dataset-runtime[fuse]~=1.36.0->azureml-sdk[automl]) (2.0.3)\n",
            "Requirement already satisfied, skipping upgrade: cloudpickle<2.0.0,>=1.1.0 in /anaconda/envs/azureml_py36/lib/python3.6/site-packages (from azureml-dataprep<2.25.0a,>=2.24.0a->azureml-dataset-runtime[fuse]~=1.36.0->azureml-sdk[automl]) (1.6.0)\n",
            "Requirement already satisfied, skipping upgrade: azureml-dataprep-native<39.0.0,>=38.0.0 in /anaconda/envs/azureml_py36/lib/python3.6/site-packages (from azureml-dataprep<2.25.0a,>=2.24.0a->azureml-dataset-runtime[fuse]~=1.36.0->azureml-sdk[automl]) (38.0.0)\n",
            "Requirement already satisfied, skipping upgrade: dotnetcore2<3.0.0,>=2.1.14 in /anaconda/envs/azureml_py36/lib/python3.6/site-packages (from azureml-dataprep<2.25.0a,>=2.24.0a->azureml-dataset-runtime[fuse]~=1.36.0->azureml-sdk[automl]) (2.1.21)\n",
            "Requirement already satisfied, skipping upgrade: azure-identity==1.7.0 in /anaconda/envs/azureml_py36/lib/python3.6/site-packages (from azureml-dataprep<2.25.0a,>=2.24.0a->azureml-dataset-runtime[fuse]~=1.36.0->azureml-sdk[automl]) (1.7.0)\n",
            "Requirement already satisfied, skipping upgrade: scikit-learn<0.23.0,>=0.19.0 in /anaconda/envs/azureml_py36/lib/python3.6/site-packages (from azureml-train-automl-runtime~=1.36.0->azureml-train-automl~=1.36.0; extra == \"automl\"->azureml-sdk[automl]) (0.22.2.post1)\n",
            "Requirement already satisfied, skipping upgrade: onnxmltools==1.4.1 in /anaconda/envs/azureml_py36/lib/python3.6/site-packages (from azureml-train-automl-runtime~=1.36.0->azureml-train-automl~=1.36.0; extra == \"automl\"->azureml-sdk[automl]) (1.4.1)\n",
            "Requirement already satisfied, skipping upgrade: lightgbm<=2.3.0,>=2.0.11 in /anaconda/envs/azureml_py36/lib/python3.6/site-packages (from azureml-train-automl-runtime~=1.36.0->azureml-train-automl~=1.36.0; extra == \"automl\"->azureml-sdk[automl]) (2.3.0)\n",
            "Requirement already satisfied, skipping upgrade: keras2onnx<=1.6.0,>=1.4.0 in /anaconda/envs/azureml_py36/lib/python3.6/site-packages (from azureml-train-automl-runtime~=1.36.0->azureml-train-automl~=1.36.0; extra == \"automl\"->azureml-sdk[automl]) (1.6.0)\n",
            "Requirement already satisfied, skipping upgrade: onnxconverter-common<=1.6.0,>=1.4.2 in /anaconda/envs/azureml_py36/lib/python3.6/site-packages (from azureml-train-automl-runtime~=1.36.0->azureml-train-automl~=1.36.0; extra == \"automl\"->azureml-sdk[automl]) (1.6.0)\n",
            "Requirement already satisfied, skipping upgrade: onnx<=1.7.0,>=1.6.0 in /anaconda/envs/azureml_py36/lib/python3.6/site-packages (from azureml-train-automl-runtime~=1.36.0->azureml-train-automl~=1.36.0; extra == \"automl\"->azureml-sdk[automl]) (1.7.0)\n",
            "Requirement already satisfied, skipping upgrade: pandas<1.0.0,>=0.21.0 in /anaconda/envs/azureml_py36/lib/python3.6/site-packages (from azureml-train-automl-runtime~=1.36.0->azureml-train-automl~=1.36.0; extra == \"automl\"->azureml-sdk[automl]) (0.25.3)\n",
            "Requirement already satisfied, skipping upgrade: onnxruntime<=1.8.0,>=1.3.0 in /anaconda/envs/azureml_py36/lib/python3.6/site-packages (from azureml-train-automl-runtime~=1.36.0->azureml-train-automl~=1.36.0; extra == \"automl\"->azureml-sdk[automl]) (1.8.0)\n",
            "Requirement already satisfied, skipping upgrade: distributed<=2.30.1 in /anaconda/envs/azureml_py36/lib/python3.6/site-packages (from azureml-train-automl-runtime~=1.36.0->azureml-train-automl~=1.36.0; extra == \"automl\"->azureml-sdk[automl]) (2.30.1)\n",
            "Collecting azureml-mlflow~=1.36.0\n",
            "  Using cached azureml_mlflow-1.36.0-py3-none-any.whl (46 kB)\n",
            "Requirement already satisfied, skipping upgrade: sklearn-pandas<=1.7.0,>=1.4.0 in /anaconda/envs/azureml_py36/lib/python3.6/site-packages (from azureml-train-automl-runtime~=1.36.0->azureml-train-automl~=1.36.0; extra == \"automl\"->azureml-sdk[automl]) (1.7.0)\n",
            "Requirement already satisfied, skipping upgrade: scipy<=1.5.2,>=1.0.0 in /anaconda/envs/azureml_py36/lib/python3.6/site-packages (from azureml-train-automl-runtime~=1.36.0->azureml-train-automl~=1.36.0; extra == \"automl\"->azureml-sdk[automl]) (1.5.2)\n",
            "Requirement already satisfied, skipping upgrade: dask[complete]<=2.30.0 in /anaconda/envs/azureml_py36/lib/python3.6/site-packages (from azureml-train-automl-runtime~=1.36.0->azureml-train-automl~=1.36.0; extra == \"automl\"->azureml-sdk[automl]) (2.30.0)\n",
            "Requirement already satisfied, skipping upgrade: statsmodels<=0.10.2,>=0.9.0 in /anaconda/envs/azureml_py36/lib/python3.6/site-packages (from azureml-train-automl-runtime~=1.36.0->azureml-train-automl~=1.36.0; extra == \"automl\"->azureml-sdk[automl]) (0.10.2)\n",
            "Requirement already satisfied, skipping upgrade: skl2onnx==1.4.9 in /anaconda/envs/azureml_py36/lib/python3.6/site-packages (from azureml-train-automl-runtime~=1.36.0->azureml-train-automl~=1.36.0; extra == \"automl\"->azureml-sdk[automl]) (1.4.9)\n",
            "Requirement already satisfied, skipping upgrade: botocore<=1.18.18 in /anaconda/envs/azureml_py36/lib/python3.6/site-packages (from azureml-train-automl-runtime~=1.36.0->azureml-train-automl~=1.36.0; extra == \"automl\"->azureml-sdk[automl]) (1.18.18)\n",
            "Requirement already satisfied, skipping upgrade: smart-open<=1.9.0 in /anaconda/envs/azureml_py36/lib/python3.6/site-packages (from azureml-train-automl-runtime~=1.36.0->azureml-train-automl~=1.36.0; extra == \"automl\"->azureml-sdk[automl]) (1.9.0)\n",
            "Requirement already satisfied, skipping upgrade: azure-storage-queue~=12.1 in /anaconda/envs/azureml_py36/lib/python3.6/site-packages (from azureml-train-automl-runtime~=1.36.0->azureml-train-automl~=1.36.0; extra == \"automl\"->azureml-sdk[automl]) (12.1.6)\n",
            "Collecting azureml-defaults~=1.36.0\n",
            "  Using cached azureml_defaults-1.36.0-py3-none-any.whl (3.0 kB)\n",
            "Requirement already satisfied, skipping upgrade: boto3<=1.15.18 in /anaconda/envs/azureml_py36/lib/python3.6/site-packages (from azureml-train-automl-runtime~=1.36.0->azureml-train-automl~=1.36.0; extra == \"automl\"->azureml-sdk[automl]) (1.15.18)\n",
            "Requirement already satisfied, skipping upgrade: jinja2<=2.11.2 in /anaconda/envs/azureml_py36/lib/python3.6/site-packages (from azureml-train-automl-runtime~=1.36.0->azureml-train-automl~=1.36.0; extra == \"automl\"->azureml-sdk[automl]) (2.11.2)\n",
            "Requirement already satisfied, skipping upgrade: gensim<3.9.0 in /anaconda/envs/azureml_py36/lib/python3.6/site-packages (from azureml-train-automl-runtime~=1.36.0->azureml-train-automl~=1.36.0; extra == \"automl\"->azureml-sdk[automl]) (3.8.3)\n",
            "Collecting azureml-interpret~=1.36.0\n",
            "  Using cached azureml_interpret-1.36.0-py3-none-any.whl (52 kB)\n",
            "Requirement already satisfied, skipping upgrade: dill<0.4.0,>=0.2.8 in /anaconda/envs/azureml_py36/lib/python3.6/site-packages (from azureml-automl-runtime~=1.36.0->azureml-train-automl~=1.36.0; extra == \"automl\"->azureml-sdk[automl]) (0.3.4)\n",
            "Requirement already satisfied, skipping upgrade: pmdarima==1.1.1 in /anaconda/envs/azureml_py36/lib/python3.6/site-packages (from azureml-automl-runtime~=1.36.0->azureml-train-automl~=1.36.0; extra == \"automl\"->azureml-sdk[automl]) (1.1.1)\n",
            "Requirement already satisfied, skipping upgrade: joblib==0.14.1 in /anaconda/envs/azureml_py36/lib/python3.6/site-packages (from azureml-automl-runtime~=1.36.0->azureml-train-automl~=1.36.0; extra == \"automl\"->azureml-sdk[automl]) (0.14.1)\n",
            "Requirement already satisfied, skipping upgrade: dataclasses<=0.8,>=0.6 in /anaconda/envs/azureml_py36/lib/python3.6/site-packages (from azureml-automl-runtime~=1.36.0->azureml-train-automl~=1.36.0; extra == \"automl\"->azureml-sdk[automl]) (0.8)\n",
            "Requirement already satisfied, skipping upgrade: nimbusml<=1.8.0,>=1.7.1 in /anaconda/envs/azureml_py36/lib/python3.6/site-packages (from azureml-automl-runtime~=1.36.0->azureml-train-automl~=1.36.0; extra == \"automl\"->azureml-sdk[automl]) (1.8.0)\n",
            "Requirement already satisfied, skipping upgrade: psutil<6.0.0,>=5.2.2 in /anaconda/envs/azureml_py36/lib/python3.6/site-packages (from azureml-automl-runtime~=1.36.0->azureml-train-automl~=1.36.0; extra == \"automl\"->azureml-sdk[automl]) (5.8.0)\n",
            "Requirement already satisfied, skipping upgrade: zipp>=0.5 in /anaconda/envs/azureml_py36/lib/python3.6/site-packages (from importlib-metadata; python_version < \"3.8\"->jsonpickle<3.0.0->azureml-core~=1.36.0->azureml-sdk[automl]) (3.5.0)\n",
            "Requirement already satisfied, skipping upgrade: typing-extensions>=3.6.4; python_version < \"3.8\" in /anaconda/envs/azureml_py36/lib/python3.6/site-packages (from importlib-metadata; python_version < \"3.8\"->jsonpickle<3.0.0->azureml-core~=1.36.0->azureml-sdk[automl]) (3.10.0.2)\n",
            "Requirement already satisfied, skipping upgrade: azure-core<2.0.0,>=1.15.0 in /anaconda/envs/azureml_py36/lib/python3.6/site-packages (from azure-mgmt-core<2.0.0,>=1.2.0->azure-mgmt-keyvault<10.0.0,>=0.40.0->azureml-core~=1.36.0->azureml-sdk[automl]) (1.18.0)\n",
            "Requirement already satisfied, skipping upgrade: pycparser in /anaconda/envs/azureml_py36/lib/python3.6/site-packages (from cffi>=1.12->cryptography!=1.9,!=2.0.*,!=2.1.*,!=2.2.*,<4.0.0->azureml-core~=1.36.0->azureml-sdk[automl]) (2.20)\n",
            "Requirement already satisfied, skipping upgrade: oauthlib>=3.0.0 in /anaconda/envs/azureml_py36/lib/python3.6/site-packages (from requests-oauthlib>=0.5.0->msrest<1.0.0,>=0.5.1->azureml-core~=1.36.0->azureml-sdk[automl]) (3.1.1)\n",
            "Requirement already satisfied, skipping upgrade: distro>=1.2.0 in /anaconda/envs/azureml_py36/lib/python3.6/site-packages (from dotnetcore2<3.0.0,>=2.1.14->azureml-dataprep<2.25.0a,>=2.24.0a->azureml-dataset-runtime[fuse]~=1.36.0->azureml-sdk[automl]) (1.6.0)\n",
            "Requirement already satisfied, skipping upgrade: msal<2.0.0,>=1.12.0 in /anaconda/envs/azureml_py36/lib/python3.6/site-packages (from azure-identity==1.7.0->azureml-dataprep<2.25.0a,>=2.24.0a->azureml-dataset-runtime[fuse]~=1.36.0->azureml-sdk[automl]) (1.14.0)\n",
            "Requirement already satisfied, skipping upgrade: msal-extensions~=0.3.0 in /anaconda/envs/azureml_py36/lib/python3.6/site-packages (from azure-identity==1.7.0->azureml-dataprep<2.25.0a,>=2.24.0a->azureml-dataset-runtime[fuse]~=1.36.0->azureml-sdk[automl]) (0.3.0)\n",
            "Requirement already satisfied, skipping upgrade: protobuf in /anaconda/envs/azureml_py36/lib/python3.6/site-packages (from onnxmltools==1.4.1->azureml-train-automl-runtime~=1.36.0->azureml-train-automl~=1.36.0; extra == \"automl\"->azureml-sdk[automl]) (3.17.3)\n",
            "Requirement already satisfied, skipping upgrade: fire in /anaconda/envs/azureml_py36/lib/python3.6/site-packages (from keras2onnx<=1.6.0,>=1.4.0->azureml-train-automl-runtime~=1.36.0->azureml-train-automl~=1.36.0; extra == \"automl\"->azureml-sdk[automl]) (0.4.0)\n",
            "Requirement already satisfied, skipping upgrade: flatbuffers in /anaconda/envs/azureml_py36/lib/python3.6/site-packages (from onnxruntime<=1.8.0,>=1.3.0->azureml-train-automl-runtime~=1.36.0->azureml-train-automl~=1.36.0; extra == \"automl\"->azureml-sdk[automl]) (2.0)\n",
            "Requirement already satisfied, skipping upgrade: setuptools in /anaconda/envs/azureml_py36/lib/python3.6/site-packages (from distributed<=2.30.1->azureml-train-automl-runtime~=1.36.0->azureml-train-automl~=1.36.0; extra == \"automl\"->azureml-sdk[automl]) (50.3.0)\n",
            "Requirement already satisfied, skipping upgrade: zict>=0.1.3 in /anaconda/envs/azureml_py36/lib/python3.6/site-packages (from distributed<=2.30.1->azureml-train-automl-runtime~=1.36.0->azureml-train-automl~=1.36.0; extra == \"automl\"->azureml-sdk[automl]) (2.0.0)\n",
            "Requirement already satisfied, skipping upgrade: contextvars; python_version < \"3.7\" in /anaconda/envs/azureml_py36/lib/python3.6/site-packages (from distributed<=2.30.1->azureml-train-automl-runtime~=1.36.0->azureml-train-automl~=1.36.0; extra == \"automl\"->azureml-sdk[automl]) (2.4)\n",
            "Requirement already satisfied, skipping upgrade: sortedcontainers!=2.0.0,!=2.0.1 in /anaconda/envs/azureml_py36/lib/python3.6/site-packages (from distributed<=2.30.1->azureml-train-automl-runtime~=1.36.0->azureml-train-automl~=1.36.0; extra == \"automl\"->azureml-sdk[automl]) (2.4.0)\n",
            "Requirement already satisfied, skipping upgrade: msgpack>=0.6.0 in /anaconda/envs/azureml_py36/lib/python3.6/site-packages (from distributed<=2.30.1->azureml-train-automl-runtime~=1.36.0->azureml-train-automl~=1.36.0; extra == \"automl\"->azureml-sdk[automl]) (1.0.2)\n",
            "Requirement already satisfied, skipping upgrade: click>=6.6 in /anaconda/envs/azureml_py36/lib/python3.6/site-packages (from distributed<=2.30.1->azureml-train-automl-runtime~=1.36.0->azureml-train-automl~=1.36.0; extra == \"automl\"->azureml-sdk[automl]) (8.0.1)\n",
            "Requirement already satisfied, skipping upgrade: tornado>=5; python_version < \"3.8\" in /anaconda/envs/azureml_py36/lib/python3.6/site-packages (from distributed<=2.30.1->azureml-train-automl-runtime~=1.36.0->azureml-train-automl~=1.36.0; extra == \"automl\"->azureml-sdk[automl]) (6.1)\n",
            "Requirement already satisfied, skipping upgrade: tblib>=1.6.0 in /anaconda/envs/azureml_py36/lib/python3.6/site-packages (from distributed<=2.30.1->azureml-train-automl-runtime~=1.36.0->azureml-train-automl~=1.36.0; extra == \"automl\"->azureml-sdk[automl]) (1.7.0)\n",
            "Requirement already satisfied, skipping upgrade: toolz>=0.8.2 in /anaconda/envs/azureml_py36/lib/python3.6/site-packages (from distributed<=2.30.1->azureml-train-automl-runtime~=1.36.0->azureml-train-automl~=1.36.0; extra == \"automl\"->azureml-sdk[automl]) (0.11.1)\n",
            "Requirement already satisfied, skipping upgrade: pyyaml in /anaconda/envs/azureml_py36/lib/python3.6/site-packages (from distributed<=2.30.1->azureml-train-automl-runtime~=1.36.0->azureml-train-automl~=1.36.0; extra == \"automl\"->azureml-sdk[automl]) (5.4.1)\n",
            "Requirement already satisfied, skipping upgrade: mlflow-skinny in /anaconda/envs/azureml_py36/lib/python3.6/site-packages (from azureml-mlflow~=1.36.0->azureml-train-automl-runtime~=1.36.0->azureml-train-automl~=1.36.0; extra == \"automl\"->azureml-sdk[automl]) (1.20.2)\n",
            "Requirement already satisfied, skipping upgrade: bokeh!=2.0.0,>=1.0.0; extra == \"complete\" in /anaconda/envs/azureml_py36/lib/python3.6/site-packages (from dask[complete]<=2.30.0->azureml-train-automl-runtime~=1.36.0->azureml-train-automl~=1.36.0; extra == \"automl\"->azureml-sdk[automl]) (2.3.3)\n",
            "Requirement already satisfied, skipping upgrade: partd>=0.3.10; extra == \"complete\" in /anaconda/envs/azureml_py36/lib/python3.6/site-packages (from dask[complete]<=2.30.0->azureml-train-automl-runtime~=1.36.0->azureml-train-automl~=1.36.0; extra == \"automl\"->azureml-sdk[automl]) (1.2.0)\n",
            "Requirement already satisfied, skipping upgrade: fsspec>=0.6.0; extra == \"complete\" in /anaconda/envs/azureml_py36/lib/python3.6/site-packages (from dask[complete]<=2.30.0->azureml-train-automl-runtime~=1.36.0->azureml-train-automl~=1.36.0; extra == \"automl\"->azureml-sdk[automl]) (2021.8.1)\n",
            "Requirement already satisfied, skipping upgrade: patsy>=0.4.0 in /anaconda/envs/azureml_py36/lib/python3.6/site-packages (from statsmodels<=0.10.2,>=0.9.0->azureml-train-automl-runtime~=1.36.0->azureml-train-automl~=1.36.0; extra == \"automl\"->azureml-sdk[automl]) (0.5.1)\n",
            "Requirement already satisfied, skipping upgrade: boto>=2.32 in /anaconda/envs/azureml_py36/lib/python3.6/site-packages (from smart-open<=1.9.0->azureml-train-automl-runtime~=1.36.0->azureml-train-automl~=1.36.0; extra == \"automl\"->azureml-sdk[automl]) (2.49.0)\n",
            "Collecting azureml-inference-server-http~=0.4.1\n",
            "  Using cached azureml_inference_server_http-0.4.2-py3-none-any.whl (38 kB)\n",
            "Requirement already satisfied, skipping upgrade: configparser==3.7.4 in /anaconda/envs/azureml_py36/lib/python3.6/site-packages (from azureml-defaults~=1.36.0->azureml-train-automl-runtime~=1.36.0->azureml-train-automl~=1.36.0; extra == \"automl\"->azureml-sdk[automl]) (3.7.4)\n",
            "Requirement already satisfied, skipping upgrade: json-logging-py==0.2 in /anaconda/envs/azureml_py36/lib/python3.6/site-packages (from azureml-defaults~=1.36.0->azureml-train-automl-runtime~=1.36.0->azureml-train-automl~=1.36.0; extra == \"automl\"->azureml-sdk[automl]) (0.2)\n",
            "Requirement already satisfied, skipping upgrade: s3transfer<0.4.0,>=0.3.0 in /anaconda/envs/azureml_py36/lib/python3.6/site-packages (from boto3<=1.15.18->azureml-train-automl-runtime~=1.36.0->azureml-train-automl~=1.36.0; extra == \"automl\"->azureml-sdk[automl]) (0.3.7)\n",
            "Requirement already satisfied, skipping upgrade: MarkupSafe>=0.23 in /anaconda/envs/azureml_py36/lib/python3.6/site-packages (from jinja2<=2.11.2->azureml-train-automl-runtime~=1.36.0->azureml-train-automl~=1.36.0; extra == \"automl\"->azureml-sdk[automl]) (2.0.1)\n",
            "Collecting interpret-community==0.21.*\n",
            "  Using cached interpret_community-0.21.0-py3-none-any.whl (136 kB)\n",
            "Requirement already satisfied, skipping upgrade: Cython>=0.29 in /anaconda/envs/azureml_py36/lib/python3.6/site-packages (from pmdarima==1.1.1->azureml-automl-runtime~=1.36.0->azureml-train-automl~=1.36.0; extra == \"automl\"->azureml-sdk[automl]) (0.29.24)\n",
            "Requirement already satisfied, skipping upgrade: portalocker~=1.0; platform_system != \"Windows\" in /anaconda/envs/azureml_py36/lib/python3.6/site-packages (from msal-extensions~=0.3.0->azure-identity==1.7.0->azureml-dataprep<2.25.0a,>=2.24.0a->azureml-dataset-runtime[fuse]~=1.36.0->azureml-sdk[automl]) (1.7.1)\n",
            "Requirement already satisfied, skipping upgrade: termcolor in /anaconda/envs/azureml_py36/lib/python3.6/site-packages (from fire->keras2onnx<=1.6.0,>=1.4.0->azureml-train-automl-runtime~=1.36.0->azureml-train-automl~=1.36.0; extra == \"automl\"->azureml-sdk[automl]) (1.1.0)\n",
            "Requirement already satisfied, skipping upgrade: heapdict in /anaconda/envs/azureml_py36/lib/python3.6/site-packages (from zict>=0.1.3->distributed<=2.30.1->azureml-train-automl-runtime~=1.36.0->azureml-train-automl~=1.36.0; extra == \"automl\"->azureml-sdk[automl]) (1.0.1)\n",
            "Requirement already satisfied, skipping upgrade: immutables>=0.9 in /anaconda/envs/azureml_py36/lib/python3.6/site-packages (from contextvars; python_version < \"3.7\"->distributed<=2.30.1->azureml-train-automl-runtime~=1.36.0->azureml-train-automl~=1.36.0; extra == \"automl\"->azureml-sdk[automl]) (0.16)\n",
            "Requirement already satisfied, skipping upgrade: packaging in /anaconda/envs/azureml_py36/lib/python3.6/site-packages (from mlflow-skinny->azureml-mlflow~=1.36.0->azureml-train-automl-runtime~=1.36.0->azureml-train-automl~=1.36.0; extra == \"automl\"->azureml-sdk[automl]) (21.0)\n",
            "Requirement already satisfied, skipping upgrade: entrypoints in /anaconda/envs/azureml_py36/lib/python3.6/site-packages (from mlflow-skinny->azureml-mlflow~=1.36.0->azureml-train-automl-runtime~=1.36.0->azureml-train-automl~=1.36.0; extra == \"automl\"->azureml-sdk[automl]) (0.3)\n",
            "Requirement already satisfied, skipping upgrade: databricks-cli>=0.8.7 in /anaconda/envs/azureml_py36/lib/python3.6/site-packages (from mlflow-skinny->azureml-mlflow~=1.36.0->azureml-train-automl-runtime~=1.36.0->azureml-train-automl~=1.36.0; extra == \"automl\"->azureml-sdk[automl]) (0.15.0)\n",
            "Requirement already satisfied, skipping upgrade: gitpython>=2.1.0 in /anaconda/envs/azureml_py36/lib/python3.6/site-packages (from mlflow-skinny->azureml-mlflow~=1.36.0->azureml-train-automl-runtime~=1.36.0->azureml-train-automl~=1.36.0; extra == \"automl\"->azureml-sdk[automl]) (3.1.18)\n",
            "Requirement already satisfied, skipping upgrade: pillow>=7.1.0 in /anaconda/envs/azureml_py36/lib/python3.6/site-packages (from bokeh!=2.0.0,>=1.0.0; extra == \"complete\"->dask[complete]<=2.30.0->azureml-train-automl-runtime~=1.36.0->azureml-train-automl~=1.36.0; extra == \"automl\"->azureml-sdk[automl]) (8.0.0)\n",
            "Requirement already satisfied, skipping upgrade: locket in /anaconda/envs/azureml_py36/lib/python3.6/site-packages (from partd>=0.3.10; extra == \"complete\"->dask[complete]<=2.30.0->azureml-train-automl-runtime~=1.36.0->azureml-train-automl~=1.36.0; extra == \"automl\"->azureml-sdk[automl]) (0.2.1)\n",
            "Requirement already satisfied, skipping upgrade: flask==1.0.3 in /anaconda/envs/azureml_py36/lib/python3.6/site-packages (from azureml-inference-server-http~=0.4.1->azureml-defaults~=1.36.0->azureml-train-automl-runtime~=1.36.0->azureml-train-automl~=1.36.0; extra == \"automl\"->azureml-sdk[automl]) (1.0.3)\n",
            "Requirement already satisfied, skipping upgrade: gunicorn==20.1.0; platform_system != \"Windows\" in /anaconda/envs/azureml_py36/lib/python3.6/site-packages (from azureml-inference-server-http~=0.4.1->azureml-defaults~=1.36.0->azureml-train-automl-runtime~=1.36.0->azureml-train-automl~=1.36.0; extra == \"automl\"->azureml-sdk[automl]) (20.1.0)\n",
            "Collecting inference-schema==1.3.0\n",
            "  Using cached inference_schema-1.3.0-py3-none-any.whl (19 kB)\n",
            "Requirement already satisfied, skipping upgrade: shap<=0.39.0,>=0.20.0 in /anaconda/envs/azureml_py36/lib/python3.6/site-packages (from interpret-community==0.21.*->azureml-interpret~=1.36.0->azureml-train-automl-runtime~=1.36.0->azureml-train-automl~=1.36.0; extra == \"automl\"->azureml-sdk[automl]) (0.39.0)\n",
            "Requirement already satisfied, skipping upgrade: numba<0.54.0 in /anaconda/envs/azureml_py36/lib/python3.6/site-packages (from interpret-community==0.21.*->azureml-interpret~=1.36.0->azureml-train-automl-runtime~=1.36.0->azureml-train-automl~=1.36.0; extra == \"automl\"->azureml-sdk[automl]) (0.53.1)\n",
            "Requirement already satisfied, skipping upgrade: interpret-core[required]<=0.2.6,>=0.1.20 in /anaconda/envs/azureml_py36/lib/python3.6/site-packages (from interpret-community==0.21.*->azureml-interpret~=1.36.0->azureml-train-automl-runtime~=1.36.0->azureml-train-automl~=1.36.0; extra == \"automl\"->azureml-sdk[automl]) (0.2.5)\n",
            "Requirement already satisfied, skipping upgrade: pyparsing>=2.0.2 in /anaconda/envs/azureml_py36/lib/python3.6/site-packages (from packaging->mlflow-skinny->azureml-mlflow~=1.36.0->azureml-train-automl-runtime~=1.36.0->azureml-train-automl~=1.36.0; extra == \"automl\"->azureml-sdk[automl]) (2.4.7)\n",
            "Requirement already satisfied, skipping upgrade: tabulate>=0.7.7 in /anaconda/envs/azureml_py36/lib/python3.6/site-packages (from databricks-cli>=0.8.7->mlflow-skinny->azureml-mlflow~=1.36.0->azureml-train-automl-runtime~=1.36.0->azureml-train-automl~=1.36.0; extra == \"automl\"->azureml-sdk[automl]) (0.8.9)\n",
            "Requirement already satisfied, skipping upgrade: gitdb<5,>=4.0.1 in /anaconda/envs/azureml_py36/lib/python3.6/site-packages (from gitpython>=2.1.0->mlflow-skinny->azureml-mlflow~=1.36.0->azureml-train-automl-runtime~=1.36.0->azureml-train-automl~=1.36.0; extra == \"automl\"->azureml-sdk[automl]) (4.0.7)\n",
            "Requirement already satisfied, skipping upgrade: itsdangerous>=0.24 in /anaconda/envs/azureml_py36/lib/python3.6/site-packages (from flask==1.0.3->azureml-inference-server-http~=0.4.1->azureml-defaults~=1.36.0->azureml-train-automl-runtime~=1.36.0->azureml-train-automl~=1.36.0; extra == \"automl\"->azureml-sdk[automl]) (2.0.1)\n",
            "Requirement already satisfied, skipping upgrade: Werkzeug>=0.14 in /anaconda/envs/azureml_py36/lib/python3.6/site-packages (from flask==1.0.3->azureml-inference-server-http~=0.4.1->azureml-defaults~=1.36.0->azureml-train-automl-runtime~=1.36.0->azureml-train-automl~=1.36.0; extra == \"automl\"->azureml-sdk[automl]) (1.0.1)\n",
            "Requirement already satisfied, skipping upgrade: wrapt<=1.12.1,>=1.11.1 in /anaconda/envs/azureml_py36/lib/python3.6/site-packages (from inference-schema==1.3.0->azureml-inference-server-http~=0.4.1->azureml-defaults~=1.36.0->azureml-train-automl-runtime~=1.36.0->azureml-train-automl~=1.36.0; extra == \"automl\"->azureml-sdk[automl]) (1.11.1)\n",
            "Requirement already satisfied, skipping upgrade: tqdm>4.25.0 in /anaconda/envs/azureml_py36/lib/python3.6/site-packages (from shap<=0.39.0,>=0.20.0->interpret-community==0.21.*->azureml-interpret~=1.36.0->azureml-train-automl-runtime~=1.36.0->azureml-train-automl~=1.36.0; extra == \"automl\"->azureml-sdk[automl]) (4.62.2)\n",
            "Requirement already satisfied, skipping upgrade: slicer==0.0.7 in /anaconda/envs/azureml_py36/lib/python3.6/site-packages (from shap<=0.39.0,>=0.20.0->interpret-community==0.21.*->azureml-interpret~=1.36.0->azureml-train-automl-runtime~=1.36.0->azureml-train-automl~=1.36.0; extra == \"automl\"->azureml-sdk[automl]) (0.0.7)\n",
            "Requirement already satisfied, skipping upgrade: llvmlite<0.37,>=0.36.0rc1 in /anaconda/envs/azureml_py36/lib/python3.6/site-packages (from numba<0.54.0->interpret-community==0.21.*->azureml-interpret~=1.36.0->azureml-train-automl-runtime~=1.36.0->azureml-train-automl~=1.36.0; extra == \"automl\"->azureml-sdk[automl]) (0.36.0)\n",
            "Requirement already satisfied, skipping upgrade: smmap<5,>=3.0.1 in /anaconda/envs/azureml_py36/lib/python3.6/site-packages (from gitdb<5,>=4.0.1->gitpython>=2.1.0->mlflow-skinny->azureml-mlflow~=1.36.0->azureml-train-automl-runtime~=1.36.0->azureml-train-automl~=1.36.0; extra == \"automl\"->azureml-sdk[automl]) (4.0.0)\n",
            "\u001b[31mERROR: responsibleai 0.10.0 has requirement dice-ml<0.8,>=0.7.1, but you'll have dice-ml 0.6.1 which is incompatible.\u001b[0m\n",
            "\u001b[31mERROR: raiwidgets 0.10.0 has requirement jinja2==2.11.3, but you'll have jinja2 2.11.2 which is incompatible.\u001b[0m\n",
            "\u001b[31mERROR: azureml-widgets 1.34.0 has requirement azureml-core~=1.34.0, but you'll have azureml-core 1.36.0.post2 which is incompatible.\u001b[0m\n",
            "\u001b[31mERROR: azureml-widgets 1.34.0 has requirement azureml-telemetry~=1.34.0, but you'll have azureml-telemetry 1.36.0 which is incompatible.\u001b[0m\n",
            "\u001b[31mERROR: azureml-train 1.34.0 has requirement azureml-train-core~=1.34.0, but you'll have azureml-train-core 1.36.0 which is incompatible.\u001b[0m\n",
            "\u001b[31mERROR: azureml-tensorboard 1.34.0 has requirement azureml-core~=1.34.0, but you'll have azureml-core 1.36.0.post2 which is incompatible.\u001b[0m\n",
            "\u001b[31mERROR: azureml-responsibleai 1.34.0 has requirement azureml-core~=1.34.0, but you'll have azureml-core 1.36.0.post2 which is incompatible.\u001b[0m\n",
            "\u001b[31mERROR: azureml-responsibleai 1.34.0 has requirement azureml-dataset-runtime~=1.34.0, but you'll have azureml-dataset-runtime 1.36.0 which is incompatible.\u001b[0m\n",
            "\u001b[31mERROR: azureml-responsibleai 1.34.0 has requirement azureml-interpret~=1.34.0, but you'll have azureml-interpret 1.36.0 which is incompatible.\u001b[0m\n",
            "\u001b[31mERROR: azureml-responsibleai 1.34.0 has requirement responsibleai==0.9.4, but you'll have responsibleai 0.10.0 which is incompatible.\u001b[0m\n",
            "\u001b[31mERROR: azureml-opendatasets 1.34.0 has requirement azureml-core~=1.34.0, but you'll have azureml-core 1.36.0.post2 which is incompatible.\u001b[0m\n",
            "\u001b[31mERROR: azureml-opendatasets 1.34.0 has requirement azureml-dataset-runtime[fuse,pandas]~=1.34.0, but you'll have azureml-dataset-runtime 1.36.0 which is incompatible.\u001b[0m\n",
            "\u001b[31mERROR: azureml-opendatasets 1.34.0 has requirement azureml-telemetry~=1.34.0, but you'll have azureml-telemetry 1.36.0 which is incompatible.\u001b[0m\n",
            "\u001b[31mERROR: azureml-explain-model 1.34.0 has requirement azureml-interpret~=1.34.0, but you'll have azureml-interpret 1.36.0 which is incompatible.\u001b[0m\n",
            "\u001b[31mERROR: azureml-datadrift 1.34.0 has requirement azureml-core~=1.34.0, but you'll have azureml-core 1.36.0.post2 which is incompatible.\u001b[0m\n",
            "\u001b[31mERROR: azureml-datadrift 1.34.0 has requirement azureml-dataset-runtime[fuse,pandas]~=1.34.0, but you'll have azureml-dataset-runtime 1.36.0 which is incompatible.\u001b[0m\n",
            "\u001b[31mERROR: azureml-datadrift 1.34.0 has requirement azureml-pipeline-core~=1.34.0, but you'll have azureml-pipeline-core 1.36.0 which is incompatible.\u001b[0m\n",
            "\u001b[31mERROR: azureml-datadrift 1.34.0 has requirement azureml-telemetry~=1.34.0, but you'll have azureml-telemetry 1.36.0 which is incompatible.\u001b[0m\n",
            "\u001b[31mERROR: azureml-contrib-services 1.34.0 has requirement azureml-core~=1.34.0, but you'll have azureml-core 1.36.0.post2 which is incompatible.\u001b[0m\n",
            "\u001b[31mERROR: azureml-contrib-server 1.34.0 has requirement azureml-core~=1.34.0, but you'll have azureml-core 1.36.0.post2 which is incompatible.\u001b[0m\n",
            "\u001b[31mERROR: azureml-contrib-reinforcementlearning 1.34.0 has requirement azureml-core~=1.34.0, but you'll have azureml-core 1.36.0.post2 which is incompatible.\u001b[0m\n",
            "\u001b[31mERROR: azureml-contrib-reinforcementlearning 1.34.0 has requirement azureml-train-core~=1.34.0, but you'll have azureml-train-core 1.36.0 which is incompatible.\u001b[0m\n",
            "\u001b[31mERROR: azureml-contrib-pipeline-steps 1.34.0 has requirement azureml-core~=1.34.0, but you'll have azureml-core 1.36.0.post2 which is incompatible.\u001b[0m\n",
            "\u001b[31mERROR: azureml-contrib-pipeline-steps 1.34.0 has requirement azureml-dataset-runtime~=1.34.0, but you'll have azureml-dataset-runtime 1.36.0 which is incompatible.\u001b[0m\n",
            "\u001b[31mERROR: azureml-contrib-pipeline-steps 1.34.0 has requirement azureml-pipeline-core~=1.34.0, but you'll have azureml-pipeline-core 1.36.0 which is incompatible.\u001b[0m\n",
            "\u001b[31mERROR: azureml-contrib-notebook 1.34.0 has requirement azureml-core~=1.34.0, but you'll have azureml-core 1.36.0.post2 which is incompatible.\u001b[0m\n",
            "\u001b[31mERROR: azureml-contrib-notebook 1.34.0 has requirement azureml-pipeline-core~=1.34.0, but you'll have azureml-pipeline-core 1.36.0 which is incompatible.\u001b[0m\n",
            "\u001b[31mERROR: azureml-contrib-fairness 1.34.0 has requirement azureml-core~=1.34.0, but you'll have azureml-core 1.36.0.post2 which is incompatible.\u001b[0m\n",
            "\u001b[31mERROR: azureml-contrib-dataset 1.34.0 has requirement azureml-core~=1.34.0, but you'll have azureml-core 1.36.0.post2 which is incompatible.\u001b[0m\n",
            "\u001b[31mERROR: azureml-contrib-dataset 1.34.0 has requirement azureml-dataset-runtime[fuse,pandas]~=1.34.0, but you'll have azureml-dataset-runtime 1.36.0 which is incompatible.\u001b[0m\n",
            "\u001b[31mERROR: azureml-contrib-automl-pipeline-steps 1.34.0 has requirement azureml-pipeline-steps~=1.34.0, but you'll have azureml-pipeline-steps 1.36.0 which is incompatible.\u001b[0m\n",
            "\u001b[31mERROR: azureml-cli-common 1.34.0 has requirement azureml-core~=1.34.0, but you'll have azureml-core 1.36.0.post2 which is incompatible.\u001b[0m\n",
            "\u001b[31mERROR: azureml-cli-common 1.34.0 has requirement azureml-pipeline-core~=1.34.0, but you'll have azureml-pipeline-core 1.36.0 which is incompatible.\u001b[0m\n",
            "\u001b[31mERROR: azureml-cli-common 1.34.0 has requirement azureml-train-core~=1.34.0; python_version >= \"3.5\", but you'll have azureml-train-core 1.36.0 which is incompatible.\u001b[0m\n",
            "\u001b[31mERROR: azureml-automl-dnn-nlp 1.34.0 has requirement azureml-automl-core~=1.34.0, but you'll have azureml-automl-core 1.36.1 which is incompatible.\u001b[0m\n",
            "\u001b[31mERROR: azureml-automl-dnn-nlp 1.34.0 has requirement azureml-automl-runtime~=1.34.0, but you'll have azureml-automl-runtime 1.36.1 which is incompatible.\u001b[0m\n",
            "\u001b[31mERROR: azureml-automl-dnn-nlp 1.34.0 has requirement azureml-core~=1.34.0, but you'll have azureml-core 1.36.0.post2 which is incompatible.\u001b[0m\n",
            "\u001b[31mERROR: azureml-automl-dnn-nlp 1.34.0 has requirement azureml-telemetry~=1.34.0, but you'll have azureml-telemetry 1.36.0 which is incompatible.\u001b[0m\n",
            "\u001b[31mERROR: azureml-automl-dnn-nlp 1.34.0 has requirement azureml-train-automl~=1.34.0, but you'll have azureml-train-automl 1.36.0 which is incompatible.\u001b[0m\n",
            "\u001b[31mERROR: azureml-accel-models 1.34.0 has requirement azureml-core~=1.34.0, but you'll have azureml-core 1.36.0.post2 which is incompatible.\u001b[0m\n",
            "Installing collected packages: azureml-core, azureml-telemetry, azureml-automl-core, azureml-train-restclients-hyperdrive, azureml-train-core, azureml-train-automl-client, azureml-pipeline-core, azureml-pipeline-steps, azureml-pipeline, azureml-mlflow, azureml-automl-runtime, inference-schema, azureml-inference-server-http, azureml-defaults, interpret-community, azureml-interpret, azureml-train-automl-runtime, azureml-train-automl, azureml-sdk\n",
            "  Attempting uninstall: azureml-core\n",
            "    Found existing installation: azureml-core 1.34.0\n",
            "    Uninstalling azureml-core-1.34.0:\n",
            "      Successfully uninstalled azureml-core-1.34.0\n",
            "  Attempting uninstall: azureml-telemetry\n",
            "    Found existing installation: azureml-telemetry 1.34.0\n",
            "    Uninstalling azureml-telemetry-1.34.0:\n",
            "      Successfully uninstalled azureml-telemetry-1.34.0\n",
            "  Attempting uninstall: azureml-automl-core\n",
            "    Found existing installation: azureml-automl-core 1.34.0\n",
            "    Uninstalling azureml-automl-core-1.34.0:\n",
            "      Successfully uninstalled azureml-automl-core-1.34.0\n",
            "  Attempting uninstall: azureml-train-restclients-hyperdrive\n",
            "    Found existing installation: azureml-train-restclients-hyperdrive 1.34.0\n",
            "    Uninstalling azureml-train-restclients-hyperdrive-1.34.0:\n",
            "      Successfully uninstalled azureml-train-restclients-hyperdrive-1.34.0\n",
            "  Attempting uninstall: azureml-train-core\n",
            "    Found existing installation: azureml-train-core 1.34.0\n",
            "    Uninstalling azureml-train-core-1.34.0:\n",
            "      Successfully uninstalled azureml-train-core-1.34.0\n",
            "  Attempting uninstall: azureml-train-automl-client\n",
            "    Found existing installation: azureml-train-automl-client 1.34.0\n",
            "    Uninstalling azureml-train-automl-client-1.34.0:\n",
            "      Successfully uninstalled azureml-train-automl-client-1.34.0\n",
            "  Attempting uninstall: azureml-pipeline-core\n",
            "    Found existing installation: azureml-pipeline-core 1.34.0\n",
            "    Uninstalling azureml-pipeline-core-1.34.0:\n",
            "      Successfully uninstalled azureml-pipeline-core-1.34.0\n",
            "  Attempting uninstall: azureml-pipeline-steps\n",
            "    Found existing installation: azureml-pipeline-steps 1.34.0\n",
            "    Uninstalling azureml-pipeline-steps-1.34.0:\n",
            "      Successfully uninstalled azureml-pipeline-steps-1.34.0\n",
            "  Attempting uninstall: azureml-pipeline\n",
            "    Found existing installation: azureml-pipeline 1.34.0\n",
            "    Uninstalling azureml-pipeline-1.34.0:\n",
            "      Successfully uninstalled azureml-pipeline-1.34.0\n",
            "  Attempting uninstall: azureml-mlflow\n",
            "    Found existing installation: azureml-mlflow 1.34.0\n",
            "    Uninstalling azureml-mlflow-1.34.0:\n",
            "      Successfully uninstalled azureml-mlflow-1.34.0\n",
            "  Attempting uninstall: azureml-automl-runtime\n",
            "    Found existing installation: azureml-automl-runtime 1.34.0\n",
            "    Uninstalling azureml-automl-runtime-1.34.0:\n",
            "      Successfully uninstalled azureml-automl-runtime-1.34.0\n",
            "  Attempting uninstall: inference-schema\n",
            "    Found existing installation: inference-schema 1.1.0\n",
            "    Uninstalling inference-schema-1.1.0:\n",
            "      Successfully uninstalled inference-schema-1.1.0\n",
            "  Attempting uninstall: azureml-inference-server-http\n",
            "    Found existing installation: azureml-inference-server-http 0.3.1\n",
            "    Uninstalling azureml-inference-server-http-0.3.1:\n",
            "      Successfully uninstalled azureml-inference-server-http-0.3.1\n",
            "  Attempting uninstall: azureml-defaults\n",
            "    Found existing installation: azureml-defaults 1.34.0\n",
            "    Uninstalling azureml-defaults-1.34.0:\n",
            "      Successfully uninstalled azureml-defaults-1.34.0\n",
            "  Attempting uninstall: interpret-community\n",
            "    Found existing installation: interpret-community 0.19.3\n",
            "    Uninstalling interpret-community-0.19.3:\n",
            "      Successfully uninstalled interpret-community-0.19.3\n",
            "  Attempting uninstall: azureml-interpret\n",
            "    Found existing installation: azureml-interpret 1.34.0\n",
            "    Uninstalling azureml-interpret-1.34.0:\n",
            "      Successfully uninstalled azureml-interpret-1.34.0\n",
            "  Attempting uninstall: azureml-train-automl-runtime\n",
            "    Found existing installation: azureml-train-automl-runtime 1.34.0\n",
            "    Uninstalling azureml-train-automl-runtime-1.34.0:\n",
            "      Successfully uninstalled azureml-train-automl-runtime-1.34.0\n",
            "  Attempting uninstall: azureml-train-automl\n",
            "    Found existing installation: azureml-train-automl 1.34.0\n",
            "    Uninstalling azureml-train-automl-1.34.0:\n",
            "      Successfully uninstalled azureml-train-automl-1.34.0\n",
            "  Attempting uninstall: azureml-sdk\n",
            "    Found existing installation: azureml-sdk 1.34.0\n",
            "    Uninstalling azureml-sdk-1.34.0:\n",
            "      Successfully uninstalled azureml-sdk-1.34.0\n",
            "Successfully installed azureml-automl-core-1.36.1 azureml-automl-runtime-1.36.1 azureml-core-1.36.0.post2 azureml-defaults-1.36.0 azureml-inference-server-http-0.4.2 azureml-interpret-1.36.0 azureml-mlflow-1.36.0 azureml-pipeline-1.36.0 azureml-pipeline-core-1.36.0 azureml-pipeline-steps-1.36.0 azureml-sdk-1.36.0 azureml-telemetry-1.36.0 azureml-train-automl-1.36.0 azureml-train-automl-client-1.36.0 azureml-train-automl-runtime-1.36.1 azureml-train-core-1.36.0 azureml-train-restclients-hyperdrive-1.36.0 inference-schema-1.3.0 interpret-community-0.21.0\n"
          ]
        }
      ],
      "source": [
        "# In order to avoid problems with different SDK versions during AutoML training and later serving of the model in the compute cluster I update the SDK version of AutoML.\n",
        "# It is important to use Python 3.6 as it is, at this moment the compatible version with the latest version of AutoML SDK.\n",
        "\n",
        "import sys\n",
        "\n",
        "! {sys.executable} -m pip install --upgrade azureml-sdk[automl]"
      ]
    },
    {
      "cell_type": "code",
      "execution_count": 2,
      "metadata": {
        "gather": {
          "logged": 1638128493260
        }
      },
      "outputs": [],
      "source": [
        "from azureml.core import Workspace, Experiment\n",
        "from azureml.core.compute import ComputeTarget, AmlCompute\n",
        "from azureml.core.compute_target import ComputeTargetException\n",
        "from azureml.widgets import RunDetails\n",
        "from azureml.data.dataset_factory import TabularDatasetFactory\n",
        "from azureml.train.automl import AutoMLConfig\n",
        "from azureml.core.dataset import Dataset\n",
        "from azureml.core import Datastore\n",
        "import joblib\n",
        "import pprint\n",
        "import requests\n",
        "import json\n",
        "import pandas as pd\n",
        "from azureml.core import Model\n",
        "from azureml.core.resource_configuration import ResourceConfiguration\n"
      ]
    },
    {
      "cell_type": "markdown",
      "metadata": {},
      "source": [
        "## Dataset\n",
        "\n",
        "### Overview\n",
        "\n",
        "We are going to configure our workspace so we can register our dataset and create a compute cluster for the AutoML training and deployment of our model.\n",
        "\n",
        "The dataset we will be using is the \"Heart failure prediction dataset\" from Kaggle (https://www.kaggle.com/fedesoriano/heart-failure-prediction). This dataset tries to help in the early detection of severe heart diseases by studying the way several health indicators affect the occurrence of such diseases. This dataset is a combination of 5 different datasets about this kind of diseases (more information in the Kaggle url provided earlier). \n",
        "\n",
        "A copy of the dataset is provided in the Github repository but it is also possible to access it by an url."
      ]
    },
    {
      "cell_type": "code",
      "execution_count": 3,
      "metadata": {
        "gather": {
          "logged": 1638128503179
        },
        "jupyter": {
          "outputs_hidden": false,
          "source_hidden": false
        },
        "nteract": {
          "transient": {
            "deleting": false
          }
        }
      },
      "outputs": [
        {
          "name": "stdout",
          "output_type": "stream",
          "text": [
            "Workspace name: quick-starts-ws-164599\n",
            "Azure region: southcentralus\n",
            "Subscription id: 510b94ba-e453-4417-988b-fbdc37b55ca7\n",
            "Resource group: aml-quickstarts-164599\n"
          ]
        }
      ],
      "source": [
        "ws = Workspace.from_config()\n",
        "\n",
        "# choose a name for experiment\n",
        "experiment_name = 'Udacitycapsproject'\n",
        "\n",
        "experiment=Experiment(ws, experiment_name)\n",
        "\n",
        "print('Workspace name: ' + ws.name, \n",
        "      'Azure region: ' + ws.location, \n",
        "      'Subscription id: ' + ws.subscription_id, \n",
        "      'Resource group: ' + ws.resource_group, sep = '\\n')\n",
        "\n",
        "run = experiment.start_logging()"
      ]
    },
    {
      "cell_type": "code",
      "execution_count": 4,
      "metadata": {
        "gather": {
          "logged": 1638128531612
        }
      },
      "outputs": [
        {
          "name": "stdout",
          "output_type": "stream",
          "text": [
            "InProgress....\n",
            "SucceededProvisioning operation finished, operation \"Succeeded\"\n",
            "Succeeded\n",
            "AmlCompute wait for completion finished\n",
            "\n",
            "Minimum number of nodes requested have been provisioned\n"
          ]
        }
      ],
      "source": [
        "cluster_name=\"udacityprojclust\"\n",
        "\n",
        "try:\n",
        "    cpu_cluster = ComputeTarget(workspace=ws, name=cluster_name)\n",
        "    print('cpu cluster already exist. Using it.')\n",
        "except ComputeTargetException:\n",
        "\n",
        "    compute_config = AmlCompute.provisioning_configuration(vm_size='Standard_D2_V2', max_nodes=6)\n",
        "    cpu_cluster = ComputeTarget.create(ws, cluster_name, compute_config)\n",
        "\n",
        "cpu_cluster.wait_for_completion(show_output=True)"
      ]
    },
    {
      "cell_type": "code",
      "execution_count": 11,
      "metadata": {
        "gather": {
          "logged": 1638131348461
        }
      },
      "outputs": [
        {
          "name": "stderr",
          "output_type": "stream",
          "text": [
            "Method register_pandas_dataframe: This is an experimental method, and may change at any time. Please see https://aka.ms/azuremlexperimental for more information.\n"
          ]
        },
        {
          "name": "stdout",
          "output_type": "stream",
          "text": [
            "Validating arguments.\n",
            "Arguments validated.\n",
            "Successfully obtained datastore reference and path.\n",
            "Uploading file to managed-dataset/5c61c621-2f75-4b83-84e3-327432684cb9/\n",
            "Successfully uploaded file to datastore.\n",
            "Creating and registering a new dataset.\n",
            "Successfully created and registered a new dataset.\n"
          ]
        }
      ],
      "source": [
        "data = pd.read_csv('./heart.csv')\n",
        "datastore = Datastore.get(ws, 'workspaceblobstore')\n",
        "\n",
        "dataset = TabularDatasetFactory.register_pandas_dataframe(data, target=datastore, name='udacitycapsprojdata')"
      ]
    },
    {
      "cell_type": "markdown",
      "metadata": {},
      "source": [
        "## AutoML Configuration\n",
        "\n",
        "The task we need to develop with AutoML is a classification, we will be using a yes or no label in the dataset that is 'HeartDisease'. With the settings we try to define the AutoML work to give the best results but optimizing the resource consumption. So we have selected AUC metric to handle in the best possible way if there are some imbalance in the dataset and we also generate a number of 5 folds to assure a proper evaluation of the model, we have also enabled an early stopping policy and fixed the experiment timeout to optimize the use of the compute cluster. "
      ]
    },
    {
      "cell_type": "code",
      "execution_count": 14,
      "metadata": {
        "gather": {
          "logged": 1638131402682
        },
        "jupyter": {
          "outputs_hidden": false,
          "source_hidden": false
        },
        "nteract": {
          "transient": {
            "deleting": false
          }
        }
      },
      "outputs": [],
      "source": [
        "# automl settings\n",
        "automl_settings = {\n",
        "       \"n_cross_validations\": 5,\n",
        "       \"primary_metric\": 'AUC_weighted',\n",
        "       \"enable_early_stopping\": True,\n",
        "       \"experiment_timeout_hours\": 1.0,\n",
        "       \"iterations\" : 10,\n",
        "       \"max_concurrent_iterations\": 5,\n",
        "       \"max_cores_per_iteration\": -1,\n",
        "       \"verbosity\": logging.INFO}\n",
        "\n",
        "# automl config\n",
        "automl_config = AutoMLConfig(task = 'classification',\n",
        "                               compute_target = cluster_name,\n",
        "                               training_data = dataset,\n",
        "                               label_column_name = 'HeartDisease',\n",
        "                               **automl_settings)"
      ]
    },
    {
      "cell_type": "code",
      "execution_count": 15,
      "metadata": {
        "gather": {
          "logged": 1638131413391
        },
        "jupyter": {
          "outputs_hidden": false,
          "source_hidden": false
        },
        "nteract": {
          "transient": {
            "deleting": false
          }
        }
      },
      "outputs": [
        {
          "name": "stdout",
          "output_type": "stream",
          "text": [
            "Submitting remote run.\n"
          ]
        },
        {
          "data": {
            "text/html": [
              "<table style=\"width:100%\"><tr><th>Experiment</th><th>Id</th><th>Type</th><th>Status</th><th>Details Page</th><th>Docs Page</th></tr><tr><td>Udacitycapsproject</td><td>AutoML_e6320db9-0c58-4c29-873c-f2a0b9e521f4</td><td>automl</td><td>NotStarted</td><td><a href=\"https://ml.azure.com/runs/AutoML_e6320db9-0c58-4c29-873c-f2a0b9e521f4?wsid=/subscriptions/510b94ba-e453-4417-988b-fbdc37b55ca7/resourcegroups/aml-quickstarts-164599/workspaces/quick-starts-ws-164599&amp;tid=660b3398-b80e-49d2-bc5b-ac1dc93b5254\" target=\"_blank\" rel=\"noopener\">Link to Azure Machine Learning studio</a></td><td><a href=\"https://docs.microsoft.com/en-us/python/api/overview/azure/ml/intro?view=azure-ml-py\" target=\"_blank\" rel=\"noopener\">Link to Documentation</a></td></tr></table>"
            ],
            "text/plain": [
              "<IPython.core.display.HTML object>"
            ]
          },
          "metadata": {},
          "output_type": "display_data"
        }
      ],
      "source": [
        "# Submit the AutoML experiment\n",
        "remote_run = experiment.submit(automl_config)"
      ]
    },
    {
      "cell_type": "markdown",
      "metadata": {},
      "source": [
        "## Run Details\n",
        "\n",
        "TODO: In the cell below, use the `RunDetails` widget to show the different experiments."
      ]
    },
    {
      "cell_type": "code",
      "execution_count": null,
      "metadata": {
        "gather": {
          "logged": 1638131416176
        },
        "jupyter": {
          "outputs_hidden": false,
          "source_hidden": false
        },
        "nteract": {
          "transient": {
            "deleting": false
          }
        }
      },
      "outputs": [],
      "source": [
        "RunDetails(remote_run).show()"
      ]
    },
    {
      "cell_type": "markdown",
      "metadata": {},
      "source": [
        "OPTIONAL: Write about the different models trained and their performance. Why do you think some models did better than others?"
      ]
    },
    {
      "cell_type": "markdown",
      "metadata": {},
      "source": [
        "## Best Model\n",
        "\n",
        "TODO: In the cell below, get the best model from the automl experiments and display all the properties of the model.\n",
        "\n"
      ]
    },
    {
      "cell_type": "code",
      "execution_count": null,
      "metadata": {},
      "outputs": [],
      "source": [
        "# Retrieve and get insights from your best automl model.\n",
        "\n",
        "best_run_AutoML, fitted_model_AutoML = remote_run.get_output()\n",
        "\n",
        "print(hasattr(fitted_model_AutoML, 'steps'))"
      ]
    },
    {
      "cell_type": "code",
      "execution_count": null,
      "metadata": {
        "gather": {
          "logged": 1598431425670
        },
        "jupyter": {
          "outputs_hidden": false,
          "source_hidden": false
        },
        "nteract": {
          "transient": {
            "deleting": false
          }
        }
      },
      "outputs": [],
      "source": [
        "# Function to list the hyperparameters \n",
        "\n",
        "def print_model(model, prefix=\"\"):\n",
        "    for step in model.steps:\n",
        "        print(prefix + step[0])\n",
        "        \n",
        "        if hasattr(step[1], 'estimators') and hasattr(step[1], 'weights'):\n",
        "            pprint({'estimators' : list(e[0] for e in step[1].estimators), 'weights' : step[1].weights})\n",
        "            print()\n",
        "\n",
        "            for estimator in step[1].estimators:\n",
        "                print_model(estimator[1], estimator[0] + ' - ')\n",
        "        \n",
        "        else:\n",
        "            pprint(step[1].get_params())\n",
        "            print()\n",
        "        \n",
        "print_model(fitted_model_AutoML)"
      ]
    },
    {
      "cell_type": "code",
      "execution_count": null,
      "metadata": {},
      "outputs": [],
      "source": [
        "# Get information from guardrails.\n",
        "\n",
        "print(remote_run.get_guardrails())"
      ]
    },
    {
      "cell_type": "code",
      "execution_count": null,
      "metadata": {
        "gather": {
          "logged": 1598431426111
        },
        "jupyter": {
          "outputs_hidden": false,
          "source_hidden": false
        },
        "nteract": {
          "transient": {
            "deleting": false
          }
        }
      },
      "outputs": [],
      "source": [
        "# Save the best model by AutoML\n",
        "\n",
        "joblib.dump(fitted_model_AutoML, 'AutoML.model')"
      ]
    },
    {
      "cell_type": "markdown",
      "metadata": {},
      "source": [
        "## Model Deployment\n",
        "\n",
        "Remember you have to deploy only one of the two models you trained but you still need to register both the models. Perform the steps in the rest of this notebook only if you wish to deploy this model.\n",
        "\n",
        "TODO: In the cell below, register the model, create an inference config and deploy the model as a web service."
      ]
    },
    {
      "cell_type": "code",
      "execution_count": null,
      "metadata": {
        "gather": {
          "logged": 1598431435189
        },
        "jupyter": {
          "outputs_hidden": false,
          "source_hidden": false
        },
        "nteract": {
          "transient": {
            "deleting": false
          }
        }
      },
      "outputs": [],
      "source": [
        "df = dataset.to_pandas_dataframe()\n",
        "\n",
        "df_y = df['HeartDisease']\n",
        "df_x = df[~['HeartDisease']]\n",
        "\n",
        "model = Model.register(workspace=ws,\n",
        "                       model_name='my-udacityproj3-automlmodel',                # Name of the registered model in your workspace.\n",
        "                       model_path='./AutoML.model',  # Local file to upload and register as a model.\n",
        "                       model_framework=Model.Framework.AutoML,  # Framework used to create the model.\n",
        "                       resource_configuration=ResourceConfiguration(cpu=1, memory_in_gb=1.0),\n",
        "                       auth_enabled=True,\n",
        "                       description='AutoML model for heart disease prediction.',\n",
        "                       tags={'area': 'heartdisease', 'type': 'classification'})\n",
        "\n",
        "print('Name:', model.name)"
      ]
    },
    {
      "cell_type": "markdown",
      "metadata": {
        "collapsed": true,
        "gather": {
          "logged": 1598431657736
        },
        "jupyter": {
          "outputs_hidden": false,
          "source_hidden": false
        },
        "nteract": {
          "transient": {
            "deleting": false
          }
        }
      },
      "source": [
        "TODO: In the cell below, send a request to the web service you deployed to test it."
      ]
    },
    {
      "cell_type": "code",
      "execution_count": null,
      "metadata": {
        "gather": {
          "logged": 1598432707604
        },
        "jupyter": {
          "outputs_hidden": false,
          "source_hidden": false
        },
        "nteract": {
          "transient": {
            "deleting": false
          }
        }
      },
      "outputs": [],
      "source": [
        "service_name = 'my-udacityproj3-service'\n",
        "\n",
        "service = Model.deploy(ws, service_name, [model], overwrite=True)\n",
        "service.wait_for_deployment(show_output=True)"
      ]
    },
    {
      "cell_type": "markdown",
      "metadata": {
        "collapsed": true,
        "gather": {
          "logged": 1598432765711
        },
        "jupyter": {
          "outputs_hidden": false,
          "source_hidden": false
        },
        "nteract": {
          "transient": {
            "deleting": false
          }
        }
      },
      "source": [
        "TODO: In the cell below, print the logs of the web service and delete the service"
      ]
    },
    {
      "cell_type": "code",
      "execution_count": null,
      "metadata": {
        "jupyter": {
          "outputs_hidden": false,
          "source_hidden": false
        },
        "nteract": {
          "transient": {
            "deleting": false
          }
        }
      },
      "outputs": [],
      "source": [
        "input_payload = json.dumps({\n",
        "    'data': df_x[0:2].tolist(),\n",
        "    'method': 'predict'  # If you have a classification model, you can get probabilities by changing this to 'predict_proba'.\n",
        "})\n",
        "\n",
        "output = service.run(input_payload)\n",
        "\n",
        "print(output)"
      ]
    },
    {
      "cell_type": "code",
      "execution_count": null,
      "metadata": {},
      "outputs": [],
      "source": [
        "# Remove WebService endpoint\n",
        "\n",
        "service.delete()\n",
        "\n",
        "# Remove compute cluster\n",
        "\n",
        "cpu_cluster.delete()"
      ]
    },
    {
      "cell_type": "markdown",
      "metadata": {},
      "source": [
        "**Submission Checklist**\n",
        "- I have registered the model.\n",
        "- I have deployed the model with the best accuracy as a webservice.\n",
        "- I have tested the webservice by sending a request to the model endpoint.\n",
        "- I have deleted the webservice and shutdown all the computes that I have used.\n",
        "- I have taken a screenshot showing the model endpoint as active.\n",
        "- The project includes a file containing the environment details.\n"
      ]
    },
    {
      "cell_type": "markdown",
      "metadata": {},
      "source": []
    }
  ],
  "metadata": {
    "kernel_info": {
      "name": "python3-azureml"
    },
    "kernelspec": {
      "display_name": "Python 3.6 - AzureML",
      "language": "python",
      "name": "python3-azureml"
    },
    "language_info": {
      "codemirror_mode": {
        "name": "ipython",
        "version": 3
      },
      "file_extension": ".py",
      "mimetype": "text/x-python",
      "name": "python",
      "nbconvert_exporter": "python",
      "pygments_lexer": "ipython3",
      "version": "3.6.9"
    },
    "nteract": {
      "version": "nteract-front-end@1.0.0"
    }
  },
  "nbformat": 4,
  "nbformat_minor": 2
}

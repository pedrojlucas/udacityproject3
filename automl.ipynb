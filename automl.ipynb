{
  "cells": [
    {
      "cell_type": "markdown",
      "metadata": {},
      "source": [
        "# Automated ML\n",
        "\n",
        "In the next cells: we will update the environment SDK to fit with the latest AutoML version and avoid incompatibility issues and import all the important libraries we will need to execute this notebook.\n",
        "IMPORTANT: Restart the kernel after executing the update, so the new updated libraries can be loaded in the environment."
      ]
    },
    {
      "cell_type": "code",
      "execution_count": 1,
      "metadata": {
        "gather": {
          "logged": 1638898316990
        },
        "jupyter": {
          "outputs_hidden": false,
          "source_hidden": false
        },
        "nteract": {
          "transient": {
            "deleting": false
          }
        }
      },
      "outputs": [
        {
          "name": "stdout",
          "output_type": "stream",
          "text": [
            "Requirement already up-to-date: azureml-sdk[automl] in /anaconda/envs/azureml_py36/lib/python3.6/site-packages (1.36.0)\n",
            "Requirement already satisfied, skipping upgrade: azureml-core~=1.36.0 in /anaconda/envs/azureml_py36/lib/python3.6/site-packages (from azureml-sdk[automl]) (1.36.0.post2)\n",
            "Requirement already satisfied, skipping upgrade: azureml-train-core~=1.36.0 in /anaconda/envs/azureml_py36/lib/python3.6/site-packages (from azureml-sdk[automl]) (1.36.0)\n",
            "Requirement already satisfied, skipping upgrade: azureml-dataset-runtime[fuse]~=1.36.0 in /anaconda/envs/azureml_py36/lib/python3.6/site-packages (from azureml-sdk[automl]) (1.36.0)\n",
            "Requirement already satisfied, skipping upgrade: azureml-pipeline~=1.36.0 in /anaconda/envs/azureml_py36/lib/python3.6/site-packages (from azureml-sdk[automl]) (1.36.0)\n",
            "Requirement already satisfied, skipping upgrade: azureml-train-automl-client~=1.36.0 in /anaconda/envs/azureml_py36/lib/python3.6/site-packages (from azureml-sdk[automl]) (1.36.0)\n",
            "Requirement already satisfied, skipping upgrade: azureml-train-automl~=1.36.0; extra == \"automl\" in /anaconda/envs/azureml_py36/lib/python3.6/site-packages (from azureml-sdk[automl]) (1.36.0)\n",
            "Requirement already satisfied, skipping upgrade: adal<=1.2.7,>=1.2.0 in /anaconda/envs/azureml_py36/lib/python3.6/site-packages (from azureml-core~=1.36.0->azureml-sdk[automl]) (1.2.7)\n",
            "Requirement already satisfied, skipping upgrade: azure-mgmt-containerregistry>=2.0.0 in /anaconda/envs/azureml_py36/lib/python3.6/site-packages (from azureml-core~=1.36.0->azureml-sdk[automl]) (8.1.0)\n",
            "Requirement already satisfied, skipping upgrade: python-dateutil<3.0.0,>=2.7.3 in /anaconda/envs/azureml_py36/lib/python3.6/site-packages (from azureml-core~=1.36.0->azureml-sdk[automl]) (2.8.2)\n",
            "Requirement already satisfied, skipping upgrade: pathspec<1.0.0 in /anaconda/envs/azureml_py36/lib/python3.6/site-packages (from azureml-core~=1.36.0->azureml-sdk[automl]) (0.9.0)\n",
            "Requirement already satisfied, skipping upgrade: azure-mgmt-keyvault<10.0.0,>=0.40.0 in /anaconda/envs/azureml_py36/lib/python3.6/site-packages (from azureml-core~=1.36.0->azureml-sdk[automl]) (9.1.0)\n",
            "Requirement already satisfied, skipping upgrade: azure-graphrbac<1.0.0,>=0.40.0 in /anaconda/envs/azureml_py36/lib/python3.6/site-packages (from azureml-core~=1.36.0->azureml-sdk[automl]) (0.61.1)\n",
            "Requirement already satisfied, skipping upgrade: pyopenssl<21.0.0 in /anaconda/envs/azureml_py36/lib/python3.6/site-packages (from azureml-core~=1.36.0->azureml-sdk[automl]) (20.0.1)\n",
            "Requirement already satisfied, skipping upgrade: msrest<1.0.0,>=0.5.1 in /anaconda/envs/azureml_py36/lib/python3.6/site-packages (from azureml-core~=1.36.0->azureml-sdk[automl]) (0.6.21)\n",
            "Requirement already satisfied, skipping upgrade: docker<6.0.0 in /anaconda/envs/azureml_py36/lib/python3.6/site-packages (from azureml-core~=1.36.0->azureml-sdk[automl]) (5.0.2)\n",
            "Requirement already satisfied, skipping upgrade: PyJWT<3.0.0 in /anaconda/envs/azureml_py36/lib/python3.6/site-packages (from azureml-core~=1.36.0->azureml-sdk[automl]) (2.1.0)\n",
            "Requirement already satisfied, skipping upgrade: ndg-httpsclient<=0.5.1 in /anaconda/envs/azureml_py36/lib/python3.6/site-packages (from azureml-core~=1.36.0->azureml-sdk[automl]) (0.5.1)\n",
            "Requirement already satisfied, skipping upgrade: SecretStorage<4.0.0 in /anaconda/envs/azureml_py36/lib/python3.6/site-packages (from azureml-core~=1.36.0->azureml-sdk[automl]) (3.3.1)\n",
            "Requirement already satisfied, skipping upgrade: azure-common<2.0.0,>=1.1.12 in /anaconda/envs/azureml_py36/lib/python3.6/site-packages (from azureml-core~=1.36.0->azureml-sdk[automl]) (1.1.27)\n",
            "Requirement already satisfied, skipping upgrade: cryptography!=1.9,!=2.0.*,!=2.1.*,!=2.2.*,<4.0.0 in /anaconda/envs/azureml_py36/lib/python3.6/site-packages (from azureml-core~=1.36.0->azureml-sdk[automl]) (3.4.8)\n",
            "Requirement already satisfied, skipping upgrade: azure-mgmt-storage<16.0.0,>=1.5.0 in /anaconda/envs/azureml_py36/lib/python3.6/site-packages (from azureml-core~=1.36.0->azureml-sdk[automl]) (11.2.0)\n",
            "Requirement already satisfied, skipping upgrade: pytz in /anaconda/envs/azureml_py36/lib/python3.6/site-packages (from azureml-core~=1.36.0->azureml-sdk[automl]) (2021.1)\n",
            "Requirement already satisfied, skipping upgrade: azure-mgmt-resource<15.0.0,>=1.2.1 in /anaconda/envs/azureml_py36/lib/python3.6/site-packages (from azureml-core~=1.36.0->azureml-sdk[automl]) (13.0.0)\n",
            "Requirement already satisfied, skipping upgrade: contextlib2<22.0.0 in /anaconda/envs/azureml_py36/lib/python3.6/site-packages (from azureml-core~=1.36.0->azureml-sdk[automl]) (21.6.0)\n",
            "Requirement already satisfied, skipping upgrade: backports.tempfile in /anaconda/envs/azureml_py36/lib/python3.6/site-packages (from azureml-core~=1.36.0->azureml-sdk[automl]) (1.0)\n",
            "Requirement already satisfied, skipping upgrade: jsonpickle<3.0.0 in /anaconda/envs/azureml_py36/lib/python3.6/site-packages (from azureml-core~=1.36.0->azureml-sdk[automl]) (2.0.0)\n",
            "Requirement already satisfied, skipping upgrade: urllib3<=1.26.7,>=1.23 in /anaconda/envs/azureml_py36/lib/python3.6/site-packages (from azureml-core~=1.36.0->azureml-sdk[automl]) (1.25.11)\n",
            "Requirement already satisfied, skipping upgrade: jmespath<1.0.0 in /anaconda/envs/azureml_py36/lib/python3.6/site-packages (from azureml-core~=1.36.0->azureml-sdk[automl]) (0.10.0)\n",
            "Requirement already satisfied, skipping upgrade: azure-mgmt-authorization<1.0.0,>=0.40.0 in /anaconda/envs/azureml_py36/lib/python3.6/site-packages (from azureml-core~=1.36.0->azureml-sdk[automl]) (0.61.0)\n",
            "Requirement already satisfied, skipping upgrade: msrestazure<=0.6.4,>=0.4.33 in /anaconda/envs/azureml_py36/lib/python3.6/site-packages (from azureml-core~=1.36.0->azureml-sdk[automl]) (0.6.4)\n",
            "Requirement already satisfied, skipping upgrade: requests<3.0.0,>=2.19.1 in /anaconda/envs/azureml_py36/lib/python3.6/site-packages (from azureml-core~=1.36.0->azureml-sdk[automl]) (2.26.0)\n",
            "Requirement already satisfied, skipping upgrade: azureml-train-restclients-hyperdrive~=1.36.0 in /anaconda/envs/azureml_py36/lib/python3.6/site-packages (from azureml-train-core~=1.36.0->azureml-sdk[automl]) (1.36.0)\n",
            "Requirement already satisfied, skipping upgrade: azureml-telemetry~=1.36.0 in /anaconda/envs/azureml_py36/lib/python3.6/site-packages (from azureml-train-core~=1.36.0->azureml-sdk[automl]) (1.36.0)\n",
            "Requirement already satisfied, skipping upgrade: pyarrow<4.0.0,>=0.17.0 in /anaconda/envs/azureml_py36/lib/python3.6/site-packages (from azureml-dataset-runtime[fuse]~=1.36.0->azureml-sdk[automl]) (3.0.0)\n",
            "Requirement already satisfied, skipping upgrade: azureml-dataprep<2.25.0a,>=2.24.0a in /anaconda/envs/azureml_py36/lib/python3.6/site-packages (from azureml-dataset-runtime[fuse]~=1.36.0->azureml-sdk[automl]) (2.24.4)\n",
            "Requirement already satisfied, skipping upgrade: numpy!=1.19.3; sys_platform == \"linux\" in /anaconda/envs/azureml_py36/lib/python3.6/site-packages (from azureml-dataset-runtime[fuse]~=1.36.0->azureml-sdk[automl]) (1.18.5)\n",
            "Requirement already satisfied, skipping upgrade: fusepy<4.0.0,>=3.0.1; extra == \"fuse\" in /anaconda/envs/azureml_py36/lib/python3.6/site-packages (from azureml-dataset-runtime[fuse]~=1.36.0->azureml-sdk[automl]) (3.0.1)\n",
            "Requirement already satisfied, skipping upgrade: azureml-pipeline-steps~=1.36.0 in /anaconda/envs/azureml_py36/lib/python3.6/site-packages (from azureml-pipeline~=1.36.0->azureml-sdk[automl]) (1.36.0)\n",
            "Requirement already satisfied, skipping upgrade: azureml-pipeline-core~=1.36.0 in /anaconda/envs/azureml_py36/lib/python3.6/site-packages (from azureml-pipeline~=1.36.0->azureml-sdk[automl]) (1.36.0)\n",
            "Requirement already satisfied, skipping upgrade: azureml-automl-core~=1.36.0 in /anaconda/envs/azureml_py36/lib/python3.6/site-packages (from azureml-train-automl-client~=1.36.0->azureml-sdk[automl]) (1.36.1)\n",
            "Requirement already satisfied, skipping upgrade: azureml-train-automl-runtime~=1.36.0 in /anaconda/envs/azureml_py36/lib/python3.6/site-packages (from azureml-train-automl~=1.36.0; extra == \"automl\"->azureml-sdk[automl]) (1.36.1)\n",
            "Requirement already satisfied, skipping upgrade: azureml-automl-runtime~=1.36.0 in /anaconda/envs/azureml_py36/lib/python3.6/site-packages (from azureml-train-automl~=1.36.0; extra == \"automl\"->azureml-sdk[automl]) (1.36.1)\n",
            "Requirement already satisfied, skipping upgrade: azure-mgmt-core<2.0.0,>=1.2.0 in /anaconda/envs/azureml_py36/lib/python3.6/site-packages (from azure-mgmt-containerregistry>=2.0.0->azureml-core~=1.36.0->azureml-sdk[automl]) (1.3.0)\n",
            "Requirement already satisfied, skipping upgrade: six>=1.5 in /anaconda/envs/azureml_py36/lib/python3.6/site-packages (from python-dateutil<3.0.0,>=2.7.3->azureml-core~=1.36.0->azureml-sdk[automl]) (1.16.0)\n",
            "Requirement already satisfied, skipping upgrade: requests-oauthlib>=0.5.0 in /anaconda/envs/azureml_py36/lib/python3.6/site-packages (from msrest<1.0.0,>=0.5.1->azureml-core~=1.36.0->azureml-sdk[automl]) (1.3.0)\n",
            "Requirement already satisfied, skipping upgrade: certifi>=2017.4.17 in /anaconda/envs/azureml_py36/lib/python3.6/site-packages (from msrest<1.0.0,>=0.5.1->azureml-core~=1.36.0->azureml-sdk[automl]) (2021.5.30)\n",
            "Requirement already satisfied, skipping upgrade: isodate>=0.6.0 in /anaconda/envs/azureml_py36/lib/python3.6/site-packages (from msrest<1.0.0,>=0.5.1->azureml-core~=1.36.0->azureml-sdk[automl]) (0.6.0)\n",
            "Requirement already satisfied, skipping upgrade: websocket-client>=0.32.0 in /anaconda/envs/azureml_py36/lib/python3.6/site-packages (from docker<6.0.0->azureml-core~=1.36.0->azureml-sdk[automl]) (1.2.1)\n",
            "Requirement already satisfied, skipping upgrade: pyasn1>=0.1.1 in /anaconda/envs/azureml_py36/lib/python3.6/site-packages (from ndg-httpsclient<=0.5.1->azureml-core~=1.36.0->azureml-sdk[automl]) (0.4.8)\n",
            "Requirement already satisfied, skipping upgrade: jeepney>=0.6 in /anaconda/envs/azureml_py36/lib/python3.6/site-packages (from SecretStorage<4.0.0->azureml-core~=1.36.0->azureml-sdk[automl]) (0.7.1)\n",
            "Requirement already satisfied, skipping upgrade: cffi>=1.12 in /anaconda/envs/azureml_py36/lib/python3.6/site-packages (from cryptography!=1.9,!=2.0.*,!=2.1.*,!=2.2.*,<4.0.0->azureml-core~=1.36.0->azureml-sdk[automl]) (1.14.6)\n",
            "Requirement already satisfied, skipping upgrade: backports.weakref in /anaconda/envs/azureml_py36/lib/python3.6/site-packages (from backports.tempfile->azureml-core~=1.36.0->azureml-sdk[automl]) (1.0.post1)\n",
            "Requirement already satisfied, skipping upgrade: importlib-metadata; python_version < \"3.8\" in /anaconda/envs/azureml_py36/lib/python3.6/site-packages (from jsonpickle<3.0.0->azureml-core~=1.36.0->azureml-sdk[automl]) (4.8.1)\n",
            "Requirement already satisfied, skipping upgrade: charset-normalizer~=2.0.0; python_version >= \"3\" in /anaconda/envs/azureml_py36/lib/python3.6/site-packages (from requests<3.0.0,>=2.19.1->azureml-core~=1.36.0->azureml-sdk[automl]) (2.0.4)\n",
            "Requirement already satisfied, skipping upgrade: idna<4,>=2.5; python_version >= \"3\" in /anaconda/envs/azureml_py36/lib/python3.6/site-packages (from requests<3.0.0,>=2.19.1->azureml-core~=1.36.0->azureml-sdk[automl]) (3.2)\n",
            "Requirement already satisfied, skipping upgrade: applicationinsights in /anaconda/envs/azureml_py36/lib/python3.6/site-packages (from azureml-telemetry~=1.36.0->azureml-train-core~=1.36.0->azureml-sdk[automl]) (0.11.10)\n",
            "Requirement already satisfied, skipping upgrade: azure-identity==1.7.0 in /anaconda/envs/azureml_py36/lib/python3.6/site-packages (from azureml-dataprep<2.25.0a,>=2.24.0a->azureml-dataset-runtime[fuse]~=1.36.0->azureml-sdk[automl]) (1.7.0)\n",
            "Requirement already satisfied, skipping upgrade: azureml-dataprep-native<39.0.0,>=38.0.0 in /anaconda/envs/azureml_py36/lib/python3.6/site-packages (from azureml-dataprep<2.25.0a,>=2.24.0a->azureml-dataset-runtime[fuse]~=1.36.0->azureml-sdk[automl]) (38.0.0)\n",
            "Requirement already satisfied, skipping upgrade: dotnetcore2<3.0.0,>=2.1.14 in /anaconda/envs/azureml_py36/lib/python3.6/site-packages (from azureml-dataprep<2.25.0a,>=2.24.0a->azureml-dataset-runtime[fuse]~=1.36.0->azureml-sdk[automl]) (2.1.21)\n",
            "Requirement already satisfied, skipping upgrade: cloudpickle<2.0.0,>=1.1.0 in /anaconda/envs/azureml_py36/lib/python3.6/site-packages (from azureml-dataprep<2.25.0a,>=2.24.0a->azureml-dataset-runtime[fuse]~=1.36.0->azureml-sdk[automl]) (1.6.0)\n",
            "Requirement already satisfied, skipping upgrade: azureml-dataprep-rslex~=2.0.0dev0 in /anaconda/envs/azureml_py36/lib/python3.6/site-packages (from azureml-dataprep<2.25.0a,>=2.24.0a->azureml-dataset-runtime[fuse]~=1.36.0->azureml-sdk[automl]) (2.0.3)\n",
            "Requirement already satisfied, skipping upgrade: gensim<3.9.0 in /anaconda/envs/azureml_py36/lib/python3.6/site-packages (from azureml-train-automl-runtime~=1.36.0->azureml-train-automl~=1.36.0; extra == \"automl\"->azureml-sdk[automl]) (3.8.3)\n",
            "Requirement already satisfied, skipping upgrade: scikit-learn<0.23.0,>=0.19.0 in /anaconda/envs/azureml_py36/lib/python3.6/site-packages (from azureml-train-automl-runtime~=1.36.0->azureml-train-automl~=1.36.0; extra == \"automl\"->azureml-sdk[automl]) (0.22.2.post1)\n",
            "Requirement already satisfied, skipping upgrade: sklearn-pandas<=1.7.0,>=1.4.0 in /anaconda/envs/azureml_py36/lib/python3.6/site-packages (from azureml-train-automl-runtime~=1.36.0->azureml-train-automl~=1.36.0; extra == \"automl\"->azureml-sdk[automl]) (1.7.0)\n",
            "Requirement already satisfied, skipping upgrade: onnxconverter-common<=1.6.0,>=1.4.2 in /anaconda/envs/azureml_py36/lib/python3.6/site-packages (from azureml-train-automl-runtime~=1.36.0->azureml-train-automl~=1.36.0; extra == \"automl\"->azureml-sdk[automl]) (1.6.0)\n",
            "Requirement already satisfied, skipping upgrade: botocore<=1.18.18 in /anaconda/envs/azureml_py36/lib/python3.6/site-packages (from azureml-train-automl-runtime~=1.36.0->azureml-train-automl~=1.36.0; extra == \"automl\"->azureml-sdk[automl]) (1.18.18)\n",
            "Requirement already satisfied, skipping upgrade: distributed<=2.30.1 in /anaconda/envs/azureml_py36/lib/python3.6/site-packages (from azureml-train-automl-runtime~=1.36.0->azureml-train-automl~=1.36.0; extra == \"automl\"->azureml-sdk[automl]) (2.30.1)\n",
            "Requirement already satisfied, skipping upgrade: azureml-defaults~=1.36.0 in /anaconda/envs/azureml_py36/lib/python3.6/site-packages (from azureml-train-automl-runtime~=1.36.0->azureml-train-automl~=1.36.0; extra == \"automl\"->azureml-sdk[automl]) (1.36.0)\n",
            "Requirement already satisfied, skipping upgrade: azureml-mlflow~=1.36.0 in /anaconda/envs/azureml_py36/lib/python3.6/site-packages (from azureml-train-automl-runtime~=1.36.0->azureml-train-automl~=1.36.0; extra == \"automl\"->azureml-sdk[automl]) (1.36.0)\n",
            "Requirement already satisfied, skipping upgrade: smart-open<=1.9.0 in /anaconda/envs/azureml_py36/lib/python3.6/site-packages (from azureml-train-automl-runtime~=1.36.0->azureml-train-automl~=1.36.0; extra == \"automl\"->azureml-sdk[automl]) (1.9.0)\n",
            "Requirement already satisfied, skipping upgrade: pandas<1.0.0,>=0.21.0 in /anaconda/envs/azureml_py36/lib/python3.6/site-packages (from azureml-train-automl-runtime~=1.36.0->azureml-train-automl~=1.36.0; extra == \"automl\"->azureml-sdk[automl]) (0.25.3)\n",
            "Requirement already satisfied, skipping upgrade: onnxruntime<=1.8.0,>=1.3.0 in /anaconda/envs/azureml_py36/lib/python3.6/site-packages (from azureml-train-automl-runtime~=1.36.0->azureml-train-automl~=1.36.0; extra == \"automl\"->azureml-sdk[automl]) (1.8.0)\n",
            "Requirement already satisfied, skipping upgrade: scipy<=1.5.2,>=1.0.0 in /anaconda/envs/azureml_py36/lib/python3.6/site-packages (from azureml-train-automl-runtime~=1.36.0->azureml-train-automl~=1.36.0; extra == \"automl\"->azureml-sdk[automl]) (1.5.2)\n",
            "Requirement already satisfied, skipping upgrade: onnxmltools==1.4.1 in /anaconda/envs/azureml_py36/lib/python3.6/site-packages (from azureml-train-automl-runtime~=1.36.0->azureml-train-automl~=1.36.0; extra == \"automl\"->azureml-sdk[automl]) (1.4.1)\n",
            "Requirement already satisfied, skipping upgrade: jinja2<=2.11.2 in /anaconda/envs/azureml_py36/lib/python3.6/site-packages (from azureml-train-automl-runtime~=1.36.0->azureml-train-automl~=1.36.0; extra == \"automl\"->azureml-sdk[automl]) (2.11.2)\n",
            "Requirement already satisfied, skipping upgrade: lightgbm<=2.3.0,>=2.0.11 in /anaconda/envs/azureml_py36/lib/python3.6/site-packages (from azureml-train-automl-runtime~=1.36.0->azureml-train-automl~=1.36.0; extra == \"automl\"->azureml-sdk[automl]) (2.3.0)\n",
            "Requirement already satisfied, skipping upgrade: dask[complete]<=2.30.0 in /anaconda/envs/azureml_py36/lib/python3.6/site-packages (from azureml-train-automl-runtime~=1.36.0->azureml-train-automl~=1.36.0; extra == \"automl\"->azureml-sdk[automl]) (2.30.0)\n",
            "Requirement already satisfied, skipping upgrade: azure-storage-queue~=12.1 in /anaconda/envs/azureml_py36/lib/python3.6/site-packages (from azureml-train-automl-runtime~=1.36.0->azureml-train-automl~=1.36.0; extra == \"automl\"->azureml-sdk[automl]) (12.1.6)\n",
            "Requirement already satisfied, skipping upgrade: boto3<=1.15.18 in /anaconda/envs/azureml_py36/lib/python3.6/site-packages (from azureml-train-automl-runtime~=1.36.0->azureml-train-automl~=1.36.0; extra == \"automl\"->azureml-sdk[automl]) (1.15.18)\n",
            "Requirement already satisfied, skipping upgrade: keras2onnx<=1.6.0,>=1.4.0 in /anaconda/envs/azureml_py36/lib/python3.6/site-packages (from azureml-train-automl-runtime~=1.36.0->azureml-train-automl~=1.36.0; extra == \"automl\"->azureml-sdk[automl]) (1.6.0)\n",
            "Requirement already satisfied, skipping upgrade: skl2onnx==1.4.9 in /anaconda/envs/azureml_py36/lib/python3.6/site-packages (from azureml-train-automl-runtime~=1.36.0->azureml-train-automl~=1.36.0; extra == \"automl\"->azureml-sdk[automl]) (1.4.9)\n",
            "Requirement already satisfied, skipping upgrade: onnx<=1.7.0,>=1.6.0 in /anaconda/envs/azureml_py36/lib/python3.6/site-packages (from azureml-train-automl-runtime~=1.36.0->azureml-train-automl~=1.36.0; extra == \"automl\"->azureml-sdk[automl]) (1.7.0)\n",
            "Requirement already satisfied, skipping upgrade: azureml-interpret~=1.36.0 in /anaconda/envs/azureml_py36/lib/python3.6/site-packages (from azureml-train-automl-runtime~=1.36.0->azureml-train-automl~=1.36.0; extra == \"automl\"->azureml-sdk[automl]) (1.36.0)\n",
            "Requirement already satisfied, skipping upgrade: statsmodels<=0.10.2,>=0.9.0 in /anaconda/envs/azureml_py36/lib/python3.6/site-packages (from azureml-train-automl-runtime~=1.36.0->azureml-train-automl~=1.36.0; extra == \"automl\"->azureml-sdk[automl]) (0.10.2)\n",
            "Requirement already satisfied, skipping upgrade: pmdarima==1.1.1 in /anaconda/envs/azureml_py36/lib/python3.6/site-packages (from azureml-automl-runtime~=1.36.0->azureml-train-automl~=1.36.0; extra == \"automl\"->azureml-sdk[automl]) (1.1.1)\n",
            "Requirement already satisfied, skipping upgrade: dill<0.4.0,>=0.2.8 in /anaconda/envs/azureml_py36/lib/python3.6/site-packages (from azureml-automl-runtime~=1.36.0->azureml-train-automl~=1.36.0; extra == \"automl\"->azureml-sdk[automl]) (0.3.4)\n",
            "Requirement already satisfied, skipping upgrade: nimbusml<=1.8.0,>=1.7.1 in /anaconda/envs/azureml_py36/lib/python3.6/site-packages (from azureml-automl-runtime~=1.36.0->azureml-train-automl~=1.36.0; extra == \"automl\"->azureml-sdk[automl]) (1.8.0)\n",
            "Requirement already satisfied, skipping upgrade: psutil<6.0.0,>=5.2.2 in /anaconda/envs/azureml_py36/lib/python3.6/site-packages (from azureml-automl-runtime~=1.36.0->azureml-train-automl~=1.36.0; extra == \"automl\"->azureml-sdk[automl]) (5.8.0)\n",
            "Requirement already satisfied, skipping upgrade: joblib==0.14.1 in /anaconda/envs/azureml_py36/lib/python3.6/site-packages (from azureml-automl-runtime~=1.36.0->azureml-train-automl~=1.36.0; extra == \"automl\"->azureml-sdk[automl]) (0.14.1)\n",
            "Requirement already satisfied, skipping upgrade: dataclasses<=0.8,>=0.6 in /anaconda/envs/azureml_py36/lib/python3.6/site-packages (from azureml-automl-runtime~=1.36.0->azureml-train-automl~=1.36.0; extra == \"automl\"->azureml-sdk[automl]) (0.8)\n",
            "Requirement already satisfied, skipping upgrade: azure-core<2.0.0,>=1.15.0 in /anaconda/envs/azureml_py36/lib/python3.6/site-packages (from azure-mgmt-core<2.0.0,>=1.2.0->azure-mgmt-containerregistry>=2.0.0->azureml-core~=1.36.0->azureml-sdk[automl]) (1.18.0)\n",
            "Requirement already satisfied, skipping upgrade: oauthlib>=3.0.0 in /anaconda/envs/azureml_py36/lib/python3.6/site-packages (from requests-oauthlib>=0.5.0->msrest<1.0.0,>=0.5.1->azureml-core~=1.36.0->azureml-sdk[automl]) (3.1.1)\n",
            "Requirement already satisfied, skipping upgrade: pycparser in /anaconda/envs/azureml_py36/lib/python3.6/site-packages (from cffi>=1.12->cryptography!=1.9,!=2.0.*,!=2.1.*,!=2.2.*,<4.0.0->azureml-core~=1.36.0->azureml-sdk[automl]) (2.20)\n",
            "Requirement already satisfied, skipping upgrade: zipp>=0.5 in /anaconda/envs/azureml_py36/lib/python3.6/site-packages (from importlib-metadata; python_version < \"3.8\"->jsonpickle<3.0.0->azureml-core~=1.36.0->azureml-sdk[automl]) (3.5.0)\n",
            "Requirement already satisfied, skipping upgrade: typing-extensions>=3.6.4; python_version < \"3.8\" in /anaconda/envs/azureml_py36/lib/python3.6/site-packages (from importlib-metadata; python_version < \"3.8\"->jsonpickle<3.0.0->azureml-core~=1.36.0->azureml-sdk[automl]) (3.10.0.2)\n",
            "Requirement already satisfied, skipping upgrade: msal-extensions~=0.3.0 in /anaconda/envs/azureml_py36/lib/python3.6/site-packages (from azure-identity==1.7.0->azureml-dataprep<2.25.0a,>=2.24.0a->azureml-dataset-runtime[fuse]~=1.36.0->azureml-sdk[automl]) (0.3.0)\n",
            "Requirement already satisfied, skipping upgrade: msal<2.0.0,>=1.12.0 in /anaconda/envs/azureml_py36/lib/python3.6/site-packages (from azure-identity==1.7.0->azureml-dataprep<2.25.0a,>=2.24.0a->azureml-dataset-runtime[fuse]~=1.36.0->azureml-sdk[automl]) (1.14.0)\n",
            "Requirement already satisfied, skipping upgrade: distro>=1.2.0 in /anaconda/envs/azureml_py36/lib/python3.6/site-packages (from dotnetcore2<3.0.0,>=2.1.14->azureml-dataprep<2.25.0a,>=2.24.0a->azureml-dataset-runtime[fuse]~=1.36.0->azureml-sdk[automl]) (1.6.0)\n",
            "Requirement already satisfied, skipping upgrade: protobuf in /anaconda/envs/azureml_py36/lib/python3.6/site-packages (from onnxconverter-common<=1.6.0,>=1.4.2->azureml-train-automl-runtime~=1.36.0->azureml-train-automl~=1.36.0; extra == \"automl\"->azureml-sdk[automl]) (3.17.3)\n",
            "Requirement already satisfied, skipping upgrade: sortedcontainers!=2.0.0,!=2.0.1 in /anaconda/envs/azureml_py36/lib/python3.6/site-packages (from distributed<=2.30.1->azureml-train-automl-runtime~=1.36.0->azureml-train-automl~=1.36.0; extra == \"automl\"->azureml-sdk[automl]) (2.4.0)\n",
            "Requirement already satisfied, skipping upgrade: setuptools in /anaconda/envs/azureml_py36/lib/python3.6/site-packages (from distributed<=2.30.1->azureml-train-automl-runtime~=1.36.0->azureml-train-automl~=1.36.0; extra == \"automl\"->azureml-sdk[automl]) (50.3.0)\n",
            "Requirement already satisfied, skipping upgrade: toolz>=0.8.2 in /anaconda/envs/azureml_py36/lib/python3.6/site-packages (from distributed<=2.30.1->azureml-train-automl-runtime~=1.36.0->azureml-train-automl~=1.36.0; extra == \"automl\"->azureml-sdk[automl]) (0.11.1)\n",
            "Requirement already satisfied, skipping upgrade: zict>=0.1.3 in /anaconda/envs/azureml_py36/lib/python3.6/site-packages (from distributed<=2.30.1->azureml-train-automl-runtime~=1.36.0->azureml-train-automl~=1.36.0; extra == \"automl\"->azureml-sdk[automl]) (2.0.0)\n",
            "Requirement already satisfied, skipping upgrade: click>=6.6 in /anaconda/envs/azureml_py36/lib/python3.6/site-packages (from distributed<=2.30.1->azureml-train-automl-runtime~=1.36.0->azureml-train-automl~=1.36.0; extra == \"automl\"->azureml-sdk[automl]) (8.0.1)\n",
            "Requirement already satisfied, skipping upgrade: tblib>=1.6.0 in /anaconda/envs/azureml_py36/lib/python3.6/site-packages (from distributed<=2.30.1->azureml-train-automl-runtime~=1.36.0->azureml-train-automl~=1.36.0; extra == \"automl\"->azureml-sdk[automl]) (1.7.0)\n",
            "Requirement already satisfied, skipping upgrade: contextvars; python_version < \"3.7\" in /anaconda/envs/azureml_py36/lib/python3.6/site-packages (from distributed<=2.30.1->azureml-train-automl-runtime~=1.36.0->azureml-train-automl~=1.36.0; extra == \"automl\"->azureml-sdk[automl]) (2.4)\n",
            "Requirement already satisfied, skipping upgrade: msgpack>=0.6.0 in /anaconda/envs/azureml_py36/lib/python3.6/site-packages (from distributed<=2.30.1->azureml-train-automl-runtime~=1.36.0->azureml-train-automl~=1.36.0; extra == \"automl\"->azureml-sdk[automl]) (1.0.2)\n",
            "Requirement already satisfied, skipping upgrade: tornado>=5; python_version < \"3.8\" in /anaconda/envs/azureml_py36/lib/python3.6/site-packages (from distributed<=2.30.1->azureml-train-automl-runtime~=1.36.0->azureml-train-automl~=1.36.0; extra == \"automl\"->azureml-sdk[automl]) (6.1)\n",
            "Requirement already satisfied, skipping upgrade: pyyaml in /anaconda/envs/azureml_py36/lib/python3.6/site-packages (from distributed<=2.30.1->azureml-train-automl-runtime~=1.36.0->azureml-train-automl~=1.36.0; extra == \"automl\"->azureml-sdk[automl]) (5.4.1)\n",
            "Requirement already satisfied, skipping upgrade: configparser==3.7.4 in /anaconda/envs/azureml_py36/lib/python3.6/site-packages (from azureml-defaults~=1.36.0->azureml-train-automl-runtime~=1.36.0->azureml-train-automl~=1.36.0; extra == \"automl\"->azureml-sdk[automl]) (3.7.4)\n",
            "Requirement already satisfied, skipping upgrade: azureml-inference-server-http~=0.4.1 in /anaconda/envs/azureml_py36/lib/python3.6/site-packages (from azureml-defaults~=1.36.0->azureml-train-automl-runtime~=1.36.0->azureml-train-automl~=1.36.0; extra == \"automl\"->azureml-sdk[automl]) (0.4.2)\n",
            "Requirement already satisfied, skipping upgrade: json-logging-py==0.2 in /anaconda/envs/azureml_py36/lib/python3.6/site-packages (from azureml-defaults~=1.36.0->azureml-train-automl-runtime~=1.36.0->azureml-train-automl~=1.36.0; extra == \"automl\"->azureml-sdk[automl]) (0.2)\n",
            "Requirement already satisfied, skipping upgrade: mlflow-skinny in /anaconda/envs/azureml_py36/lib/python3.6/site-packages (from azureml-mlflow~=1.36.0->azureml-train-automl-runtime~=1.36.0->azureml-train-automl~=1.36.0; extra == \"automl\"->azureml-sdk[automl]) (1.20.2)\n",
            "Requirement already satisfied, skipping upgrade: boto>=2.32 in /anaconda/envs/azureml_py36/lib/python3.6/site-packages (from smart-open<=1.9.0->azureml-train-automl-runtime~=1.36.0->azureml-train-automl~=1.36.0; extra == \"automl\"->azureml-sdk[automl]) (2.49.0)\n",
            "Requirement already satisfied, skipping upgrade: flatbuffers in /anaconda/envs/azureml_py36/lib/python3.6/site-packages (from onnxruntime<=1.8.0,>=1.3.0->azureml-train-automl-runtime~=1.36.0->azureml-train-automl~=1.36.0; extra == \"automl\"->azureml-sdk[automl]) (2.0)\n",
            "Requirement already satisfied, skipping upgrade: MarkupSafe>=0.23 in /anaconda/envs/azureml_py36/lib/python3.6/site-packages (from jinja2<=2.11.2->azureml-train-automl-runtime~=1.36.0->azureml-train-automl~=1.36.0; extra == \"automl\"->azureml-sdk[automl]) (2.0.1)\n",
            "Requirement already satisfied, skipping upgrade: fsspec>=0.6.0; extra == \"complete\" in /anaconda/envs/azureml_py36/lib/python3.6/site-packages (from dask[complete]<=2.30.0->azureml-train-automl-runtime~=1.36.0->azureml-train-automl~=1.36.0; extra == \"automl\"->azureml-sdk[automl]) (2021.8.1)\n",
            "Requirement already satisfied, skipping upgrade: partd>=0.3.10; extra == \"complete\" in /anaconda/envs/azureml_py36/lib/python3.6/site-packages (from dask[complete]<=2.30.0->azureml-train-automl-runtime~=1.36.0->azureml-train-automl~=1.36.0; extra == \"automl\"->azureml-sdk[automl]) (1.2.0)\n",
            "Requirement already satisfied, skipping upgrade: bokeh!=2.0.0,>=1.0.0; extra == \"complete\" in /anaconda/envs/azureml_py36/lib/python3.6/site-packages (from dask[complete]<=2.30.0->azureml-train-automl-runtime~=1.36.0->azureml-train-automl~=1.36.0; extra == \"automl\"->azureml-sdk[automl]) (2.3.3)\n",
            "Requirement already satisfied, skipping upgrade: s3transfer<0.4.0,>=0.3.0 in /anaconda/envs/azureml_py36/lib/python3.6/site-packages (from boto3<=1.15.18->azureml-train-automl-runtime~=1.36.0->azureml-train-automl~=1.36.0; extra == \"automl\"->azureml-sdk[automl]) (0.3.7)\n",
            "Requirement already satisfied, skipping upgrade: fire in /anaconda/envs/azureml_py36/lib/python3.6/site-packages (from keras2onnx<=1.6.0,>=1.4.0->azureml-train-automl-runtime~=1.36.0->azureml-train-automl~=1.36.0; extra == \"automl\"->azureml-sdk[automl]) (0.4.0)\n",
            "Requirement already satisfied, skipping upgrade: interpret-community==0.21.* in /anaconda/envs/azureml_py36/lib/python3.6/site-packages (from azureml-interpret~=1.36.0->azureml-train-automl-runtime~=1.36.0->azureml-train-automl~=1.36.0; extra == \"automl\"->azureml-sdk[automl]) (0.21.0)\n",
            "Requirement already satisfied, skipping upgrade: patsy>=0.4.0 in /anaconda/envs/azureml_py36/lib/python3.6/site-packages (from statsmodels<=0.10.2,>=0.9.0->azureml-train-automl-runtime~=1.36.0->azureml-train-automl~=1.36.0; extra == \"automl\"->azureml-sdk[automl]) (0.5.1)\n",
            "Requirement already satisfied, skipping upgrade: Cython>=0.29 in /anaconda/envs/azureml_py36/lib/python3.6/site-packages (from pmdarima==1.1.1->azureml-automl-runtime~=1.36.0->azureml-train-automl~=1.36.0; extra == \"automl\"->azureml-sdk[automl]) (0.29.24)\n",
            "Requirement already satisfied, skipping upgrade: portalocker~=1.0; platform_system != \"Windows\" in /anaconda/envs/azureml_py36/lib/python3.6/site-packages (from msal-extensions~=0.3.0->azure-identity==1.7.0->azureml-dataprep<2.25.0a,>=2.24.0a->azureml-dataset-runtime[fuse]~=1.36.0->azureml-sdk[automl]) (1.7.1)\n",
            "Requirement already satisfied, skipping upgrade: heapdict in /anaconda/envs/azureml_py36/lib/python3.6/site-packages (from zict>=0.1.3->distributed<=2.30.1->azureml-train-automl-runtime~=1.36.0->azureml-train-automl~=1.36.0; extra == \"automl\"->azureml-sdk[automl]) (1.0.1)\n",
            "Requirement already satisfied, skipping upgrade: immutables>=0.9 in /anaconda/envs/azureml_py36/lib/python3.6/site-packages (from contextvars; python_version < \"3.7\"->distributed<=2.30.1->azureml-train-automl-runtime~=1.36.0->azureml-train-automl~=1.36.0; extra == \"automl\"->azureml-sdk[automl]) (0.16)\n",
            "Requirement already satisfied, skipping upgrade: flask==1.0.3 in /anaconda/envs/azureml_py36/lib/python3.6/site-packages (from azureml-inference-server-http~=0.4.1->azureml-defaults~=1.36.0->azureml-train-automl-runtime~=1.36.0->azureml-train-automl~=1.36.0; extra == \"automl\"->azureml-sdk[automl]) (1.0.3)\n",
            "Requirement already satisfied, skipping upgrade: inference-schema==1.3.0 in /anaconda/envs/azureml_py36/lib/python3.6/site-packages (from azureml-inference-server-http~=0.4.1->azureml-defaults~=1.36.0->azureml-train-automl-runtime~=1.36.0->azureml-train-automl~=1.36.0; extra == \"automl\"->azureml-sdk[automl]) (1.3.0)\n",
            "Requirement already satisfied, skipping upgrade: gunicorn==20.1.0; platform_system != \"Windows\" in /anaconda/envs/azureml_py36/lib/python3.6/site-packages (from azureml-inference-server-http~=0.4.1->azureml-defaults~=1.36.0->azureml-train-automl-runtime~=1.36.0->azureml-train-automl~=1.36.0; extra == \"automl\"->azureml-sdk[automl]) (20.1.0)\n",
            "Requirement already satisfied, skipping upgrade: gitpython>=2.1.0 in /anaconda/envs/azureml_py36/lib/python3.6/site-packages (from mlflow-skinny->azureml-mlflow~=1.36.0->azureml-train-automl-runtime~=1.36.0->azureml-train-automl~=1.36.0; extra == \"automl\"->azureml-sdk[automl]) (3.1.18)\n",
            "Requirement already satisfied, skipping upgrade: entrypoints in /anaconda/envs/azureml_py36/lib/python3.6/site-packages (from mlflow-skinny->azureml-mlflow~=1.36.0->azureml-train-automl-runtime~=1.36.0->azureml-train-automl~=1.36.0; extra == \"automl\"->azureml-sdk[automl]) (0.3)\n",
            "Requirement already satisfied, skipping upgrade: databricks-cli>=0.8.7 in /anaconda/envs/azureml_py36/lib/python3.6/site-packages (from mlflow-skinny->azureml-mlflow~=1.36.0->azureml-train-automl-runtime~=1.36.0->azureml-train-automl~=1.36.0; extra == \"automl\"->azureml-sdk[automl]) (0.15.0)\n",
            "Requirement already satisfied, skipping upgrade: packaging in /anaconda/envs/azureml_py36/lib/python3.6/site-packages (from mlflow-skinny->azureml-mlflow~=1.36.0->azureml-train-automl-runtime~=1.36.0->azureml-train-automl~=1.36.0; extra == \"automl\"->azureml-sdk[automl]) (21.0)\n",
            "Requirement already satisfied, skipping upgrade: locket in /anaconda/envs/azureml_py36/lib/python3.6/site-packages (from partd>=0.3.10; extra == \"complete\"->dask[complete]<=2.30.0->azureml-train-automl-runtime~=1.36.0->azureml-train-automl~=1.36.0; extra == \"automl\"->azureml-sdk[automl]) (0.2.1)\n",
            "Requirement already satisfied, skipping upgrade: pillow>=7.1.0 in /anaconda/envs/azureml_py36/lib/python3.6/site-packages (from bokeh!=2.0.0,>=1.0.0; extra == \"complete\"->dask[complete]<=2.30.0->azureml-train-automl-runtime~=1.36.0->azureml-train-automl~=1.36.0; extra == \"automl\"->azureml-sdk[automl]) (8.0.0)\n",
            "Requirement already satisfied, skipping upgrade: termcolor in /anaconda/envs/azureml_py36/lib/python3.6/site-packages (from fire->keras2onnx<=1.6.0,>=1.4.0->azureml-train-automl-runtime~=1.36.0->azureml-train-automl~=1.36.0; extra == \"automl\"->azureml-sdk[automl]) (1.1.0)\n",
            "Requirement already satisfied, skipping upgrade: shap<=0.39.0,>=0.20.0 in /anaconda/envs/azureml_py36/lib/python3.6/site-packages (from interpret-community==0.21.*->azureml-interpret~=1.36.0->azureml-train-automl-runtime~=1.36.0->azureml-train-automl~=1.36.0; extra == \"automl\"->azureml-sdk[automl]) (0.39.0)\n",
            "Requirement already satisfied, skipping upgrade: interpret-core[required]<=0.2.6,>=0.1.20 in /anaconda/envs/azureml_py36/lib/python3.6/site-packages (from interpret-community==0.21.*->azureml-interpret~=1.36.0->azureml-train-automl-runtime~=1.36.0->azureml-train-automl~=1.36.0; extra == \"automl\"->azureml-sdk[automl]) (0.2.5)\n",
            "Requirement already satisfied, skipping upgrade: numba<0.54.0 in /anaconda/envs/azureml_py36/lib/python3.6/site-packages (from interpret-community==0.21.*->azureml-interpret~=1.36.0->azureml-train-automl-runtime~=1.36.0->azureml-train-automl~=1.36.0; extra == \"automl\"->azureml-sdk[automl]) (0.53.1)\n",
            "Requirement already satisfied, skipping upgrade: Werkzeug>=0.14 in /anaconda/envs/azureml_py36/lib/python3.6/site-packages (from flask==1.0.3->azureml-inference-server-http~=0.4.1->azureml-defaults~=1.36.0->azureml-train-automl-runtime~=1.36.0->azureml-train-automl~=1.36.0; extra == \"automl\"->azureml-sdk[automl]) (1.0.1)\n",
            "Requirement already satisfied, skipping upgrade: itsdangerous>=0.24 in /anaconda/envs/azureml_py36/lib/python3.6/site-packages (from flask==1.0.3->azureml-inference-server-http~=0.4.1->azureml-defaults~=1.36.0->azureml-train-automl-runtime~=1.36.0->azureml-train-automl~=1.36.0; extra == \"automl\"->azureml-sdk[automl]) (2.0.1)\n",
            "Requirement already satisfied, skipping upgrade: wrapt<=1.12.1,>=1.11.1 in /anaconda/envs/azureml_py36/lib/python3.6/site-packages (from inference-schema==1.3.0->azureml-inference-server-http~=0.4.1->azureml-defaults~=1.36.0->azureml-train-automl-runtime~=1.36.0->azureml-train-automl~=1.36.0; extra == \"automl\"->azureml-sdk[automl]) (1.11.1)\n",
            "Requirement already satisfied, skipping upgrade: gitdb<5,>=4.0.1 in /anaconda/envs/azureml_py36/lib/python3.6/site-packages (from gitpython>=2.1.0->mlflow-skinny->azureml-mlflow~=1.36.0->azureml-train-automl-runtime~=1.36.0->azureml-train-automl~=1.36.0; extra == \"automl\"->azureml-sdk[automl]) (4.0.7)\n",
            "Requirement already satisfied, skipping upgrade: tabulate>=0.7.7 in /anaconda/envs/azureml_py36/lib/python3.6/site-packages (from databricks-cli>=0.8.7->mlflow-skinny->azureml-mlflow~=1.36.0->azureml-train-automl-runtime~=1.36.0->azureml-train-automl~=1.36.0; extra == \"automl\"->azureml-sdk[automl]) (0.8.9)\n",
            "Requirement already satisfied, skipping upgrade: pyparsing>=2.0.2 in /anaconda/envs/azureml_py36/lib/python3.6/site-packages (from packaging->mlflow-skinny->azureml-mlflow~=1.36.0->azureml-train-automl-runtime~=1.36.0->azureml-train-automl~=1.36.0; extra == \"automl\"->azureml-sdk[automl]) (2.4.7)\n",
            "Requirement already satisfied, skipping upgrade: slicer==0.0.7 in /anaconda/envs/azureml_py36/lib/python3.6/site-packages (from shap<=0.39.0,>=0.20.0->interpret-community==0.21.*->azureml-interpret~=1.36.0->azureml-train-automl-runtime~=1.36.0->azureml-train-automl~=1.36.0; extra == \"automl\"->azureml-sdk[automl]) (0.0.7)\n",
            "Requirement already satisfied, skipping upgrade: tqdm>4.25.0 in /anaconda/envs/azureml_py36/lib/python3.6/site-packages (from shap<=0.39.0,>=0.20.0->interpret-community==0.21.*->azureml-interpret~=1.36.0->azureml-train-automl-runtime~=1.36.0->azureml-train-automl~=1.36.0; extra == \"automl\"->azureml-sdk[automl]) (4.62.2)\n",
            "Requirement already satisfied, skipping upgrade: llvmlite<0.37,>=0.36.0rc1 in /anaconda/envs/azureml_py36/lib/python3.6/site-packages (from numba<0.54.0->interpret-community==0.21.*->azureml-interpret~=1.36.0->azureml-train-automl-runtime~=1.36.0->azureml-train-automl~=1.36.0; extra == \"automl\"->azureml-sdk[automl]) (0.36.0)\n",
            "Requirement already satisfied, skipping upgrade: smmap<5,>=3.0.1 in /anaconda/envs/azureml_py36/lib/python3.6/site-packages (from gitdb<5,>=4.0.1->gitpython>=2.1.0->mlflow-skinny->azureml-mlflow~=1.36.0->azureml-train-automl-runtime~=1.36.0->azureml-train-automl~=1.36.0; extra == \"automl\"->azureml-sdk[automl]) (4.0.0)\n"
          ]
        }
      ],
      "source": [
        "# In order to avoid problems with different SDK versions during AutoML training and later serving of the model in the compute cluster I update the SDK version of AutoML.\n",
        "# It is important to use Python 3.6 as it is, at this moment the compatible version with the latest version of AutoML SDK.\n",
        "\n",
        "import sys\n",
        "\n",
        "! {sys.executable} -m pip install --upgrade azureml-sdk[automl]"
      ]
    },
    {
      "cell_type": "code",
      "execution_count": 2,
      "metadata": {
        "gather": {
          "logged": 1638898329850
        }
      },
      "outputs": [],
      "source": [
        "from azureml.core import Workspace, Experiment\n",
        "from azureml.core.compute import ComputeTarget, AmlCompute\n",
        "from azureml.core.compute_target import ComputeTargetException\n",
        "from azureml.widgets import RunDetails\n",
        "from azureml.data.dataset_factory import TabularDatasetFactory\n",
        "from azureml.train.automl import AutoMLConfig\n",
        "from azureml.core.dataset import Dataset\n",
        "from azureml.core import Datastore\n",
        "import joblib\n",
        "from pprint import pprint\n",
        "import requests\n",
        "import json\n",
        "import pandas as pd\n",
        "from azureml.core import Model\n",
        "from azureml.core.resource_configuration import ResourceConfiguration\n",
        "from azureml.core import Environment\n",
        "from azureml.core.conda_dependencies import CondaDependencies\n",
        "from azureml.core.model import InferenceConfig\n",
        "from azureml.core.webservice import AciWebservice\n",
        "\n"
      ]
    },
    {
      "cell_type": "markdown",
      "metadata": {},
      "source": [
        "## Dataset\n",
        "\n",
        "### Overview\n",
        "\n",
        "We are going to configure our workspace so we can register our dataset and create a compute cluster for the AutoML training and deployment of our model.\n",
        "\n",
        "The dataset we will be using is the \"Heart failure prediction dataset\" from Kaggle (https://www.kaggle.com/fedesoriano/heart-failure-prediction). This dataset tries to help in the early detection of severe heart diseases by studying the way several health indicators affect the occurrence of such diseases. This dataset is a combination of 5 different datasets about this kind of diseases (more information in the Kaggle url provided earlier). \n",
        "\n",
        "A copy of the dataset is provided in the Github repository but it is also possible to access it by an url."
      ]
    },
    {
      "cell_type": "code",
      "execution_count": 3,
      "metadata": {
        "gather": {
          "logged": 1638898372298
        },
        "jupyter": {
          "outputs_hidden": false,
          "source_hidden": false
        },
        "nteract": {
          "transient": {
            "deleting": false
          }
        }
      },
      "outputs": [
        {
          "name": "stdout",
          "output_type": "stream",
          "text": [
            "Workspace name: quick-starts-ws-165272\n",
            "Azure region: southcentralus\n",
            "Subscription id: 61c5c3f0-6dc7-4ed9-a7f3-c704b20e3b30\n",
            "Resource group: aml-quickstarts-165272\n"
          ]
        }
      ],
      "source": [
        "ws = Workspace.from_config()\n",
        "\n",
        "# choose a name for experiment\n",
        "experiment_name = 'Udacitycapsproject'\n",
        "\n",
        "experiment=Experiment(ws, experiment_name)\n",
        "\n",
        "print('Workspace name: ' + ws.name, \n",
        "      'Azure region: ' + ws.location, \n",
        "      'Subscription id: ' + ws.subscription_id, \n",
        "      'Resource group: ' + ws.resource_group, sep = '\\n')\n",
        "\n",
        "run = experiment.start_logging()"
      ]
    },
    {
      "cell_type": "code",
      "execution_count": 4,
      "metadata": {
        "gather": {
          "logged": 1638898385298
        }
      },
      "outputs": [
        {
          "name": "stdout",
          "output_type": "stream",
          "text": [
            "InProgress..\n",
            "SucceededProvisioning operation finished, operation \"Succeeded\"\n",
            "Succeeded\n",
            "AmlCompute wait for completion finished\n",
            "\n",
            "Minimum number of nodes requested have been provisioned\n"
          ]
        }
      ],
      "source": [
        "cluster_name=\"udacityprojclust\"\n",
        "\n",
        "try:\n",
        "    cpu_cluster = ComputeTarget(workspace=ws, name=cluster_name)\n",
        "    print('cpu cluster already exist. Using it.')\n",
        "except ComputeTargetException:\n",
        "\n",
        "    compute_config = AmlCompute.provisioning_configuration(vm_size='Standard_D2_V2', max_nodes=6)\n",
        "    cpu_cluster = ComputeTarget.create(ws, cluster_name, compute_config)\n",
        "\n",
        "cpu_cluster.wait_for_completion(show_output=True)"
      ]
    },
    {
      "cell_type": "code",
      "execution_count": 5,
      "metadata": {
        "gather": {
          "logged": 1638898416873
        }
      },
      "outputs": [
        {
          "name": "stdout",
          "output_type": "stream",
          "text": [
            "Validating arguments.\n",
            "Arguments validated.\n",
            "Successfully obtained datastore reference and path.\n",
            "Uploading file to managed-dataset/16f3279e-8fc8-49d9-948c-3af32c1c778d/\n",
            "Successfully uploaded file to datastore.\n",
            "Creating and registering a new dataset.\n",
            "Successfully created and registered a new dataset.\n"
          ]
        }
      ],
      "source": [
        "data = pd.read_csv('./heart.csv')\n",
        "datastore = Datastore.get(ws, 'workspaceblobstore')\n",
        "\n",
        "dataset = TabularDatasetFactory.register_pandas_dataframe(data, target=datastore, name='udacitycapsprojdata')"
      ]
    },
    {
      "cell_type": "markdown",
      "metadata": {},
      "source": [
        "## AutoML Configuration\n",
        "\n",
        "The task we need to develop with AutoML is a classification, we will be using a yes or no label in the dataset that is 'HeartDisease'. With the settings we try to define the AutoML work to give the best results but optimizing the resource consumption. So we have selected AUC metric to handle in the best possible way if there are some imbalance in the dataset and we also generate a number of 5 folds to assure a proper evaluation of the model, we have also enabled an early stopping policy and fixed the experiment timeout to optimize the use of the compute cluster. "
      ]
    },
    {
      "cell_type": "code",
      "execution_count": 6,
      "metadata": {
        "gather": {
          "logged": 1638898427272
        },
        "jupyter": {
          "outputs_hidden": false,
          "source_hidden": false
        },
        "nteract": {
          "transient": {
            "deleting": false
          }
        }
      },
      "outputs": [],
      "source": [
        "# automl settings\n",
        "automl_settings = {\n",
        "       \"n_cross_validations\": 5,\n",
        "       \"primary_metric\": 'AUC_weighted',\n",
        "       \"enable_early_stopping\": True,\n",
        "       \"experiment_timeout_hours\": 1.0,\n",
        "       \"iterations\" : 10,\n",
        "       \"max_concurrent_iterations\": 5,\n",
        "       \"max_cores_per_iteration\": -1,\n",
        "       \"verbosity\": logging.INFO,\n",
        "       'enable_onnx_compatible_models': True}\n",
        "\n",
        "# automl config\n",
        "automl_config = AutoMLConfig(task = 'classification',\n",
        "                               compute_target = cluster_name,\n",
        "                               training_data = dataset,\n",
        "                               label_column_name = 'HeartDisease',\n",
        "                               **automl_settings)"
      ]
    },
    {
      "cell_type": "code",
      "execution_count": 7,
      "metadata": {
        "gather": {
          "logged": 1638898436459
        },
        "jupyter": {
          "outputs_hidden": false,
          "source_hidden": false
        },
        "nteract": {
          "transient": {
            "deleting": false
          }
        }
      },
      "outputs": [
        {
          "name": "stdout",
          "output_type": "stream",
          "text": [
            "Submitting remote run.\n"
          ]
        },
        {
          "data": {
            "text/html": [
              "<table style=\"width:100%\"><tr><th>Experiment</th><th>Id</th><th>Type</th><th>Status</th><th>Details Page</th><th>Docs Page</th></tr><tr><td>Udacitycapsproject</td><td>AutoML_ea444278-5a9d-460c-aef8-ca24a0b3082c</td><td>automl</td><td>NotStarted</td><td><a href=\"https://ml.azure.com/runs/AutoML_ea444278-5a9d-460c-aef8-ca24a0b3082c?wsid=/subscriptions/61c5c3f0-6dc7-4ed9-a7f3-c704b20e3b30/resourcegroups/aml-quickstarts-165272/workspaces/quick-starts-ws-165272&amp;tid=660b3398-b80e-49d2-bc5b-ac1dc93b5254\" target=\"_blank\" rel=\"noopener\">Link to Azure Machine Learning studio</a></td><td><a href=\"https://docs.microsoft.com/en-us/python/api/overview/azure/ml/intro?view=azure-ml-py\" target=\"_blank\" rel=\"noopener\">Link to Documentation</a></td></tr></table>"
            ],
            "text/plain": [
              "<IPython.core.display.HTML object>"
            ]
          },
          "metadata": {},
          "output_type": "display_data"
        }
      ],
      "source": [
        "# Submit the AutoML experiment\n",
        "remote_run = experiment.submit(automl_config)"
      ]
    },
    {
      "cell_type": "markdown",
      "metadata": {},
      "source": [
        "## Run Details\n",
        "\n",
        "TODO: In the cell below, use the `RunDetails` widget to show the different experiments."
      ]
    },
    {
      "cell_type": "code",
      "execution_count": null,
      "metadata": {
        "gather": {
          "logged": 1638898439160
        },
        "jupyter": {
          "outputs_hidden": false,
          "source_hidden": false
        },
        "nteract": {
          "transient": {
            "deleting": false
          }
        }
      },
      "outputs": [],
      "source": [
        "RunDetails(remote_run).show()"
      ]
    },
    {
      "cell_type": "markdown",
      "metadata": {},
      "source": [
        "OPTIONAL: Write about the different models trained and their performance. Why do you think some models did better than others?"
      ]
    },
    {
      "cell_type": "markdown",
      "metadata": {},
      "source": [
        "## Best Model\n",
        "\n",
        "TODO: In the cell below, get the best model from the automl experiments and display all the properties of the model.\n",
        "\n"
      ]
    },
    {
      "cell_type": "code",
      "execution_count": 9,
      "metadata": {
        "gather": {
          "logged": 1638899737052
        }
      },
      "outputs": [
        {
          "name": "stdout",
          "output_type": "stream",
          "text": [
            "True\n"
          ]
        }
      ],
      "source": [
        "# Retrieve and get insights from your best automl model.\n",
        "\n",
        "best_run_AutoML, fitted_model_AutoML = remote_run.get_output(return_onnx_model=True)\n",
        "\n",
        "print(hasattr(fitted_model_AutoML, 'steps'))"
      ]
    },
    {
      "cell_type": "code",
      "execution_count": 10,
      "metadata": {
        "gather": {
          "logged": 1638899755189
        },
        "jupyter": {
          "outputs_hidden": false,
          "source_hidden": false
        },
        "nteract": {
          "transient": {
            "deleting": false
          }
        }
      },
      "outputs": [
        {
          "name": "stdout",
          "output_type": "stream",
          "text": [
            "datatransformer\n",
            "{'enable_dnn': False,\n",
            " 'enable_feature_sweeping': True,\n",
            " 'feature_sweeping_config': {},\n",
            " 'feature_sweeping_timeout': 86400,\n",
            " 'featurization_config': None,\n",
            " 'force_text_dnn': False,\n",
            " 'is_cross_validation': True,\n",
            " 'is_onnx_compatible': False,\n",
            " 'observer': None,\n",
            " 'task': 'classification',\n",
            " 'working_dir': '/mnt/batch/tasks/shared/LS_root/mounts/clusters/notebook165272/code/Users/odl_user_165272'}\n",
            "\n",
            "prefittedsoftvotingclassifier\n",
            "{'estimators': ['1', '6', '4', '0', '5', '2', '3'],\n",
            " 'weights': [0.1, 0.2, 0.1, 0.1, 0.2, 0.2, 0.1]}\n",
            "\n",
            "1 - maxabsscaler\n",
            "{'copy': True}\n",
            "\n",
            "1 - xgboostclassifier\n",
            "{'base_score': 0.5,\n",
            " 'booster': 'gbtree',\n",
            " 'colsample_bylevel': 1,\n",
            " 'colsample_bynode': 1,\n",
            " 'colsample_bytree': 1,\n",
            " 'gamma': 0,\n",
            " 'learning_rate': 0.1,\n",
            " 'max_delta_step': 0,\n",
            " 'max_depth': 3,\n",
            " 'min_child_weight': 1,\n",
            " 'missing': nan,\n",
            " 'n_estimators': 100,\n",
            " 'n_jobs': -1,\n",
            " 'nthread': None,\n",
            " 'objective': 'binary:logistic',\n",
            " 'random_state': 0,\n",
            " 'reg_alpha': 0,\n",
            " 'reg_lambda': 1,\n",
            " 'scale_pos_weight': 1,\n",
            " 'seed': None,\n",
            " 'silent': None,\n",
            " 'subsample': 1,\n",
            " 'tree_method': 'auto',\n",
            " 'verbose': -10,\n",
            " 'verbosity': 0}\n",
            "\n",
            "6 - sparsenormalizer\n",
            "{'copy': True, 'norm': 'l2'}\n",
            "\n",
            "6 - randomforestclassifier\n",
            "{'bootstrap': True,\n",
            " 'ccp_alpha': 0.0,\n",
            " 'class_weight': 'balanced',\n",
            " 'criterion': 'gini',\n",
            " 'max_depth': None,\n",
            " 'max_features': 'sqrt',\n",
            " 'max_leaf_nodes': None,\n",
            " 'max_samples': None,\n",
            " 'min_impurity_decrease': 0.0,\n",
            " 'min_impurity_split': None,\n",
            " 'min_samples_leaf': 0.01,\n",
            " 'min_samples_split': 0.01,\n",
            " 'min_weight_fraction_leaf': 0.0,\n",
            " 'n_estimators': 100,\n",
            " 'n_jobs': -1,\n",
            " 'oob_score': True,\n",
            " 'random_state': None,\n",
            " 'verbose': 0,\n",
            " 'warm_start': False}\n",
            "\n",
            "4 - standardscalerwrapper\n",
            "{'class_name': 'StandardScaler',\n",
            " 'copy': True,\n",
            " 'module_name': 'sklearn.preprocessing._data',\n",
            " 'with_mean': False,\n",
            " 'with_std': True}\n",
            "\n",
            "4 - lightgbmclassifier\n",
            "{'boosting_type': 'gbdt',\n",
            " 'colsample_bytree': 0.4955555555555555,\n",
            " 'learning_rate': 0.09473736842105263,\n",
            " 'max_bin': 140,\n",
            " 'max_depth': 6,\n",
            " 'min_child_weight': 0,\n",
            " 'min_data_in_leaf': 0.08276034482758622,\n",
            " 'min_split_gain': 0.10526315789473684,\n",
            " 'n_estimators': 25,\n",
            " 'n_jobs': -1,\n",
            " 'num_leaves': 164,\n",
            " 'problem_info': ProblemInfo(\n",
            "    gpu_training_param_dict={'processing_unit_type': 'cpu'}\n",
            "),\n",
            " 'random_state': None,\n",
            " 'reg_alpha': 0.3157894736842105,\n",
            " 'reg_lambda': 0.3157894736842105,\n",
            " 'subsample': 0.5942105263157895}\n",
            "\n",
            "0 - maxabsscaler\n",
            "{'copy': True}\n",
            "\n",
            "0 - lightgbmclassifier\n",
            "{'min_data_in_leaf': 20,\n",
            " 'n_jobs': -1,\n",
            " 'problem_info': ProblemInfo(\n",
            "    gpu_training_param_dict={'processing_unit_type': 'cpu'}\n",
            "),\n",
            " 'random_state': None}\n",
            "\n",
            "5 - sparsenormalizer\n",
            "{'copy': True, 'norm': 'max'}\n",
            "\n",
            "5 - xgboostclassifier\n",
            "{'base_score': 0.5,\n",
            " 'booster': 'gbtree',\n",
            " 'colsample_bylevel': 1,\n",
            " 'colsample_bynode': 1,\n",
            " 'colsample_bytree': 0.8,\n",
            " 'eta': 0.3,\n",
            " 'gamma': 0,\n",
            " 'learning_rate': 0.1,\n",
            " 'max_delta_step': 0,\n",
            " 'max_depth': 6,\n",
            " 'max_leaves': 0,\n",
            " 'min_child_weight': 1,\n",
            " 'missing': nan,\n",
            " 'n_estimators': 10,\n",
            " 'n_jobs': -1,\n",
            " 'nthread': None,\n",
            " 'objective': 'reg:logistic',\n",
            " 'random_state': 0,\n",
            " 'reg_alpha': 0,\n",
            " 'reg_lambda': 0.625,\n",
            " 'scale_pos_weight': 1,\n",
            " 'seed': None,\n",
            " 'silent': None,\n",
            " 'subsample': 0.8,\n",
            " 'tree_method': 'auto',\n",
            " 'verbose': -10,\n",
            " 'verbosity': 0}\n",
            "\n",
            "2 - maxabsscaler\n",
            "{'copy': True}\n",
            "\n",
            "2 - extratreesclassifier\n",
            "{'bootstrap': False,\n",
            " 'ccp_alpha': 0.0,\n",
            " 'class_weight': None,\n",
            " 'criterion': 'gini',\n",
            " 'max_depth': None,\n",
            " 'max_features': 0.7,\n",
            " 'max_leaf_nodes': None,\n",
            " 'max_samples': None,\n",
            " 'min_impurity_decrease': 0.0,\n",
            " 'min_impurity_split': None,\n",
            " 'min_samples_leaf': 0.035789473684210524,\n",
            " 'min_samples_split': 0.01,\n",
            " 'min_weight_fraction_leaf': 0.0,\n",
            " 'n_estimators': 10,\n",
            " 'n_jobs': -1,\n",
            " 'oob_score': False,\n",
            " 'random_state': None,\n",
            " 'verbose': 0,\n",
            " 'warm_start': False}\n",
            "\n",
            "3 - maxabsscaler\n",
            "{'copy': True}\n",
            "\n",
            "3 - randomforestclassifier\n",
            "{'bootstrap': True,\n",
            " 'ccp_alpha': 0.0,\n",
            " 'class_weight': None,\n",
            " 'criterion': 'gini',\n",
            " 'max_depth': None,\n",
            " 'max_features': 'log2',\n",
            " 'max_leaf_nodes': None,\n",
            " 'max_samples': None,\n",
            " 'min_impurity_decrease': 0.0,\n",
            " 'min_impurity_split': None,\n",
            " 'min_samples_leaf': 0.01,\n",
            " 'min_samples_split': 0.01,\n",
            " 'min_weight_fraction_leaf': 0.0,\n",
            " 'n_estimators': 10,\n",
            " 'n_jobs': -1,\n",
            " 'oob_score': False,\n",
            " 'random_state': None,\n",
            " 'verbose': 0,\n",
            " 'warm_start': False}\n",
            "\n"
          ]
        }
      ],
      "source": [
        "# Function to list the hyperparameters \n",
        "\n",
        "def print_model(model, prefix=\"\"):\n",
        "    for step in model.steps:\n",
        "        print(prefix + step[0])\n",
        "        \n",
        "        if hasattr(step[1], 'estimators') and hasattr(step[1], 'weights'):\n",
        "            pprint({'estimators' : list(e[0] for e in step[1].estimators), 'weights' : step[1].weights})\n",
        "            print()\n",
        "\n",
        "            for estimator in step[1].estimators:\n",
        "                print_model(estimator[1], estimator[0] + ' - ')\n",
        "        \n",
        "        else:\n",
        "            pprint(step[1].get_params())\n",
        "            print()\n",
        "        \n",
        "print_model(fitted_model_AutoML)"
      ]
    },
    {
      "cell_type": "code",
      "execution_count": 11,
      "metadata": {
        "gather": {
          "logged": 1638899801929
        }
      },
      "outputs": [
        {
          "name": "stdout",
          "output_type": "stream",
          "text": [
            "\n",
            "********************************************************************************************************************\n",
            "DATA GUARDRAILS: \n",
            "\n",
            "TYPE:         Class balancing detection\n",
            "STATUS:       PASSED\n",
            "DESCRIPTION:  Your inputs were analyzed, and all classes are balanced in your training data.\n",
            "              Learn more about imbalanced data: https://aka.ms/AutomatedMLImbalancedData\n",
            "\n",
            "********************************************************************************************************************\n",
            "\n",
            "TYPE:         Missing feature values imputation\n",
            "STATUS:       PASSED\n",
            "DESCRIPTION:  No feature missing values were detected in the training data.\n",
            "              Learn more about missing value imputation: https://aka.ms/AutomatedMLFeaturization\n",
            "\n",
            "********************************************************************************************************************\n",
            "\n",
            "TYPE:         High cardinality feature detection\n",
            "STATUS:       PASSED\n",
            "DESCRIPTION:  Your inputs were analyzed, and no high cardinality features were detected.\n",
            "              Learn more about high cardinality feature handling: https://aka.ms/AutomatedMLFeaturization\n",
            "\n",
            "********************************************************************************************************************\n",
            "{'schema_type': 'fault_verifier', 'schema_version': '1.0.0', 'faults': [{'type': '_class_balancing', 'result': 'passed', 'parameters': [], 'friendly_type': 'Class balancing detection', 'friendly_result': 'Your inputs were analyzed, and all classes are balanced in your training data.', 'friendly_parameters': [], 'friendly_learn_more': 'Learn more about imbalanced data: https://aka.ms/AutomatedMLImbalancedData', 'friendly_parameter_preface': \"Imbalanced data can lead to a falsely perceived positive effect of a model's accuracy because the input data has bias towards one class.\"}, {'type': '_missing_value', 'result': 'passed', 'parameters': [], 'friendly_type': 'Missing feature values imputation', 'friendly_result': 'No feature missing values were detected in the training data.', 'friendly_parameters': [], 'friendly_learn_more': 'Learn more about missing value imputation: https://aka.ms/AutomatedMLFeaturization', 'friendly_parameter_preface': ''}, {'type': '_detect_high_cardinal_feature', 'result': 'passed', 'parameters': [], 'friendly_type': 'High cardinality feature detection', 'friendly_result': 'Your inputs were analyzed, and no high cardinality features were detected.', 'friendly_parameters': [], 'friendly_learn_more': 'Learn more about high cardinality feature handling: https://aka.ms/AutomatedMLFeaturization', 'friendly_parameter_preface': 'High cardinality features refer to columns that contain a large percentage of unique values.'}]}\n"
          ]
        }
      ],
      "source": [
        "# Get information from guardrails.\n",
        "\n",
        "print(remote_run.get_guardrails())"
      ]
    },
    {
      "cell_type": "code",
      "execution_count": 12,
      "metadata": {
        "gather": {
          "logged": 1638899811759
        },
        "jupyter": {
          "outputs_hidden": false,
          "source_hidden": false
        },
        "nteract": {
          "transient": {
            "deleting": false
          }
        }
      },
      "outputs": [
        {
          "data": {
            "text/plain": [
              "['AutoML.model']"
            ]
          },
          "execution_count": 12,
          "metadata": {},
          "output_type": "execute_result"
        }
      ],
      "source": [
        "# Save the best model by AutoML\n",
        "\n",
        "joblib.dump(fitted_model_AutoML, 'AutoML.model')"
      ]
    },
    {
      "cell_type": "markdown",
      "metadata": {},
      "source": [
        "## Model Deployment\n",
        "\n",
        "Remember you have to deploy only one of the two models you trained but you still need to register both the models. Perform the steps in the rest of this notebook only if you wish to deploy this model.\n",
        "\n",
        "TODO: In the cell below, register the model, create an inference config and deploy the model as a web service."
      ]
    },
    {
      "cell_type": "code",
      "execution_count": 16,
      "metadata": {
        "gather": {
          "logged": 1638900072391
        },
        "jupyter": {
          "outputs_hidden": false,
          "source_hidden": false
        },
        "nteract": {
          "transient": {
            "deleting": false
          }
        }
      },
      "outputs": [
        {
          "name": "stdout",
          "output_type": "stream",
          "text": [
            "Registering model my-udacityproj3-automlmodel\n",
            "Name: my-udacityproj3-automlmodel\n",
            "Version: 1\n"
          ]
        }
      ],
      "source": [
        "\n",
        "df_y = data['HeartDisease']\n",
        "df_x = data.drop('HeartDisease', axis=1)\n",
        "\n",
        "model = Model.register(workspace=ws,\n",
        "                       model_name='my-udacityproj3-automlmodel',                # Name of the registered model in your workspace.\n",
        "                       model_path='./AutoML.model',  # Local file to upload and register as a model.\n",
        "                       model_framework=Model.Framework.CUSTOM,  # Framework used to create the model.\n",
        "                       #sample_input_dataset=df_x,\n",
        "                       #sample_output_dataset=df_y,\n",
        "                       resource_configuration=ResourceConfiguration(cpu=1, memory_in_gb=1.0),\n",
        "                       description='AutoML model for heart disease prediction.',\n",
        "                       tags={'area': 'heartdisease', 'type': 'classification'})\n",
        "\n",
        "print('Name:', model.name)\n",
        "print('Version:', model.version)"
      ]
    },
    {
      "cell_type": "markdown",
      "metadata": {
        "collapsed": true,
        "gather": {
          "logged": 1598431657736
        },
        "jupyter": {
          "outputs_hidden": false,
          "source_hidden": false
        },
        "nteract": {
          "transient": {
            "deleting": false
          }
        }
      },
      "source": [
        "TODO: In the cell below, send a request to the web service you deployed to test it."
      ]
    },
    {
      "cell_type": "code",
      "execution_count": 31,
      "metadata": {
        "gather": {
          "logged": 1638906130285
        }
      },
      "outputs": [],
      "source": [
        "# Create environment with its dependencies.\n",
        "\n",
        "environment = Environment('my-AutoML-environment')\n",
        "environment.python.conda_dependencies = CondaDependencies.create(pip_packages=[\n",
        "    'azureml-defaults',\n",
        "    'azureml-automl-core',\n",
        "    'azureml-automl-runtime',\n",
        "    'inference-schema[numpy-support]',\n",
        "    'joblib',\n",
        "    'numpy',\n",
        "    'pandas',\n",
        "    'scikit-learn',\n",
        "    'xgboost',\n",
        "    'packaging'\n",
        "])"
      ]
    },
    {
      "cell_type": "code",
      "execution_count": 32,
      "metadata": {
        "gather": {
          "logged": 1598432707604
        },
        "jupyter": {
          "outputs_hidden": false,
          "source_hidden": false
        },
        "nteract": {
          "transient": {
            "deleting": false
          }
        }
      },
      "outputs": [
        {
          "name": "stdout",
          "output_type": "stream",
          "text": [
            "Tips: You can try get_logs(): https://aka.ms/debugimage#dockerlog or local deployment: https://aka.ms/debugimage#debug-locally to debug if deployment takes longer than 10 minutes.\n",
            "Running\n",
            "2021-12-07 19:42:15+00:00 Creating Container Registry if not exists.\n",
            "2021-12-07 19:42:15+00:00 Registering the environment.\n",
            "2021-12-07 19:42:16+00:00 Building image..\n",
            "2021-12-07 19:47:44+00:00 Generating deployment configuration.\n",
            "2021-12-07 19:47:45+00:00 Submitting deployment to compute.\n",
            "2021-12-07 19:47:47+00:00 Checking the status of deployment my-udacityproj3-service..\n",
            "2021-12-07 19:55:15+00:00 Checking the status of inference endpoint my-udacityproj3-service.\n",
            "Failed\n"
          ]
        },
        {
          "name": "stderr",
          "output_type": "stream",
          "text": [
            "ERROR:azureml.core.webservice.webservice:Service deployment polling reached non-successful terminal state, current service state: Failed\n",
            "Operation ID: 9bbe33ff-70ec-4402-bdba-956e524ed853\n",
            "More information can be found using '.get_logs()'\n",
            "Error:\n",
            "{\n",
            "  \"code\": \"AciDeploymentFailed\",\n",
            "  \"statusCode\": 400,\n",
            "  \"message\": \"Aci Deployment failed with exception: Your container application crashed. This may be caused by errors in your scoring file's init() function.\n",
            "\t1. Please check the logs for your container instance: my-udacityproj3-service. From the AML SDK, you can run print(service.get_logs()) if you have service object to fetch the logs.\n",
            "\t2. You can interactively debug your scoring file locally. Please refer to https://docs.microsoft.com/azure/machine-learning/how-to-debug-visual-studio-code#debug-and-troubleshoot-deployments for more information.\n",
            "\t3. You can also try to run image b003ea69e3254e668bb22e5482137f7f.azurecr.io/azureml/azureml_659c175cb1412dc3bbc4622576bdd425 locally. Please refer to https://aka.ms/debugimage#service-launch-fails for more information.\",\n",
            "  \"details\": [\n",
            "    {\n",
            "      \"code\": \"CrashLoopBackOff\",\n",
            "      \"message\": \"Your container application crashed. This may be caused by errors in your scoring file's init() function.\n",
            "\t1. Please check the logs for your container instance: my-udacityproj3-service. From the AML SDK, you can run print(service.get_logs()) if you have service object to fetch the logs.\n",
            "\t2. You can interactively debug your scoring file locally. Please refer to https://docs.microsoft.com/azure/machine-learning/how-to-debug-visual-studio-code#debug-and-troubleshoot-deployments for more information.\n",
            "\t3. You can also try to run image b003ea69e3254e668bb22e5482137f7f.azurecr.io/azureml/azureml_659c175cb1412dc3bbc4622576bdd425 locally. Please refer to https://aka.ms/debugimage#service-launch-fails for more information.\"\n",
            "    },\n",
            "    {\n",
            "      \"code\": \"AciDeploymentFailed\",\n",
            "      \"message\": \"Your container application crashed. Please follow the steps to debug:\n",
            "\t1. From the AML SDK, you can run print(service.get_logs()) if you have service object to fetch the logs. Please refer to https://aka.ms/debugimage#dockerlog for more information.\n",
            "\t2. If your container application crashed. This may be caused by errors in your scoring file's init() function. You can try debugging locally first. Please refer to https://aka.ms/debugimage#debug-locally for more information.\n",
            "\t3. You can also interactively debug your scoring file locally. Please refer to https://docs.microsoft.com/azure/machine-learning/how-to-debug-visual-studio-code#debug-and-troubleshoot-deployments for more information.\n",
            "\t4. View the diagnostic events to check status of container, it may help you to debug the issue.\n",
            "\"RestartCount\": 3\n",
            "\"CurrentState\": {\"state\":\"Waiting\",\"startTime\":null,\"exitCode\":null,\"finishTime\":null,\"detailStatus\":\"CrashLoopBackOff: Back-off restarting failed\"}\n",
            "\"PreviousState\": {\"state\":\"Terminated\",\"startTime\":\"2021-12-07T19:57:41.383Z\",\"exitCode\":111,\"finishTime\":\"2021-12-07T19:58:23.218Z\",\"detailStatus\":\"Error\"}\n",
            "\"Events\":\n",
            "{\"count\":2,\"firstTimestamp\":\"2021-12-07T18:28:41Z\",\"lastTimestamp\":\"2021-12-07T19:31:59Z\",\"name\":\"Pulling\",\"message\":\"pulling image \"b003ea69e3254e668bb22e5482137f7f.azurecr.io/azureml/azureml_3b92851688f68b5c79c0703809376409@sha256:5969a3668e9cf7865d7a46040fb114d87de8a1bb84d5677a8e934ba990a53955\"\",\"type\":\"Normal\"}\n",
            "{\"count\":2,\"firstTimestamp\":\"2021-12-07T18:29:53Z\",\"lastTimestamp\":\"2021-12-07T19:34:27Z\",\"name\":\"Pulled\",\"message\":\"Successfully pulled image \"b003ea69e3254e668bb22e5482137f7f.azurecr.io/azureml/azureml_3b92851688f68b5c79c0703809376409@sha256:5969a3668e9cf7865d7a46040fb114d87de8a1bb84d5677a8e934ba990a53955\"\",\"type\":\"Normal\"}\n",
            "{\"count\":18,\"firstTimestamp\":\"2021-12-07T18:31:59Z\",\"lastTimestamp\":\"2021-12-07T19:54:07Z\",\"name\":\"Started\",\"message\":\"Started container\",\"type\":\"Normal\"}\n",
            "{\"count\":18,\"firstTimestamp\":\"2021-12-07T18:32:34Z\",\"lastTimestamp\":\"2021-12-07T19:54:15Z\",\"name\":\"Killing\",\"message\":\"Killing container with id 9e9ffc5af3f66083b4a592bb2d728a5cabda8fc16e0541e0aed4cd53f7463b68.\",\"type\":\"Normal\"}\n",
            "{\"count\":3,\"firstTimestamp\":\"2021-12-07T18:43:55Z\",\"lastTimestamp\":\"2021-12-07T19:49:15Z\",\"name\":\"Pulling\",\"message\":\"pulling image \"b003ea69e3254e668bb22e5482137f7f.azurecr.io/azureml/azureml_7f69f78448011792b8f65c3ea4adc2d2@sha256:5a4cf0976829f4fa93aa151dc90b14e5327fb18da4317d0bccf385e33014610d\"\",\"type\":\"Normal\"}\n",
            "{\"count\":3,\"firstTimestamp\":\"2021-12-07T18:45:25Z\",\"lastTimestamp\":\"2021-12-07T19:50:53Z\",\"name\":\"Pulled\",\"message\":\"Successfully pulled image \"b003ea69e3254e668bb22e5482137f7f.azurecr.io/azureml/azureml_7f69f78448011792b8f65c3ea4adc2d2@sha256:5a4cf0976829f4fa93aa151dc90b14e5327fb18da4317d0bccf385e33014610d\"\",\"type\":\"Normal\"}\n",
            "{\"count\":15,\"firstTimestamp\":\"2021-12-07T18:49:01Z\",\"lastTimestamp\":\"2021-12-07T19:57:41Z\",\"name\":\"Started\",\"message\":\"Started container\",\"type\":\"Normal\"}\n",
            "{\"count\":15,\"firstTimestamp\":\"2021-12-07T18:49:36Z\",\"lastTimestamp\":\"2021-12-07T19:58:23Z\",\"name\":\"Killing\",\"message\":\"Killing container with id 5daaf158c7851879b768d6fa40cdd348dacbe74e7f26ddc759a49a442e7b04eb.\",\"type\":\"Normal\"}\n",
            "{\"count\":1,\"firstTimestamp\":\"2021-12-07T19:13:00Z\",\"lastTimestamp\":\"2021-12-07T19:13:00Z\",\"name\":\"Pulling\",\"message\":\"pulling image \"b003ea69e3254e668bb22e5482137f7f.azurecr.io/azureml/azureml_7f69f78448011792b8f65c3ea4adc2d2@sha256:5a4cf0976829f4fa93aa151dc90b14e5327fb18da4317d0bccf385e33014610d\"\",\"type\":\"Normal\"}\n",
            "{\"count\":1,\"firstTimestamp\":\"2021-12-07T19:14:27Z\",\"lastTimestamp\":\"2021-12-07T19:14:27Z\",\"name\":\"Pulled\",\"message\":\"Successfully pulled image \"b003ea69e3254e668bb22e5482137f7f.azurecr.io/azureml/azureml_7f69f78448011792b8f65c3ea4adc2d2@sha256:5a4cf0976829f4fa93aa151dc90b14e5327fb18da4317d0bccf385e33014610d\"\",\"type\":\"Normal\"}\n",
            "{\"count\":3,\"firstTimestamp\":\"2021-12-07T19:14:46Z\",\"lastTimestamp\":\"2021-12-07T19:16:30Z\",\"name\":\"Started\",\"message\":\"Started container\",\"type\":\"Normal\"}\n",
            "{\"count\":3,\"firstTimestamp\":\"2021-12-07T19:15:20Z\",\"lastTimestamp\":\"2021-12-07T19:17:06Z\",\"name\":\"Killing\",\"message\":\"Killing container with id c9845699f5591025482b057e51bad52b6c0b1dbd053c10003ab955aeb1cd5631.\",\"type\":\"Normal\"}\n",
            "\"\n",
            "    }\n",
            "  ]\n",
            "}\n",
            "\n"
          ]
        },
        {
          "ename": "WebserviceException",
          "evalue": "WebserviceException:\n\tMessage: Service deployment polling reached non-successful terminal state, current service state: Failed\nOperation ID: 9bbe33ff-70ec-4402-bdba-956e524ed853\nMore information can be found using '.get_logs()'\nError:\n{\n  \"code\": \"AciDeploymentFailed\",\n  \"statusCode\": 400,\n  \"message\": \"Aci Deployment failed with exception: Your container application crashed. This may be caused by errors in your scoring file's init() function.\n\t1. Please check the logs for your container instance: my-udacityproj3-service. From the AML SDK, you can run print(service.get_logs()) if you have service object to fetch the logs.\n\t2. You can interactively debug your scoring file locally. Please refer to https://docs.microsoft.com/azure/machine-learning/how-to-debug-visual-studio-code#debug-and-troubleshoot-deployments for more information.\n\t3. You can also try to run image b003ea69e3254e668bb22e5482137f7f.azurecr.io/azureml/azureml_659c175cb1412dc3bbc4622576bdd425 locally. Please refer to https://aka.ms/debugimage#service-launch-fails for more information.\",\n  \"details\": [\n    {\n      \"code\": \"CrashLoopBackOff\",\n      \"message\": \"Your container application crashed. This may be caused by errors in your scoring file's init() function.\n\t1. Please check the logs for your container instance: my-udacityproj3-service. From the AML SDK, you can run print(service.get_logs()) if you have service object to fetch the logs.\n\t2. You can interactively debug your scoring file locally. Please refer to https://docs.microsoft.com/azure/machine-learning/how-to-debug-visual-studio-code#debug-and-troubleshoot-deployments for more information.\n\t3. You can also try to run image b003ea69e3254e668bb22e5482137f7f.azurecr.io/azureml/azureml_659c175cb1412dc3bbc4622576bdd425 locally. Please refer to https://aka.ms/debugimage#service-launch-fails for more information.\"\n    },\n    {\n      \"code\": \"AciDeploymentFailed\",\n      \"message\": \"Your container application crashed. Please follow the steps to debug:\n\t1. From the AML SDK, you can run print(service.get_logs()) if you have service object to fetch the logs. Please refer to https://aka.ms/debugimage#dockerlog for more information.\n\t2. If your container application crashed. This may be caused by errors in your scoring file's init() function. You can try debugging locally first. Please refer to https://aka.ms/debugimage#debug-locally for more information.\n\t3. You can also interactively debug your scoring file locally. Please refer to https://docs.microsoft.com/azure/machine-learning/how-to-debug-visual-studio-code#debug-and-troubleshoot-deployments for more information.\n\t4. View the diagnostic events to check status of container, it may help you to debug the issue.\n\"RestartCount\": 3\n\"CurrentState\": {\"state\":\"Waiting\",\"startTime\":null,\"exitCode\":null,\"finishTime\":null,\"detailStatus\":\"CrashLoopBackOff: Back-off restarting failed\"}\n\"PreviousState\": {\"state\":\"Terminated\",\"startTime\":\"2021-12-07T19:57:41.383Z\",\"exitCode\":111,\"finishTime\":\"2021-12-07T19:58:23.218Z\",\"detailStatus\":\"Error\"}\n\"Events\":\n{\"count\":2,\"firstTimestamp\":\"2021-12-07T18:28:41Z\",\"lastTimestamp\":\"2021-12-07T19:31:59Z\",\"name\":\"Pulling\",\"message\":\"pulling image \"b003ea69e3254e668bb22e5482137f7f.azurecr.io/azureml/azureml_3b92851688f68b5c79c0703809376409@sha256:5969a3668e9cf7865d7a46040fb114d87de8a1bb84d5677a8e934ba990a53955\"\",\"type\":\"Normal\"}\n{\"count\":2,\"firstTimestamp\":\"2021-12-07T18:29:53Z\",\"lastTimestamp\":\"2021-12-07T19:34:27Z\",\"name\":\"Pulled\",\"message\":\"Successfully pulled image \"b003ea69e3254e668bb22e5482137f7f.azurecr.io/azureml/azureml_3b92851688f68b5c79c0703809376409@sha256:5969a3668e9cf7865d7a46040fb114d87de8a1bb84d5677a8e934ba990a53955\"\",\"type\":\"Normal\"}\n{\"count\":18,\"firstTimestamp\":\"2021-12-07T18:31:59Z\",\"lastTimestamp\":\"2021-12-07T19:54:07Z\",\"name\":\"Started\",\"message\":\"Started container\",\"type\":\"Normal\"}\n{\"count\":18,\"firstTimestamp\":\"2021-12-07T18:32:34Z\",\"lastTimestamp\":\"2021-12-07T19:54:15Z\",\"name\":\"Killing\",\"message\":\"Killing container with id 9e9ffc5af3f66083b4a592bb2d728a5cabda8fc16e0541e0aed4cd53f7463b68.\",\"type\":\"Normal\"}\n{\"count\":3,\"firstTimestamp\":\"2021-12-07T18:43:55Z\",\"lastTimestamp\":\"2021-12-07T19:49:15Z\",\"name\":\"Pulling\",\"message\":\"pulling image \"b003ea69e3254e668bb22e5482137f7f.azurecr.io/azureml/azureml_7f69f78448011792b8f65c3ea4adc2d2@sha256:5a4cf0976829f4fa93aa151dc90b14e5327fb18da4317d0bccf385e33014610d\"\",\"type\":\"Normal\"}\n{\"count\":3,\"firstTimestamp\":\"2021-12-07T18:45:25Z\",\"lastTimestamp\":\"2021-12-07T19:50:53Z\",\"name\":\"Pulled\",\"message\":\"Successfully pulled image \"b003ea69e3254e668bb22e5482137f7f.azurecr.io/azureml/azureml_7f69f78448011792b8f65c3ea4adc2d2@sha256:5a4cf0976829f4fa93aa151dc90b14e5327fb18da4317d0bccf385e33014610d\"\",\"type\":\"Normal\"}\n{\"count\":15,\"firstTimestamp\":\"2021-12-07T18:49:01Z\",\"lastTimestamp\":\"2021-12-07T19:57:41Z\",\"name\":\"Started\",\"message\":\"Started container\",\"type\":\"Normal\"}\n{\"count\":15,\"firstTimestamp\":\"2021-12-07T18:49:36Z\",\"lastTimestamp\":\"2021-12-07T19:58:23Z\",\"name\":\"Killing\",\"message\":\"Killing container with id 5daaf158c7851879b768d6fa40cdd348dacbe74e7f26ddc759a49a442e7b04eb.\",\"type\":\"Normal\"}\n{\"count\":1,\"firstTimestamp\":\"2021-12-07T19:13:00Z\",\"lastTimestamp\":\"2021-12-07T19:13:00Z\",\"name\":\"Pulling\",\"message\":\"pulling image \"b003ea69e3254e668bb22e5482137f7f.azurecr.io/azureml/azureml_7f69f78448011792b8f65c3ea4adc2d2@sha256:5a4cf0976829f4fa93aa151dc90b14e5327fb18da4317d0bccf385e33014610d\"\",\"type\":\"Normal\"}\n{\"count\":1,\"firstTimestamp\":\"2021-12-07T19:14:27Z\",\"lastTimestamp\":\"2021-12-07T19:14:27Z\",\"name\":\"Pulled\",\"message\":\"Successfully pulled image \"b003ea69e3254e668bb22e5482137f7f.azurecr.io/azureml/azureml_7f69f78448011792b8f65c3ea4adc2d2@sha256:5a4cf0976829f4fa93aa151dc90b14e5327fb18da4317d0bccf385e33014610d\"\",\"type\":\"Normal\"}\n{\"count\":3,\"firstTimestamp\":\"2021-12-07T19:14:46Z\",\"lastTimestamp\":\"2021-12-07T19:16:30Z\",\"name\":\"Started\",\"message\":\"Started container\",\"type\":\"Normal\"}\n{\"count\":3,\"firstTimestamp\":\"2021-12-07T19:15:20Z\",\"lastTimestamp\":\"2021-12-07T19:17:06Z\",\"name\":\"Killing\",\"message\":\"Killing container with id c9845699f5591025482b057e51bad52b6c0b1dbd053c10003ab955aeb1cd5631.\",\"type\":\"Normal\"}\n\"\n    }\n  ]\n}\n\tInnerException None\n\tErrorResponse \n{\n    \"error\": {\n        \"message\": \"Service deployment polling reached non-successful terminal state, current service state: Failed\\nOperation ID: 9bbe33ff-70ec-4402-bdba-956e524ed853\\nMore information can be found using '.get_logs()'\\nError:\\n{\\n  \\\"code\\\": \\\"AciDeploymentFailed\\\",\\n  \\\"statusCode\\\": 400,\\n  \\\"message\\\": \\\"Aci Deployment failed with exception: Your container application crashed. This may be caused by errors in your scoring file's init() function.\\n\\t1. Please check the logs for your container instance: my-udacityproj3-service. From the AML SDK, you can run print(service.get_logs()) if you have service object to fetch the logs.\\n\\t2. You can interactively debug your scoring file locally. Please refer to https://docs.microsoft.com/azure/machine-learning/how-to-debug-visual-studio-code#debug-and-troubleshoot-deployments for more information.\\n\\t3. You can also try to run image b003ea69e3254e668bb22e5482137f7f.azurecr.io/azureml/azureml_659c175cb1412dc3bbc4622576bdd425 locally. Please refer to https://aka.ms/debugimage#service-launch-fails for more information.\\\",\\n  \\\"details\\\": [\\n    {\\n      \\\"code\\\": \\\"CrashLoopBackOff\\\",\\n      \\\"message\\\": \\\"Your container application crashed. This may be caused by errors in your scoring file's init() function.\\n\\t1. Please check the logs for your container instance: my-udacityproj3-service. From the AML SDK, you can run print(service.get_logs()) if you have service object to fetch the logs.\\n\\t2. You can interactively debug your scoring file locally. Please refer to https://docs.microsoft.com/azure/machine-learning/how-to-debug-visual-studio-code#debug-and-troubleshoot-deployments for more information.\\n\\t3. You can also try to run image b003ea69e3254e668bb22e5482137f7f.azurecr.io/azureml/azureml_659c175cb1412dc3bbc4622576bdd425 locally. Please refer to https://aka.ms/debugimage#service-launch-fails for more information.\\\"\\n    },\\n    {\\n      \\\"code\\\": \\\"AciDeploymentFailed\\\",\\n      \\\"message\\\": \\\"Your container application crashed. Please follow the steps to debug:\\n\\t1. From the AML SDK, you can run print(service.get_logs()) if you have service object to fetch the logs. Please refer to https://aka.ms/debugimage#dockerlog for more information.\\n\\t2. If your container application crashed. This may be caused by errors in your scoring file's init() function. You can try debugging locally first. Please refer to https://aka.ms/debugimage#debug-locally for more information.\\n\\t3. You can also interactively debug your scoring file locally. Please refer to https://docs.microsoft.com/azure/machine-learning/how-to-debug-visual-studio-code#debug-and-troubleshoot-deployments for more information.\\n\\t4. View the diagnostic events to check status of container, it may help you to debug the issue.\\n\\\"RestartCount\\\": 3\\n\\\"CurrentState\\\": {\\\"state\\\":\\\"Waiting\\\",\\\"startTime\\\":null,\\\"exitCode\\\":null,\\\"finishTime\\\":null,\\\"detailStatus\\\":\\\"CrashLoopBackOff: Back-off restarting failed\\\"}\\n\\\"PreviousState\\\": {\\\"state\\\":\\\"Terminated\\\",\\\"startTime\\\":\\\"2021-12-07T19:57:41.383Z\\\",\\\"exitCode\\\":111,\\\"finishTime\\\":\\\"2021-12-07T19:58:23.218Z\\\",\\\"detailStatus\\\":\\\"Error\\\"}\\n\\\"Events\\\":\\n{\\\"count\\\":2,\\\"firstTimestamp\\\":\\\"2021-12-07T18:28:41Z\\\",\\\"lastTimestamp\\\":\\\"2021-12-07T19:31:59Z\\\",\\\"name\\\":\\\"Pulling\\\",\\\"message\\\":\\\"pulling image \\\"b003ea69e3254e668bb22e5482137f7f.azurecr.io/azureml/azureml_3b92851688f68b5c79c0703809376409@sha256:5969a3668e9cf7865d7a46040fb114d87de8a1bb84d5677a8e934ba990a53955\\\"\\\",\\\"type\\\":\\\"Normal\\\"}\\n{\\\"count\\\":2,\\\"firstTimestamp\\\":\\\"2021-12-07T18:29:53Z\\\",\\\"lastTimestamp\\\":\\\"2021-12-07T19:34:27Z\\\",\\\"name\\\":\\\"Pulled\\\",\\\"message\\\":\\\"Successfully pulled image \\\"b003ea69e3254e668bb22e5482137f7f.azurecr.io/azureml/azureml_3b92851688f68b5c79c0703809376409@sha256:5969a3668e9cf7865d7a46040fb114d87de8a1bb84d5677a8e934ba990a53955\\\"\\\",\\\"type\\\":\\\"Normal\\\"}\\n{\\\"count\\\":18,\\\"firstTimestamp\\\":\\\"2021-12-07T18:31:59Z\\\",\\\"lastTimestamp\\\":\\\"2021-12-07T19:54:07Z\\\",\\\"name\\\":\\\"Started\\\",\\\"message\\\":\\\"Started container\\\",\\\"type\\\":\\\"Normal\\\"}\\n{\\\"count\\\":18,\\\"firstTimestamp\\\":\\\"2021-12-07T18:32:34Z\\\",\\\"lastTimestamp\\\":\\\"2021-12-07T19:54:15Z\\\",\\\"name\\\":\\\"Killing\\\",\\\"message\\\":\\\"Killing container with id 9e9ffc5af3f66083b4a592bb2d728a5cabda8fc16e0541e0aed4cd53f7463b68.\\\",\\\"type\\\":\\\"Normal\\\"}\\n{\\\"count\\\":3,\\\"firstTimestamp\\\":\\\"2021-12-07T18:43:55Z\\\",\\\"lastTimestamp\\\":\\\"2021-12-07T19:49:15Z\\\",\\\"name\\\":\\\"Pulling\\\",\\\"message\\\":\\\"pulling image \\\"b003ea69e3254e668bb22e5482137f7f.azurecr.io/azureml/azureml_7f69f78448011792b8f65c3ea4adc2d2@sha256:5a4cf0976829f4fa93aa151dc90b14e5327fb18da4317d0bccf385e33014610d\\\"\\\",\\\"type\\\":\\\"Normal\\\"}\\n{\\\"count\\\":3,\\\"firstTimestamp\\\":\\\"2021-12-07T18:45:25Z\\\",\\\"lastTimestamp\\\":\\\"2021-12-07T19:50:53Z\\\",\\\"name\\\":\\\"Pulled\\\",\\\"message\\\":\\\"Successfully pulled image \\\"b003ea69e3254e668bb22e5482137f7f.azurecr.io/azureml/azureml_7f69f78448011792b8f65c3ea4adc2d2@sha256:5a4cf0976829f4fa93aa151dc90b14e5327fb18da4317d0bccf385e33014610d\\\"\\\",\\\"type\\\":\\\"Normal\\\"}\\n{\\\"count\\\":15,\\\"firstTimestamp\\\":\\\"2021-12-07T18:49:01Z\\\",\\\"lastTimestamp\\\":\\\"2021-12-07T19:57:41Z\\\",\\\"name\\\":\\\"Started\\\",\\\"message\\\":\\\"Started container\\\",\\\"type\\\":\\\"Normal\\\"}\\n{\\\"count\\\":15,\\\"firstTimestamp\\\":\\\"2021-12-07T18:49:36Z\\\",\\\"lastTimestamp\\\":\\\"2021-12-07T19:58:23Z\\\",\\\"name\\\":\\\"Killing\\\",\\\"message\\\":\\\"Killing container with id 5daaf158c7851879b768d6fa40cdd348dacbe74e7f26ddc759a49a442e7b04eb.\\\",\\\"type\\\":\\\"Normal\\\"}\\n{\\\"count\\\":1,\\\"firstTimestamp\\\":\\\"2021-12-07T19:13:00Z\\\",\\\"lastTimestamp\\\":\\\"2021-12-07T19:13:00Z\\\",\\\"name\\\":\\\"Pulling\\\",\\\"message\\\":\\\"pulling image \\\"b003ea69e3254e668bb22e5482137f7f.azurecr.io/azureml/azureml_7f69f78448011792b8f65c3ea4adc2d2@sha256:5a4cf0976829f4fa93aa151dc90b14e5327fb18da4317d0bccf385e33014610d\\\"\\\",\\\"type\\\":\\\"Normal\\\"}\\n{\\\"count\\\":1,\\\"firstTimestamp\\\":\\\"2021-12-07T19:14:27Z\\\",\\\"lastTimestamp\\\":\\\"2021-12-07T19:14:27Z\\\",\\\"name\\\":\\\"Pulled\\\",\\\"message\\\":\\\"Successfully pulled image \\\"b003ea69e3254e668bb22e5482137f7f.azurecr.io/azureml/azureml_7f69f78448011792b8f65c3ea4adc2d2@sha256:5a4cf0976829f4fa93aa151dc90b14e5327fb18da4317d0bccf385e33014610d\\\"\\\",\\\"type\\\":\\\"Normal\\\"}\\n{\\\"count\\\":3,\\\"firstTimestamp\\\":\\\"2021-12-07T19:14:46Z\\\",\\\"lastTimestamp\\\":\\\"2021-12-07T19:16:30Z\\\",\\\"name\\\":\\\"Started\\\",\\\"message\\\":\\\"Started container\\\",\\\"type\\\":\\\"Normal\\\"}\\n{\\\"count\\\":3,\\\"firstTimestamp\\\":\\\"2021-12-07T19:15:20Z\\\",\\\"lastTimestamp\\\":\\\"2021-12-07T19:17:06Z\\\",\\\"name\\\":\\\"Killing\\\",\\\"message\\\":\\\"Killing container with id c9845699f5591025482b057e51bad52b6c0b1dbd053c10003ab955aeb1cd5631.\\\",\\\"type\\\":\\\"Normal\\\"}\\n\\\"\\n    }\\n  ]\\n}\"\n    }\n}",
          "output_type": "error",
          "traceback": [
            "\u001b[0;31m---------------------------------------------------------------------------\u001b[0m",
            "\u001b[0;31mWebserviceException\u001b[0m                       Traceback (most recent call last)",
            "\u001b[0;32m<ipython-input-32-f31c23b86caf>\u001b[0m in \u001b[0;36m<module>\u001b[0;34m\u001b[0m\n\u001b[1;32m     13\u001b[0m                        \u001b[0mdeployment_config\u001b[0m\u001b[0;34m=\u001b[0m\u001b[0maci_config\u001b[0m\u001b[0;34m,\u001b[0m\u001b[0;34m\u001b[0m\u001b[0;34m\u001b[0m\u001b[0m\n\u001b[1;32m     14\u001b[0m                        overwrite=True)\n\u001b[0;32m---> 15\u001b[0;31m \u001b[0mservice\u001b[0m\u001b[0;34m.\u001b[0m\u001b[0mwait_for_deployment\u001b[0m\u001b[0;34m(\u001b[0m\u001b[0mshow_output\u001b[0m\u001b[0;34m=\u001b[0m\u001b[0;32mTrue\u001b[0m\u001b[0;34m)\u001b[0m\u001b[0;34m\u001b[0m\u001b[0;34m\u001b[0m\u001b[0m\n\u001b[0m",
            "\u001b[0;32m/anaconda/envs/azureml_py36/lib/python3.6/site-packages/azureml/core/webservice/webservice.py\u001b[0m in \u001b[0;36mwait_for_deployment\u001b[0;34m(self, show_output, timeout_sec)\u001b[0m\n\u001b[1;32m    923\u001b[0m                                           \u001b[0;34m'Error:\\n'\u001b[0m\u001b[0;34m\u001b[0m\u001b[0;34m\u001b[0m\u001b[0m\n\u001b[1;32m    924\u001b[0m                                           '{}'.format(self.state, self._operation_endpoint.split('/')[-1],\n\u001b[0;32m--> 925\u001b[0;31m                                                       logs_response, format_error_response), logger=module_logger)\n\u001b[0m\u001b[1;32m    926\u001b[0m             print('{} service creation operation finished, operation \"{}\"'.format(self._webservice_type,\n\u001b[1;32m    927\u001b[0m                                                                                   operation_state))\n",
            "\u001b[0;31mWebserviceException\u001b[0m: WebserviceException:\n\tMessage: Service deployment polling reached non-successful terminal state, current service state: Failed\nOperation ID: 9bbe33ff-70ec-4402-bdba-956e524ed853\nMore information can be found using '.get_logs()'\nError:\n{\n  \"code\": \"AciDeploymentFailed\",\n  \"statusCode\": 400,\n  \"message\": \"Aci Deployment failed with exception: Your container application crashed. This may be caused by errors in your scoring file's init() function.\n\t1. Please check the logs for your container instance: my-udacityproj3-service. From the AML SDK, you can run print(service.get_logs()) if you have service object to fetch the logs.\n\t2. You can interactively debug your scoring file locally. Please refer to https://docs.microsoft.com/azure/machine-learning/how-to-debug-visual-studio-code#debug-and-troubleshoot-deployments for more information.\n\t3. You can also try to run image b003ea69e3254e668bb22e5482137f7f.azurecr.io/azureml/azureml_659c175cb1412dc3bbc4622576bdd425 locally. Please refer to https://aka.ms/debugimage#service-launch-fails for more information.\",\n  \"details\": [\n    {\n      \"code\": \"CrashLoopBackOff\",\n      \"message\": \"Your container application crashed. This may be caused by errors in your scoring file's init() function.\n\t1. Please check the logs for your container instance: my-udacityproj3-service. From the AML SDK, you can run print(service.get_logs()) if you have service object to fetch the logs.\n\t2. You can interactively debug your scoring file locally. Please refer to https://docs.microsoft.com/azure/machine-learning/how-to-debug-visual-studio-code#debug-and-troubleshoot-deployments for more information.\n\t3. You can also try to run image b003ea69e3254e668bb22e5482137f7f.azurecr.io/azureml/azureml_659c175cb1412dc3bbc4622576bdd425 locally. Please refer to https://aka.ms/debugimage#service-launch-fails for more information.\"\n    },\n    {\n      \"code\": \"AciDeploymentFailed\",\n      \"message\": \"Your container application crashed. Please follow the steps to debug:\n\t1. From the AML SDK, you can run print(service.get_logs()) if you have service object to fetch the logs. Please refer to https://aka.ms/debugimage#dockerlog for more information.\n\t2. If your container application crashed. This may be caused by errors in your scoring file's init() function. You can try debugging locally first. Please refer to https://aka.ms/debugimage#debug-locally for more information.\n\t3. You can also interactively debug your scoring file locally. Please refer to https://docs.microsoft.com/azure/machine-learning/how-to-debug-visual-studio-code#debug-and-troubleshoot-deployments for more information.\n\t4. View the diagnostic events to check status of container, it may help you to debug the issue.\n\"RestartCount\": 3\n\"CurrentState\": {\"state\":\"Waiting\",\"startTime\":null,\"exitCode\":null,\"finishTime\":null,\"detailStatus\":\"CrashLoopBackOff: Back-off restarting failed\"}\n\"PreviousState\": {\"state\":\"Terminated\",\"startTime\":\"2021-12-07T19:57:41.383Z\",\"exitCode\":111,\"finishTime\":\"2021-12-07T19:58:23.218Z\",\"detailStatus\":\"Error\"}\n\"Events\":\n{\"count\":2,\"firstTimestamp\":\"2021-12-07T18:28:41Z\",\"lastTimestamp\":\"2021-12-07T19:31:59Z\",\"name\":\"Pulling\",\"message\":\"pulling image \"b003ea69e3254e668bb22e5482137f7f.azurecr.io/azureml/azureml_3b92851688f68b5c79c0703809376409@sha256:5969a3668e9cf7865d7a46040fb114d87de8a1bb84d5677a8e934ba990a53955\"\",\"type\":\"Normal\"}\n{\"count\":2,\"firstTimestamp\":\"2021-12-07T18:29:53Z\",\"lastTimestamp\":\"2021-12-07T19:34:27Z\",\"name\":\"Pulled\",\"message\":\"Successfully pulled image \"b003ea69e3254e668bb22e5482137f7f.azurecr.io/azureml/azureml_3b92851688f68b5c79c0703809376409@sha256:5969a3668e9cf7865d7a46040fb114d87de8a1bb84d5677a8e934ba990a53955\"\",\"type\":\"Normal\"}\n{\"count\":18,\"firstTimestamp\":\"2021-12-07T18:31:59Z\",\"lastTimestamp\":\"2021-12-07T19:54:07Z\",\"name\":\"Started\",\"message\":\"Started container\",\"type\":\"Normal\"}\n{\"count\":18,\"firstTimestamp\":\"2021-12-07T18:32:34Z\",\"lastTimestamp\":\"2021-12-07T19:54:15Z\",\"name\":\"Killing\",\"message\":\"Killing container with id 9e9ffc5af3f66083b4a592bb2d728a5cabda8fc16e0541e0aed4cd53f7463b68.\",\"type\":\"Normal\"}\n{\"count\":3,\"firstTimestamp\":\"2021-12-07T18:43:55Z\",\"lastTimestamp\":\"2021-12-07T19:49:15Z\",\"name\":\"Pulling\",\"message\":\"pulling image \"b003ea69e3254e668bb22e5482137f7f.azurecr.io/azureml/azureml_7f69f78448011792b8f65c3ea4adc2d2@sha256:5a4cf0976829f4fa93aa151dc90b14e5327fb18da4317d0bccf385e33014610d\"\",\"type\":\"Normal\"}\n{\"count\":3,\"firstTimestamp\":\"2021-12-07T18:45:25Z\",\"lastTimestamp\":\"2021-12-07T19:50:53Z\",\"name\":\"Pulled\",\"message\":\"Successfully pulled image \"b003ea69e3254e668bb22e5482137f7f.azurecr.io/azureml/azureml_7f69f78448011792b8f65c3ea4adc2d2@sha256:5a4cf0976829f4fa93aa151dc90b14e5327fb18da4317d0bccf385e33014610d\"\",\"type\":\"Normal\"}\n{\"count\":15,\"firstTimestamp\":\"2021-12-07T18:49:01Z\",\"lastTimestamp\":\"2021-12-07T19:57:41Z\",\"name\":\"Started\",\"message\":\"Started container\",\"type\":\"Normal\"}\n{\"count\":15,\"firstTimestamp\":\"2021-12-07T18:49:36Z\",\"lastTimestamp\":\"2021-12-07T19:58:23Z\",\"name\":\"Killing\",\"message\":\"Killing container with id 5daaf158c7851879b768d6fa40cdd348dacbe74e7f26ddc759a49a442e7b04eb.\",\"type\":\"Normal\"}\n{\"count\":1,\"firstTimestamp\":\"2021-12-07T19:13:00Z\",\"lastTimestamp\":\"2021-12-07T19:13:00Z\",\"name\":\"Pulling\",\"message\":\"pulling image \"b003ea69e3254e668bb22e5482137f7f.azurecr.io/azureml/azureml_7f69f78448011792b8f65c3ea4adc2d2@sha256:5a4cf0976829f4fa93aa151dc90b14e5327fb18da4317d0bccf385e33014610d\"\",\"type\":\"Normal\"}\n{\"count\":1,\"firstTimestamp\":\"2021-12-07T19:14:27Z\",\"lastTimestamp\":\"2021-12-07T19:14:27Z\",\"name\":\"Pulled\",\"message\":\"Successfully pulled image \"b003ea69e3254e668bb22e5482137f7f.azurecr.io/azureml/azureml_7f69f78448011792b8f65c3ea4adc2d2@sha256:5a4cf0976829f4fa93aa151dc90b14e5327fb18da4317d0bccf385e33014610d\"\",\"type\":\"Normal\"}\n{\"count\":3,\"firstTimestamp\":\"2021-12-07T19:14:46Z\",\"lastTimestamp\":\"2021-12-07T19:16:30Z\",\"name\":\"Started\",\"message\":\"Started container\",\"type\":\"Normal\"}\n{\"count\":3,\"firstTimestamp\":\"2021-12-07T19:15:20Z\",\"lastTimestamp\":\"2021-12-07T19:17:06Z\",\"name\":\"Killing\",\"message\":\"Killing container with id c9845699f5591025482b057e51bad52b6c0b1dbd053c10003ab955aeb1cd5631.\",\"type\":\"Normal\"}\n\"\n    }\n  ]\n}\n\tInnerException None\n\tErrorResponse \n{\n    \"error\": {\n        \"message\": \"Service deployment polling reached non-successful terminal state, current service state: Failed\\nOperation ID: 9bbe33ff-70ec-4402-bdba-956e524ed853\\nMore information can be found using '.get_logs()'\\nError:\\n{\\n  \\\"code\\\": \\\"AciDeploymentFailed\\\",\\n  \\\"statusCode\\\": 400,\\n  \\\"message\\\": \\\"Aci Deployment failed with exception: Your container application crashed. This may be caused by errors in your scoring file's init() function.\\n\\t1. Please check the logs for your container instance: my-udacityproj3-service. From the AML SDK, you can run print(service.get_logs()) if you have service object to fetch the logs.\\n\\t2. You can interactively debug your scoring file locally. Please refer to https://docs.microsoft.com/azure/machine-learning/how-to-debug-visual-studio-code#debug-and-troubleshoot-deployments for more information.\\n\\t3. You can also try to run image b003ea69e3254e668bb22e5482137f7f.azurecr.io/azureml/azureml_659c175cb1412dc3bbc4622576bdd425 locally. Please refer to https://aka.ms/debugimage#service-launch-fails for more information.\\\",\\n  \\\"details\\\": [\\n    {\\n      \\\"code\\\": \\\"CrashLoopBackOff\\\",\\n      \\\"message\\\": \\\"Your container application crashed. This may be caused by errors in your scoring file's init() function.\\n\\t1. Please check the logs for your container instance: my-udacityproj3-service. From the AML SDK, you can run print(service.get_logs()) if you have service object to fetch the logs.\\n\\t2. You can interactively debug your scoring file locally. Please refer to https://docs.microsoft.com/azure/machine-learning/how-to-debug-visual-studio-code#debug-and-troubleshoot-deployments for more information.\\n\\t3. You can also try to run image b003ea69e3254e668bb22e5482137f7f.azurecr.io/azureml/azureml_659c175cb1412dc3bbc4622576bdd425 locally. Please refer to https://aka.ms/debugimage#service-launch-fails for more information.\\\"\\n    },\\n    {\\n      \\\"code\\\": \\\"AciDeploymentFailed\\\",\\n      \\\"message\\\": \\\"Your container application crashed. Please follow the steps to debug:\\n\\t1. From the AML SDK, you can run print(service.get_logs()) if you have service object to fetch the logs. Please refer to https://aka.ms/debugimage#dockerlog for more information.\\n\\t2. If your container application crashed. This may be caused by errors in your scoring file's init() function. You can try debugging locally first. Please refer to https://aka.ms/debugimage#debug-locally for more information.\\n\\t3. You can also interactively debug your scoring file locally. Please refer to https://docs.microsoft.com/azure/machine-learning/how-to-debug-visual-studio-code#debug-and-troubleshoot-deployments for more information.\\n\\t4. View the diagnostic events to check status of container, it may help you to debug the issue.\\n\\\"RestartCount\\\": 3\\n\\\"CurrentState\\\": {\\\"state\\\":\\\"Waiting\\\",\\\"startTime\\\":null,\\\"exitCode\\\":null,\\\"finishTime\\\":null,\\\"detailStatus\\\":\\\"CrashLoopBackOff: Back-off restarting failed\\\"}\\n\\\"PreviousState\\\": {\\\"state\\\":\\\"Terminated\\\",\\\"startTime\\\":\\\"2021-12-07T19:57:41.383Z\\\",\\\"exitCode\\\":111,\\\"finishTime\\\":\\\"2021-12-07T19:58:23.218Z\\\",\\\"detailStatus\\\":\\\"Error\\\"}\\n\\\"Events\\\":\\n{\\\"count\\\":2,\\\"firstTimestamp\\\":\\\"2021-12-07T18:28:41Z\\\",\\\"lastTimestamp\\\":\\\"2021-12-07T19:31:59Z\\\",\\\"name\\\":\\\"Pulling\\\",\\\"message\\\":\\\"pulling image \\\"b003ea69e3254e668bb22e5482137f7f.azurecr.io/azureml/azureml_3b92851688f68b5c79c0703809376409@sha256:5969a3668e9cf7865d7a46040fb114d87de8a1bb84d5677a8e934ba990a53955\\\"\\\",\\\"type\\\":\\\"Normal\\\"}\\n{\\\"count\\\":2,\\\"firstTimestamp\\\":\\\"2021-12-07T18:29:53Z\\\",\\\"lastTimestamp\\\":\\\"2021-12-07T19:34:27Z\\\",\\\"name\\\":\\\"Pulled\\\",\\\"message\\\":\\\"Successfully pulled image \\\"b003ea69e3254e668bb22e5482137f7f.azurecr.io/azureml/azureml_3b92851688f68b5c79c0703809376409@sha256:5969a3668e9cf7865d7a46040fb114d87de8a1bb84d5677a8e934ba990a53955\\\"\\\",\\\"type\\\":\\\"Normal\\\"}\\n{\\\"count\\\":18,\\\"firstTimestamp\\\":\\\"2021-12-07T18:31:59Z\\\",\\\"lastTimestamp\\\":\\\"2021-12-07T19:54:07Z\\\",\\\"name\\\":\\\"Started\\\",\\\"message\\\":\\\"Started container\\\",\\\"type\\\":\\\"Normal\\\"}\\n{\\\"count\\\":18,\\\"firstTimestamp\\\":\\\"2021-12-07T18:32:34Z\\\",\\\"lastTimestamp\\\":\\\"2021-12-07T19:54:15Z\\\",\\\"name\\\":\\\"Killing\\\",\\\"message\\\":\\\"Killing container with id 9e9ffc5af3f66083b4a592bb2d728a5cabda8fc16e0541e0aed4cd53f7463b68.\\\",\\\"type\\\":\\\"Normal\\\"}\\n{\\\"count\\\":3,\\\"firstTimestamp\\\":\\\"2021-12-07T18:43:55Z\\\",\\\"lastTimestamp\\\":\\\"2021-12-07T19:49:15Z\\\",\\\"name\\\":\\\"Pulling\\\",\\\"message\\\":\\\"pulling image \\\"b003ea69e3254e668bb22e5482137f7f.azurecr.io/azureml/azureml_7f69f78448011792b8f65c3ea4adc2d2@sha256:5a4cf0976829f4fa93aa151dc90b14e5327fb18da4317d0bccf385e33014610d\\\"\\\",\\\"type\\\":\\\"Normal\\\"}\\n{\\\"count\\\":3,\\\"firstTimestamp\\\":\\\"2021-12-07T18:45:25Z\\\",\\\"lastTimestamp\\\":\\\"2021-12-07T19:50:53Z\\\",\\\"name\\\":\\\"Pulled\\\",\\\"message\\\":\\\"Successfully pulled image \\\"b003ea69e3254e668bb22e5482137f7f.azurecr.io/azureml/azureml_7f69f78448011792b8f65c3ea4adc2d2@sha256:5a4cf0976829f4fa93aa151dc90b14e5327fb18da4317d0bccf385e33014610d\\\"\\\",\\\"type\\\":\\\"Normal\\\"}\\n{\\\"count\\\":15,\\\"firstTimestamp\\\":\\\"2021-12-07T18:49:01Z\\\",\\\"lastTimestamp\\\":\\\"2021-12-07T19:57:41Z\\\",\\\"name\\\":\\\"Started\\\",\\\"message\\\":\\\"Started container\\\",\\\"type\\\":\\\"Normal\\\"}\\n{\\\"count\\\":15,\\\"firstTimestamp\\\":\\\"2021-12-07T18:49:36Z\\\",\\\"lastTimestamp\\\":\\\"2021-12-07T19:58:23Z\\\",\\\"name\\\":\\\"Killing\\\",\\\"message\\\":\\\"Killing container with id 5daaf158c7851879b768d6fa40cdd348dacbe74e7f26ddc759a49a442e7b04eb.\\\",\\\"type\\\":\\\"Normal\\\"}\\n{\\\"count\\\":1,\\\"firstTimestamp\\\":\\\"2021-12-07T19:13:00Z\\\",\\\"lastTimestamp\\\":\\\"2021-12-07T19:13:00Z\\\",\\\"name\\\":\\\"Pulling\\\",\\\"message\\\":\\\"pulling image \\\"b003ea69e3254e668bb22e5482137f7f.azurecr.io/azureml/azureml_7f69f78448011792b8f65c3ea4adc2d2@sha256:5a4cf0976829f4fa93aa151dc90b14e5327fb18da4317d0bccf385e33014610d\\\"\\\",\\\"type\\\":\\\"Normal\\\"}\\n{\\\"count\\\":1,\\\"firstTimestamp\\\":\\\"2021-12-07T19:14:27Z\\\",\\\"lastTimestamp\\\":\\\"2021-12-07T19:14:27Z\\\",\\\"name\\\":\\\"Pulled\\\",\\\"message\\\":\\\"Successfully pulled image \\\"b003ea69e3254e668bb22e5482137f7f.azurecr.io/azureml/azureml_7f69f78448011792b8f65c3ea4adc2d2@sha256:5a4cf0976829f4fa93aa151dc90b14e5327fb18da4317d0bccf385e33014610d\\\"\\\",\\\"type\\\":\\\"Normal\\\"}\\n{\\\"count\\\":3,\\\"firstTimestamp\\\":\\\"2021-12-07T19:14:46Z\\\",\\\"lastTimestamp\\\":\\\"2021-12-07T19:16:30Z\\\",\\\"name\\\":\\\"Started\\\",\\\"message\\\":\\\"Started container\\\",\\\"type\\\":\\\"Normal\\\"}\\n{\\\"count\\\":3,\\\"firstTimestamp\\\":\\\"2021-12-07T19:15:20Z\\\",\\\"lastTimestamp\\\":\\\"2021-12-07T19:17:06Z\\\",\\\"name\\\":\\\"Killing\\\",\\\"message\\\":\\\"Killing container with id c9845699f5591025482b057e51bad52b6c0b1dbd053c10003ab955aeb1cd5631.\\\",\\\"type\\\":\\\"Normal\\\"}\\n\\\"\\n    }\\n  ]\\n}\"\n    }\n}"
          ]
        }
      ],
      "source": [
        "# Create the webservice\n",
        "\n",
        "inference_config = InferenceConfig(entry_script='./score_2.py', environment=environment)\n",
        "aci_config = AciWebservice.deploy_configuration(cpu_cores=1, memory_gb=1)\n",
        "\n",
        "\n",
        "service_name = 'my-udacityproj3-service'\n",
        "\n",
        "service = Model.deploy(workspace=ws,\n",
        "                       name=service_name,\n",
        "                       models=[model],\n",
        "                       inference_config=inference_config,\n",
        "                       deployment_config=aci_config,\n",
        "                       overwrite=True)\n",
        "service.wait_for_deployment(show_output=True)"
      ]
    },
    {
      "cell_type": "code",
      "execution_count": 33,
      "metadata": {
        "gather": {
          "logged": 1638907366766
        },
        "jupyter": {
          "outputs_hidden": false,
          "source_hidden": false
        },
        "nteract": {
          "transient": {
            "deleting": false
          }
        }
      },
      "outputs": [
        {
          "name": "stdout",
          "output_type": "stream",
          "text": [
            "None\n"
          ]
        }
      ],
      "source": [
        "print(service.get_logs())"
      ]
    },
    {
      "cell_type": "markdown",
      "metadata": {
        "collapsed": true,
        "gather": {
          "logged": 1598432765711
        },
        "jupyter": {
          "outputs_hidden": false,
          "source_hidden": false
        },
        "nteract": {
          "transient": {
            "deleting": false
          }
        }
      },
      "source": [
        "TODO: In the cell below, print the logs of the web service and delete the service"
      ]
    },
    {
      "cell_type": "code",
      "execution_count": 38,
      "metadata": {
        "jupyter": {
          "outputs_hidden": false,
          "source_hidden": false
        },
        "nteract": {
          "transient": {
            "deleting": false
          }
        }
      },
      "outputs": [
        {
          "ename": "TypeError",
          "evalue": "Object of type 'DataFrame' is not JSON serializable",
          "output_type": "error",
          "traceback": [
            "\u001b[0;31m---------------------------------------------------------------------------\u001b[0m",
            "\u001b[0;31mTypeError\u001b[0m                                 Traceback (most recent call last)",
            "\u001b[0;32m<ipython-input-38-edca795938e3>\u001b[0m in \u001b[0;36m<module>\u001b[0;34m\u001b[0m\n\u001b[1;32m      1\u001b[0m input_payload = json.dumps({\n\u001b[1;32m      2\u001b[0m     \u001b[0;34m'data'\u001b[0m\u001b[0;34m:\u001b[0m \u001b[0mdf_x\u001b[0m\u001b[0;34m.\u001b[0m\u001b[0miloc\u001b[0m\u001b[0;34m[\u001b[0m\u001b[0;36m0\u001b[0m\u001b[0;34m:\u001b[0m\u001b[0;36m2\u001b[0m\u001b[0;34m,\u001b[0m\u001b[0;34m:\u001b[0m\u001b[0;34m]\u001b[0m\u001b[0;34m,\u001b[0m\u001b[0;34m\u001b[0m\u001b[0;34m\u001b[0m\u001b[0m\n\u001b[0;32m----> 3\u001b[0;31m     \u001b[0;34m'method'\u001b[0m\u001b[0;34m:\u001b[0m \u001b[0;34m'predict'\u001b[0m  \u001b[0;31m# If you have a classification model, you can get probabilities by changing this to 'predict_proba'.\u001b[0m\u001b[0;34m\u001b[0m\u001b[0;34m\u001b[0m\u001b[0m\n\u001b[0m\u001b[1;32m      4\u001b[0m })\n\u001b[1;32m      5\u001b[0m \u001b[0;34m\u001b[0m\u001b[0m\n",
            "\u001b[0;32m/anaconda/envs/azureml_py36/lib/python3.6/json/__init__.py\u001b[0m in \u001b[0;36mdumps\u001b[0;34m(obj, skipkeys, ensure_ascii, check_circular, allow_nan, cls, indent, separators, default, sort_keys, **kw)\u001b[0m\n\u001b[1;32m    229\u001b[0m         \u001b[0mcls\u001b[0m \u001b[0;32mis\u001b[0m \u001b[0;32mNone\u001b[0m \u001b[0;32mand\u001b[0m \u001b[0mindent\u001b[0m \u001b[0;32mis\u001b[0m \u001b[0;32mNone\u001b[0m \u001b[0;32mand\u001b[0m \u001b[0mseparators\u001b[0m \u001b[0;32mis\u001b[0m \u001b[0;32mNone\u001b[0m \u001b[0;32mand\u001b[0m\u001b[0;34m\u001b[0m\u001b[0;34m\u001b[0m\u001b[0m\n\u001b[1;32m    230\u001b[0m         default is None and not sort_keys and not kw):\n\u001b[0;32m--> 231\u001b[0;31m         \u001b[0;32mreturn\u001b[0m \u001b[0m_default_encoder\u001b[0m\u001b[0;34m.\u001b[0m\u001b[0mencode\u001b[0m\u001b[0;34m(\u001b[0m\u001b[0mobj\u001b[0m\u001b[0;34m)\u001b[0m\u001b[0;34m\u001b[0m\u001b[0;34m\u001b[0m\u001b[0m\n\u001b[0m\u001b[1;32m    232\u001b[0m     \u001b[0;32mif\u001b[0m \u001b[0mcls\u001b[0m \u001b[0;32mis\u001b[0m \u001b[0;32mNone\u001b[0m\u001b[0;34m:\u001b[0m\u001b[0;34m\u001b[0m\u001b[0;34m\u001b[0m\u001b[0m\n\u001b[1;32m    233\u001b[0m         \u001b[0mcls\u001b[0m \u001b[0;34m=\u001b[0m \u001b[0mJSONEncoder\u001b[0m\u001b[0;34m\u001b[0m\u001b[0;34m\u001b[0m\u001b[0m\n",
            "\u001b[0;32m/anaconda/envs/azureml_py36/lib/python3.6/json/encoder.py\u001b[0m in \u001b[0;36mencode\u001b[0;34m(self, o)\u001b[0m\n\u001b[1;32m    197\u001b[0m         \u001b[0;31m# exceptions aren't as detailed.  The list call should be roughly\u001b[0m\u001b[0;34m\u001b[0m\u001b[0;34m\u001b[0m\u001b[0;34m\u001b[0m\u001b[0m\n\u001b[1;32m    198\u001b[0m         \u001b[0;31m# equivalent to the PySequence_Fast that ''.join() would do.\u001b[0m\u001b[0;34m\u001b[0m\u001b[0;34m\u001b[0m\u001b[0;34m\u001b[0m\u001b[0m\n\u001b[0;32m--> 199\u001b[0;31m         \u001b[0mchunks\u001b[0m \u001b[0;34m=\u001b[0m \u001b[0mself\u001b[0m\u001b[0;34m.\u001b[0m\u001b[0miterencode\u001b[0m\u001b[0;34m(\u001b[0m\u001b[0mo\u001b[0m\u001b[0;34m,\u001b[0m \u001b[0m_one_shot\u001b[0m\u001b[0;34m=\u001b[0m\u001b[0;32mTrue\u001b[0m\u001b[0;34m)\u001b[0m\u001b[0;34m\u001b[0m\u001b[0;34m\u001b[0m\u001b[0m\n\u001b[0m\u001b[1;32m    200\u001b[0m         \u001b[0;32mif\u001b[0m \u001b[0;32mnot\u001b[0m \u001b[0misinstance\u001b[0m\u001b[0;34m(\u001b[0m\u001b[0mchunks\u001b[0m\u001b[0;34m,\u001b[0m \u001b[0;34m(\u001b[0m\u001b[0mlist\u001b[0m\u001b[0;34m,\u001b[0m \u001b[0mtuple\u001b[0m\u001b[0;34m)\u001b[0m\u001b[0;34m)\u001b[0m\u001b[0;34m:\u001b[0m\u001b[0;34m\u001b[0m\u001b[0;34m\u001b[0m\u001b[0m\n\u001b[1;32m    201\u001b[0m             \u001b[0mchunks\u001b[0m \u001b[0;34m=\u001b[0m \u001b[0mlist\u001b[0m\u001b[0;34m(\u001b[0m\u001b[0mchunks\u001b[0m\u001b[0;34m)\u001b[0m\u001b[0;34m\u001b[0m\u001b[0;34m\u001b[0m\u001b[0m\n",
            "\u001b[0;32m/anaconda/envs/azureml_py36/lib/python3.6/json/encoder.py\u001b[0m in \u001b[0;36miterencode\u001b[0;34m(self, o, _one_shot)\u001b[0m\n\u001b[1;32m    255\u001b[0m                 \u001b[0mself\u001b[0m\u001b[0;34m.\u001b[0m\u001b[0mkey_separator\u001b[0m\u001b[0;34m,\u001b[0m \u001b[0mself\u001b[0m\u001b[0;34m.\u001b[0m\u001b[0mitem_separator\u001b[0m\u001b[0;34m,\u001b[0m \u001b[0mself\u001b[0m\u001b[0;34m.\u001b[0m\u001b[0msort_keys\u001b[0m\u001b[0;34m,\u001b[0m\u001b[0;34m\u001b[0m\u001b[0;34m\u001b[0m\u001b[0m\n\u001b[1;32m    256\u001b[0m                 self.skipkeys, _one_shot)\n\u001b[0;32m--> 257\u001b[0;31m         \u001b[0;32mreturn\u001b[0m \u001b[0m_iterencode\u001b[0m\u001b[0;34m(\u001b[0m\u001b[0mo\u001b[0m\u001b[0;34m,\u001b[0m \u001b[0;36m0\u001b[0m\u001b[0;34m)\u001b[0m\u001b[0;34m\u001b[0m\u001b[0;34m\u001b[0m\u001b[0m\n\u001b[0m\u001b[1;32m    258\u001b[0m \u001b[0;34m\u001b[0m\u001b[0m\n\u001b[1;32m    259\u001b[0m def _make_iterencode(markers, _default, _encoder, _indent, _floatstr,\n",
            "\u001b[0;32m/anaconda/envs/azureml_py36/lib/python3.6/json/encoder.py\u001b[0m in \u001b[0;36mdefault\u001b[0;34m(self, o)\u001b[0m\n\u001b[1;32m    178\u001b[0m         \"\"\"\n\u001b[1;32m    179\u001b[0m         raise TypeError(\"Object of type '%s' is not JSON serializable\" %\n\u001b[0;32m--> 180\u001b[0;31m                         o.__class__.__name__)\n\u001b[0m\u001b[1;32m    181\u001b[0m \u001b[0;34m\u001b[0m\u001b[0m\n\u001b[1;32m    182\u001b[0m     \u001b[0;32mdef\u001b[0m \u001b[0mencode\u001b[0m\u001b[0;34m(\u001b[0m\u001b[0mself\u001b[0m\u001b[0;34m,\u001b[0m \u001b[0mo\u001b[0m\u001b[0;34m)\u001b[0m\u001b[0;34m:\u001b[0m\u001b[0;34m\u001b[0m\u001b[0;34m\u001b[0m\u001b[0m\n",
            "\u001b[0;31mTypeError\u001b[0m: Object of type 'DataFrame' is not JSON serializable"
          ]
        }
      ],
      "source": [
        "input_payload = json.dumps({\n",
        "    'data': df_x.iloc[0:2,:].values.to_list(),\n",
        "    'method': 'predict'  # If you have a classification model, you can get probabilities by changing this to 'predict_proba'.\n",
        "})\n",
        "\n",
        "output = service.run(input_payload)\n",
        "\n",
        "print(output)"
      ]
    },
    {
      "cell_type": "code",
      "execution_count": null,
      "metadata": {},
      "outputs": [],
      "source": [
        "# Remove WebService endpoint\n",
        "\n",
        "service.delete()\n",
        "\n",
        "# Remove compute cluster\n",
        "\n",
        "cpu_cluster.delete()"
      ]
    },
    {
      "cell_type": "markdown",
      "metadata": {},
      "source": [
        "**Submission Checklist**\n",
        "- I have registered the model.\n",
        "- I have deployed the model with the best accuracy as a webservice.\n",
        "- I have tested the webservice by sending a request to the model endpoint.\n",
        "- I have deleted the webservice and shutdown all the computes that I have used.\n",
        "- I have taken a screenshot showing the model endpoint as active.\n",
        "- The project includes a file containing the environment details.\n"
      ]
    },
    {
      "cell_type": "markdown",
      "metadata": {},
      "source": []
    }
  ],
  "metadata": {
    "kernel_info": {
      "name": "python3-azureml"
    },
    "kernelspec": {
      "display_name": "Python 3.6 - AzureML",
      "language": "python",
      "name": "python3-azureml"
    },
    "language_info": {
      "codemirror_mode": {
        "name": "ipython",
        "version": 3
      },
      "file_extension": ".py",
      "mimetype": "text/x-python",
      "name": "python",
      "nbconvert_exporter": "python",
      "pygments_lexer": "ipython3",
      "version": "3.6.9"
    },
    "microsoft": {
      "host": {
        "AzureML": {
          "notebookHasBeenCompleted": true
        }
      }
    },
    "nteract": {
      "version": "nteract-front-end@1.0.0"
    }
  },
  "nbformat": 4,
  "nbformat_minor": 2
}

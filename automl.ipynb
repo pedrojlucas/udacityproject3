{
  "cells": [
    {
      "cell_type": "markdown",
      "source": [
        "# Automated ML\n",
        "\n",
        "In the next cells: we will update the environment SDK to fit with the latest AutoML version and avoid incompatibility issues and import all the important libraries we will need to execute this notebook.\n",
        "IMPORTANT: Restart the kernel after executing the update, so the new updated libraries can be loaded in the environment."
      ],
      "metadata": {}
    },
    {
      "cell_type": "code",
      "source": [
        "# In order to avoid problems with different SDK versions during AutoML training and later serving of the model in the compute cluster I update the SDK version of AutoML.\n",
        "# It is important to use Python 3.6 as it is, at this moment the compatible version with the latest version of AutoML SDK.\n",
        "\n",
        "import sys\n",
        "\n",
        "! {sys.executable} -m pip install --upgrade azureml-sdk[automl]"
      ],
      "outputs": [
        {
          "output_type": "stream",
          "name": "stdout",
          "text": "Requirement already up-to-date: azureml-sdk[automl] in /anaconda/envs/azureml_py36/lib/python3.6/site-packages (1.37.0)\nRequirement already satisfied, skipping upgrade: azureml-train-automl-client~=1.37.0 in /anaconda/envs/azureml_py36/lib/python3.6/site-packages (from azureml-sdk[automl]) (1.37.0)\nRequirement already satisfied, skipping upgrade: azureml-dataset-runtime[fuse]~=1.37.0 in /anaconda/envs/azureml_py36/lib/python3.6/site-packages (from azureml-sdk[automl]) (1.37.0)\nRequirement already satisfied, skipping upgrade: azureml-pipeline~=1.37.0 in /anaconda/envs/azureml_py36/lib/python3.6/site-packages (from azureml-sdk[automl]) (1.37.0)\nRequirement already satisfied, skipping upgrade: azureml-core~=1.37.0 in /anaconda/envs/azureml_py36/lib/python3.6/site-packages (from azureml-sdk[automl]) (1.37.0)\nRequirement already satisfied, skipping upgrade: azureml-train-core~=1.37.0 in /anaconda/envs/azureml_py36/lib/python3.6/site-packages (from azureml-sdk[automl]) (1.37.0)\nRequirement already satisfied, skipping upgrade: azureml-train-automl~=1.37.0; extra == \"automl\" in /anaconda/envs/azureml_py36/lib/python3.6/site-packages (from azureml-sdk[automl]) (1.37.0)\nRequirement already satisfied, skipping upgrade: azureml-automl-core~=1.37.0 in /anaconda/envs/azureml_py36/lib/python3.6/site-packages (from azureml-train-automl-client~=1.37.0->azureml-sdk[automl]) (1.37.0)\nRequirement already satisfied, skipping upgrade: azureml-telemetry~=1.37.0 in /anaconda/envs/azureml_py36/lib/python3.6/site-packages (from azureml-train-automl-client~=1.37.0->azureml-sdk[automl]) (1.37.0)\nRequirement already satisfied, skipping upgrade: azureml-dataprep<2.26.0a,>=2.25.0a in /anaconda/envs/azureml_py36/lib/python3.6/site-packages (from azureml-dataset-runtime[fuse]~=1.37.0->azureml-sdk[automl]) (2.25.0)\nRequirement already satisfied, skipping upgrade: pyarrow<4.0.0,>=0.17.0 in /anaconda/envs/azureml_py36/lib/python3.6/site-packages (from azureml-dataset-runtime[fuse]~=1.37.0->azureml-sdk[automl]) (3.0.0)\nRequirement already satisfied, skipping upgrade: numpy!=1.19.3; sys_platform == \"linux\" in /anaconda/envs/azureml_py36/lib/python3.6/site-packages (from azureml-dataset-runtime[fuse]~=1.37.0->azureml-sdk[automl]) (1.18.5)\nRequirement already satisfied, skipping upgrade: fusepy<4.0.0,>=3.0.1; extra == \"fuse\" in /anaconda/envs/azureml_py36/lib/python3.6/site-packages (from azureml-dataset-runtime[fuse]~=1.37.0->azureml-sdk[automl]) (3.0.1)\nRequirement already satisfied, skipping upgrade: azureml-pipeline-core~=1.37.0 in /anaconda/envs/azureml_py36/lib/python3.6/site-packages (from azureml-pipeline~=1.37.0->azureml-sdk[automl]) (1.37.0)\nRequirement already satisfied, skipping upgrade: azureml-pipeline-steps~=1.37.0 in /anaconda/envs/azureml_py36/lib/python3.6/site-packages (from azureml-pipeline~=1.37.0->azureml-sdk[automl]) (1.37.0)\nRequirement already satisfied, skipping upgrade: ndg-httpsclient<=0.5.1 in /anaconda/envs/azureml_py36/lib/python3.6/site-packages (from azureml-core~=1.37.0->azureml-sdk[automl]) (0.5.1)\nRequirement already satisfied, skipping upgrade: azure-common<2.0.0,>=1.1.12 in /anaconda/envs/azureml_py36/lib/python3.6/site-packages (from azureml-core~=1.37.0->azureml-sdk[automl]) (1.1.27)\nRequirement already satisfied, skipping upgrade: pathspec<1.0.0 in /anaconda/envs/azureml_py36/lib/python3.6/site-packages (from azureml-core~=1.37.0->azureml-sdk[automl]) (0.9.0)\nRequirement already satisfied, skipping upgrade: azure-mgmt-containerregistry>=2.0.0 in /anaconda/envs/azureml_py36/lib/python3.6/site-packages (from azureml-core~=1.37.0->azureml-sdk[automl]) (8.1.0)\nRequirement already satisfied, skipping upgrade: cryptography!=1.9,!=2.0.*,!=2.1.*,!=2.2.*,<4.0.0 in /anaconda/envs/azureml_py36/lib/python3.6/site-packages (from azureml-core~=1.37.0->azureml-sdk[automl]) (3.4.8)\nRequirement already satisfied, skipping upgrade: PyJWT<3.0.0 in /anaconda/envs/azureml_py36/lib/python3.6/site-packages (from azureml-core~=1.37.0->azureml-sdk[automl]) (2.1.0)\nRequirement already satisfied, skipping upgrade: azure-mgmt-storage<20.0.0,>=16.0.0 in /anaconda/envs/azureml_py36/lib/python3.6/site-packages (from azureml-core~=1.37.0->azureml-sdk[automl]) (19.0.0)\nRequirement already satisfied, skipping upgrade: argcomplete~=1.8 in /anaconda/envs/azureml_py36/lib/python3.6/site-packages (from azureml-core~=1.37.0->azureml-sdk[automl]) (1.12.3)\nRequirement already satisfied, skipping upgrade: msal-extensions<0.4,>=0.3.0 in /anaconda/envs/azureml_py36/lib/python3.6/site-packages (from azureml-core~=1.37.0->azureml-sdk[automl]) (0.3.1)\nRequirement already satisfied, skipping upgrade: azure-mgmt-authorization<1.0.0,>=0.40.0 in /anaconda/envs/azureml_py36/lib/python3.6/site-packages (from azureml-core~=1.37.0->azureml-sdk[automl]) (0.61.0)\nRequirement already satisfied, skipping upgrade: python-dateutil<3.0.0,>=2.7.3 in /anaconda/envs/azureml_py36/lib/python3.6/site-packages (from azureml-core~=1.37.0->azureml-sdk[automl]) (2.8.2)\nRequirement already satisfied, skipping upgrade: jmespath<1.0.0 in /anaconda/envs/azureml_py36/lib/python3.6/site-packages (from azureml-core~=1.37.0->azureml-sdk[automl]) (0.10.0)\nRequirement already satisfied, skipping upgrade: msrest<1.0.0,>=0.5.1 in /anaconda/envs/azureml_py36/lib/python3.6/site-packages (from azureml-core~=1.37.0->azureml-sdk[automl]) (0.6.21)\nRequirement already satisfied, skipping upgrade: azure-core<1.21 in /anaconda/envs/azureml_py36/lib/python3.6/site-packages (from azureml-core~=1.37.0->azureml-sdk[automl]) (1.18.0)\nRequirement already satisfied, skipping upgrade: azure-mgmt-keyvault<10.0.0,>=0.40.0 in /anaconda/envs/azureml_py36/lib/python3.6/site-packages (from azureml-core~=1.37.0->azureml-sdk[automl]) (9.1.0)\nRequirement already satisfied, skipping upgrade: pytz in /anaconda/envs/azureml_py36/lib/python3.6/site-packages (from azureml-core~=1.37.0->azureml-sdk[automl]) (2021.1)\nRequirement already satisfied, skipping upgrade: jsonpickle<3.0.0 in /anaconda/envs/azureml_py36/lib/python3.6/site-packages (from azureml-core~=1.37.0->azureml-sdk[automl]) (2.0.0)\nRequirement already satisfied, skipping upgrade: pyopenssl<22.0.0 in /anaconda/envs/azureml_py36/lib/python3.6/site-packages (from azureml-core~=1.37.0->azureml-sdk[automl]) (20.0.1)\nRequirement already satisfied, skipping upgrade: pkginfo in /anaconda/envs/azureml_py36/lib/python3.6/site-packages (from azureml-core~=1.37.0->azureml-sdk[automl]) (1.7.1)\nRequirement already satisfied, skipping upgrade: msrestazure<=0.6.4,>=0.4.33 in /anaconda/envs/azureml_py36/lib/python3.6/site-packages (from azureml-core~=1.37.0->azureml-sdk[automl]) (0.6.4)\nRequirement already satisfied, skipping upgrade: knack~=0.8.2 in /anaconda/envs/azureml_py36/lib/python3.6/site-packages (from azureml-core~=1.37.0->azureml-sdk[automl]) (0.8.2)\nRequirement already satisfied, skipping upgrade: humanfriendly<10.0,>=4.7 in /anaconda/envs/azureml_py36/lib/python3.6/site-packages (from azureml-core~=1.37.0->azureml-sdk[automl]) (9.2)\nRequirement already satisfied, skipping upgrade: contextlib2<22.0.0 in /anaconda/envs/azureml_py36/lib/python3.6/site-packages (from azureml-core~=1.37.0->azureml-sdk[automl]) (21.6.0)\nRequirement already satisfied, skipping upgrade: adal<=1.2.7,>=1.2.0 in /anaconda/envs/azureml_py36/lib/python3.6/site-packages (from azureml-core~=1.37.0->azureml-sdk[automl]) (1.2.7)\nRequirement already satisfied, skipping upgrade: requests[socks]<3.0.0,>=2.19.1 in /anaconda/envs/azureml_py36/lib/python3.6/site-packages (from azureml-core~=1.37.0->azureml-sdk[automl]) (2.26.0)\nRequirement already satisfied, skipping upgrade: packaging<22.0 in /anaconda/envs/azureml_py36/lib/python3.6/site-packages (from azureml-core~=1.37.0->azureml-sdk[automl]) (21.0)\nRequirement already satisfied, skipping upgrade: urllib3<=1.26.7,>=1.23 in /anaconda/envs/azureml_py36/lib/python3.6/site-packages (from azureml-core~=1.37.0->azureml-sdk[automl]) (1.25.11)\nRequirement already satisfied, skipping upgrade: azure-graphrbac<1.0.0,>=0.40.0 in /anaconda/envs/azureml_py36/lib/python3.6/site-packages (from azureml-core~=1.37.0->azureml-sdk[automl]) (0.61.1)\nRequirement already satisfied, skipping upgrade: backports.tempfile in /anaconda/envs/azureml_py36/lib/python3.6/site-packages (from azureml-core~=1.37.0->azureml-sdk[automl]) (1.0)\nRequirement already satisfied, skipping upgrade: SecretStorage<4.0.0 in /anaconda/envs/azureml_py36/lib/python3.6/site-packages (from azureml-core~=1.37.0->azureml-sdk[automl]) (3.3.1)\nRequirement already satisfied, skipping upgrade: msal<2.0.0,>=1.15.0 in /anaconda/envs/azureml_py36/lib/python3.6/site-packages (from azureml-core~=1.37.0->azureml-sdk[automl]) (1.16.0)\nRequirement already satisfied, skipping upgrade: docker<6.0.0 in /anaconda/envs/azureml_py36/lib/python3.6/site-packages (from azureml-core~=1.37.0->azureml-sdk[automl]) (5.0.2)\nRequirement already satisfied, skipping upgrade: azure-mgmt-resource<20.0.0,>=15.0.0 in /anaconda/envs/azureml_py36/lib/python3.6/site-packages (from azureml-core~=1.37.0->azureml-sdk[automl]) (19.0.0)\nRequirement already satisfied, skipping upgrade: paramiko<3.0.0,>=2.0.8 in /anaconda/envs/azureml_py36/lib/python3.6/site-packages (from azureml-core~=1.37.0->azureml-sdk[automl]) (2.7.2)\nRequirement already satisfied, skipping upgrade: azureml-train-restclients-hyperdrive~=1.37.0 in /anaconda/envs/azureml_py36/lib/python3.6/site-packages (from azureml-train-core~=1.37.0->azureml-sdk[automl]) (1.37.0)\nRequirement already satisfied, skipping upgrade: azureml-train-automl-runtime~=1.37.0 in /anaconda/envs/azureml_py36/lib/python3.6/site-packages (from azureml-train-automl~=1.37.0; extra == \"automl\"->azureml-sdk[automl]) (1.37.0)\nRequirement already satisfied, skipping upgrade: azureml-automl-runtime~=1.37.0 in /anaconda/envs/azureml_py36/lib/python3.6/site-packages (from azureml-train-automl~=1.37.0; extra == \"automl\"->azureml-sdk[automl]) (1.37.0)\nRequirement already satisfied, skipping upgrade: applicationinsights in /anaconda/envs/azureml_py36/lib/python3.6/site-packages (from azureml-telemetry~=1.37.0->azureml-train-automl-client~=1.37.0->azureml-sdk[automl]) (0.11.10)\nRequirement already satisfied, skipping upgrade: azure-identity==1.7.0 in /anaconda/envs/azureml_py36/lib/python3.6/site-packages (from azureml-dataprep<2.26.0a,>=2.25.0a->azureml-dataset-runtime[fuse]~=1.37.0->azureml-sdk[automl]) (1.7.0)\nRequirement already satisfied, skipping upgrade: azureml-dataprep-native<39.0.0,>=38.0.0 in /anaconda/envs/azureml_py36/lib/python3.6/site-packages (from azureml-dataprep<2.26.0a,>=2.25.0a->azureml-dataset-runtime[fuse]~=1.37.0->azureml-sdk[automl]) (38.0.0)\nRequirement already satisfied, skipping upgrade: cloudpickle<2.0.0,>=1.1.0 in /anaconda/envs/azureml_py36/lib/python3.6/site-packages (from azureml-dataprep<2.26.0a,>=2.25.0a->azureml-dataset-runtime[fuse]~=1.37.0->azureml-sdk[automl]) (1.6.0)\nRequirement already satisfied, skipping upgrade: dotnetcore2<3.0.0,>=2.1.14 in /anaconda/envs/azureml_py36/lib/python3.6/site-packages (from azureml-dataprep<2.26.0a,>=2.25.0a->azureml-dataset-runtime[fuse]~=1.37.0->azureml-sdk[automl]) (2.1.21)\nRequirement already satisfied, skipping upgrade: azureml-dataprep-rslex~=2.1.0dev0 in /anaconda/envs/azureml_py36/lib/python3.6/site-packages (from azureml-dataprep<2.26.0a,>=2.25.0a->azureml-dataset-runtime[fuse]~=1.37.0->azureml-sdk[automl]) (2.1.0)\nRequirement already satisfied, skipping upgrade: pyasn1>=0.1.1 in /anaconda/envs/azureml_py36/lib/python3.6/site-packages (from ndg-httpsclient<=0.5.1->azureml-core~=1.37.0->azureml-sdk[automl]) (0.4.8)\nRequirement already satisfied, skipping upgrade: azure-mgmt-core<2.0.0,>=1.2.0 in /anaconda/envs/azureml_py36/lib/python3.6/site-packages (from azure-mgmt-containerregistry>=2.0.0->azureml-core~=1.37.0->azureml-sdk[automl]) (1.3.0)\nRequirement already satisfied, skipping upgrade: cffi>=1.12 in /anaconda/envs/azureml_py36/lib/python3.6/site-packages (from cryptography!=1.9,!=2.0.*,!=2.1.*,!=2.2.*,<4.0.0->azureml-core~=1.37.0->azureml-sdk[automl]) (1.14.6)\nRequirement already satisfied, skipping upgrade: importlib-metadata<5,>=0.23; python_version == \"3.6\" in /anaconda/envs/azureml_py36/lib/python3.6/site-packages (from argcomplete~=1.8->azureml-core~=1.37.0->azureml-sdk[automl]) (4.8.1)\nRequirement already satisfied, skipping upgrade: portalocker<3,>=1.0; python_version >= \"3.5\" and platform_system != \"Windows\" in /anaconda/envs/azureml_py36/lib/python3.6/site-packages (from msal-extensions<0.4,>=0.3.0->azureml-core~=1.37.0->azureml-sdk[automl]) (1.7.1)\nRequirement already satisfied, skipping upgrade: six>=1.5 in /anaconda/envs/azureml_py36/lib/python3.6/site-packages (from python-dateutil<3.0.0,>=2.7.3->azureml-core~=1.37.0->azureml-sdk[automl]) (1.16.0)\nRequirement already satisfied, skipping upgrade: certifi>=2017.4.17 in /anaconda/envs/azureml_py36/lib/python3.6/site-packages (from msrest<1.0.0,>=0.5.1->azureml-core~=1.37.0->azureml-sdk[automl]) (2021.5.30)\nRequirement already satisfied, skipping upgrade: requests-oauthlib>=0.5.0 in /anaconda/envs/azureml_py36/lib/python3.6/site-packages (from msrest<1.0.0,>=0.5.1->azureml-core~=1.37.0->azureml-sdk[automl]) (1.3.0)\nRequirement already satisfied, skipping upgrade: isodate>=0.6.0 in /anaconda/envs/azureml_py36/lib/python3.6/site-packages (from msrest<1.0.0,>=0.5.1->azureml-core~=1.37.0->azureml-sdk[automl]) (0.6.0)\nRequirement already satisfied, skipping upgrade: pygments in /anaconda/envs/azureml_py36/lib/python3.6/site-packages (from knack~=0.8.2->azureml-core~=1.37.0->azureml-sdk[automl]) (2.10.0)\nRequirement already satisfied, skipping upgrade: colorama in /anaconda/envs/azureml_py36/lib/python3.6/site-packages (from knack~=0.8.2->azureml-core~=1.37.0->azureml-sdk[automl]) (0.4.4)\nRequirement already satisfied, skipping upgrade: tabulate in /anaconda/envs/azureml_py36/lib/python3.6/site-packages (from knack~=0.8.2->azureml-core~=1.37.0->azureml-sdk[automl]) (0.8.9)\nRequirement already satisfied, skipping upgrade: pyyaml in /anaconda/envs/azureml_py36/lib/python3.6/site-packages (from knack~=0.8.2->azureml-core~=1.37.0->azureml-sdk[automl]) (5.4.1)\nRequirement already satisfied, skipping upgrade: idna<4,>=2.5; python_version >= \"3\" in /anaconda/envs/azureml_py36/lib/python3.6/site-packages (from requests[socks]<3.0.0,>=2.19.1->azureml-core~=1.37.0->azureml-sdk[automl]) (3.2)\nRequirement already satisfied, skipping upgrade: charset-normalizer~=2.0.0; python_version >= \"3\" in /anaconda/envs/azureml_py36/lib/python3.6/site-packages (from requests[socks]<3.0.0,>=2.19.1->azureml-core~=1.37.0->azureml-sdk[automl]) (2.0.4)\nRequirement already satisfied, skipping upgrade: PySocks!=1.5.7,>=1.5.6; extra == \"socks\" in /anaconda/envs/azureml_py36/lib/python3.6/site-packages (from requests[socks]<3.0.0,>=2.19.1->azureml-core~=1.37.0->azureml-sdk[automl]) (1.7.1)\nRequirement already satisfied, skipping upgrade: pyparsing>=2.0.2 in /anaconda/envs/azureml_py36/lib/python3.6/site-packages (from packaging<22.0->azureml-core~=1.37.0->azureml-sdk[automl]) (2.4.7)\nRequirement already satisfied, skipping upgrade: backports.weakref in /anaconda/envs/azureml_py36/lib/python3.6/site-packages (from backports.tempfile->azureml-core~=1.37.0->azureml-sdk[automl]) (1.0.post1)\nRequirement already satisfied, skipping upgrade: jeepney>=0.6 in /anaconda/envs/azureml_py36/lib/python3.6/site-packages (from SecretStorage<4.0.0->azureml-core~=1.37.0->azureml-sdk[automl]) (0.7.1)\nRequirement already satisfied, skipping upgrade: websocket-client>=0.32.0 in /anaconda/envs/azureml_py36/lib/python3.6/site-packages (from docker<6.0.0->azureml-core~=1.37.0->azureml-sdk[automl]) (1.2.1)\nRequirement already satisfied, skipping upgrade: pynacl>=1.0.1 in /anaconda/envs/azureml_py36/lib/python3.6/site-packages (from paramiko<3.0.0,>=2.0.8->azureml-core~=1.37.0->azureml-sdk[automl]) (1.4.0)\nRequirement already satisfied, skipping upgrade: bcrypt>=3.1.3 in /anaconda/envs/azureml_py36/lib/python3.6/site-packages (from paramiko<3.0.0,>=2.0.8->azureml-core~=1.37.0->azureml-sdk[automl]) (3.2.0)\nRequirement already satisfied, skipping upgrade: azureml-interpret~=1.37.0 in /anaconda/envs/azureml_py36/lib/python3.6/site-packages (from azureml-train-automl-runtime~=1.37.0->azureml-train-automl~=1.37.0; extra == \"automl\"->azureml-sdk[automl]) (1.37.0)\nRequirement already satisfied, skipping upgrade: pandas<1.0.0,>=0.21.0 in /anaconda/envs/azureml_py36/lib/python3.6/site-packages (from azureml-train-automl-runtime~=1.37.0->azureml-train-automl~=1.37.0; extra == \"automl\"->azureml-sdk[automl]) (0.25.3)\nRequirement already satisfied, skipping upgrade: scipy<=1.5.2,>=1.0.0 in /anaconda/envs/azureml_py36/lib/python3.6/site-packages (from azureml-train-automl-runtime~=1.37.0->azureml-train-automl~=1.37.0; extra == \"automl\"->azureml-sdk[automl]) (1.5.2)\nRequirement already satisfied, skipping upgrade: statsmodels<=0.10.2,>=0.9.0 in /anaconda/envs/azureml_py36/lib/python3.6/site-packages (from azureml-train-automl-runtime~=1.37.0->azureml-train-automl~=1.37.0; extra == \"automl\"->azureml-sdk[automl]) (0.10.2)\nRequirement already satisfied, skipping upgrade: scikit-learn<0.23.0,>=0.19.0 in /anaconda/envs/azureml_py36/lib/python3.6/site-packages (from azureml-train-automl-runtime~=1.37.0->azureml-train-automl~=1.37.0; extra == \"automl\"->azureml-sdk[automl]) (0.22.2.post1)\nRequirement already satisfied, skipping upgrade: gensim<3.9.0 in /anaconda/envs/azureml_py36/lib/python3.6/site-packages (from azureml-train-automl-runtime~=1.37.0->azureml-train-automl~=1.37.0; extra == \"automl\"->azureml-sdk[automl]) (3.8.3)\nRequirement already satisfied, skipping upgrade: keras2onnx<=1.6.0,>=1.4.0 in /anaconda/envs/azureml_py36/lib/python3.6/site-packages (from azureml-train-automl-runtime~=1.37.0->azureml-train-automl~=1.37.0; extra == \"automl\"->azureml-sdk[automl]) (1.6.0)\nRequirement already satisfied, skipping upgrade: jinja2<=2.11.2 in /anaconda/envs/azureml_py36/lib/python3.6/site-packages (from azureml-train-automl-runtime~=1.37.0->azureml-train-automl~=1.37.0; extra == \"automl\"->azureml-sdk[automl]) (2.11.2)\nRequirement already satisfied, skipping upgrade: onnxconverter-common<=1.6.0,>=1.4.2 in /anaconda/envs/azureml_py36/lib/python3.6/site-packages (from azureml-train-automl-runtime~=1.37.0->azureml-train-automl~=1.37.0; extra == \"automl\"->azureml-sdk[automl]) (1.6.0)\nRequirement already satisfied, skipping upgrade: onnx<=1.7.0,>=1.6.0 in /anaconda/envs/azureml_py36/lib/python3.6/site-packages (from azureml-train-automl-runtime~=1.37.0->azureml-train-automl~=1.37.0; extra == \"automl\"->azureml-sdk[automl]) (1.7.0)\nRequirement already satisfied, skipping upgrade: botocore<=1.23.19 in /anaconda/envs/azureml_py36/lib/python3.6/site-packages (from azureml-train-automl-runtime~=1.37.0->azureml-train-automl~=1.37.0; extra == \"automl\"->azureml-sdk[automl]) (1.18.18)\nRequirement already satisfied, skipping upgrade: azure-storage-queue~=12.1 in /anaconda/envs/azureml_py36/lib/python3.6/site-packages (from azureml-train-automl-runtime~=1.37.0->azureml-train-automl~=1.37.0; extra == \"automl\"->azureml-sdk[automl]) (12.1.6)\nRequirement already satisfied, skipping upgrade: boto3<=1.20.19 in /anaconda/envs/azureml_py36/lib/python3.6/site-packages (from azureml-train-automl-runtime~=1.37.0->azureml-train-automl~=1.37.0; extra == \"automl\"->azureml-sdk[automl]) (1.15.18)\nRequirement already satisfied, skipping upgrade: smart-open<=1.9.0 in /anaconda/envs/azureml_py36/lib/python3.6/site-packages (from azureml-train-automl-runtime~=1.37.0->azureml-train-automl~=1.37.0; extra == \"automl\"->azureml-sdk[automl]) (1.9.0)\nRequirement already satisfied, skipping upgrade: onnxruntime<=1.8.0,>=1.3.0 in /anaconda/envs/azureml_py36/lib/python3.6/site-packages (from azureml-train-automl-runtime~=1.37.0->azureml-train-automl~=1.37.0; extra == \"automl\"->azureml-sdk[automl]) (1.8.0)\nRequirement already satisfied, skipping upgrade: azureml-mlflow~=1.37.0 in /anaconda/envs/azureml_py36/lib/python3.6/site-packages (from azureml-train-automl-runtime~=1.37.0->azureml-train-automl~=1.37.0; extra == \"automl\"->azureml-sdk[automl]) (1.37.0)\nRequirement already satisfied, skipping upgrade: skl2onnx==1.4.9 in /anaconda/envs/azureml_py36/lib/python3.6/site-packages (from azureml-train-automl-runtime~=1.37.0->azureml-train-automl~=1.37.0; extra == \"automl\"->azureml-sdk[automl]) (1.4.9)\nRequirement already satisfied, skipping upgrade: sklearn-pandas<=1.7.0,>=1.4.0 in /anaconda/envs/azureml_py36/lib/python3.6/site-packages (from azureml-train-automl-runtime~=1.37.0->azureml-train-automl~=1.37.0; extra == \"automl\"->azureml-sdk[automl]) (1.7.0)\nRequirement already satisfied, skipping upgrade: distributed<=2.30.1 in /anaconda/envs/azureml_py36/lib/python3.6/site-packages (from azureml-train-automl-runtime~=1.37.0->azureml-train-automl~=1.37.0; extra == \"automl\"->azureml-sdk[automl]) (2.30.1)\nRequirement already satisfied, skipping upgrade: dask[complete]<=2.30.0 in /anaconda/envs/azureml_py36/lib/python3.6/site-packages (from azureml-train-automl-runtime~=1.37.0->azureml-train-automl~=1.37.0; extra == \"automl\"->azureml-sdk[automl]) (2.30.0)\nRequirement already satisfied, skipping upgrade: azureml-defaults~=1.37.0 in /anaconda/envs/azureml_py36/lib/python3.6/site-packages (from azureml-train-automl-runtime~=1.37.0->azureml-train-automl~=1.37.0; extra == \"automl\"->azureml-sdk[automl]) (1.37.0)\nRequirement already satisfied, skipping upgrade: onnxmltools==1.4.1 in /anaconda/envs/azureml_py36/lib/python3.6/site-packages (from azureml-train-automl-runtime~=1.37.0->azureml-train-automl~=1.37.0; extra == \"automl\"->azureml-sdk[automl]) (1.4.1)\nRequirement already satisfied, skipping upgrade: lightgbm<=2.3.0,>=2.0.11 in /anaconda/envs/azureml_py36/lib/python3.6/site-packages (from azureml-train-automl-runtime~=1.37.0->azureml-train-automl~=1.37.0; extra == \"automl\"->azureml-sdk[automl]) (2.3.0)\nRequirement already satisfied, skipping upgrade: dataclasses<=0.8,>=0.6 in /anaconda/envs/azureml_py36/lib/python3.6/site-packages (from azureml-automl-runtime~=1.37.0->azureml-train-automl~=1.37.0; extra == \"automl\"->azureml-sdk[automl]) (0.8)\nRequirement already satisfied, skipping upgrade: pmdarima==1.1.1 in /anaconda/envs/azureml_py36/lib/python3.6/site-packages (from azureml-automl-runtime~=1.37.0->azureml-train-automl~=1.37.0; extra == \"automl\"->azureml-sdk[automl]) (1.1.1)\nRequirement already satisfied, skipping upgrade: psutil<6.0.0,>=5.2.2 in /anaconda/envs/azureml_py36/lib/python3.6/site-packages (from azureml-automl-runtime~=1.37.0->azureml-train-automl~=1.37.0; extra == \"automl\"->azureml-sdk[automl]) (5.8.0)\nRequirement already satisfied, skipping upgrade: nimbusml<=1.8.0,>=1.7.1 in /anaconda/envs/azureml_py36/lib/python3.6/site-packages (from azureml-automl-runtime~=1.37.0->azureml-train-automl~=1.37.0; extra == \"automl\"->azureml-sdk[automl]) (1.8.0)\nRequirement already satisfied, skipping upgrade: joblib==0.14.1 in /anaconda/envs/azureml_py36/lib/python3.6/site-packages (from azureml-automl-runtime~=1.37.0->azureml-train-automl~=1.37.0; extra == \"automl\"->azureml-sdk[automl]) (0.14.1)\nRequirement already satisfied, skipping upgrade: dill<0.4.0,>=0.2.8 in /anaconda/envs/azureml_py36/lib/python3.6/site-packages (from azureml-automl-runtime~=1.37.0->azureml-train-automl~=1.37.0; extra == \"automl\"->azureml-sdk[automl]) (0.3.4)\nRequirement already satisfied, skipping upgrade: distro>=1.2.0 in /anaconda/envs/azureml_py36/lib/python3.6/site-packages (from dotnetcore2<3.0.0,>=2.1.14->azureml-dataprep<2.26.0a,>=2.25.0a->azureml-dataset-runtime[fuse]~=1.37.0->azureml-sdk[automl]) (1.6.0)\nRequirement already satisfied, skipping upgrade: pycparser in /anaconda/envs/azureml_py36/lib/python3.6/site-packages (from cffi>=1.12->cryptography!=1.9,!=2.0.*,!=2.1.*,!=2.2.*,<4.0.0->azureml-core~=1.37.0->azureml-sdk[automl]) (2.20)\nRequirement already satisfied, skipping upgrade: typing-extensions>=3.6.4; python_version < \"3.8\" in /anaconda/envs/azureml_py36/lib/python3.6/site-packages (from importlib-metadata<5,>=0.23; python_version == \"3.6\"->argcomplete~=1.8->azureml-core~=1.37.0->azureml-sdk[automl]) (3.10.0.2)\nRequirement already satisfied, skipping upgrade: zipp>=0.5 in /anaconda/envs/azureml_py36/lib/python3.6/site-packages (from importlib-metadata<5,>=0.23; python_version == \"3.6\"->argcomplete~=1.8->azureml-core~=1.37.0->azureml-sdk[automl]) (3.5.0)\nRequirement already satisfied, skipping upgrade: oauthlib>=3.0.0 in /anaconda/envs/azureml_py36/lib/python3.6/site-packages (from requests-oauthlib>=0.5.0->msrest<1.0.0,>=0.5.1->azureml-core~=1.37.0->azureml-sdk[automl]) (3.1.1)\nRequirement already satisfied, skipping upgrade: shap<0.40.0 in /anaconda/envs/azureml_py36/lib/python3.6/site-packages (from azureml-interpret~=1.37.0->azureml-train-automl-runtime~=1.37.0->azureml-train-automl~=1.37.0; extra == \"automl\"->azureml-sdk[automl]) (0.39.0)\nRequirement already satisfied, skipping upgrade: interpret-community==0.22.* in /anaconda/envs/azureml_py36/lib/python3.6/site-packages (from azureml-interpret~=1.37.0->azureml-train-automl-runtime~=1.37.0->azureml-train-automl~=1.37.0; extra == \"automl\"->azureml-sdk[automl]) (0.22.0)\nRequirement already satisfied, skipping upgrade: numba<0.54.0 in /anaconda/envs/azureml_py36/lib/python3.6/site-packages (from azureml-interpret~=1.37.0->azureml-train-automl-runtime~=1.37.0->azureml-train-automl~=1.37.0; extra == \"automl\"->azureml-sdk[automl]) (0.53.1)\nRequirement already satisfied, skipping upgrade: patsy>=0.4.0 in /anaconda/envs/azureml_py36/lib/python3.6/site-packages (from statsmodels<=0.10.2,>=0.9.0->azureml-train-automl-runtime~=1.37.0->azureml-train-automl~=1.37.0; extra == \"automl\"->azureml-sdk[automl]) (0.5.1)\nRequirement already satisfied, skipping upgrade: fire in /anaconda/envs/azureml_py36/lib/python3.6/site-packages (from keras2onnx<=1.6.0,>=1.4.0->azureml-train-automl-runtime~=1.37.0->azureml-train-automl~=1.37.0; extra == \"automl\"->azureml-sdk[automl]) (0.4.0)\nRequirement already satisfied, skipping upgrade: protobuf in /anaconda/envs/azureml_py36/lib/python3.6/site-packages (from keras2onnx<=1.6.0,>=1.4.0->azureml-train-automl-runtime~=1.37.0->azureml-train-automl~=1.37.0; extra == \"automl\"->azureml-sdk[automl]) (3.17.3)\nRequirement already satisfied, skipping upgrade: MarkupSafe>=0.23 in /anaconda/envs/azureml_py36/lib/python3.6/site-packages (from jinja2<=2.11.2->azureml-train-automl-runtime~=1.37.0->azureml-train-automl~=1.37.0; extra == \"automl\"->azureml-sdk[automl]) (2.0.1)\nRequirement already satisfied, skipping upgrade: s3transfer<0.4.0,>=0.3.0 in /anaconda/envs/azureml_py36/lib/python3.6/site-packages (from boto3<=1.20.19->azureml-train-automl-runtime~=1.37.0->azureml-train-automl~=1.37.0; extra == \"automl\"->azureml-sdk[automl]) (0.3.7)\nRequirement already satisfied, skipping upgrade: boto>=2.32 in /anaconda/envs/azureml_py36/lib/python3.6/site-packages (from smart-open<=1.9.0->azureml-train-automl-runtime~=1.37.0->azureml-train-automl~=1.37.0; extra == \"automl\"->azureml-sdk[automl]) (2.49.0)\nRequirement already satisfied, skipping upgrade: flatbuffers in /anaconda/envs/azureml_py36/lib/python3.6/site-packages (from onnxruntime<=1.8.0,>=1.3.0->azureml-train-automl-runtime~=1.37.0->azureml-train-automl~=1.37.0; extra == \"automl\"->azureml-sdk[automl]) (2.0)\nRequirement already satisfied, skipping upgrade: mlflow-skinny in /anaconda/envs/azureml_py36/lib/python3.6/site-packages (from azureml-mlflow~=1.37.0->azureml-train-automl-runtime~=1.37.0->azureml-train-automl~=1.37.0; extra == \"automl\"->azureml-sdk[automl]) (1.20.2)\nRequirement already satisfied, skipping upgrade: toolz>=0.8.2 in /anaconda/envs/azureml_py36/lib/python3.6/site-packages (from distributed<=2.30.1->azureml-train-automl-runtime~=1.37.0->azureml-train-automl~=1.37.0; extra == \"automl\"->azureml-sdk[automl]) (0.11.1)\nRequirement already satisfied, skipping upgrade: contextvars; python_version < \"3.7\" in /anaconda/envs/azureml_py36/lib/python3.6/site-packages (from distributed<=2.30.1->azureml-train-automl-runtime~=1.37.0->azureml-train-automl~=1.37.0; extra == \"automl\"->azureml-sdk[automl]) (2.4)\nRequirement already satisfied, skipping upgrade: setuptools in /anaconda/envs/azureml_py36/lib/python3.6/site-packages (from distributed<=2.30.1->azureml-train-automl-runtime~=1.37.0->azureml-train-automl~=1.37.0; extra == \"automl\"->azureml-sdk[automl]) (50.3.0)\nRequirement already satisfied, skipping upgrade: click>=6.6 in /anaconda/envs/azureml_py36/lib/python3.6/site-packages (from distributed<=2.30.1->azureml-train-automl-runtime~=1.37.0->azureml-train-automl~=1.37.0; extra == \"automl\"->azureml-sdk[automl]) (8.0.1)\nRequirement already satisfied, skipping upgrade: msgpack>=0.6.0 in /anaconda/envs/azureml_py36/lib/python3.6/site-packages (from distributed<=2.30.1->azureml-train-automl-runtime~=1.37.0->azureml-train-automl~=1.37.0; extra == \"automl\"->azureml-sdk[automl]) (1.0.2)\nRequirement already satisfied, skipping upgrade: sortedcontainers!=2.0.0,!=2.0.1 in /anaconda/envs/azureml_py36/lib/python3.6/site-packages (from distributed<=2.30.1->azureml-train-automl-runtime~=1.37.0->azureml-train-automl~=1.37.0; extra == \"automl\"->azureml-sdk[automl]) (2.4.0)\nRequirement already satisfied, skipping upgrade: tblib>=1.6.0 in /anaconda/envs/azureml_py36/lib/python3.6/site-packages (from distributed<=2.30.1->azureml-train-automl-runtime~=1.37.0->azureml-train-automl~=1.37.0; extra == \"automl\"->azureml-sdk[automl]) (1.7.0)\nRequirement already satisfied, skipping upgrade: zict>=0.1.3 in /anaconda/envs/azureml_py36/lib/python3.6/site-packages (from distributed<=2.30.1->azureml-train-automl-runtime~=1.37.0->azureml-train-automl~=1.37.0; extra == \"automl\"->azureml-sdk[automl]) (2.0.0)\nRequirement already satisfied, skipping upgrade: tornado>=5; python_version < \"3.8\" in /anaconda/envs/azureml_py36/lib/python3.6/site-packages (from distributed<=2.30.1->azureml-train-automl-runtime~=1.37.0->azureml-train-automl~=1.37.0; extra == \"automl\"->azureml-sdk[automl]) (6.1)\nRequirement already satisfied, skipping upgrade: bokeh!=2.0.0,>=1.0.0; extra == \"complete\" in /anaconda/envs/azureml_py36/lib/python3.6/site-packages (from dask[complete]<=2.30.0->azureml-train-automl-runtime~=1.37.0->azureml-train-automl~=1.37.0; extra == \"automl\"->azureml-sdk[automl]) (2.3.3)\nRequirement already satisfied, skipping upgrade: fsspec>=0.6.0; extra == \"complete\" in /anaconda/envs/azureml_py36/lib/python3.6/site-packages (from dask[complete]<=2.30.0->azureml-train-automl-runtime~=1.37.0->azureml-train-automl~=1.37.0; extra == \"automl\"->azureml-sdk[automl]) (2021.8.1)\nRequirement already satisfied, skipping upgrade: partd>=0.3.10; extra == \"complete\" in /anaconda/envs/azureml_py36/lib/python3.6/site-packages (from dask[complete]<=2.30.0->azureml-train-automl-runtime~=1.37.0->azureml-train-automl~=1.37.0; extra == \"automl\"->azureml-sdk[automl]) (1.2.0)\nRequirement already satisfied, skipping upgrade: azureml-inference-server-http~=0.4.1 in /anaconda/envs/azureml_py36/lib/python3.6/site-packages (from azureml-defaults~=1.37.0->azureml-train-automl-runtime~=1.37.0->azureml-train-automl~=1.37.0; extra == \"automl\"->azureml-sdk[automl]) (0.4.2)\nRequirement already satisfied, skipping upgrade: configparser==3.7.4 in /anaconda/envs/azureml_py36/lib/python3.6/site-packages (from azureml-defaults~=1.37.0->azureml-train-automl-runtime~=1.37.0->azureml-train-automl~=1.37.0; extra == \"automl\"->azureml-sdk[automl]) (3.7.4)\nRequirement already satisfied, skipping upgrade: json-logging-py==0.2 in /anaconda/envs/azureml_py36/lib/python3.6/site-packages (from azureml-defaults~=1.37.0->azureml-train-automl-runtime~=1.37.0->azureml-train-automl~=1.37.0; extra == \"automl\"->azureml-sdk[automl]) (0.2)\nRequirement already satisfied, skipping upgrade: Cython>=0.29 in /anaconda/envs/azureml_py36/lib/python3.6/site-packages (from pmdarima==1.1.1->azureml-automl-runtime~=1.37.0->azureml-train-automl~=1.37.0; extra == \"automl\"->azureml-sdk[automl]) (0.29.24)\nRequirement already satisfied, skipping upgrade: slicer==0.0.7 in /anaconda/envs/azureml_py36/lib/python3.6/site-packages (from shap<0.40.0->azureml-interpret~=1.37.0->azureml-train-automl-runtime~=1.37.0->azureml-train-automl~=1.37.0; extra == \"automl\"->azureml-sdk[automl]) (0.0.7)\nRequirement already satisfied, skipping upgrade: tqdm>4.25.0 in /anaconda/envs/azureml_py36/lib/python3.6/site-packages (from shap<0.40.0->azureml-interpret~=1.37.0->azureml-train-automl-runtime~=1.37.0->azureml-train-automl~=1.37.0; extra == \"automl\"->azureml-sdk[automl]) (4.62.2)\nRequirement already satisfied, skipping upgrade: interpret-core[required]<=0.2.7,>=0.1.20 in /anaconda/envs/azureml_py36/lib/python3.6/site-packages (from interpret-community==0.22.*->azureml-interpret~=1.37.0->azureml-train-automl-runtime~=1.37.0->azureml-train-automl~=1.37.0; extra == \"automl\"->azureml-sdk[automl]) (0.2.5)\nRequirement already satisfied, skipping upgrade: llvmlite<0.37,>=0.36.0rc1 in /anaconda/envs/azureml_py36/lib/python3.6/site-packages (from numba<0.54.0->azureml-interpret~=1.37.0->azureml-train-automl-runtime~=1.37.0->azureml-train-automl~=1.37.0; extra == \"automl\"->azureml-sdk[automl]) (0.36.0)\nRequirement already satisfied, skipping upgrade: termcolor in /anaconda/envs/azureml_py36/lib/python3.6/site-packages (from fire->keras2onnx<=1.6.0,>=1.4.0->azureml-train-automl-runtime~=1.37.0->azureml-train-automl~=1.37.0; extra == \"automl\"->azureml-sdk[automl]) (1.1.0)\nRequirement already satisfied, skipping upgrade: entrypoints in /anaconda/envs/azureml_py36/lib/python3.6/site-packages (from mlflow-skinny->azureml-mlflow~=1.37.0->azureml-train-automl-runtime~=1.37.0->azureml-train-automl~=1.37.0; extra == \"automl\"->azureml-sdk[automl]) (0.3)\nRequirement already satisfied, skipping upgrade: databricks-cli>=0.8.7 in /anaconda/envs/azureml_py36/lib/python3.6/site-packages (from mlflow-skinny->azureml-mlflow~=1.37.0->azureml-train-automl-runtime~=1.37.0->azureml-train-automl~=1.37.0; extra == \"automl\"->azureml-sdk[automl]) (0.15.0)\nRequirement already satisfied, skipping upgrade: gitpython>=2.1.0 in /anaconda/envs/azureml_py36/lib/python3.6/site-packages (from mlflow-skinny->azureml-mlflow~=1.37.0->azureml-train-automl-runtime~=1.37.0->azureml-train-automl~=1.37.0; extra == \"automl\"->azureml-sdk[automl]) (3.1.18)\nRequirement already satisfied, skipping upgrade: immutables>=0.9 in /anaconda/envs/azureml_py36/lib/python3.6/site-packages (from contextvars; python_version < \"3.7\"->distributed<=2.30.1->azureml-train-automl-runtime~=1.37.0->azureml-train-automl~=1.37.0; extra == \"automl\"->azureml-sdk[automl]) (0.16)\nRequirement already satisfied, skipping upgrade: heapdict in /anaconda/envs/azureml_py36/lib/python3.6/site-packages (from zict>=0.1.3->distributed<=2.30.1->azureml-train-automl-runtime~=1.37.0->azureml-train-automl~=1.37.0; extra == \"automl\"->azureml-sdk[automl]) (1.0.1)\nRequirement already satisfied, skipping upgrade: pillow>=7.1.0 in /anaconda/envs/azureml_py36/lib/python3.6/site-packages (from bokeh!=2.0.0,>=1.0.0; extra == \"complete\"->dask[complete]<=2.30.0->azureml-train-automl-runtime~=1.37.0->azureml-train-automl~=1.37.0; extra == \"automl\"->azureml-sdk[automl]) (8.0.0)\nRequirement already satisfied, skipping upgrade: locket in /anaconda/envs/azureml_py36/lib/python3.6/site-packages (from partd>=0.3.10; extra == \"complete\"->dask[complete]<=2.30.0->azureml-train-automl-runtime~=1.37.0->azureml-train-automl~=1.37.0; extra == \"automl\"->azureml-sdk[automl]) (0.2.1)\nRequirement already satisfied, skipping upgrade: gunicorn==20.1.0; platform_system != \"Windows\" in /anaconda/envs/azureml_py36/lib/python3.6/site-packages (from azureml-inference-server-http~=0.4.1->azureml-defaults~=1.37.0->azureml-train-automl-runtime~=1.37.0->azureml-train-automl~=1.37.0; extra == \"automl\"->azureml-sdk[automl]) (20.1.0)\nRequirement already satisfied, skipping upgrade: flask==1.0.3 in /anaconda/envs/azureml_py36/lib/python3.6/site-packages (from azureml-inference-server-http~=0.4.1->azureml-defaults~=1.37.0->azureml-train-automl-runtime~=1.37.0->azureml-train-automl~=1.37.0; extra == \"automl\"->azureml-sdk[automl]) (1.0.3)\nRequirement already satisfied, skipping upgrade: inference-schema==1.3.0 in /anaconda/envs/azureml_py36/lib/python3.6/site-packages (from azureml-inference-server-http~=0.4.1->azureml-defaults~=1.37.0->azureml-train-automl-runtime~=1.37.0->azureml-train-automl~=1.37.0; extra == \"automl\"->azureml-sdk[automl]) (1.3.0)\nRequirement already satisfied, skipping upgrade: gitdb<5,>=4.0.1 in /anaconda/envs/azureml_py36/lib/python3.6/site-packages (from gitpython>=2.1.0->mlflow-skinny->azureml-mlflow~=1.37.0->azureml-train-automl-runtime~=1.37.0->azureml-train-automl~=1.37.0; extra == \"automl\"->azureml-sdk[automl]) (4.0.7)\nRequirement already satisfied, skipping upgrade: itsdangerous>=0.24 in /anaconda/envs/azureml_py36/lib/python3.6/site-packages (from flask==1.0.3->azureml-inference-server-http~=0.4.1->azureml-defaults~=1.37.0->azureml-train-automl-runtime~=1.37.0->azureml-train-automl~=1.37.0; extra == \"automl\"->azureml-sdk[automl]) (2.0.1)\nRequirement already satisfied, skipping upgrade: Werkzeug>=0.14 in /anaconda/envs/azureml_py36/lib/python3.6/site-packages (from flask==1.0.3->azureml-inference-server-http~=0.4.1->azureml-defaults~=1.37.0->azureml-train-automl-runtime~=1.37.0->azureml-train-automl~=1.37.0; extra == \"automl\"->azureml-sdk[automl]) (1.0.1)\nRequirement already satisfied, skipping upgrade: wrapt<=1.12.1,>=1.11.1 in /anaconda/envs/azureml_py36/lib/python3.6/site-packages (from inference-schema==1.3.0->azureml-inference-server-http~=0.4.1->azureml-defaults~=1.37.0->azureml-train-automl-runtime~=1.37.0->azureml-train-automl~=1.37.0; extra == \"automl\"->azureml-sdk[automl]) (1.11.1)\nRequirement already satisfied, skipping upgrade: smmap<5,>=3.0.1 in /anaconda/envs/azureml_py36/lib/python3.6/site-packages (from gitdb<5,>=4.0.1->gitpython>=2.1.0->mlflow-skinny->azureml-mlflow~=1.37.0->azureml-train-automl-runtime~=1.37.0->azureml-train-automl~=1.37.0; extra == \"automl\"->azureml-sdk[automl]) (4.0.0)\n"
        }
      ],
      "execution_count": 1,
      "metadata": {
        "gather": {
          "logged": 1639423920232
        },
        "jupyter": {
          "outputs_hidden": false,
          "source_hidden": false
        },
        "nteract": {
          "transient": {
            "deleting": false
          }
        }
      }
    },
    {
      "cell_type": "code",
      "source": [
        "from azureml.core import Workspace, Experiment\n",
        "from azureml.core.compute import ComputeTarget, AmlCompute\n",
        "from azureml.core.compute_target import ComputeTargetException\n",
        "from azureml.widgets import RunDetails\n",
        "from azureml.data.dataset_factory import TabularDatasetFactory\n",
        "from azureml.train.automl import AutoMLConfig\n",
        "from azureml.core.dataset import Dataset\n",
        "from azureml.core import Datastore\n",
        "import joblib\n",
        "from pprint import pprint\n",
        "import requests\n",
        "import json\n",
        "import pandas as pd\n",
        "from azureml.core import Model\n",
        "from azureml.core.resource_configuration import ResourceConfiguration\n",
        "from azureml.core import Environment\n",
        "from azureml.core.conda_dependencies import CondaDependencies\n",
        "from azureml.core.model import InferenceConfig\n",
        "from azureml.core.webservice import AciWebservice\n",
        "\n"
      ],
      "outputs": [],
      "execution_count": 2,
      "metadata": {
        "gather": {
          "logged": 1639424131061
        }
      }
    },
    {
      "cell_type": "markdown",
      "source": [
        "## Dataset\n",
        "\n",
        "### Overview\n",
        "\n",
        "We are going to configure our workspace so we can register our dataset and create a compute cluster for the AutoML training and deployment of our model.\n",
        "\n",
        "The dataset we will be using is the \"Heart failure prediction dataset\" from Kaggle (https://www.kaggle.com/fedesoriano/heart-failure-prediction). This dataset tries to help in the early detection of severe heart diseases by studying the way several health indicators affect the occurrence of such diseases. This dataset is a combination of 5 different datasets about this kind of diseases (more information in the Kaggle url provided earlier). \n",
        "\n",
        "A copy of the dataset is provided in the Github repository but it is also possible to access it by an url."
      ],
      "metadata": {}
    },
    {
      "cell_type": "code",
      "source": [
        "ws = Workspace.from_config()\n",
        "\n",
        "# choose a name for experiment\n",
        "experiment_name = 'Udacitycapsproject'\n",
        "\n",
        "experiment=Experiment(ws, experiment_name)\n",
        "\n",
        "print('Workspace name: ' + ws.name, \n",
        "      'Azure region: ' + ws.location, \n",
        "      'Subscription id: ' + ws.subscription_id, \n",
        "      'Resource group: ' + ws.resource_group, sep = '\\n')\n",
        "\n",
        "run = experiment.start_logging()"
      ],
      "outputs": [
        {
          "output_type": "stream",
          "name": "stdout",
          "text": "Workspace name: quick-starts-ws-165696\nAzure region: southcentralus\nSubscription id: 510b94ba-e453-4417-988b-fbdc37b55ca7\nResource group: aml-quickstarts-165696\n"
        }
      ],
      "execution_count": 3,
      "metadata": {
        "gather": {
          "logged": 1639424144559
        },
        "jupyter": {
          "outputs_hidden": false,
          "source_hidden": false
        },
        "nteract": {
          "transient": {
            "deleting": false
          }
        }
      }
    },
    {
      "cell_type": "code",
      "source": [
        "cluster_name=\"udacityprojclust\"\n",
        "\n",
        "try:\n",
        "    cpu_cluster = ComputeTarget(workspace=ws, name=cluster_name)\n",
        "    print('cpu cluster already exist. Using it.')\n",
        "except ComputeTargetException:\n",
        "\n",
        "    compute_config = AmlCompute.provisioning_configuration(vm_size='Standard_D2_V2', max_nodes=6)\n",
        "    cpu_cluster = ComputeTarget.create(ws, cluster_name, compute_config)\n",
        "\n",
        "cpu_cluster.wait_for_completion(show_output=True)"
      ],
      "outputs": [
        {
          "output_type": "stream",
          "name": "stdout",
          "text": "cpu cluster already exist. Using it.\nSucceeded\nAmlCompute wait for completion finished\n\nMinimum number of nodes requested have been provisioned\n"
        }
      ],
      "execution_count": 4,
      "metadata": {
        "gather": {
          "logged": 1639424149772
        }
      }
    },
    {
      "cell_type": "code",
      "source": [
        "data = pd.read_csv('./heart.csv')\n",
        "datastore = Datastore.get(ws, 'workspaceblobstore')\n",
        "\n",
        "dataset = TabularDatasetFactory.register_pandas_dataframe(data, target=datastore, name='udacitycapsprojdata')"
      ],
      "outputs": [
        {
          "output_type": "stream",
          "name": "stdout",
          "text": "Validating arguments.\nArguments validated.\nSuccessfully obtained datastore reference and path.\nUploading file to managed-dataset/1d6c2524-bb8f-4fe2-bd43-63f8fe0e26dd/\nSuccessfully uploaded file to datastore.\nCreating and registering a new dataset.\nSuccessfully created and registered a new dataset.\n"
        }
      ],
      "execution_count": 5,
      "metadata": {
        "gather": {
          "logged": 1639424159380
        }
      }
    },
    {
      "cell_type": "markdown",
      "source": [
        "## AutoML Configuration\n",
        "\n",
        "The task we need to develop with AutoML is a classification, we will be using a yes or no label in the dataset that is 'HeartDisease'. With the settings we try to define the AutoML work to give the best results but optimizing the resource consumption. So we have selected AUC metric to handle in the best possible way if there are some imbalance in the dataset and we also generate a number of 5 folds to assure a proper evaluation of the model, we have also enabled an early stopping policy and fixed the experiment timeout to optimize the use of the compute cluster. "
      ],
      "metadata": {}
    },
    {
      "cell_type": "code",
      "source": [
        "# automl settings\n",
        "automl_settings = {\n",
        "       \"n_cross_validations\": 5,\n",
        "       \"primary_metric\": 'AUC_weighted',\n",
        "       \"enable_early_stopping\": True,\n",
        "       \"experiment_timeout_hours\": 1.0,\n",
        "       \"iterations\" : 10,\n",
        "       \"max_concurrent_iterations\": 5,\n",
        "       \"max_cores_per_iteration\": -1,\n",
        "       \"enable_onnx_compatible_models\": True,\n",
        "       \"blocked_models\": ['XGBoostClassifier'],\n",
        "       \"verbosity\": logging.INFO}\n",
        "\n",
        "# automl config\n",
        "automl_config = AutoMLConfig(task = 'classification',\n",
        "                               compute_target = cluster_name,\n",
        "                               training_data = dataset,\n",
        "                               label_column_name = 'HeartDisease',\n",
        "                               **automl_settings)"
      ],
      "outputs": [],
      "execution_count": 10,
      "metadata": {
        "gather": {
          "logged": 1639424239154
        },
        "jupyter": {
          "outputs_hidden": false,
          "source_hidden": false
        },
        "nteract": {
          "transient": {
            "deleting": false
          }
        }
      }
    },
    {
      "cell_type": "code",
      "source": [
        "# Submit the AutoML experiment\n",
        "remote_run = experiment.submit(automl_config)"
      ],
      "outputs": [
        {
          "output_type": "stream",
          "name": "stdout",
          "text": "Submitting remote run.\n"
        },
        {
          "output_type": "display_data",
          "data": {
            "text/plain": "<IPython.core.display.HTML object>",
            "text/html": "<table style=\"width:100%\"><tr><th>Experiment</th><th>Id</th><th>Type</th><th>Status</th><th>Details Page</th><th>Docs Page</th></tr><tr><td>Udacitycapsproject</td><td>AutoML_5ef33721-db6f-4111-bef6-d38ac72da5bd</td><td>automl</td><td>NotStarted</td><td><a href=\"https://ml.azure.com/runs/AutoML_5ef33721-db6f-4111-bef6-d38ac72da5bd?wsid=/subscriptions/510b94ba-e453-4417-988b-fbdc37b55ca7/resourcegroups/aml-quickstarts-165696/workspaces/quick-starts-ws-165696&amp;tid=660b3398-b80e-49d2-bc5b-ac1dc93b5254\" target=\"_blank\" rel=\"noopener\">Link to Azure Machine Learning studio</a></td><td><a href=\"https://docs.microsoft.com/en-us/python/api/overview/azure/ml/intro?view=azure-ml-py\" target=\"_blank\" rel=\"noopener\">Link to Documentation</a></td></tr></table>"
          },
          "metadata": {}
        }
      ],
      "execution_count": 11,
      "metadata": {
        "gather": {
          "logged": 1639424249114
        },
        "jupyter": {
          "outputs_hidden": false,
          "source_hidden": false
        },
        "nteract": {
          "transient": {
            "deleting": false
          }
        }
      }
    },
    {
      "cell_type": "markdown",
      "source": [
        "## Run Details\n",
        "\n",
        "TODO: In the cell below, use the `RunDetails` widget to show the different experiments."
      ],
      "metadata": {}
    },
    {
      "cell_type": "code",
      "source": [
        "RunDetails(remote_run).show()"
      ],
      "outputs": [
        {
          "output_type": "display_data",
          "data": {
            "text/plain": "_AutoMLWidget(widget_settings={'childWidgetDisplay': 'popup', 'send_telemetry': False, 'log_level': 'INFO', 's…",
            "application/vnd.jupyter.widget-view+json": {
              "version_major": 2,
              "version_minor": 0,
              "model_id": "0676dc56ae1d433d8cadbafcbc402c93"
            }
          },
          "metadata": {}
        },
        {
          "output_type": "display_data",
          "data": {
            "application/aml.mini.widget.v1": "{\"status\": \"Completed\", \"workbench_run_details_uri\": \"https://ml.azure.com/runs/AutoML_5ef33721-db6f-4111-bef6-d38ac72da5bd?wsid=/subscriptions/510b94ba-e453-4417-988b-fbdc37b55ca7/resourcegroups/aml-quickstarts-165696/workspaces/quick-starts-ws-165696&tid=660b3398-b80e-49d2-bc5b-ac1dc93b5254\", \"run_id\": \"AutoML_5ef33721-db6f-4111-bef6-d38ac72da5bd\", \"run_properties\": {\"run_id\": \"AutoML_5ef33721-db6f-4111-bef6-d38ac72da5bd\", \"created_utc\": \"2021-12-13T19:37:24.817131Z\", \"properties\": {\"num_iterations\": \"10\", \"training_type\": \"TrainFull\", \"acquisition_function\": \"EI\", \"primary_metric\": \"AUC_weighted\", \"train_split\": \"0\", \"acquisition_parameter\": \"0\", \"num_cross_validation\": \"5\", \"target\": \"udacityprojclust\", \"AMLSettingsJsonString\": \"{\\\"path\\\":null,\\\"name\\\":\\\"Udacitycapsproject\\\",\\\"subscription_id\\\":\\\"510b94ba-e453-4417-988b-fbdc37b55ca7\\\",\\\"resource_group\\\":\\\"aml-quickstarts-165696\\\",\\\"workspace_name\\\":\\\"quick-starts-ws-165696\\\",\\\"region\\\":\\\"southcentralus\\\",\\\"compute_target\\\":\\\"udacityprojclust\\\",\\\"spark_service\\\":null,\\\"azure_service\\\":\\\"remote\\\",\\\"many_models\\\":false,\\\"pipeline_fetch_max_batch_size\\\":1,\\\"enable_batch_run\\\":false,\\\"enable_run_restructure\\\":false,\\\"start_auxiliary_runs_before_parent_complete\\\":false,\\\"enable_code_generation\\\":false,\\\"iterations\\\":10,\\\"primary_metric\\\":\\\"AUC_weighted\\\",\\\"task_type\\\":\\\"classification\\\",\\\"positive_label\\\":null,\\\"data_script\\\":null,\\\"test_size\\\":0.0,\\\"test_include_predictions_only\\\":false,\\\"validation_size\\\":0.0,\\\"n_cross_validations\\\":5,\\\"y_min\\\":null,\\\"y_max\\\":null,\\\"num_classes\\\":null,\\\"featurization\\\":\\\"auto\\\",\\\"_ignore_package_version_incompatibilities\\\":false,\\\"is_timeseries\\\":false,\\\"max_cores_per_iteration\\\":-1,\\\"max_concurrent_iterations\\\":5,\\\"iteration_timeout_minutes\\\":null,\\\"mem_in_mb\\\":null,\\\"enforce_time_on_windows\\\":false,\\\"experiment_timeout_minutes\\\":60,\\\"experiment_exit_score\\\":null,\\\"whitelist_models\\\":null,\\\"blacklist_algos\\\":[\\\"XGBoostClassifier\\\",\\\"TensorFlowLinearClassifier\\\",\\\"TensorFlowDNN\\\"],\\\"supported_models\\\":[\\\"LogisticRegression\\\",\\\"DecisionTree\\\",\\\"SGD\\\",\\\"RandomForest\\\",\\\"BernoulliNaiveBayes\\\",\\\"ExtremeRandomTrees\\\",\\\"AveragedPerceptronClassifier\\\",\\\"TensorFlowLinearClassifier\\\",\\\"GradientBoosting\\\",\\\"KNN\\\",\\\"TensorFlowDNN\\\",\\\"LightGBM\\\",\\\"MultinomialNaiveBayes\\\",\\\"XGBoostClassifier\\\",\\\"SVM\\\",\\\"LinearSVM\\\"],\\\"private_models\\\":[\\\"TabnetClassifier\\\"],\\\"auto_blacklist\\\":true,\\\"blacklist_samples_reached\\\":false,\\\"exclude_nan_labels\\\":true,\\\"verbosity\\\":20,\\\"_debug_log\\\":\\\"azureml_automl.log\\\",\\\"show_warnings\\\":false,\\\"model_explainability\\\":true,\\\"service_url\\\":null,\\\"sdk_url\\\":null,\\\"sdk_packages\\\":null,\\\"enable_onnx_compatible_models\\\":true,\\\"enable_split_onnx_featurizer_estimator_models\\\":false,\\\"vm_type\\\":\\\"STANDARD_D2_V2\\\",\\\"telemetry_verbosity\\\":20,\\\"send_telemetry\\\":true,\\\"enable_dnn\\\":false,\\\"scenario\\\":\\\"SDK-1.13.0\\\",\\\"environment_label\\\":null,\\\"save_mlflow\\\":false,\\\"enable_categorical_indicators\\\":false,\\\"force_text_dnn\\\":false,\\\"enable_feature_sweeping\\\":false,\\\"enable_early_stopping\\\":true,\\\"early_stopping_n_iters\\\":10,\\\"arguments\\\":null,\\\"dataset_id\\\":null,\\\"hyperdrive_config\\\":null,\\\"validation_dataset_id\\\":null,\\\"run_source\\\":null,\\\"metrics\\\":null,\\\"enable_metric_confidence\\\":false,\\\"enable_ensembling\\\":true,\\\"enable_stack_ensembling\\\":false,\\\"ensemble_iterations\\\":10,\\\"enable_tf\\\":false,\\\"enable_subsampling\\\":false,\\\"subsample_seed\\\":null,\\\"enable_nimbusml\\\":false,\\\"enable_streaming\\\":false,\\\"force_streaming\\\":false,\\\"track_child_runs\\\":true,\\\"allowed_private_models\\\":[],\\\"label_column_name\\\":\\\"HeartDisease\\\",\\\"weight_column_name\\\":null,\\\"cv_split_column_names\\\":null,\\\"enable_local_managed\\\":false,\\\"_local_managed_run_id\\\":null,\\\"cost_mode\\\":1,\\\"lag_length\\\":0,\\\"metric_operation\\\":\\\"maximize\\\",\\\"preprocess\\\":true}\", \"DataPrepJsonString\": \"{\\\\\\\"training_data\\\\\\\": {\\\\\\\"datasetId\\\\\\\": \\\\\\\"01be7db4-2d5f-49b7-86d5-87e15c53aed1\\\\\\\"}, \\\\\\\"datasets\\\\\\\": 0}\", \"EnableSubsampling\": \"False\", \"runTemplate\": \"AutoML\", \"azureml.runsource\": \"automl\", \"display_task_type\": \"classification\", \"dependencies_versions\": \"{\\\"azureml-widgets\\\": \\\"1.34.0\\\", \\\"azureml-train\\\": \\\"1.34.0\\\", \\\"azureml-train-restclients-hyperdrive\\\": \\\"1.37.0\\\", \\\"azureml-train-core\\\": \\\"1.37.0\\\", \\\"azureml-train-automl\\\": \\\"1.37.0\\\", \\\"azureml-train-automl-runtime\\\": \\\"1.37.0\\\", \\\"azureml-train-automl-client\\\": \\\"1.37.0\\\", \\\"azureml-tensorboard\\\": \\\"1.34.0\\\", \\\"azureml-telemetry\\\": \\\"1.37.0\\\", \\\"azureml-sdk\\\": \\\"1.37.0\\\", \\\"azureml-samples\\\": \\\"0+unknown\\\", \\\"azureml-responsibleai\\\": \\\"1.34.0\\\", \\\"azureml-pipeline\\\": \\\"1.37.0\\\", \\\"azureml-pipeline-steps\\\": \\\"1.37.0\\\", \\\"azureml-pipeline-core\\\": \\\"1.37.0\\\", \\\"azureml-opendatasets\\\": \\\"1.34.0\\\", \\\"azureml-mlflow\\\": \\\"1.37.0\\\", \\\"azureml-interpret\\\": \\\"1.37.0\\\", \\\"azureml-inference-server-http\\\": \\\"0.4.2\\\", \\\"azureml-explain-model\\\": \\\"1.34.0\\\", \\\"azureml-defaults\\\": \\\"1.37.0\\\", \\\"azureml-dataset-runtime\\\": \\\"1.37.0\\\", \\\"azureml-dataprep\\\": \\\"2.25.0\\\", \\\"azureml-dataprep-rslex\\\": \\\"2.1.0\\\", \\\"azureml-dataprep-native\\\": \\\"38.0.0\\\", \\\"azureml-datadrift\\\": \\\"1.34.0\\\", \\\"azureml-core\\\": \\\"1.37.0\\\", \\\"azureml-contrib-services\\\": \\\"1.34.0\\\", \\\"azureml-contrib-server\\\": \\\"1.34.0\\\", \\\"azureml-contrib-reinforcementlearning\\\": \\\"1.34.0\\\", \\\"azureml-contrib-pipeline-steps\\\": \\\"1.34.0\\\", \\\"azureml-contrib-notebook\\\": \\\"1.34.0\\\", \\\"azureml-contrib-fairness\\\": \\\"1.34.0\\\", \\\"azureml-contrib-dataset\\\": \\\"1.34.0\\\", \\\"azureml-contrib-automl-pipeline-steps\\\": \\\"1.34.0\\\", \\\"azureml-cli-common\\\": \\\"1.34.0\\\", \\\"azureml-automl-runtime\\\": \\\"1.37.0\\\", \\\"azureml-automl-dnn-nlp\\\": \\\"1.34.0\\\", \\\"azureml-automl-core\\\": \\\"1.37.0\\\", \\\"azureml-accel-models\\\": \\\"1.34.0\\\"}\", \"_aml_system_scenario_identification\": \"Remote.Parent\", \"ClientType\": \"SDK\", \"environment_cpu_name\": \"AzureML-AutoML\", \"environment_cpu_label\": \"prod\", \"environment_gpu_name\": \"AzureML-AutoML-GPU\", \"environment_gpu_label\": \"prod\", \"root_attribution\": \"automl\", \"attribution\": \"AutoML\", \"Orchestrator\": \"AutoML\", \"CancelUri\": \"https://southcentralus.api.azureml.ms/jasmine/v1.0/subscriptions/510b94ba-e453-4417-988b-fbdc37b55ca7/resourceGroups/aml-quickstarts-165696/providers/Microsoft.MachineLearningServices/workspaces/quick-starts-ws-165696/experimentids/c14f545a-1455-4f5c-9b14-92b56a4e3e36/cancel/AutoML_5ef33721-db6f-4111-bef6-d38ac72da5bd\", \"ClientSdkVersion\": \"1.36.1\", \"snapshotId\": \"00000000-0000-0000-0000-000000000000\", \"SetupRunId\": \"AutoML_5ef33721-db6f-4111-bef6-d38ac72da5bd_setup\", \"SetupRunContainerId\": \"dcid.AutoML_5ef33721-db6f-4111-bef6-d38ac72da5bd_setup\", \"FeaturizationRunJsonPath\": \"featurizer_container.json\", \"FeaturizationRunId\": \"AutoML_5ef33721-db6f-4111-bef6-d38ac72da5bd_featurize\", \"ProblemInfoJsonString\": \"{\\\"dataset_num_categorical\\\": 0, \\\"is_sparse\\\": true, \\\"subsampling\\\": false, \\\"has_extra_col\\\": true, \\\"dataset_classes\\\": 2, \\\"dataset_features\\\": 18, \\\"dataset_samples\\\": 918, \\\"single_frequency_class_detected\\\": false}\", \"ModelExplainRunId\": \"AutoML_5ef33721-db6f-4111-bef6-d38ac72da5bd_ModelExplain\"}, \"tags\": {\"model_explain_run\": \"best_run\", \"_aml_system_azureml.automlComponent\": \"AutoML\", \"pipeline_id\": \"\", \"score\": \"\", \"predicted_cost\": \"\", \"fit_time\": \"\", \"training_percent\": \"\", \"iteration\": \"\", \"run_preprocessor\": \"\", \"run_algorithm\": \"\", \"automl_best_child_run_id\": \"AutoML_5ef33721-db6f-4111-bef6-d38ac72da5bd_9\", \"model_explain_best_run_child_id\": \"AutoML_5ef33721-db6f-4111-bef6-d38ac72da5bd_9\"}, \"end_time_utc\": \"2021-12-13T19:55:20.033786Z\", \"status\": \"Completed\", \"log_files\": {}, \"log_groups\": [], \"run_duration\": \"0:17:55\", \"run_number\": \"20\", \"run_queued_details\": {\"status\": \"Completed\", \"details\": null}}, \"child_runs\": [{\"run_id\": \"AutoML_5ef33721-db6f-4111-bef6-d38ac72da5bd_setup\", \"run_number\": 21, \"metric\": null, \"status\": \"Completed\", \"run_type\": \"azureml.scriptrun\", \"training_percent\": null, \"start_time\": \"2021-12-13T19:41:44.504283Z\", \"end_time\": \"2021-12-13T19:45:59.374884Z\", \"created_time\": \"2021-12-13T19:37:40.229392Z\", \"created_time_dt\": \"2021-12-13T19:37:40.229392Z\", \"duration\": \"0:08:19\", \"iteration\": null, \"goal\": null, \"run_name\": \"Completed\", \"run_properties\": null}, {\"run_id\": \"AutoML_5ef33721-db6f-4111-bef6-d38ac72da5bd_featurize\", \"run_number\": 33, \"metric\": null, \"status\": \"Completed\", \"run_type\": \"automl.featurization\", \"training_percent\": null, \"start_time\": \"2021-12-13T19:46:00.16916Z\", \"end_time\": \"2021-12-13T19:49:00.566421Z\", \"created_time\": \"2021-12-13T19:45:59.781837Z\", \"created_time_dt\": \"2021-12-13T19:45:59.781837Z\", \"duration\": \"0:03:00\", \"iteration\": null, \"goal\": null, \"run_name\": \"Completed\", \"run_properties\": null}, {\"run_id\": \"AutoML_5ef33721-db6f-4111-bef6-d38ac72da5bd_0\", \"run_number\": 35, \"metric\": null, \"status\": \"Completed\", \"run_type\": \"azureml.scriptrun\", \"training_percent\": \"100\", \"start_time\": \"2021-12-13T19:49:01.568266Z\", \"end_time\": \"2021-12-13T19:49:31.597955Z\", \"created_time\": \"2021-12-13T19:49:01.568266Z\", \"created_time_dt\": \"2021-12-13T19:49:01.568266Z\", \"duration\": \"0:00:30\", \"iteration\": \"0\", \"goal\": \"AUC_weighted_max\", \"run_name\": \"MaxAbsScaler, LightGBM\", \"run_properties\": \"copy=True\", \"primary_metric\": 0.92411259, \"best_metric\": 0.92411259}, {\"run_id\": \"AutoML_5ef33721-db6f-4111-bef6-d38ac72da5bd_2\", \"run_number\": 36, \"metric\": null, \"status\": \"Completed\", \"run_type\": \"azureml.scriptrun\", \"training_percent\": \"100\", \"start_time\": \"2021-12-13T19:49:01.622535Z\", \"end_time\": \"2021-12-13T19:51:33.392171Z\", \"created_time\": \"2021-12-13T19:49:01.622535Z\", \"created_time_dt\": \"2021-12-13T19:49:01.622535Z\", \"duration\": \"0:02:31\", \"iteration\": \"2\", \"goal\": \"AUC_weighted_max\", \"run_name\": \"MaxAbsScaler, RandomForest\", \"run_properties\": \"copy=True\", \"primary_metric\": 0.92571688, \"best_metric\": 0.92571688}, {\"run_id\": \"AutoML_5ef33721-db6f-4111-bef6-d38ac72da5bd_4\", \"run_number\": 37, \"metric\": null, \"status\": \"Completed\", \"run_type\": \"azureml.scriptrun\", \"training_percent\": \"100\", \"start_time\": \"2021-12-13T19:49:01.626958Z\", \"end_time\": \"2021-12-13T19:50:16.095264Z\", \"created_time\": \"2021-12-13T19:49:01.626958Z\", \"created_time_dt\": \"2021-12-13T19:49:01.626958Z\", \"duration\": \"0:01:14\", \"iteration\": \"4\", \"goal\": \"AUC_weighted_max\", \"run_name\": \"SparseNormalizer, RandomForest\", \"run_properties\": \"copy=True, norm='l2'\", \"primary_metric\": 0.93035829, \"best_metric\": 0.93119302}, {\"run_id\": \"AutoML_5ef33721-db6f-4111-bef6-d38ac72da5bd_3\", \"run_number\": 38, \"metric\": null, \"status\": \"Completed\", \"run_type\": \"azureml.scriptrun\", \"training_percent\": \"100\", \"start_time\": \"2021-12-13T19:49:01.658344Z\", \"end_time\": \"2021-12-13T19:49:31.130791Z\", \"created_time\": \"2021-12-13T19:49:01.658344Z\", \"created_time_dt\": \"2021-12-13T19:49:01.658344Z\", \"duration\": \"0:00:29\", \"iteration\": \"3\", \"goal\": \"AUC_weighted_max\", \"run_name\": \"StandardScalerWrapper, LightGBM\", \"run_properties\": \"\\n    copy=True,\\n    with_mean=False,\\n    with_std=True\\n\", \"primary_metric\": 0.93119302, \"best_metric\": 0.93119302}, {\"run_id\": \"AutoML_5ef33721-db6f-4111-bef6-d38ac72da5bd_1\", \"run_number\": 39, \"metric\": null, \"status\": \"Completed\", \"run_type\": \"azureml.scriptrun\", \"training_percent\": \"100\", \"start_time\": \"2021-12-13T19:51:05.890987Z\", \"end_time\": \"2021-12-13T19:54:31.149258Z\", \"created_time\": \"2021-12-13T19:49:01.652825Z\", \"created_time_dt\": \"2021-12-13T19:49:01.652825Z\", \"duration\": \"0:05:29\", \"iteration\": \"1\", \"goal\": \"AUC_weighted_max\", \"run_name\": \"MaxAbsScaler, ExtremeRandomTrees\", \"run_properties\": \"copy=True\", \"primary_metric\": 0.92022169, \"best_metric\": 0.92411259}, {\"run_id\": \"AutoML_5ef33721-db6f-4111-bef6-d38ac72da5bd_5\", \"run_number\": 40, \"metric\": null, \"status\": \"Completed\", \"run_type\": \"azureml.scriptrun\", \"training_percent\": \"100\", \"start_time\": \"2021-12-13T19:49:33.852096Z\", \"end_time\": \"2021-12-13T19:51:37.749197Z\", \"created_time\": \"2021-12-13T19:49:33.852096Z\", \"created_time_dt\": \"2021-12-13T19:49:33.852096Z\", \"duration\": \"0:02:03\", \"iteration\": \"5\", \"goal\": \"AUC_weighted_max\", \"run_name\": \"MaxAbsScaler, RandomForest\", \"run_properties\": \"copy=True\", \"primary_metric\": 0.91473388, \"best_metric\": 0.93119302}, {\"run_id\": \"AutoML_5ef33721-db6f-4111-bef6-d38ac72da5bd_6\", \"run_number\": 41, \"metric\": null, \"status\": \"Completed\", \"run_type\": \"azureml.scriptrun\", \"training_percent\": \"100\", \"start_time\": \"2021-12-13T19:49:37.619847Z\", \"end_time\": \"2021-12-13T19:52:13.669385Z\", \"created_time\": \"2021-12-13T19:49:37.619847Z\", \"created_time_dt\": \"2021-12-13T19:49:37.619847Z\", \"duration\": \"0:02:36\", \"iteration\": \"6\", \"goal\": \"AUC_weighted_max\", \"run_name\": \"SparseNormalizer, LightGBM\", \"run_properties\": \"copy=True, norm='l1'\", \"primary_metric\": 0.92706798, \"best_metric\": 0.93119302}, {\"run_id\": \"AutoML_5ef33721-db6f-4111-bef6-d38ac72da5bd_7\", \"run_number\": 42, \"metric\": null, \"status\": \"Completed\", \"run_type\": \"azureml.scriptrun\", \"training_percent\": \"100\", \"start_time\": \"2021-12-13T19:50:19.56463Z\", \"end_time\": \"2021-12-13T19:53:04.910629Z\", \"created_time\": \"2021-12-13T19:50:19.56463Z\", \"created_time_dt\": \"2021-12-13T19:50:19.56463Z\", \"duration\": \"0:02:45\", \"iteration\": \"7\", \"goal\": \"AUC_weighted_max\", \"run_name\": \"MaxAbsScaler, ExtremeRandomTrees\", \"run_properties\": \"copy=True\", \"primary_metric\": 0.92948737, \"best_metric\": 0.93119302}, {\"run_id\": \"AutoML_5ef33721-db6f-4111-bef6-d38ac72da5bd_8\", \"run_number\": 43, \"metric\": null, \"status\": \"Completed\", \"run_type\": \"azureml.scriptrun\", \"training_percent\": \"100\", \"start_time\": \"2021-12-13T19:51:36.338807Z\", \"end_time\": \"2021-12-13T19:53:34.626248Z\", \"created_time\": \"2021-12-13T19:51:36.338807Z\", \"created_time_dt\": \"2021-12-13T19:51:36.338807Z\", \"duration\": \"0:01:58\", \"iteration\": \"8\", \"goal\": \"AUC_weighted_max\", \"run_name\": \"StandardScalerWrapper, ExtremeRandomTrees\", \"run_properties\": \"\\n    copy=True,\\n    with_mean=False,\\n    with_std=False\\n\", \"primary_metric\": 0.92535057, \"best_metric\": 0.93119302}, {\"run_id\": \"AutoML_5ef33721-db6f-4111-bef6-d38ac72da5bd_9\", \"run_number\": 46, \"metric\": null, \"status\": \"Completed\", \"run_type\": \"azureml.scriptrun\", \"training_percent\": \"100\", \"start_time\": \"2021-12-13T19:54:32.120982Z\", \"end_time\": \"2021-12-13T19:55:18.516696Z\", \"created_time\": \"2021-12-13T19:54:32.120982Z\", \"created_time_dt\": \"2021-12-13T19:54:32.120982Z\", \"duration\": \"0:00:46\", \"iteration\": \"9\", \"goal\": \"AUC_weighted_max\", \"run_name\": \"VotingEnsemble\", \"run_properties\": \"\\n    estimators=[('3', Pipeline(\\n        memory=None,\\n        steps=[('standardscalerwrapper', StandardScalerWrapper(\\n            copy=True,\\n            with_mean=False,\\n            with_std=True\\n        \", \"primary_metric\": 0.93452228, \"best_metric\": 0.93452228}], \"children_metrics\": {\"categories\": [0], \"series\": {\"f1_score_micro\": [{\"categories\": [\"0\", \"1\", \"2\", \"3\", \"4\", \"5\", \"6\", \"7\", \"8\", \"9\"], \"mode\": \"markers\", \"name\": \"f1_score_micro\", \"stepped\": false, \"type\": \"scatter\", \"data\": [0.8551140413399857, 0.8453433119505821, 0.8627702542171537, 0.8703848895224517, 0.871489665003564, 0.8442504157757187, 0.8572938940365882, 0.8768769303872654, 0.8594678070800666, 0.8736516987407935]}, {\"categories\": [\"0\", \"1\", \"2\", \"3\", \"4\", \"5\", \"6\", \"7\", \"8\", \"9\"], \"mode\": \"lines\", \"name\": \"f1_score_micro_max\", \"stepped\": true, \"type\": \"scatter\", \"data\": [0.8551140413399857, 0.8551140413399857, 0.8627702542171537, 0.8703848895224517, 0.871489665003564, 0.871489665003564, 0.871489665003564, 0.8768769303872654, 0.8768769303872654, 0.8768769303872654]}], \"average_precision_score_micro\": [{\"categories\": [\"0\", \"1\", \"2\", \"3\", \"4\", \"5\", \"6\", \"7\", \"8\", \"9\"], \"mode\": \"markers\", \"name\": \"average_precision_score_micro\", \"stepped\": false, \"type\": \"scatter\", \"data\": [0.920682487370882, 0.9199991349230027, 0.9286370927135714, 0.9309264138886182, 0.9308705328940974, 0.9169078938521679, 0.9257437973752756, 0.9316540021544494, 0.9211325292156435, 0.9349558141907461]}, {\"categories\": [\"0\", \"1\", \"2\", \"3\", \"4\", \"5\", \"6\", \"7\", \"8\", \"9\"], \"mode\": \"lines\", \"name\": \"average_precision_score_micro_max\", \"stepped\": true, \"type\": \"scatter\", \"data\": [0.920682487370882, 0.920682487370882, 0.9286370927135714, 0.9309264138886182, 0.9309264138886182, 0.9309264138886182, 0.9309264138886182, 0.9316540021544494, 0.9316540021544494, 0.9349558141907461]}], \"accuracy\": [{\"categories\": [\"0\", \"1\", \"2\", \"3\", \"4\", \"5\", \"6\", \"7\", \"8\", \"9\"], \"mode\": \"markers\", \"name\": \"accuracy\", \"stepped\": false, \"type\": \"scatter\", \"data\": [0.8551140413399857, 0.8453433119505821, 0.8627702542171537, 0.8703848895224517, 0.871489665003564, 0.8442504157757187, 0.8572938940365882, 0.8768769303872654, 0.8594678070800666, 0.8736516987407935]}, {\"categories\": [\"0\", \"1\", \"2\", \"3\", \"4\", \"5\", \"6\", \"7\", \"8\", \"9\"], \"mode\": \"lines\", \"name\": \"accuracy_max\", \"stepped\": true, \"type\": \"scatter\", \"data\": [0.8551140413399857, 0.8551140413399857, 0.8627702542171537, 0.8703848895224517, 0.871489665003564, 0.871489665003564, 0.871489665003564, 0.8768769303872654, 0.8768769303872654, 0.8768769303872654]}], \"f1_score_weighted\": [{\"categories\": [\"0\", \"1\", \"2\", \"3\", \"4\", \"5\", \"6\", \"7\", \"8\", \"9\"], \"mode\": \"markers\", \"name\": \"f1_score_weighted\", \"stepped\": false, \"type\": \"scatter\", \"data\": [0.8547765970717224, 0.8447475093562336, 0.8620793425408853, 0.8700105092937802, 0.8710514061967384, 0.8439981115214155, 0.8568553087740416, 0.8766255930531475, 0.8582767610147775, 0.8732362005180118]}, {\"categories\": [\"0\", \"1\", \"2\", \"3\", \"4\", \"5\", \"6\", \"7\", \"8\", \"9\"], \"mode\": \"lines\", \"name\": \"f1_score_weighted_max\", \"stepped\": true, \"type\": \"scatter\", \"data\": [0.8547765970717224, 0.8547765970717224, 0.8620793425408853, 0.8700105092937802, 0.8710514061967384, 0.8710514061967384, 0.8710514061967384, 0.8766255930531475, 0.8766255930531475, 0.8766255930531475]}], \"AUC_weighted\": [{\"categories\": [\"0\", \"1\", \"2\", \"3\", \"4\", \"5\", \"6\", \"7\", \"8\", \"9\"], \"mode\": \"markers\", \"name\": \"AUC_weighted\", \"stepped\": false, \"type\": \"scatter\", \"data\": [0.9241125879246658, 0.9202216854052441, 0.9257168828528025, 0.9311930153642212, 0.9303582917575124, 0.9147338803771025, 0.9270679770913854, 0.9294873722344658, 0.9253505731803557, 0.9345222764255892]}, {\"categories\": [\"0\", \"1\", \"2\", \"3\", \"4\", \"5\", \"6\", \"7\", \"8\", \"9\"], \"mode\": \"lines\", \"name\": \"AUC_weighted_max\", \"stepped\": true, \"type\": \"scatter\", \"data\": [0.9241125879246658, 0.9241125879246658, 0.9257168828528025, 0.9311930153642212, 0.9311930153642212, 0.9311930153642212, 0.9311930153642212, 0.9311930153642212, 0.9311930153642212, 0.9345222764255892]}], \"AUC_micro\": [{\"categories\": [\"0\", \"1\", \"2\", \"3\", \"4\", \"5\", \"6\", \"7\", \"8\", \"9\"], \"mode\": \"markers\", \"name\": \"AUC_micro\", \"stepped\": false, \"type\": \"scatter\", \"data\": [0.9261620391914371, 0.9211608413825582, 0.9298005757582788, 0.9327292565693636, 0.9324906473394954, 0.9188327217353371, 0.9283678517636437, 0.9320787984032339, 0.924361747122507, 0.9363580501788219]}, {\"categories\": [\"0\", \"1\", \"2\", \"3\", \"4\", \"5\", \"6\", \"7\", \"8\", \"9\"], \"mode\": \"lines\", \"name\": \"AUC_micro_max\", \"stepped\": true, \"type\": \"scatter\", \"data\": [0.9261620391914371, 0.9261620391914371, 0.9298005757582788, 0.9327292565693636, 0.9327292565693636, 0.9327292565693636, 0.9327292565693636, 0.9327292565693636, 0.9327292565693636, 0.9363580501788219]}], \"norm_macro_recall\": [{\"categories\": [\"0\", \"1\", \"2\", \"3\", \"4\", \"5\", \"6\", \"7\", \"8\", \"9\"], \"mode\": \"markers\", \"name\": \"norm_macro_recall\", \"stepped\": false, \"type\": \"scatter\", \"data\": [0.7016856124437015, 0.6803858303790441, 0.7158704138513782, 0.732649042495036, 0.7341678619637642, 0.6835736589777838, 0.7060529788662693, 0.7466020839120001, 0.7049778335049597, 0.7386686843509104]}, {\"categories\": [\"0\", \"1\", \"2\", \"3\", \"4\", \"5\", \"6\", \"7\", \"8\", \"9\"], \"mode\": \"lines\", \"name\": \"norm_macro_recall_max\", \"stepped\": true, \"type\": \"scatter\", \"data\": [0.7016856124437015, 0.7016856124437015, 0.7158704138513782, 0.732649042495036, 0.7341678619637642, 0.7341678619637642, 0.7341678619637642, 0.7466020839120001, 0.7466020839120001, 0.7466020839120001]}], \"precision_score_micro\": [{\"categories\": [\"0\", \"1\", \"2\", \"3\", \"4\", \"5\", \"6\", \"7\", \"8\", \"9\"], \"mode\": \"markers\", \"name\": \"precision_score_micro\", \"stepped\": false, \"type\": \"scatter\", \"data\": [0.8551140413399857, 0.8453433119505821, 0.8627702542171537, 0.8703848895224517, 0.871489665003564, 0.8442504157757187, 0.8572938940365882, 0.8768769303872654, 0.8594678070800666, 0.8736516987407935]}, {\"categories\": [\"0\", \"1\", \"2\", \"3\", \"4\", \"5\", \"6\", \"7\", \"8\", \"9\"], \"mode\": \"lines\", \"name\": \"precision_score_micro_max\", \"stepped\": true, \"type\": \"scatter\", \"data\": [0.8551140413399857, 0.8551140413399857, 0.8627702542171537, 0.8703848895224517, 0.871489665003564, 0.871489665003564, 0.871489665003564, 0.8768769303872654, 0.8768769303872654, 0.8768769303872654]}], \"log_loss\": [{\"categories\": [\"0\", \"1\", \"2\", \"3\", \"4\", \"5\", \"6\", \"7\", \"8\", \"9\"], \"mode\": \"markers\", \"name\": \"log_loss\", \"stepped\": false, \"type\": \"scatter\", \"data\": [0.4026289566104495, 0.3583446020309822, 0.34490409353062856, 0.35783341617382136, 0.33673759086712957, 0.3988575737267634, 0.36003761244185084, 0.3429620146852094, 0.43650735831498605, 0.3370811006388064]}, {\"categories\": [\"0\", \"1\", \"2\", \"3\", \"4\", \"5\", \"6\", \"7\", \"8\", \"9\"], \"mode\": \"lines\", \"name\": \"log_loss_min\", \"stepped\": true, \"type\": \"scatter\", \"data\": [0.4026289566104495, 0.3583446020309822, 0.34490409353062856, 0.34490409353062856, 0.33673759086712957, 0.33673759086712957, 0.33673759086712957, 0.33673759086712957, 0.33673759086712957, 0.33673759086712957]}], \"recall_score_weighted\": [{\"categories\": [\"0\", \"1\", \"2\", \"3\", \"4\", \"5\", \"6\", \"7\", \"8\", \"9\"], \"mode\": \"markers\", \"name\": \"recall_score_weighted\", \"stepped\": false, \"type\": \"scatter\", \"data\": [0.8551140413399857, 0.8453433119505821, 0.8627702542171537, 0.8703848895224517, 0.871489665003564, 0.8442504157757187, 0.8572938940365882, 0.8768769303872654, 0.8594678070800666, 0.8736516987407935]}, {\"categories\": [\"0\", \"1\", \"2\", \"3\", \"4\", \"5\", \"6\", \"7\", \"8\", \"9\"], \"mode\": \"lines\", \"name\": \"recall_score_weighted_max\", \"stepped\": true, \"type\": \"scatter\", \"data\": [0.8551140413399857, 0.8551140413399857, 0.8627702542171537, 0.8703848895224517, 0.871489665003564, 0.871489665003564, 0.871489665003564, 0.8768769303872654, 0.8768769303872654, 0.8768769303872654]}], \"recall_score_micro\": [{\"categories\": [\"0\", \"1\", \"2\", \"3\", \"4\", \"5\", \"6\", \"7\", \"8\", \"9\"], \"mode\": \"markers\", \"name\": \"recall_score_micro\", \"stepped\": false, \"type\": \"scatter\", \"data\": [0.8551140413399857, 0.8453433119505821, 0.8627702542171537, 0.8703848895224517, 0.871489665003564, 0.8442504157757187, 0.8572938940365882, 0.8768769303872654, 0.8594678070800666, 0.8736516987407935]}, {\"categories\": [\"0\", \"1\", \"2\", \"3\", \"4\", \"5\", \"6\", \"7\", \"8\", \"9\"], \"mode\": \"lines\", \"name\": \"recall_score_micro_max\", \"stepped\": true, \"type\": \"scatter\", \"data\": [0.8551140413399857, 0.8551140413399857, 0.8627702542171537, 0.8703848895224517, 0.871489665003564, 0.871489665003564, 0.871489665003564, 0.8768769303872654, 0.8768769303872654, 0.8768769303872654]}], \"f1_score_macro\": [{\"categories\": [\"0\", \"1\", \"2\", \"3\", \"4\", \"5\", \"6\", \"7\", \"8\", \"9\"], \"mode\": \"markers\", \"name\": \"f1_score_macro\", \"stepped\": false, \"type\": \"scatter\", \"data\": [0.8522429866950508, 0.8420017640308751, 0.8597484531748367, 0.8677524599325747, 0.8689432799819423, 0.8416161264169684, 0.8543002391068258, 0.8743446719012156, 0.8553187587628015, 0.8710539135637688]}, {\"categories\": [\"0\", \"1\", \"2\", \"3\", \"4\", \"5\", \"6\", \"7\", \"8\", \"9\"], \"mode\": \"lines\", \"name\": \"f1_score_macro_max\", \"stepped\": true, \"type\": \"scatter\", \"data\": [0.8522429866950508, 0.8522429866950508, 0.8597484531748367, 0.8677524599325747, 0.8689432799819423, 0.8689432799819423, 0.8689432799819423, 0.8743446719012156, 0.8743446719012156, 0.8743446719012156]}], \"recall_score_macro\": [{\"categories\": [\"0\", \"1\", \"2\", \"3\", \"4\", \"5\", \"6\", \"7\", \"8\", \"9\"], \"mode\": \"markers\", \"name\": \"recall_score_macro\", \"stepped\": false, \"type\": \"scatter\", \"data\": [0.8508428062218506, 0.8401929151895221, 0.8579352069256891, 0.866324521247518, 0.8670839309818821, 0.8417868294888919, 0.8530264894331345, 0.8733010419560001, 0.85248891675248, 0.8693343421754551]}, {\"categories\": [\"0\", \"1\", \"2\", \"3\", \"4\", \"5\", \"6\", \"7\", \"8\", \"9\"], \"mode\": \"lines\", \"name\": \"recall_score_macro_max\", \"stepped\": true, \"type\": \"scatter\", \"data\": [0.8508428062218506, 0.8508428062218506, 0.8579352069256891, 0.866324521247518, 0.8670839309818821, 0.8670839309818821, 0.8670839309818821, 0.8733010419560001, 0.8733010419560001, 0.8733010419560001]}], \"average_precision_score_weighted\": [{\"categories\": [\"0\", \"1\", \"2\", \"3\", \"4\", \"5\", \"6\", \"7\", \"8\", \"9\"], \"mode\": \"markers\", \"name\": \"average_precision_score_weighted\", \"stepped\": false, \"type\": \"scatter\", \"data\": [0.9200986609233028, 0.920960199224875, 0.9257745084998014, 0.9317601048120577, 0.9301748215052681, 0.9141498919044528, 0.9266557708185468, 0.9308715020442782, 0.9254074158315927, 0.9341685380149272]}, {\"categories\": [\"0\", \"1\", \"2\", \"3\", \"4\", \"5\", \"6\", \"7\", \"8\", \"9\"], \"mode\": \"lines\", \"name\": \"average_precision_score_weighted_max\", \"stepped\": true, \"type\": \"scatter\", \"data\": [0.9200986609233028, 0.920960199224875, 0.9257745084998014, 0.9317601048120577, 0.9317601048120577, 0.9317601048120577, 0.9317601048120577, 0.9317601048120577, 0.9317601048120577, 0.9341685380149272]}], \"balanced_accuracy\": [{\"categories\": [\"0\", \"1\", \"2\", \"3\", \"4\", \"5\", \"6\", \"7\", \"8\", \"9\"], \"mode\": \"markers\", \"name\": \"balanced_accuracy\", \"stepped\": false, \"type\": \"scatter\", \"data\": [0.8508428062218506, 0.8401929151895221, 0.8579352069256891, 0.866324521247518, 0.8670839309818821, 0.8417868294888919, 0.8530264894331345, 0.8733010419560001, 0.85248891675248, 0.8693343421754551]}, {\"categories\": [\"0\", \"1\", \"2\", \"3\", \"4\", \"5\", \"6\", \"7\", \"8\", \"9\"], \"mode\": \"lines\", \"name\": \"balanced_accuracy_max\", \"stepped\": true, \"type\": \"scatter\", \"data\": [0.8508428062218506, 0.8508428062218506, 0.8579352069256891, 0.866324521247518, 0.8670839309818821, 0.8670839309818821, 0.8670839309818821, 0.8733010419560001, 0.8733010419560001, 0.8733010419560001]}], \"precision_score_macro\": [{\"categories\": [\"0\", \"1\", \"2\", \"3\", \"4\", \"5\", \"6\", \"7\", \"8\", \"9\"], \"mode\": \"markers\", \"name\": \"precision_score_macro\", \"stepped\": false, \"type\": \"scatter\", \"data\": [0.8551594017972792, 0.8466758649086717, 0.8663750552147349, 0.8713858820303955, 0.8736049487776014, 0.8441523886030957, 0.8583894152390077, 0.8775337481432833, 0.8655536923479901, 0.8753162243104196]}, {\"categories\": [\"0\", \"1\", \"2\", \"3\", \"4\", \"5\", \"6\", \"7\", \"8\", \"9\"], \"mode\": \"lines\", \"name\": \"precision_score_macro_max\", \"stepped\": true, \"type\": \"scatter\", \"data\": [0.8551594017972792, 0.8551594017972792, 0.8663750552147349, 0.8713858820303955, 0.8736049487776014, 0.8736049487776014, 0.8736049487776014, 0.8775337481432833, 0.8775337481432833, 0.8775337481432833]}], \"average_precision_score_macro\": [{\"categories\": [\"0\", \"1\", \"2\", \"3\", \"4\", \"5\", \"6\", \"7\", \"8\", \"9\"], \"mode\": \"markers\", \"name\": \"average_precision_score_macro\", \"stepped\": false, \"type\": \"scatter\", \"data\": [0.9194731261819105, 0.9198091426288244, 0.9249097030006525, 0.9308716625506115, 0.929209647232668, 0.9131160243242361, 0.9253342421540453, 0.9296870554632148, 0.9243111791885488, 0.9332701091932314]}, {\"categories\": [\"0\", \"1\", \"2\", \"3\", \"4\", \"5\", \"6\", \"7\", \"8\", \"9\"], \"mode\": \"lines\", \"name\": \"average_precision_score_macro_max\", \"stepped\": true, \"type\": \"scatter\", \"data\": [0.9194731261819105, 0.9198091426288244, 0.9249097030006525, 0.9308716625506115, 0.9308716625506115, 0.9308716625506115, 0.9308716625506115, 0.9308716625506115, 0.9308716625506115, 0.9332701091932314]}], \"weighted_accuracy\": [{\"categories\": [\"0\", \"1\", \"2\", \"3\", \"4\", \"5\", \"6\", \"7\", \"8\", \"9\"], \"mode\": \"markers\", \"name\": \"weighted_accuracy\", \"stepped\": false, \"type\": \"scatter\", \"data\": [0.8591531973255669, 0.8501852232138221, 0.8673537279069035, 0.8742181730678862, 0.8756340120543122, 0.8465921472383426, 0.8613066949175838, 0.8802389342802706, 0.8660411357452121, 0.8777445614645597]}, {\"categories\": [\"0\", \"1\", \"2\", \"3\", \"4\", \"5\", \"6\", \"7\", \"8\", \"9\"], \"mode\": \"lines\", \"name\": \"weighted_accuracy_max\", \"stepped\": true, \"type\": \"scatter\", \"data\": [0.8591531973255669, 0.8591531973255669, 0.8673537279069035, 0.8742181730678862, 0.8756340120543122, 0.8756340120543122, 0.8756340120543122, 0.8802389342802706, 0.8802389342802706, 0.8802389342802706]}], \"matthews_correlation\": [{\"categories\": [\"0\", \"1\", \"2\", \"3\", \"4\", \"5\", \"6\", \"7\", \"8\", \"9\"], \"mode\": \"markers\", \"name\": \"matthews_correlation\", \"stepped\": false, \"type\": \"scatter\", \"data\": [0.7059772760507491, 0.686799060437796, 0.7242299858338451, 0.7376727223892566, 0.7406348346545597, 0.685917381256399, 0.7113673598576338, 0.750799448579133, 0.7178874631863026, 0.7445996485714209]}, {\"categories\": [\"0\", \"1\", \"2\", \"3\", \"4\", \"5\", \"6\", \"7\", \"8\", \"9\"], \"mode\": \"lines\", \"name\": \"matthews_correlation_max\", \"stepped\": true, \"type\": \"scatter\", \"data\": [0.7059772760507491, 0.7059772760507491, 0.7242299858338451, 0.7376727223892566, 0.7406348346545597, 0.7406348346545597, 0.7406348346545597, 0.750799448579133, 0.750799448579133, 0.750799448579133]}], \"precision_score_weighted\": [{\"categories\": [\"0\", \"1\", \"2\", \"3\", \"4\", \"5\", \"6\", \"7\", \"8\", \"9\"], \"mode\": \"markers\", \"name\": \"precision_score_weighted\", \"stepped\": false, \"type\": \"scatter\", \"data\": [0.8559144663925494, 0.8469044315452827, 0.8660929585685295, 0.8717771539320053, 0.8733264784808433, 0.8464182804578437, 0.8591567404440663, 0.8784531357416714, 0.8642978545666778, 0.8752871771080425]}, {\"categories\": [\"0\", \"1\", \"2\", \"3\", \"4\", \"5\", \"6\", \"7\", \"8\", \"9\"], \"mode\": \"lines\", \"name\": \"precision_score_weighted_max\", \"stepped\": true, \"type\": \"scatter\", \"data\": [0.8559144663925494, 0.8559144663925494, 0.8660929585685295, 0.8717771539320053, 0.8733264784808433, 0.8733264784808433, 0.8733264784808433, 0.8784531357416714, 0.8784531357416714, 0.8784531357416714]}], \"AUC_macro\": [{\"categories\": [\"0\", \"1\", \"2\", \"3\", \"4\", \"5\", \"6\", \"7\", \"8\", \"9\"], \"mode\": \"markers\", \"name\": \"AUC_macro\", \"stepped\": false, \"type\": \"scatter\", \"data\": [0.9241125879246658, 0.9202216854052441, 0.9257168828528026, 0.9311930153642212, 0.9303582917575124, 0.9147338803771025, 0.9270679770913857, 0.9294873722344658, 0.9253505731803557, 0.9345222764255894]}, {\"categories\": [\"0\", \"1\", \"2\", \"3\", \"4\", \"5\", \"6\", \"7\", \"8\", \"9\"], \"mode\": \"lines\", \"name\": \"AUC_macro_max\", \"stepped\": true, \"type\": \"scatter\", \"data\": [0.9241125879246658, 0.9241125879246658, 0.9257168828528026, 0.9311930153642212, 0.9311930153642212, 0.9311930153642212, 0.9311930153642212, 0.9311930153642212, 0.9311930153642212, 0.9345222764255894]}]}, \"metricName\": null, \"primaryMetricName\": \"AUC_weighted\", \"showLegend\": false}, \"run_metrics\": [{\"name\": \"experiment_status\", \"run_id\": \"AutoML_5ef33721-db6f-4111-bef6-d38ac72da5bd\", \"categories\": [0, 1, 2, 3, 4, 5, 6, 7, 8, 9, 10, 11, 12, 13], \"series\": [{\"data\": [\"DatasetEvaluation\", \"FeaturesGeneration\", \"DatasetFeaturization\", \"DatasetFeaturizationCompleted\", \"DatasetCrossValidationSplit\", \"ModelSelection\", \"BestRunExplainModel\", \"ModelExplanationDataSetSetup\", \"PickSurrogateModel\", \"EngineeredFeatureExplanations\", \"EngineeredFeatureExplanations\", \"RawFeaturesExplanations\", \"RawFeaturesExplanations\", \"BestRunExplainModel\"]}]}, {\"name\": \"experiment_status_description\", \"run_id\": \"AutoML_5ef33721-db6f-4111-bef6-d38ac72da5bd\", \"categories\": [0, 1, 2, 3, 4, 5, 6, 7, 8, 9, 10, 11, 12, 13], \"series\": [{\"data\": [\"Gathering dataset statistics.\", \"Generating features for the dataset.\", \"Beginning to fit featurizers and featurize the dataset.\", \"Completed fit featurizers and featurizing the dataset.\", \"Generating individually featurized CV splits.\", \"Beginning model selection.\", \"Best run model explanations started\", \"Model explanations data setup completed\", \"Choosing LightGBM as the surrogate model for explanations\", \"Computation of engineered features started\", \"Computation of engineered features completed\", \"Computation of raw features started\", \"Computation of raw features completed\", \"Best run model explanations completed\"]}]}, {\"name\": \"AUC_macro\", \"run_id\": \"AutoML_5ef33721-db6f-4111-bef6-d38ac72da5bd\", \"categories\": [0], \"series\": [{\"data\": [0.9345222764255894]}]}, {\"name\": \"AUC_micro\", \"run_id\": \"AutoML_5ef33721-db6f-4111-bef6-d38ac72da5bd\", \"categories\": [0], \"series\": [{\"data\": [0.9363580501788219]}]}, {\"name\": \"norm_macro_recall\", \"run_id\": \"AutoML_5ef33721-db6f-4111-bef6-d38ac72da5bd\", \"categories\": [0], \"series\": [{\"data\": [0.7386686843509104]}]}, {\"name\": \"precision_score_macro\", \"run_id\": \"AutoML_5ef33721-db6f-4111-bef6-d38ac72da5bd\", \"categories\": [0], \"series\": [{\"data\": [0.8753162243104196]}]}, {\"name\": \"balanced_accuracy\", \"run_id\": \"AutoML_5ef33721-db6f-4111-bef6-d38ac72da5bd\", \"categories\": [0], \"series\": [{\"data\": [0.8693343421754551]}]}, {\"name\": \"average_precision_score_micro\", \"run_id\": \"AutoML_5ef33721-db6f-4111-bef6-d38ac72da5bd\", \"categories\": [0], \"series\": [{\"data\": [0.9349558141907461]}]}, {\"name\": \"weighted_accuracy\", \"run_id\": \"AutoML_5ef33721-db6f-4111-bef6-d38ac72da5bd\", \"categories\": [0], \"series\": [{\"data\": [0.8777445614645597]}]}, {\"name\": \"f1_score_micro\", \"run_id\": \"AutoML_5ef33721-db6f-4111-bef6-d38ac72da5bd\", \"categories\": [0], \"series\": [{\"data\": [0.8736516987407935]}]}, {\"name\": \"matthews_correlation\", \"run_id\": \"AutoML_5ef33721-db6f-4111-bef6-d38ac72da5bd\", \"categories\": [0], \"series\": [{\"data\": [0.7445996485714209]}]}, {\"name\": \"log_loss\", \"run_id\": \"AutoML_5ef33721-db6f-4111-bef6-d38ac72da5bd\", \"categories\": [0], \"series\": [{\"data\": [0.3370811006388064]}]}, {\"name\": \"precision_score_micro\", \"run_id\": \"AutoML_5ef33721-db6f-4111-bef6-d38ac72da5bd\", \"categories\": [0], \"series\": [{\"data\": [0.8736516987407935]}]}, {\"name\": \"recall_score_macro\", \"run_id\": \"AutoML_5ef33721-db6f-4111-bef6-d38ac72da5bd\", \"categories\": [0], \"series\": [{\"data\": [0.8693343421754551]}]}, {\"name\": \"precision_score_weighted\", \"run_id\": \"AutoML_5ef33721-db6f-4111-bef6-d38ac72da5bd\", \"categories\": [0], \"series\": [{\"data\": [0.8752871771080425]}]}, {\"name\": \"average_precision_score_macro\", \"run_id\": \"AutoML_5ef33721-db6f-4111-bef6-d38ac72da5bd\", \"categories\": [0], \"series\": [{\"data\": [0.9332701091932314]}]}, {\"name\": \"accuracy\", \"run_id\": \"AutoML_5ef33721-db6f-4111-bef6-d38ac72da5bd\", \"categories\": [0], \"series\": [{\"data\": [0.8736516987407935]}]}, {\"name\": \"average_precision_score_weighted\", \"run_id\": \"AutoML_5ef33721-db6f-4111-bef6-d38ac72da5bd\", \"categories\": [0], \"series\": [{\"data\": [0.9341685380149272]}]}, {\"name\": \"recall_score_weighted\", \"run_id\": \"AutoML_5ef33721-db6f-4111-bef6-d38ac72da5bd\", \"categories\": [0], \"series\": [{\"data\": [0.8736516987407935]}]}, {\"name\": \"f1_score_weighted\", \"run_id\": \"AutoML_5ef33721-db6f-4111-bef6-d38ac72da5bd\", \"categories\": [0], \"series\": [{\"data\": [0.8732362005180118]}]}, {\"name\": \"AUC_weighted\", \"run_id\": \"AutoML_5ef33721-db6f-4111-bef6-d38ac72da5bd\", \"categories\": [0], \"series\": [{\"data\": [0.9345222764255892]}]}, {\"name\": \"f1_score_macro\", \"run_id\": \"AutoML_5ef33721-db6f-4111-bef6-d38ac72da5bd\", \"categories\": [0], \"series\": [{\"data\": [0.8710539135637688]}]}, {\"name\": \"recall_score_micro\", \"run_id\": \"AutoML_5ef33721-db6f-4111-bef6-d38ac72da5bd\", \"categories\": [0], \"series\": [{\"data\": [0.8736516987407935]}]}], \"run_logs\": \"\\nRun is completed.\", \"graph\": {}, \"widget_settings\": {\"childWidgetDisplay\": \"popup\", \"send_telemetry\": false, \"log_level\": \"INFO\", \"sdk_version\": \"1.37.0\"}, \"loading\": false}"
          },
          "metadata": {}
        },
        {
          "output_type": "stream",
          "name": "stdout",
          "text": "Current provisioning state of AmlCompute is \"Deleting\"\n\nCurrent provisioning state of AmlCompute is \"Deleting\"\n\nCurrent provisioning state of AmlCompute is \"Deleting\"\n\nCurrent provisioning state of AmlCompute is \"Deleting\"\n\n"
        }
      ],
      "execution_count": 12,
      "metadata": {
        "gather": {
          "logged": 1639424251302
        },
        "jupyter": {
          "outputs_hidden": false,
          "source_hidden": false
        },
        "nteract": {
          "transient": {
            "deleting": false
          }
        }
      }
    },
    {
      "cell_type": "markdown",
      "source": [
        "OPTIONAL: Write about the different models trained and their performance. Why do you think some models did better than others?"
      ],
      "metadata": {}
    },
    {
      "cell_type": "markdown",
      "source": [
        "## Best Model\n",
        "\n",
        "TODO: In the cell below, get the best model from the automl experiments and display all the properties of the model.\n",
        "\n"
      ],
      "metadata": {}
    },
    {
      "cell_type": "code",
      "source": [
        "# Retrieve and get insights from your best automl model.\n",
        "\n",
        "best_run_AutoML, fitted_model_AutoML = remote_run.get_output()\n",
        "\n",
        "print(hasattr(fitted_model_AutoML, 'steps'))"
      ],
      "outputs": [
        {
          "output_type": "stream",
          "name": "stdout",
          "text": "True\n"
        }
      ],
      "execution_count": 13,
      "metadata": {
        "gather": {
          "logged": 1639425360843
        }
      }
    },
    {
      "cell_type": "code",
      "source": [
        "# Function to list the hyperparameters \n",
        "\n",
        "def print_model(model, prefix=\"\"):\n",
        "    for step in model.steps:\n",
        "        print(prefix + step[0])\n",
        "        \n",
        "        if hasattr(step[1], 'estimators') and hasattr(step[1], 'weights'):\n",
        "            pprint({'estimators' : list(e[0] for e in step[1].estimators), 'weights' : step[1].weights})\n",
        "            print()\n",
        "\n",
        "            for estimator in step[1].estimators:\n",
        "                print_model(estimator[1], estimator[0] + ' - ')\n",
        "        \n",
        "        else:\n",
        "            pprint(step[1].get_params())\n",
        "            print()\n",
        "        \n",
        "print_model(fitted_model_AutoML)"
      ],
      "outputs": [
        {
          "output_type": "stream",
          "name": "stdout",
          "text": "datatransformer\n{'enable_dnn': False,\n 'enable_feature_sweeping': False,\n 'feature_sweeping_config': {},\n 'feature_sweeping_timeout': 86400,\n 'featurization_config': None,\n 'force_text_dnn': False,\n 'is_cross_validation': True,\n 'is_onnx_compatible': True,\n 'observer': None,\n 'task': 'classification',\n 'working_dir': '/mnt/batch/tasks/shared/LS_root/mounts/clusters/notebook165696/code/Users/odl_user_165696'}\n\nprefittedsoftvotingclassifier\n{'estimators': ['3', '4', '7', '6', '2', '8', '0'],\n 'weights': [0.2, 0.2, 0.1, 0.1, 0.1, 0.1, 0.2]}\n\n3 - standardscalerwrapper\n{'class_name': 'StandardScaler',\n 'copy': True,\n 'module_name': 'sklearn.preprocessing._data',\n 'with_mean': False,\n 'with_std': True}\n\n3 - lightgbmclassifier\n{'boosting_type': 'gbdt',\n 'colsample_bytree': 0.4955555555555555,\n 'learning_rate': 0.09473736842105263,\n 'max_bin': 140,\n 'max_depth': 6,\n 'min_child_weight': 0,\n 'min_data_in_leaf': 0.08276034482758622,\n 'min_split_gain': 0.10526315789473684,\n 'n_estimators': 25,\n 'n_jobs': -1,\n 'num_leaves': 164,\n 'problem_info': ProblemInfo(\n    gpu_training_param_dict={'processing_unit_type': 'cpu'}\n),\n 'random_state': None,\n 'reg_alpha': 0.3157894736842105,\n 'reg_lambda': 0.3157894736842105,\n 'subsample': 0.5942105263157895}\n\n4 - sparsenormalizer\n{'copy': True, 'norm': 'l2'}\n\n4 - randomforestclassifier\n{'bootstrap': True,\n 'ccp_alpha': 0.0,\n 'class_weight': 'balanced',\n 'criterion': 'gini',\n 'max_depth': None,\n 'max_features': 'sqrt',\n 'max_leaf_nodes': None,\n 'max_samples': None,\n 'min_impurity_decrease': 0.0,\n 'min_impurity_split': None,\n 'min_samples_leaf': 0.01,\n 'min_samples_split': 0.01,\n 'min_weight_fraction_leaf': 0.0,\n 'n_estimators': 100,\n 'n_jobs': -1,\n 'oob_score': True,\n 'random_state': None,\n 'verbose': 0,\n 'warm_start': False}\n\n7 - maxabsscaler\n{'copy': True}\n\n7 - extratreesclassifier\n{'bootstrap': False,\n 'ccp_alpha': 0.0,\n 'class_weight': 'balanced',\n 'criterion': 'entropy',\n 'max_depth': None,\n 'max_features': 'log2',\n 'max_leaf_nodes': None,\n 'max_samples': None,\n 'min_impurity_decrease': 0.0,\n 'min_impurity_split': None,\n 'min_samples_leaf': 0.01,\n 'min_samples_split': 0.01,\n 'min_weight_fraction_leaf': 0.0,\n 'n_estimators': 400,\n 'n_jobs': -1,\n 'oob_score': False,\n 'random_state': None,\n 'verbose': 0,\n 'warm_start': False}\n\n6 - sparsenormalizer\n{'copy': True, 'norm': 'l1'}\n\n6 - lightgbmclassifier\n{'boosting_type': 'goss',\n 'colsample_bytree': 0.7922222222222222,\n 'learning_rate': 0.09473736842105263,\n 'max_bin': 80,\n 'max_depth': 6,\n 'min_child_weight': 0,\n 'min_data_in_leaf': 0.05172896551724139,\n 'min_split_gain': 0.894736842105263,\n 'n_estimators': 25,\n 'n_jobs': -1,\n 'num_leaves': 140,\n 'problem_info': ProblemInfo(\n    gpu_training_param_dict={'processing_unit_type': 'cpu'}\n),\n 'random_state': None,\n 'reg_alpha': 0.2631578947368421,\n 'reg_lambda': 0,\n 'subsample': 1}\n\n2 - maxabsscaler\n{'copy': True}\n\n2 - randomforestclassifier\n{'bootstrap': True,\n 'ccp_alpha': 0.0,\n 'class_weight': None,\n 'criterion': 'gini',\n 'max_depth': None,\n 'max_features': 'log2',\n 'max_leaf_nodes': None,\n 'max_samples': None,\n 'min_impurity_decrease': 0.0,\n 'min_impurity_split': None,\n 'min_samples_leaf': 0.01,\n 'min_samples_split': 0.01,\n 'min_weight_fraction_leaf': 0.0,\n 'n_estimators': 10,\n 'n_jobs': -1,\n 'oob_score': False,\n 'random_state': None,\n 'verbose': 0,\n 'warm_start': False}\n\n8 - standardscalerwrapper\n{'class_name': 'StandardScaler',\n 'copy': True,\n 'module_name': 'sklearn.preprocessing._data',\n 'with_mean': False,\n 'with_std': False}\n\n8 - extratreesclassifier\n{'bootstrap': False,\n 'ccp_alpha': 0.0,\n 'class_weight': None,\n 'criterion': 'entropy',\n 'max_depth': None,\n 'max_features': 0.05,\n 'max_leaf_nodes': None,\n 'max_samples': None,\n 'min_impurity_decrease': 0.0,\n 'min_impurity_split': None,\n 'min_samples_leaf': 0.01,\n 'min_samples_split': 0.01,\n 'min_weight_fraction_leaf': 0.0,\n 'n_estimators': 25,\n 'n_jobs': -1,\n 'oob_score': False,\n 'random_state': None,\n 'verbose': 0,\n 'warm_start': False}\n\n0 - maxabsscaler\n{'copy': True}\n\n0 - lightgbmclassifier\n{'min_data_in_leaf': 20,\n 'n_jobs': -1,\n 'problem_info': ProblemInfo(\n    gpu_training_param_dict={'processing_unit_type': 'cpu'}\n),\n 'random_state': None}\n\n"
        }
      ],
      "execution_count": 14,
      "metadata": {
        "gather": {
          "logged": 1639425364440
        },
        "jupyter": {
          "outputs_hidden": false,
          "source_hidden": false
        },
        "nteract": {
          "transient": {
            "deleting": false
          }
        }
      }
    },
    {
      "cell_type": "code",
      "source": [
        "# Get information from guardrails.\n",
        "\n",
        "print(remote_run.get_guardrails())"
      ],
      "outputs": [
        {
          "output_type": "stream",
          "name": "stdout",
          "text": "\n*********************************************************************************************************\nDATA GUARDRAILS: \n\nTYPE:         Class balancing detection\nSTATUS:       PASSED\nDESCRIPTION:  Your inputs were analyzed, and all classes are balanced in your training data.\n              Learn more about imbalanced data: https://aka.ms/AutomatedMLImbalancedData\n\n*********************************************************************************************************\n\nTYPE:         Missing feature values imputation\nSTATUS:       PASSED\nDESCRIPTION:  No feature missing values were detected in the training data.\n              Learn more about missing value imputation: https://aka.ms/AutomatedMLFeaturization\n\n*********************************************************************************************************\n\nTYPE:         High cardinality feature detection\nSTATUS:       PASSED\nDESCRIPTION:  Your inputs were analyzed, and no high cardinality features were detected.\n              Learn more about high cardinality feature handling: https://aka.ms/AutomatedMLFeaturization\n\n*********************************************************************************************************\n{'schema_type': 'fault_verifier', 'schema_version': '1.0.0', 'faults': [{'type': '_class_balancing', 'result': 'passed', 'parameters': [], 'friendly_type': 'Class balancing detection', 'friendly_result': 'Your inputs were analyzed, and all classes are balanced in your training data.', 'friendly_parameters': [], 'friendly_learn_more': 'Learn more about imbalanced data: https://aka.ms/AutomatedMLImbalancedData', 'friendly_parameter_preface': \"Imbalanced data can lead to a falsely perceived positive effect of a model's accuracy because the input data has bias towards one class.\"}, {'type': '_missing_value', 'result': 'passed', 'parameters': [], 'friendly_type': 'Missing feature values imputation', 'friendly_result': 'No feature missing values were detected in the training data.', 'friendly_parameters': [], 'friendly_learn_more': 'Learn more about missing value imputation: https://aka.ms/AutomatedMLFeaturization', 'friendly_parameter_preface': ''}, {'type': '_detect_high_cardinal_feature', 'result': 'passed', 'parameters': [], 'friendly_type': 'High cardinality feature detection', 'friendly_result': 'Your inputs were analyzed, and no high cardinality features were detected.', 'friendly_parameters': [], 'friendly_learn_more': 'Learn more about high cardinality feature handling: https://aka.ms/AutomatedMLFeaturization', 'friendly_parameter_preface': 'High cardinality features refer to columns that contain a large percentage of unique values.'}]}\n"
        }
      ],
      "execution_count": 15,
      "metadata": {
        "gather": {
          "logged": 1639425370406
        }
      }
    },
    {
      "cell_type": "code",
      "source": [
        "# Save the best model by AutoML\n",
        "\n",
        "joblib.dump(fitted_model_AutoML, 'AutoML.model')"
      ],
      "outputs": [
        {
          "output_type": "execute_result",
          "execution_count": 16,
          "data": {
            "text/plain": "['AutoML.model']"
          },
          "metadata": {}
        }
      ],
      "execution_count": 16,
      "metadata": {
        "gather": {
          "logged": 1639425376763
        },
        "jupyter": {
          "outputs_hidden": false,
          "source_hidden": false
        },
        "nteract": {
          "transient": {
            "deleting": false
          }
        }
      }
    },
    {
      "cell_type": "markdown",
      "source": [
        "## Model Deployment\n",
        "\n",
        "Remember you have to deploy only one of the two models you trained but you still need to register both the models. Perform the steps in the rest of this notebook only if you wish to deploy this model.\n",
        "\n",
        "TODO: In the cell below, register the model, create an inference config and deploy the model as a web service."
      ],
      "metadata": {}
    },
    {
      "cell_type": "code",
      "source": [
        "\n",
        "df_y = data['HeartDisease']\n",
        "df_x = data.drop('HeartDisease', axis=1)\n",
        "\n",
        "model = Model.register(workspace=ws,\n",
        "                       model_name='my-udacityproj3-automlmodel',                # Name of the registered model in your workspace.\n",
        "                       model_path='./AutoML.model',  # Local file to upload and register as a model.\n",
        "                       model_framework=Model.Framework.CUSTOM,  # Framework used to create the model.\n",
        "                       #sample_input_dataset=df_x,\n",
        "                       #sample_output_dataset=df_y,\n",
        "                       resource_configuration=ResourceConfiguration(cpu=1, memory_in_gb=1.0),\n",
        "                       description='AutoML model for heart disease prediction.',\n",
        "                       tags={'area': 'heartdisease', 'type': 'classification'})\n",
        "\n",
        "print('Name:', model.name)\n",
        "print('Version:', model.version)"
      ],
      "outputs": [
        {
          "output_type": "stream",
          "name": "stdout",
          "text": "Registering model my-udacityproj3-automlmodel\nName: my-udacityproj3-automlmodel\nVersion: 2\n"
        }
      ],
      "execution_count": 17,
      "metadata": {
        "gather": {
          "logged": 1639425383034
        },
        "jupyter": {
          "outputs_hidden": false,
          "source_hidden": false
        },
        "nteract": {
          "transient": {
            "deleting": false
          }
        }
      }
    },
    {
      "cell_type": "markdown",
      "source": [
        "TODO: In the cell below, send a request to the web service you deployed to test it."
      ],
      "metadata": {
        "collapsed": true,
        "gather": {
          "logged": 1598431657736
        },
        "jupyter": {
          "outputs_hidden": false,
          "source_hidden": false
        },
        "nteract": {
          "transient": {
            "deleting": false
          }
        }
      }
    },
    {
      "cell_type": "code",
      "source": [
        "# Create YAML file with the environment dependencies\r\n",
        "\r\n",
        "pip_packages = ['azureml-defaults', 'azureml-automl-core', 'azureml-automl-runtime', 'joblib', 'numpy', 'pandas', 'scikit-learn', 'xgboost', 'packaging']\r\n",
        "\r\n",
        "mycondaenv = CondaDependencies.create(pip_packages=pip_packages)\r\n",
        "\r\n",
        "conda_file = './env_conda_dep.yml'\r\n",
        "\r\n",
        "with open(conda_file, 'w') as f:\r\n",
        "    f.write(mycondaenv.serialize_to_string())"
      ],
      "outputs": [],
      "execution_count": 18,
      "metadata": {
        "jupyter": {
          "source_hidden": false,
          "outputs_hidden": false
        },
        "nteract": {
          "transient": {
            "deleting": false
          }
        },
        "gather": {
          "logged": 1639425394037
        }
      }
    },
    {
      "cell_type": "code",
      "source": [
        "# Create environment from YAML file\r\n",
        "\r\n",
        "environment = Environment.from_conda_specification(name='my-AutoML-environment', file_path=conda_file)"
      ],
      "outputs": [],
      "execution_count": 19,
      "metadata": {
        "jupyter": {
          "source_hidden": false,
          "outputs_hidden": false
        },
        "nteract": {
          "transient": {
            "deleting": false
          }
        },
        "gather": {
          "logged": 1639425402872
        }
      }
    },
    {
      "cell_type": "code",
      "source": [
        "# Create environment with its dependencies.\n",
        "\n",
        "environment = Environment('my-AutoML-environment')\n",
        "environment.python.conda_dependencies = CondaDependencies.create(pip_packages=[\n",
        "    'azureml-defaults',\n",
        "    'azureml-automl-core',\n",
        "    'azureml-automl-runtime',\n",
        "    'inference-schema[numpy-support]',\n",
        "    'joblib',\n",
        "    'numpy',\n",
        "    'pandas',\n",
        "    'scikit-learn',\n",
        "    'xgboost',\n",
        "    'packaging'\n",
        "])"
      ],
      "outputs": [],
      "execution_count": 16,
      "metadata": {
        "gather": {
          "logged": 1639411107156
        }
      }
    },
    {
      "cell_type": "code",
      "source": [
        "# Create the webservice\n",
        "\n",
        "inference_config = InferenceConfig(entry_script='./score_3.py', environment=environment)\n",
        "aci_config = AciWebservice.deploy_configuration(cpu_cores=1, memory_gb=1, enable_app_insights=True)\n",
        "\n",
        "\n",
        "service_name = 'my-udacityproj3-service'\n",
        "\n",
        "service = Model.deploy(workspace=ws,\n",
        "                       name=service_name,\n",
        "                       models=[model],\n",
        "                       inference_config=inference_config,\n",
        "                       deployment_config=aci_config,\n",
        "                       overwrite=True)\n",
        "service.wait_for_deployment(show_output=True)"
      ],
      "outputs": [
        {
          "output_type": "stream",
          "name": "stdout",
          "text": "Tips: You can try get_logs(): https://aka.ms/debugimage#dockerlog or local deployment: https://aka.ms/debugimage#debug-locally to debug if deployment takes longer than 10 minutes.\nRunning\n2021-12-13 19:56:57+00:00 Creating Container Registry if not exists.\n2021-12-13 19:56:57+00:00 Registering the environment.\n2021-12-13 19:56:58+00:00 Building image..\n2021-12-13 20:02:42+00:00 Generating deployment configuration.\n2021-12-13 20:02:42+00:00 Submitting deployment to compute.\n2021-12-13 20:02:44+00:00 Checking the status of deployment my-udacityproj3-service..\n2021-12-13 20:05:26+00:00 Checking the status of inference endpoint my-udacityproj3-service.\nSucceeded\nACI service creation operation finished, operation \"Succeeded\"\n"
        }
      ],
      "execution_count": 20,
      "metadata": {
        "gather": {
          "logged": 1639425929819
        },
        "jupyter": {
          "outputs_hidden": false,
          "source_hidden": false
        },
        "nteract": {
          "transient": {
            "deleting": false
          }
        }
      }
    },
    {
      "cell_type": "code",
      "source": [
        "print(service.get_logs())"
      ],
      "outputs": [
        {
          "output_type": "stream",
          "name": "stdout",
          "text": "2021-12-13T20:04:40,892127800+00:00 - iot-server/run \n2021-12-13T20:04:40,891164200+00:00 - rsyslog/run \n2021-12-13T20:04:40,913281400+00:00 - gunicorn/run \nDynamic Python package installation is disabled.\nStarting HTTP server\n2021-12-13T20:04:40,911801400+00:00 - nginx/run \nEdgeHubConnectionString and IOTEDGE_IOTHUBHOSTNAME are not set. Exiting...\n2021-12-13T20:04:41,212321900+00:00 - iot-server/finish 1 0\n2021-12-13T20:04:41,214743500+00:00 - Exit code 1 is normal. Not restarting iot-server.\nStarting gunicorn 20.1.0\nListening at: http://127.0.0.1:31311 (71)\nUsing worker: sync\nworker timeout is set to 300\nBooting worker with pid: 97\nSPARK_HOME not set. Skipping PySpark Initialization.\nInitializing logger\n2021-12-13 20:04:44,530 | root | INFO | Starting up app insights client\nlogging socket was found. logging is available.\nlogging socket was found. logging is available.\n2021-12-13 20:04:44,531 | root | INFO | Starting up request id generator\n2021-12-13 20:04:44,531 | root | INFO | Starting up app insight hooks\n2021-12-13 20:04:44,531 | root | INFO | Invoking user's init function\nInitializing model instance as webservice...\nno request id,Initializing model instance as webservice...\n\nInit done... enjoy inferencing!!\nno request id,Init done... enjoy inferencing!!\n\n2021-12-13 20:04:47,800 | root | INFO | Users's init has completed successfully\n2021-12-13 20:04:47,808 | root | INFO | Skipping middleware: dbg_model_info as it's not enabled.\n2021-12-13 20:04:47,808 | root | INFO | Skipping middleware: dbg_resource_usage as it's not enabled.\n2021-12-13 20:04:47,810 | root | INFO | Scoring timeout is found from os.environ: 60000 ms\n2021-12-13 20:05:26,966 | root | INFO | Swagger file not present\n2021-12-13 20:05:26,967 | root | INFO | 404\n127.0.0.1 - - [13/Dec/2021:20:05:26 +0000] \"GET /swagger.json HTTP/1.0\" 404 19 \"-\" \"Go-http-client/1.1\"\n2021-12-13 20:05:29,713 | root | INFO | Swagger file not present\n2021-12-13 20:05:29,714 | root | INFO | 404\n127.0.0.1 - - [13/Dec/2021:20:05:29 +0000] \"GET /swagger.json HTTP/1.0\" 404 19 \"-\" \"Go-http-client/1.1\"\n\n"
        }
      ],
      "execution_count": 21,
      "metadata": {
        "gather": {
          "logged": 1639425944931
        },
        "jupyter": {
          "outputs_hidden": false,
          "source_hidden": false
        },
        "nteract": {
          "transient": {
            "deleting": false
          }
        }
      }
    },
    {
      "cell_type": "markdown",
      "source": [
        "TODO: In the cell below, print the logs of the web service and delete the service"
      ],
      "metadata": {
        "collapsed": true,
        "gather": {
          "logged": 1598432765711
        },
        "jupyter": {
          "outputs_hidden": false,
          "source_hidden": false
        },
        "nteract": {
          "transient": {
            "deleting": false
          }
        }
      }
    },
    {
      "cell_type": "code",
      "source": [
        "# Get the data to test the endpoint in the right way.\n",
        "\n",
        "data_tosend = df_x[0:2].values.tolist()\n",
        "\n",
        "print(data_tosend)\n",
        "\n",
        "data_tosend = [data_tosend[0][:], data_tosend[1][:]]\n",
        "\n",
        "print(data_tosend)\n"
      ],
      "outputs": [
        {
          "output_type": "stream",
          "name": "stdout",
          "text": "[[40, 'M', 'ATA', 140, 289, 0, 'Normal', 172, 'N', 0.0, 'Up'], [49, 'F', 'NAP', 160, 180, 0, 'Normal', 156, 'N', 1.0, 'Flat']]\n[[40, 'M', 'ATA', 140, 289, 0, 'Normal', 172, 'N', 0.0, 'Up'], [49, 'F', 'NAP', 160, 180, 0, 'Normal', 156, 'N', 1.0, 'Flat']]\n"
        }
      ],
      "execution_count": 22,
      "metadata": {
        "gather": {
          "logged": 1639425986867
        },
        "jupyter": {
          "outputs_hidden": false,
          "source_hidden": false
        },
        "nteract": {
          "transient": {
            "deleting": false
          }
        }
      }
    },
    {
      "cell_type": "code",
      "source": [
        "input_payload = json.dumps({\n",
        "    'data': data_tosend,\n",
        "    'method': 'predict'  # If you have a classification model, you can get probabilities by changing this to 'predict_proba'.\n",
        "})\n",
        "\n",
        "output = service.run(input_payload)\n",
        "\n",
        "print(output)"
      ],
      "outputs": [
        {
          "output_type": "stream",
          "name": "stdout",
          "text": "[0, 1]\n"
        }
      ],
      "execution_count": 23,
      "metadata": {
        "gather": {
          "logged": 1639425994034
        },
        "jupyter": {
          "outputs_hidden": false,
          "source_hidden": false
        },
        "nteract": {
          "transient": {
            "deleting": false
          }
        }
      }
    },
    {
      "cell_type": "code",
      "source": [
        "print(service.get_logs())"
      ],
      "outputs": [
        {
          "output_type": "stream",
          "name": "stdout",
          "text": "2021-12-13T20:04:40,892127800+00:00 - iot-server/run \n2021-12-13T20:04:40,891164200+00:00 - rsyslog/run \n2021-12-13T20:04:40,913281400+00:00 - gunicorn/run \nDynamic Python package installation is disabled.\nStarting HTTP server\n2021-12-13T20:04:40,911801400+00:00 - nginx/run \nEdgeHubConnectionString and IOTEDGE_IOTHUBHOSTNAME are not set. Exiting...\n2021-12-13T20:04:41,212321900+00:00 - iot-server/finish 1 0\n2021-12-13T20:04:41,214743500+00:00 - Exit code 1 is normal. Not restarting iot-server.\nStarting gunicorn 20.1.0\nListening at: http://127.0.0.1:31311 (71)\nUsing worker: sync\nworker timeout is set to 300\nBooting worker with pid: 97\nSPARK_HOME not set. Skipping PySpark Initialization.\nInitializing logger\n2021-12-13 20:04:44,530 | root | INFO | Starting up app insights client\nlogging socket was found. logging is available.\nlogging socket was found. logging is available.\n2021-12-13 20:04:44,531 | root | INFO | Starting up request id generator\n2021-12-13 20:04:44,531 | root | INFO | Starting up app insight hooks\n2021-12-13 20:04:44,531 | root | INFO | Invoking user's init function\nInitializing model instance as webservice...\nno request id,Initializing model instance as webservice...\n\nInit done... enjoy inferencing!!\nno request id,Init done... enjoy inferencing!!\n\n2021-12-13 20:04:47,800 | root | INFO | Users's init has completed successfully\n2021-12-13 20:04:47,808 | root | INFO | Skipping middleware: dbg_model_info as it's not enabled.\n2021-12-13 20:04:47,808 | root | INFO | Skipping middleware: dbg_resource_usage as it's not enabled.\n2021-12-13 20:04:47,810 | root | INFO | Scoring timeout is found from os.environ: 60000 ms\n2021-12-13 20:05:26,966 | root | INFO | Swagger file not present\n2021-12-13 20:05:26,967 | root | INFO | 404\n127.0.0.1 - - [13/Dec/2021:20:05:26 +0000] \"GET /swagger.json HTTP/1.0\" 404 19 \"-\" \"Go-http-client/1.1\"\n2021-12-13 20:05:29,713 | root | INFO | Swagger file not present\n2021-12-13 20:05:29,714 | root | INFO | 404\n127.0.0.1 - - [13/Dec/2021:20:05:29 +0000] \"GET /swagger.json HTTP/1.0\" 404 19 \"-\" \"Go-http-client/1.1\"\n2021-12-13 20:06:32,956 | root | INFO | Scoring Timer is set to 60.0 seconds\nLaunching inference...\n6a232dad-df2d-49d7-9bac-c9bf6ca9e7ed,Launching inference...\n\nInference done...\n6a232dad-df2d-49d7-9bac-c9bf6ca9e7ed,Inference done...\n\nResults from inference:\n6a232dad-df2d-49d7-9bac-c9bf6ca9e7ed,Results from inference:\n\n[0, 1]\n6a232dad-df2d-49d7-9bac-c9bf6ca9e7ed,[0, 1]\n\n2021-12-13 20:06:33,945 | root | INFO | 200\n127.0.0.1 - - [13/Dec/2021:20:06:33 +0000] \"POST /score HTTP/1.0\" 200 6 \"-\" \"python-requests/2.26.0\"\n\n"
        }
      ],
      "execution_count": 24,
      "metadata": {
        "gather": {
          "logged": 1639426000034
        },
        "jupyter": {
          "outputs_hidden": false,
          "source_hidden": false
        },
        "nteract": {
          "transient": {
            "deleting": false
          }
        }
      }
    },
    {
      "cell_type": "code",
      "source": [
        "# Remove WebService endpoint\n",
        "\n",
        "service.delete()\n",
        "\n",
        "# Remove compute cluster\n",
        "\n",
        "cpu_cluster.delete()"
      ],
      "outputs": [
        {
          "output_type": "stream",
          "name": "stdout",
          "text": "Current provisioning state of AmlCompute is \"Deleting\"\n\n"
        }
      ],
      "execution_count": 25,
      "metadata": {
        "gather": {
          "logged": 1639426131386
        }
      }
    },
    {
      "cell_type": "markdown",
      "source": [
        "**Submission Checklist**\n",
        "- I have registered the model.\n",
        "- I have deployed the model with the best accuracy as a webservice.\n",
        "- I have tested the webservice by sending a request to the model endpoint.\n",
        "- I have deleted the webservice and shutdown all the computes that I have used.\n",
        "- I have taken a screenshot showing the model endpoint as active.\n",
        "- The project includes a file containing the environment details.\n"
      ],
      "metadata": {}
    },
    {
      "cell_type": "markdown",
      "source": [],
      "metadata": {}
    }
  ],
  "metadata": {
    "interpreter": {
      "hash": "76d3e2318c863bbf4a38434369238e2bd9b0fd34f09cea8e41db157ff8ea37cf"
    },
    "kernel_info": {
      "name": "python3-azureml"
    },
    "kernelspec": {
      "name": "python3-azureml",
      "language": "python",
      "display_name": "Python 3.6 - AzureML"
    },
    "language_info": {
      "name": "python",
      "version": "3.6.9",
      "mimetype": "text/x-python",
      "codemirror_mode": {
        "name": "ipython",
        "version": 3
      },
      "pygments_lexer": "ipython3",
      "nbconvert_exporter": "python",
      "file_extension": ".py"
    },
    "microsoft": {
      "host": {
        "AzureML": {
          "notebookHasBeenCompleted": true
        }
      }
    },
    "nteract": {
      "version": "nteract-front-end@1.0.0"
    }
  },
  "nbformat": 4,
  "nbformat_minor": 2
}